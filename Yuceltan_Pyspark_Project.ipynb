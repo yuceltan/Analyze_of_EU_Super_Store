{
 "cells": [
  {
   "cell_type": "code",
   "execution_count": 87,
   "id": "62507b8f",
   "metadata": {},
   "outputs": [],
   "source": [
    "import os\n",
    "import sys\n",
    "\n",
    "os.environ['PYSPARK_PYTHON'] = sys.executable\n",
    "os.environ['PYSPARK_DRIVER_PYTHON'] = sys.executable"
   ]
  },
  {
   "cell_type": "code",
   "execution_count": 88,
   "id": "02d07139",
   "metadata": {},
   "outputs": [],
   "source": [
    "import pyspark\n",
    "from pyspark.sql import SparkSession"
   ]
  },
  {
   "cell_type": "code",
   "execution_count": 89,
   "id": "99f4fbcc",
   "metadata": {},
   "outputs": [],
   "source": [
    "spark = SparkSession.builder.master(\"local[*]\").appName(\"Project\").getOrCreate()"
   ]
  },
  {
   "cell_type": "code",
   "execution_count": 90,
   "id": "43dfdc9a",
   "metadata": {},
   "outputs": [
    {
     "data": {
      "text/html": [
       "\n",
       "            <div>\n",
       "                <p><b>SparkSession - in-memory</b></p>\n",
       "                \n",
       "        <div>\n",
       "            <p><b>SparkContext</b></p>\n",
       "\n",
       "            <p><a href=\"http://host.docker.internal:4040\">Spark UI</a></p>\n",
       "\n",
       "            <dl>\n",
       "              <dt>Version</dt>\n",
       "                <dd><code>v3.3.2</code></dd>\n",
       "              <dt>Master</dt>\n",
       "                <dd><code>local[*]</code></dd>\n",
       "              <dt>AppName</dt>\n",
       "                <dd><code>Project</code></dd>\n",
       "            </dl>\n",
       "        </div>\n",
       "        \n",
       "            </div>\n",
       "        "
      ],
      "text/plain": [
       "<pyspark.sql.session.SparkSession at 0x25507610e80>"
      ]
     },
     "execution_count": 90,
     "metadata": {},
     "output_type": "execute_result"
    }
   ],
   "source": [
    "spark"
   ]
  },
  {
   "cell_type": "code",
   "execution_count": 91,
   "id": "00e45757",
   "metadata": {},
   "outputs": [],
   "source": [
    "sc = spark.sparkContext"
   ]
  },
  {
   "cell_type": "code",
   "execution_count": 92,
   "id": "b2bd231b",
   "metadata": {},
   "outputs": [
    {
     "data": {
      "text/html": [
       "\n",
       "        <div>\n",
       "            <p><b>SparkContext</b></p>\n",
       "\n",
       "            <p><a href=\"http://host.docker.internal:4040\">Spark UI</a></p>\n",
       "\n",
       "            <dl>\n",
       "              <dt>Version</dt>\n",
       "                <dd><code>v3.3.2</code></dd>\n",
       "              <dt>Master</dt>\n",
       "                <dd><code>local[*]</code></dd>\n",
       "              <dt>AppName</dt>\n",
       "                <dd><code>Project</code></dd>\n",
       "            </dl>\n",
       "        </div>\n",
       "        "
      ],
      "text/plain": [
       "<SparkContext master=local[*] appName=Project>"
      ]
     },
     "execution_count": 92,
     "metadata": {},
     "output_type": "execute_result"
    }
   ],
   "source": [
    "sc"
   ]
  },
  {
   "cell_type": "code",
   "execution_count": 93,
   "id": "bb709d3e",
   "metadata": {},
   "outputs": [],
   "source": [
    "data=sc.parallelize([\"yuceltan\",22,1.85,\"ebiri\"])"
   ]
  },
  {
   "cell_type": "code",
   "execution_count": 94,
   "id": "3645bd98",
   "metadata": {},
   "outputs": [
    {
     "data": {
      "text/plain": [
       "4"
      ]
     },
     "execution_count": 94,
     "metadata": {},
     "output_type": "execute_result"
    }
   ],
   "source": [
    "data.count()"
   ]
  },
  {
   "cell_type": "code",
   "execution_count": 95,
   "id": "ff0586f9",
   "metadata": {},
   "outputs": [
    {
     "data": {
      "text/plain": [
       "['yuceltan', 22, 1.85]"
      ]
     },
     "execution_count": 95,
     "metadata": {},
     "output_type": "execute_result"
    }
   ],
   "source": [
    "data.take(3)"
   ]
  },
  {
   "cell_type": "code",
   "execution_count": 96,
   "id": "25bf827b",
   "metadata": {},
   "outputs": [
    {
     "data": {
      "text/plain": [
       "['yuceltan', 22, 1.85, 'ebiri']"
      ]
     },
     "execution_count": 96,
     "metadata": {},
     "output_type": "execute_result"
    }
   ],
   "source": [
    "data.collect()"
   ]
  },
  {
   "cell_type": "code",
   "execution_count": 97,
   "id": "88e765fc",
   "metadata": {},
   "outputs": [
    {
     "data": {
      "text/plain": [
       "ParallelCollectionRDD[222] at readRDDFromFile at PythonRDD.scala:274"
      ]
     },
     "execution_count": 97,
     "metadata": {},
     "output_type": "execute_result"
    }
   ],
   "source": [
    "data\n"
   ]
  },
  {
   "cell_type": "code",
   "execution_count": 98,
   "id": "65abbd5a",
   "metadata": {},
   "outputs": [
    {
     "data": {
      "text/plain": [
       "pyspark.rdd.RDD"
      ]
     },
     "execution_count": 98,
     "metadata": {},
     "output_type": "execute_result"
    }
   ],
   "source": [
    "type(data)"
   ]
  },
  {
   "cell_type": "code",
   "execution_count": 99,
   "id": "d322111c",
   "metadata": {},
   "outputs": [],
   "source": [
    "myData = data.collect()"
   ]
  },
  {
   "cell_type": "code",
   "execution_count": 100,
   "id": "1e54672b",
   "metadata": {},
   "outputs": [
    {
     "data": {
      "text/plain": [
       "['yuceltan', 22, 1.85, 'ebiri']"
      ]
     },
     "execution_count": 100,
     "metadata": {},
     "output_type": "execute_result"
    }
   ],
   "source": [
    "myData"
   ]
  },
  {
   "cell_type": "code",
   "execution_count": 101,
   "id": "48807016",
   "metadata": {},
   "outputs": [
    {
     "data": {
      "text/plain": [
       "list"
      ]
     },
     "execution_count": 101,
     "metadata": {},
     "output_type": "execute_result"
    }
   ],
   "source": [
    "type(myData)"
   ]
  },
  {
   "cell_type": "code",
   "execution_count": 102,
   "id": "e453523a",
   "metadata": {},
   "outputs": [
    {
     "data": {
      "text/plain": [
       "['yuceltan', 22, 1.85]"
      ]
     },
     "execution_count": 102,
     "metadata": {},
     "output_type": "execute_result"
    }
   ],
   "source": [
    "myData[:3]"
   ]
  },
  {
   "cell_type": "code",
   "execution_count": 103,
   "id": "a0d885e4",
   "metadata": {},
   "outputs": [
    {
     "data": {
      "text/plain": [
       "['yuceltan', 22, 1.85]"
      ]
     },
     "execution_count": 103,
     "metadata": {},
     "output_type": "execute_result"
    }
   ],
   "source": [
    "myData[:-1]"
   ]
  },
  {
   "cell_type": "code",
   "execution_count": 104,
   "id": "967eefee",
   "metadata": {},
   "outputs": [],
   "source": [
    "df = spark.read.option(\"header\",\"true\").csv(r\"C:\\Users\\yucel\\Desktop\\Sample - EU Superstore.csv\")"
   ]
  },
  {
   "cell_type": "code",
   "execution_count": 105,
   "id": "b3a9d427",
   "metadata": {},
   "outputs": [
    {
     "name": "stdout",
     "output_type": "stream",
     "text": [
      "DataFrame[Row ID: string, Order ID: string, Order Date: string, Ship Date: string, Ship Mode: string, Customer ID: string, Customer Name: string, Segment: string, City: string, State: string, Country: string, Region: string, Product ID: string, Category: string, Sub-Category: string, Product Name: string, Sales: string, Quantity: string, Discount: string, Profit: string]\n"
     ]
    }
   ],
   "source": [
    "print(df)"
   ]
  },
  {
   "cell_type": "code",
   "execution_count": 106,
   "id": "dca4881e",
   "metadata": {},
   "outputs": [
    {
     "data": {
      "text/plain": [
       "[Row(Row ID='1', Order ID='ES-2017-1311038', Order Date='07/02/2017', Ship Date='11/02/2017', Ship Mode='Standard Class', Customer ID='AS-10045', Customer Name='Aaron Smayling', Segment='Corporate', City='Leeds', State='England', Country='United Kingdom', Region='North', Product ID='OFF-ST-10000988', Category='Office Supplies', Sub-Category='Storage', Product Name='Fellowes Folders, Blue', Sales='79.2', Quantity='3', Discount='0', Profit='39.6'),\n",
       " Row(Row ID='2', Order ID='ES-2017-1311038', Order Date='07/02/2017', Ship Date='11/02/2017', Ship Mode='Standard Class', Customer ID='AS-10045', Customer Name='Aaron Smayling', Segment='Corporate', City='Leeds', State='England', Country='United Kingdom', Region='North', Product ID='TEC-AC-10004144', Category='Technology', Sub-Category='Accessories', Product Name='SanDisk Numeric Keypad, Bluetooth', Sales='388.92', Quantity='7', Discount='0', Profit='0'),\n",
       " Row(Row ID='3', Order ID='ES-2017-1311038', Order Date='07/02/2017', Ship Date='11/02/2017', Ship Mode='Standard Class', Customer ID='AS-10045', Customer Name='Aaron Smayling', Segment='Corporate', City='Leeds', State='England', Country='United Kingdom', Region='North', Product ID='OFF-LA-10001915', Category='Office Supplies', Sub-Category='Labels', Product Name='Avery Legal Exhibit Labels, 5000 Label Set', Sales='35.19', Quantity='3', Discount='0', Profit='16.11'),\n",
       " Row(Row ID='4', Order ID='ES-2017-1311038', Order Date='07/02/2017', Ship Date='11/02/2017', Ship Mode='Standard Class', Customer ID='AS-10045', Customer Name='Aaron Smayling', Segment='Corporate', City='Leeds', State='England', Country='United Kingdom', Region='North', Product ID='OFF-ST-10004550', Category='Office Supplies', Sub-Category='Storage', Product Name='Fellowes Folders, Wire Frame', Sales='50.94', Quantity='2', Discount='0', Profit='13.2'),\n",
       " Row(Row ID='5', Order ID='ES-2017-1311038', Order Date='07/02/2017', Ship Date='11/02/2017', Ship Mode='Standard Class', Customer ID='AS-10045', Customer Name='Aaron Smayling', Segment='Corporate', City='Leeds', State='England', Country='United Kingdom', Region='North', Product ID='TEC-AC-10004068', Category='Technology', Sub-Category='Accessories', Product Name='Memorex Memory Card, USB', Sales='307.44', Quantity='3', Discount='0', Profit='73.71'),\n",
       " Row(Row ID='6', Order ID='ES-2017-1311038', Order Date='07/02/2017', Ship Date='11/02/2017', Ship Mode='Standard Class', Customer ID='AS-10045', Customer Name='Aaron Smayling', Segment='Corporate', City='Leeds', State='England', Country='United Kingdom', Region='North', Product ID='OFF-ST-10002271', Category='Office Supplies', Sub-Category='Storage', Product Name='Rogers Shelving, Wire Frame', Sales='122.4', Quantity='2', Discount='0', Profit='37.92'),\n",
       " Row(Row ID='7', Order ID='ES-2017-1311038', Order Date='07/02/2017', Ship Date='11/02/2017', Ship Mode='Standard Class', Customer ID='AS-10045', Customer Name='Aaron Smayling', Segment='Corporate', City='Leeds', State='England', Country='United Kingdom', Region='North', Product ID='TEC-PH-10003963', Category='Technology', Sub-Category='Phones', Product Name='Apple Signal Booster, Full Size', Sales='413.82', Quantity='3', Discount='0', Profit='20.61'),\n",
       " Row(Row ID='8', Order ID='ES-2015-5113958', Order Date='02/08/2015', Ship Date='07/08/2015', Ship Mode='Second Class', Customer ID='EB-13840', Customer Name='Ellis Ballard', Segment='Corporate', City='West Bromwich', State='England', Country='United Kingdom', Region='North', Product ID='TEC-CO-10004325', Category='Technology', Sub-Category='Copiers', Product Name='Canon Personal Copier, Laser', Sales='428.22', Quantity='3', Discount='0', Profit='192.69'),\n",
       " Row(Row ID='9', Order ID='ES-2015-5113958', Order Date='02/08/2015', Ship Date='07/08/2015', Ship Mode='Second Class', Customer ID='EB-13840', Customer Name='Ellis Ballard', Segment='Corporate', City='West Bromwich', State='England', Country='United Kingdom', Region='North', Product ID='OFF-AP-10004512', Category='Office Supplies', Sub-Category='Appliances', Product Name='Hoover Stove, Red', Sales='3979.29', Quantity='7', Discount='0', Profit='1989.54'),\n",
       " Row(Row ID='10', Order ID='ES-2015-5113958', Order Date='02/08/2015', Ship Date='07/08/2015', Ship Mode='Second Class', Customer ID='EB-13840', Customer Name='Ellis Ballard', Segment='Corporate', City='West Bromwich', State='England', Country='United Kingdom', Region='North', Product ID='OFF-FA-10002393', Category='Office Supplies', Sub-Category='Fasteners', Product Name='Accos Push Pins, Bulk Pack', Sales='43.56', Quantity='3', Discount='0', Profit='12.6'),\n",
       " Row(Row ID='11', Order ID='ES-2015-2510515', Order Date='20/06/2015', Ship Date='20/06/2015', Ship Mode='Same Day', Customer ID='LH-17155', Customer Name='Logan Haushalter', Segment='Consumer', City='Le Bouscat', State='Aquitaine-Limousin-Poitou-Charentes', Country='France', Region='Central', Product ID='OFF-LA-10002805', Category='Office Supplies', Sub-Category='Labels', Product Name='Hon Color Coded Labels, Alphabetical', Sales='25.26', Quantity='2', Discount='0', Profit='0.48'),\n",
       " Row(Row ID='12', Order ID='ES-2015-2510515', Order Date='20/06/2015', Ship Date='20/06/2015', Ship Mode='Same Day', Customer ID='LH-17155', Customer Name='Logan Haushalter', Segment='Consumer', City='Le Bouscat', State='Aquitaine-Limousin-Poitou-Charentes', Country='France', Region='Central', Product ID='OFF-AP-10002330', Category='Office Supplies', Sub-Category='Appliances', Product Name='Hamilton Beach Stove, Silver', Sales='2443.905', Quantity='5', Discount='0.1', Profit='760.305'),\n",
       " Row(Row ID='13', Order ID='ES-2015-2510515', Order Date='20/06/2015', Ship Date='20/06/2015', Ship Mode='Same Day', Customer ID='LH-17155', Customer Name='Logan Haushalter', Segment='Consumer', City='Le Bouscat', State='Aquitaine-Limousin-Poitou-Charentes', Country='France', Region='Central', Product ID='OFF-AR-10000505', Category='Office Supplies', Sub-Category='Art', Product Name='Binney & Smith Pens, Easy-Erase', Sales='12.21', Quantity='1', Discount='0', Profit='0'),\n",
       " Row(Row ID='14', Order ID='ES-2015-2510515', Order Date='20/06/2015', Ship Date='20/06/2015', Ship Mode='Same Day', Customer ID='LH-17155', Customer Name='Logan Haushalter', Segment='Consumer', City='Le Bouscat', State='Aquitaine-Limousin-Poitou-Charentes', Country='France', Region='Central', Product ID='TEC-PH-10002898', Category='Technology', Sub-Category='Phones', Product Name='Samsung Smart Phone, Full Size', Sales='2167.296', Quantity='4', Discount='0.15', Profit='790.416'),\n",
       " Row(Row ID='15', Order ID='ES-2015-2510515', Order Date='20/06/2015', Ship Date='20/06/2015', Ship Mode='Same Day', Customer ID='LH-17155', Customer Name='Logan Haushalter', Segment='Consumer', City='Le Bouscat', State='Aquitaine-Limousin-Poitou-Charentes', Country='France', Region='Central', Product ID='OFF-ST-10001413', Category='Office Supplies', Sub-Category='Storage', Product Name='Rogers Folders, Blue', Sales='138.105', Quantity='5', Discount='0.1', Profit='-12.345'),\n",
       " Row(Row ID='16', Order ID='ES-2016-4380115', Order Date='16/02/2016', Ship Date='20/02/2016', Ship Mode='Standard Class', Customer ID='KC-16540', Customer Name='Kelly Collister', Segment='Consumer', City='Strasbourg', State='Alsace-Champagne-Ardenne-Lorraine', Country='France', Region='Central', Product ID='OFF-ST-10003931', Category='Office Supplies', Sub-Category='Storage', Product Name='Smead Trays, Wire Frame', Sales='128.385', Quantity='3', Discount='0.1', Profit='4.275'),\n",
       " Row(Row ID='17', Order ID='ES-2016-4380115', Order Date='16/02/2016', Ship Date='20/02/2016', Ship Mode='Standard Class', Customer ID='KC-16540', Customer Name='Kelly Collister', Segment='Consumer', City='Strasbourg', State='Alsace-Champagne-Ardenne-Lorraine', Country='France', Region='Central', Product ID='TEC-AC-10004269', Category='Technology', Sub-Category='Accessories', Product Name='Belkin Memory Card, USB', Sales='690.12', Quantity='6', Discount='0', Profit='0'),\n",
       " Row(Row ID='18', Order ID='ES-2016-4380115', Order Date='16/02/2016', Ship Date='20/02/2016', Ship Mode='Standard Class', Customer ID='KC-16540', Customer Name='Kelly Collister', Segment='Consumer', City='Strasbourg', State='Alsace-Champagne-Ardenne-Lorraine', Country='France', Region='Central', Product ID='OFF-LA-10001676', Category='Office Supplies', Sub-Category='Labels', Product Name='Hon Removable Labels, Adjustable', Sales='8.16', Quantity='1', Discount='0', Profit='1.14'),\n",
       " Row(Row ID='19', Order ID='ES-2017-2573330', Order Date='03/11/2017', Ship Date='08/11/2017', Ship Mode='Standard Class', Customer ID='BF-11170', Customer Name='Ben Ferrer', Segment='Home Office', City='Unna', State='North Rhine-Westphalia', Country='Germany', Region='Central', Product ID='TEC-MA-10000811', Category='Technology', Sub-Category='Machines', Product Name='Okidata Phone, Durable', Sales='347.88', Quantity='4', Discount='0', Profit='76.44'),\n",
       " Row(Row ID='20', Order ID='ES-2017-2573330', Order Date='03/11/2017', Ship Date='08/11/2017', Ship Mode='Standard Class', Customer ID='BF-11170', Customer Name='Ben Ferrer', Segment='Home Office', City='Unna', State='North Rhine-Westphalia', Country='Germany', Region='Central', Product ID='OFF-ST-10000648', Category='Office Supplies', Sub-Category='Storage', Product Name='Eldon File Cart, Industrial', Sales='575.505', Quantity='5', Discount='0.1', Profit='12.705'),\n",
       " Row(Row ID='21', Order ID='ES-2017-1872792', Order Date='14/08/2017', Ship Date='16/08/2017', Ship Mode='First Class', Customer ID='BF-11275', Customer Name='Beth Fritzler', Segment='Corporate', City='Thiais', State='Ile-de-France', Country='France', Region='Central', Product ID='OFF-BI-10001249', Category='Office Supplies', Sub-Category='Binders', Product Name='Acco Hole Reinforcements, Recycled', Sales='14.04', Quantity='2', Discount='0', Profit='7.02'),\n",
       " Row(Row ID='22', Order ID='ES-2017-3412387', Order Date='18/06/2017', Ship Date='24/06/2017', Ship Mode='Standard Class', Customer ID='DR-12880', Customer Name='Dan Reichenbach', Segment='Corporate', City='Kassel', State='Hesse', Country='Germany', Region='Central', Product ID='FUR-BO-10004620', Category='Furniture', Sub-Category='Bookcases', Product Name='Safco Stackable Bookrack, Mobile', Sales='268.164', Quantity='2', Discount='0.1', Profit='5.904'),\n",
       " Row(Row ID='23', Order ID='IT-2017-3245851', Order Date='02/05/2017', Ship Date='05/05/2017', Ship Mode='Second Class', Customer ID='LB-16795', Customer Name='Laurel Beltran', Segment='Home Office', City='Milan', State='Lombardy', Country='Italy', Region='South', Product ID='OFF-ST-10002271', Category='Office Supplies', Sub-Category='Storage', Product Name='Rogers Shelving, Wire Frame', Sales='36.72', Quantity='1', Discount='0.4', Profit='-5.52'),\n",
       " Row(Row ID='24', Order ID='IT-2017-3245851', Order Date='02/05/2017', Ship Date='05/05/2017', Ship Mode='Second Class', Customer ID='LB-16795', Customer Name='Laurel Beltran', Segment='Home Office', City='Milan', State='Lombardy', Country='Italy', Region='South', Product ID='TEC-AC-10002901', Category='Technology', Sub-Category='Accessories', Product Name='Memorex Mouse, Bluetooth', Sales='28.17', Quantity='1', Discount='0', Profit='1.11'),\n",
       " Row(Row ID='25', Order ID='IT-2016-1215824', Order Date='12/08/2016', Ship Date='16/08/2016', Ship Mode='Standard Class', Customer ID='RO-19780', Customer Name=\"Rose O'Brian\", Segment='Consumer', City='Brandenburg', State='Brandenburg', Country='Germany', Region='Central', Product ID='OFF-ST-10000632', Category='Office Supplies', Sub-Category='Storage', Product Name='Rogers Shelving, Single Width', Sales='279.72', Quantity='5', Discount='0.1', Profit='-6.33'),\n",
       " Row(Row ID='26', Order ID='IT-2016-1215824', Order Date='12/08/2016', Ship Date='16/08/2016', Ship Mode='Standard Class', Customer ID='RO-19780', Customer Name=\"Rose O'Brian\", Segment='Consumer', City='Brandenburg', State='Brandenburg', Country='Germany', Region='Central', Product ID='OFF-AR-10002116', Category='Office Supplies', Sub-Category='Art', Product Name='BIC Pens, Fluorescent', Sales='108.78', Quantity='7', Discount='0', Profit='35.7'),\n",
       " Row(Row ID='27', Order ID='ES-2017-2557751', Order Date='28/02/2017', Ship Date='04/03/2017', Ship Mode='Standard Class', Customer ID='SP-20920', Customer Name='Susan Pistek', Segment='Consumer', City='Heilbronn', State='Baden-Württemberg', Country='Germany', Region='Central', Product ID='TEC-MA-10000946', Category='Technology', Sub-Category='Machines', Product Name='Panasonic Calculator, Red', Sales='332.01', Quantity='7', Discount='0', Profit='112.77'),\n",
       " Row(Row ID='28', Order ID='ES-2017-2557751', Order Date='28/02/2017', Ship Date='04/03/2017', Ship Mode='Standard Class', Customer ID='SP-20920', Customer Name='Susan Pistek', Segment='Consumer', City='Heilbronn', State='Baden-Württemberg', Country='Germany', Region='Central', Product ID='OFF-ST-10004409', Category='Office Supplies', Sub-Category='Storage', Product Name='Rogers Box, Industrial', Sales='110.025', Quantity='5', Discount='0.1', Profit='-12.225'),\n",
       " Row(Row ID='29', Order ID='ES-2017-2557751', Order Date='28/02/2017', Ship Date='04/03/2017', Ship Mode='Standard Class', Customer ID='SP-20920', Customer Name='Susan Pistek', Segment='Consumer', City='Heilbronn', State='Baden-Württemberg', Country='Germany', Region='Central', Product ID='OFF-FA-10000146', Category='Office Supplies', Sub-Category='Fasteners', Product Name='Stockwell Rubber Bands, Assorted Sizes', Sales='41.94', Quantity='3', Discount='0', Profit='7.92'),\n",
       " Row(Row ID='30', Order ID='ES-2017-4134792', Order Date='11/09/2017', Ship Date='15/09/2017', Ship Mode='Standard Class', Customer ID='AZ-10750', Customer Name='Annie Zypern', Segment='Consumer', City='Herten', State='North Rhine-Westphalia', Country='Germany', Region='Central', Product ID='TEC-AC-10001636', Category='Technology', Sub-Category='Accessories', Product Name='Belkin Mouse, Erganomic', Sales='192.6', Quantity='5', Discount='0', Profit='32.7'),\n",
       " Row(Row ID='31', Order ID='ES-2017-4134792', Order Date='11/09/2017', Ship Date='15/09/2017', Ship Mode='Standard Class', Customer ID='AZ-10750', Customer Name='Annie Zypern', Segment='Consumer', City='Herten', State='North Rhine-Westphalia', Country='Germany', Region='Central', Product ID='TEC-PH-10002076', Category='Technology', Sub-Category='Phones', Product Name='Samsung Audio Dock, Full Size', Sales='336.24', Quantity='2', Discount='0', Profit='43.68'),\n",
       " Row(Row ID='32', Order ID='ES-2014-2801336', Order Date='02/06/2014', Ship Date='06/06/2014', Ship Mode='Standard Class', Customer ID='DB-13270', Customer Name='Deborah Brumfield', Segment='Home Office', City='Barcelona', State='Catalonia', Country='Spain', Region='South', Product ID='OFF-BI-10002225', Category='Office Supplies', Sub-Category='Binders', Product Name='Cardinal Binding Machine, Durable', Sales='102.54', Quantity='2', Discount='0', Profit='35.88'),\n",
       " Row(Row ID='33', Order ID='ES-2016-5191940', Order Date='14/08/2016', Ship Date='19/08/2016', Ship Mode='Standard Class', Customer ID='LB-16795', Customer Name='Laurel Beltran', Segment='Home Office', City='Swindon', State='England', Country='United Kingdom', Region='North', Product ID='OFF-PA-10002248', Category='Office Supplies', Sub-Category='Paper', Product Name='Green Bar Memo Slips, 8.5 x 11', Sales='63.27', Quantity='3', Discount='0', Profit='30.96'),\n",
       " Row(Row ID='34', Order ID='ES-2016-5191940', Order Date='14/08/2016', Ship Date='19/08/2016', Ship Mode='Standard Class', Customer ID='LB-16795', Customer Name='Laurel Beltran', Segment='Home Office', City='Swindon', State='England', Country='United Kingdom', Region='North', Product ID='OFF-PA-10000876', Category='Office Supplies', Sub-Category='Paper', Product Name='Eaton Computer Printout Paper, Multicolor', Sales='55.92', Quantity='2', Discount='0', Profit='8.34'),\n",
       " Row(Row ID='35', Order ID='ES-2016-4020783', Order Date='25/11/2016', Ship Date='27/11/2016', Ship Mode='Second Class', Customer ID='PN-18775', Customer Name='Parhena Norris', Segment='Home Office', City='Puertollano', State='Castile-La Mancha', Country='Spain', Region='South', Product ID='OFF-AR-10001228', Category='Office Supplies', Sub-Category='Art', Product Name='Stanley Markers, Water Color', Sales='76.14', Quantity='3', Discount='0', Profit='25.11'),\n",
       " Row(Row ID='36', Order ID='ES-2016-3284813', Order Date='31/05/2016', Ship Date='05/06/2016', Ship Mode='Standard Class', Customer ID='SC-20020', Customer Name='Sam Craven', Segment='Consumer', City='Chaville', State='Ile-de-France', Country='France', Region='Central', Product ID='OFF-AR-10000785', Category='Office Supplies', Sub-Category='Art', Product Name='BIC Sketch Pad, Water Color', Sales='155.52', Quantity='3', Discount='0', Profit='23.31'),\n",
       " Row(Row ID='37', Order ID='ES-2016-3284813', Order Date='31/05/2016', Ship Date='05/06/2016', Ship Mode='Standard Class', Customer ID='SC-20020', Customer Name='Sam Craven', Segment='Consumer', City='Chaville', State='Ile-de-France', Country='France', Region='Central', Product ID='OFF-ST-10002151', Category='Office Supplies', Sub-Category='Storage', Product Name='Eldon Box, Blue', Sales='46.17', Quantity='5', Discount='0.1', Profit='8.07'),\n",
       " Row(Row ID='38', Order ID='ES-2016-3284813', Order Date='31/05/2016', Ship Date='05/06/2016', Ship Mode='Standard Class', Customer ID='SC-20020', Customer Name='Sam Craven', Segment='Consumer', City='Chaville', State='Ile-de-France', Country='France', Region='Central', Product ID='OFF-LA-10004929', Category='Office Supplies', Sub-Category='Labels', Product Name='Novimex Color Coded Labels, Laser Printer Compatible', Sales='37.26', Quantity='3', Discount='0', Profit='8.91'),\n",
       " Row(Row ID='39', Order ID='IT-2017-5016792', Order Date='10/01/2017', Ship Date='12/01/2017', Ship Mode='Second Class', Customer ID='TB-21280', Customer Name='Toby Braunhardt', Segment='Consumer', City='Sonneberg', State='Thuringia', Country='Germany', Region='Central', Product ID='OFF-PA-10003037', Category='Office Supplies', Sub-Category='Paper', Product Name='Eaton Memo Slips, Multicolor', Sales='90.9', Quantity='6', Discount='0', Profit='15.3'),\n",
       " Row(Row ID='40', Order ID='IT-2017-5016792', Order Date='10/01/2017', Ship Date='12/01/2017', Ship Mode='Second Class', Customer ID='TB-21280', Customer Name='Toby Braunhardt', Segment='Consumer', City='Sonneberg', State='Thuringia', Country='Germany', Region='Central', Product ID='OFF-AR-10000491', Category='Office Supplies', Sub-Category='Art', Product Name='Binney & Smith Pens, Water Color', Sales='75.6', Quantity='5', Discount='0', Profit='27.15'),\n",
       " Row(Row ID='41', Order ID='IT-2016-2373016', Order Date='08/11/2016', Ship Date='11/11/2016', Ship Mode='First Class', Customer ID='CM-11830', Customer Name='Cari MacIntyre', Segment='Corporate', City='The Hague', State='South Holland', Country='Netherlands', Region='Central', Product ID='OFF-SU-10003907', Category='Office Supplies', Sub-Category='Supplies', Product Name='Stiletto Letter Opener, Easy Grip', Sales='15', Quantity='1', Discount='0.5', Profit='-9.3'),\n",
       " Row(Row ID='42', Order ID='IT-2016-2373016', Order Date='08/11/2016', Ship Date='11/11/2016', Ship Mode='First Class', Customer ID='CM-11830', Customer Name='Cari MacIntyre', Segment='Corporate', City='The Hague', State='South Holland', Country='Netherlands', Region='Central', Product ID='OFF-BI-10001249', Category='Office Supplies', Sub-Category='Binders', Product Name='Acco Hole Reinforcements, Recycled', Sales='14.04', Quantity='4', Discount='0.5', Profit='0'),\n",
       " Row(Row ID='43', Order ID='IT-2016-2373016', Order Date='08/11/2016', Ship Date='11/11/2016', Ship Mode='First Class', Customer ID='CM-11830', Customer Name='Cari MacIntyre', Segment='Corporate', City='The Hague', State='South Holland', Country='Netherlands', Region='Central', Product ID='OFF-AR-10000823', Category='Office Supplies', Sub-Category='Art', Product Name='Stanley Pens, Water Color', Sales='33.075', Quantity='5', Discount='0.5', Profit='-11.925'),\n",
       " Row(Row ID='44', Order ID='ES-2014-3186072', Order Date='28/09/2014', Ship Date='02/10/2014', Ship Mode='Standard Class', Customer ID='CA-12265', Customer Name='Christina Anderson', Segment='Consumer', City='Littlehampton', State='England', Country='United Kingdom', Region='North', Product ID='TEC-CO-10000620', Category='Technology', Sub-Category='Copiers', Product Name='Brother Wireless Fax, Digital', Sales='1892.25', Quantity='5', Discount='0', Profit='170.25'),\n",
       " Row(Row ID='45', Order ID='ES-2014-3186072', Order Date='28/09/2014', Ship Date='02/10/2014', Ship Mode='Standard Class', Customer ID='CA-12265', Customer Name='Christina Anderson', Segment='Consumer', City='Littlehampton', State='England', Country='United Kingdom', Region='North', Product ID='TEC-AC-10004203', Category='Technology', Sub-Category='Accessories', Product Name='Logitech Flash Drive, Bluetooth', Sales='122.04', Quantity='4', Discount='0', Profit='52.44'),\n",
       " Row(Row ID='46', Order ID='ES-2014-3186072', Order Date='28/09/2014', Ship Date='02/10/2014', Ship Mode='Standard Class', Customer ID='CA-12265', Customer Name='Christina Anderson', Segment='Consumer', City='Littlehampton', State='England', Country='United Kingdom', Region='North', Product ID='TEC-CO-10001596', Category='Technology', Sub-Category='Copiers', Product Name='Brother Wireless Fax, Color', Sales='1140.75', Quantity='3', Discount='0', Profit='239.49'),\n",
       " Row(Row ID='47', Order ID='ES-2014-5235241', Order Date='27/08/2014', Ship Date='28/08/2014', Ship Mode='Same Day', Customer ID='TB-21175', Customer Name='Thomas Boland', Segment='Corporate', City='Taverny', State='Ile-de-France', Country='France', Region='Central', Product ID='OFF-SU-10004818', Category='Office Supplies', Sub-Category='Supplies', Product Name='Stiletto Trimmer, Steel', Sales='84.3', Quantity='2', Discount='0', Profit='28.62'),\n",
       " Row(Row ID='48', Order ID='ES-2014-5235241', Order Date='27/08/2014', Ship Date='28/08/2014', Ship Mode='Same Day', Customer ID='TB-21175', Customer Name='Thomas Boland', Segment='Corporate', City='Taverny', State='Ile-de-France', Country='France', Region='Central', Product ID='TEC-CO-10004034', Category='Technology', Sub-Category='Copiers', Product Name='Canon Fax Machine, High-Speed', Sales='538.203', Quantity='2', Discount='0.15', Profit='-19.017'),\n",
       " Row(Row ID='49', Order ID='ES-2014-5235241', Order Date='27/08/2014', Ship Date='28/08/2014', Ship Mode='Same Day', Customer ID='TB-21175', Customer Name='Thomas Boland', Segment='Corporate', City='Taverny', State='Ile-de-France', Country='France', Region='Central', Product ID='OFF-AR-10000319', Category='Office Supplies', Sub-Category='Art', Product Name='Binney & Smith Canvas, Fluorescent', Sales='157.86', Quantity='3', Discount='0', Profit='29.97'),\n",
       " Row(Row ID='50', Order ID='ES-2017-5640080', Order Date='16/04/2017', Ship Date='20/04/2017', Ship Mode='Standard Class', Customer ID='MH-17455', Customer Name='Mark Hamilton', Segment='Consumer', City='Mainz', State='Rhineland-Palatinate', Country='Germany', Region='Central', Product ID='OFF-SU-10001703', Category='Office Supplies', Sub-Category='Supplies', Product Name='Fiskars Box Cutter, High Speed', Sales='106.56', Quantity='3', Discount='0', Profit='37.26'),\n",
       " Row(Row ID='51', Order ID='IT-2017-2321796', Order Date='02/04/2017', Ship Date='07/04/2017', Ship Mode='Standard Class', Customer ID='IL-15100', Customer Name='Ivan Liston', Segment='Consumer', City='Nacka', State='Stockholm', Country='Sweden', Region='North', Product ID='OFF-ST-10002659', Category='Office Supplies', Sub-Category='Storage', Product Name='Smead Shelving, Wire Frame', Sales='72', Quantity='3', Discount='0.5', Profit='-5.76'),\n",
       " Row(Row ID='52', Order ID='ES-2017-4777800', Order Date='26/11/2017', Ship Date='29/11/2017', Ship Mode='First Class', Customer ID='RB-19330', Customer Name='Randy Bradley', Segment='Consumer', City='Manchester', State='England', Country='United Kingdom', Region='North', Product ID='OFF-AR-10003629', Category='Office Supplies', Sub-Category='Art', Product Name='Boston Canvas, Water Color', Sales='227.28', Quantity='4', Discount='0', Profit='34.08'),\n",
       " Row(Row ID='53', Order ID='ES-2017-3937023', Order Date='07/11/2017', Ship Date='11/11/2017', Ship Mode='Standard Class', Customer ID='JE-15715', Customer Name='Joe Elijah', Segment='Consumer', City='Viroflay', State='Ile-de-France', Country='France', Region='Central', Product ID='OFF-AR-10003829', Category='Office Supplies', Sub-Category='Art', Product Name='Stanley Markers, Fluorescent', Sales='46.92', Quantity='2', Discount='0', Profit='15.9'),\n",
       " Row(Row ID='54', Order ID='ES-2017-3937023', Order Date='07/11/2017', Ship Date='11/11/2017', Ship Mode='Standard Class', Customer ID='JE-15715', Customer Name='Joe Elijah', Segment='Consumer', City='Viroflay', State='Ile-de-France', Country='France', Region='Central', Product ID='OFF-AR-10003217', Category='Office Supplies', Sub-Category='Art', Product Name='Sanford Highlighters, Fluorescent', Sales='34.02', Quantity='2', Discount='0', Profit='14.28'),\n",
       " Row(Row ID='55', Order ID='ES-2017-1324878', Order Date='03/07/2017', Ship Date='08/07/2017', Ship Mode='Standard Class', Customer ID='RR-19315', Customer Name='Ralph Ritter', Segment='Consumer', City='Murcia', State='Murcia', Country='Spain', Region='South', Product ID='FUR-BO-10003007', Category='Furniture', Sub-Category='Bookcases', Product Name='Ikea Stackable Bookrack, Metal', Sales='854.28', Quantity='7', Discount='0', Profit='196.35'),\n",
       " Row(Row ID='56', Order ID='ES-2014-4620955', Order Date='09/12/2014', Ship Date='11/12/2014', Ship Mode='Second Class', Customer ID='VM-21835', Customer Name='Vivian Mathis', Segment='Consumer', City='Karlsruhe', State='Baden-Württemberg', Country='Germany', Region='Central', Product ID='OFF-AR-10001269', Category='Office Supplies', Sub-Category='Art', Product Name='BIC Markers, Water Color', Sales='59.22', Quantity='2', Discount='0', Profit='20.7'),\n",
       " Row(Row ID='57', Order ID='ES-2014-4620955', Order Date='09/12/2014', Ship Date='11/12/2014', Ship Mode='Second Class', Customer ID='VM-21835', Customer Name='Vivian Mathis', Segment='Consumer', City='Karlsruhe', State='Baden-Württemberg', Country='Germany', Region='Central', Product ID='OFF-ST-10001426', Category='Office Supplies', Sub-Category='Storage', Product Name='Eldon Folders, Single Width', Sales='45.927', Quantity='3', Discount='0.1', Profit='18.837'),\n",
       " Row(Row ID='58', Order ID='ES-2016-4122424', Order Date='17/07/2016', Ship Date='20/07/2016', Ship Mode='First Class', Customer ID='BE-11335', Customer Name='Bill Eplett', Segment='Home Office', City='Madrid', State='Madrid', Country='Spain', Region='South', Product ID='OFF-AR-10001230', Category='Office Supplies', Sub-Category='Art', Product Name='Binney & Smith Markers, Water Color', Sales='190.89', Quantity='7', Discount='0', Profit='32.34'),\n",
       " Row(Row ID='59', Order ID='ES-2016-4122424', Order Date='17/07/2016', Ship Date='20/07/2016', Ship Mode='First Class', Customer ID='BE-11335', Customer Name='Bill Eplett', Segment='Home Office', City='Madrid', State='Madrid', Country='Spain', Region='South', Product ID='FUR-TA-10004544', Category='Furniture', Sub-Category='Tables', Product Name='Chromcraft Coffee Table, Fully Assembled', Sales='214.848', Quantity='2', Discount='0.6', Profit='-247.092'),\n",
       " Row(Row ID='60', Order ID='ES-2016-4569090', Order Date='29/08/2016', Ship Date='03/09/2016', Ship Mode='Standard Class', Customer ID='GA-14725', Customer Name='Guy Armstrong', Segment='Consumer', City='Rome', State='Lazio', Country='Italy', Region='South', Product ID='OFF-AR-10000316', Category='Office Supplies', Sub-Category='Art', Product Name='Stanley Pens, Blue', Sales='30.15', Quantity='3', Discount='0', Profit='14.76'),\n",
       " Row(Row ID='61', Order ID='ES-2016-4569090', Order Date='29/08/2016', Ship Date='03/09/2016', Ship Mode='Standard Class', Customer ID='GA-14725', Customer Name='Guy Armstrong', Segment='Consumer', City='Rome', State='Lazio', Country='Italy', Region='South', Product ID='TEC-MA-10002844', Category='Technology', Sub-Category='Machines', Product Name='Okidata Receipt Printer, White', Sales='145.584', Quantity='2', Discount='0.4', Profit='-82.536'),\n",
       " Row(Row ID='62', Order ID='ES-2016-4569090', Order Date='29/08/2016', Ship Date='03/09/2016', Ship Mode='Standard Class', Customer ID='GA-14725', Customer Name='Guy Armstrong', Segment='Consumer', City='Rome', State='Lazio', Country='Italy', Region='South', Product ID='OFF-LA-10003591', Category='Office Supplies', Sub-Category='Labels', Product Name='Smead Removable Labels, Laser Printer Compatible', Sales='20.64', Quantity='2', Discount='0', Profit='6.36'),\n",
       " Row(Row ID='63', Order ID='ES-2016-4569090', Order Date='29/08/2016', Ship Date='03/09/2016', Ship Mode='Standard Class', Customer ID='GA-14725', Customer Name='Guy Armstrong', Segment='Consumer', City='Rome', State='Lazio', Country='Italy', Region='South', Product ID='OFF-FA-10001680', Category='Office Supplies', Sub-Category='Fasteners', Product Name='OIC Push Pins, Metal', Sales='15.03', Quantity='1', Discount='0', Profit='6'),\n",
       " Row(Row ID='64', Order ID='ES-2016-4569090', Order Date='29/08/2016', Ship Date='03/09/2016', Ship Mode='Standard Class', Customer ID='GA-14725', Customer Name='Guy Armstrong', Segment='Consumer', City='Rome', State='Lazio', Country='Italy', Region='South', Product ID='OFF-ST-10001255', Category='Office Supplies', Sub-Category='Storage', Product Name='Fellowes Trays, Single Width', Sales='275.616', Quantity='8', Discount='0.4', Profit='45.936'),\n",
       " Row(Row ID='65', Order ID='IT-2017-4707944', Order Date='14/08/2017', Ship Date='16/08/2017', Ship Mode='Second Class', Customer ID='JL-15850', Customer Name='John Lucas', Segment='Consumer', City='Stuttgart', State='Baden-Württemberg', Country='Germany', Region='Central', Product ID='FUR-BO-10004408', Category='Furniture', Sub-Category='Bookcases', Product Name='Dania Stackable Bookrack, Pine', Sales='221.292', Quantity='2', Discount='0.1', Profit='-22.188'),\n",
       " Row(Row ID='66', Order ID='IT-2017-4707944', Order Date='14/08/2017', Ship Date='16/08/2017', Ship Mode='Second Class', Customer ID='JL-15850', Customer Name='John Lucas', Segment='Consumer', City='Stuttgart', State='Baden-Württemberg', Country='Germany', Region='Central', Product ID='OFF-SU-10003907', Category='Office Supplies', Sub-Category='Supplies', Product Name='Stiletto Letter Opener, Easy Grip', Sales='150', Quantity='5', Discount='0', Profit='28.5'),\n",
       " Row(Row ID='67', Order ID='IT-2017-4707944', Order Date='14/08/2017', Ship Date='16/08/2017', Ship Mode='Second Class', Customer ID='JL-15850', Customer Name='John Lucas', Segment='Consumer', City='Stuttgart', State='Baden-Württemberg', Country='Germany', Region='Central', Product ID='TEC-CO-10001162', Category='Technology', Sub-Category='Copiers', Product Name='Canon Wireless Fax, Laser', Sales='757.32', Quantity='2', Discount='0', Profit='371.04'),\n",
       " Row(Row ID='68', Order ID='ES-2014-5220738', Order Date='22/12/2014', Ship Date='24/12/2014', Ship Mode='Second Class', Customer ID='Co-12640', Customer Name='Corey-Lock', Segment='Consumer', City='Mansfield', State='England', Country='United Kingdom', Region='North', Product ID='OFF-PA-10003937', Category='Office Supplies', Sub-Category='Paper', Product Name='Green Bar Memo Slips, Recycled', Sales='50.58', Quantity='3', Discount='0', Profit='9.09'),\n",
       " Row(Row ID='69', Order ID='ES-2014-5220738', Order Date='22/12/2014', Ship Date='24/12/2014', Ship Mode='Second Class', Customer ID='Co-12640', Customer Name='Corey-Lock', Segment='Consumer', City='Mansfield', State='England', Country='United Kingdom', Region='North', Product ID='OFF-AR-10002902', Category='Office Supplies', Sub-Category='Art', Product Name='Sanford Canvas, Water Color', Sales='107.4', Quantity='2', Discount='0', Profit='0'),\n",
       " Row(Row ID='70', Order ID='ES-2014-5287434', Order Date='01/04/2014', Ship Date='05/04/2014', Ship Mode='Standard Class', Customer ID='SA-20830', Customer Name='Sue Ann Reed', Segment='Consumer', City='Newcastle upon Tyne', State='England', Country='United Kingdom', Region='North', Product ID='OFF-AR-10003651', Category='Office Supplies', Sub-Category='Art', Product Name='Sanford Pens, Easy-Erase', Sales='34.11', Quantity='3', Discount='0', Profit='7.83'),\n",
       " Row(Row ID='71', Order ID='ES-2014-5287434', Order Date='01/04/2014', Ship Date='05/04/2014', Ship Mode='Standard Class', Customer ID='SA-20830', Customer Name='Sue Ann Reed', Segment='Consumer', City='Newcastle upon Tyne', State='England', Country='United Kingdom', Region='North', Product ID='FUR-BO-10004129', Category='Furniture', Sub-Category='Bookcases', Product Name='Sauder Classic Bookcase, Pine', Sales='2624.04', Quantity='6', Discount='0', Profit='446.04'),\n",
       " Row(Row ID='72', Order ID='ES-2014-5287434', Order Date='01/04/2014', Ship Date='05/04/2014', Ship Mode='Standard Class', Customer ID='SA-20830', Customer Name='Sue Ann Reed', Segment='Consumer', City='Newcastle upon Tyne', State='England', Country='United Kingdom', Region='North', Product ID='OFF-ST-10001758', Category='Office Supplies', Sub-Category='Storage', Product Name='Rogers Lockers, Blue', Sales='423.24', Quantity='2', Discount='0', Profit='29.58'),\n",
       " Row(Row ID='73', Order ID='ES-2017-4856325', Order Date='25/04/2017', Ship Date='26/04/2017', Ship Mode='First Class', Customer ID='GH-14410', Customer Name='Gary Hansen', Segment='Home Office', City='Paris', State='Ile-de-France', Country='France', Region='Central', Product ID='TEC-AC-10000140', Category='Technology', Sub-Category='Accessories', Product Name='Enermax Numeric Keypad, Bluetooth', Sales='402.78', Quantity='7', Discount='0', Profit='92.61'),\n",
       " Row(Row ID='74', Order ID='ES-2017-1193193', Order Date='21/05/2017', Ship Date='23/05/2017', Ship Mode='First Class', Customer ID='EN-13780', Customer Name='Edward Nazzal', Segment='Consumer', City='Dijon', State='Bourgogne-Franche-Comté', Country='France', Region='Central', Product ID='FUR-CH-10001153', Category='Furniture', Sub-Category='Chairs', Product Name='Harbour Creations Bag Chairs, Adjustable', Sales='173.097', Quantity='3', Discount='0.1', Profit='69.237'),\n",
       " Row(Row ID='75', Order ID='ES-2016-4456541', Order Date='07/08/2016', Ship Date='11/08/2016', Ship Mode='Standard Class', Customer ID='CM-12160', Customer Name='Charles McCrossin', Segment='Consumer', City='Hasselt', State='Limburg', Country='Belgium', Region='Central', Product ID='OFF-BI-10004722', Category='Office Supplies', Sub-Category='Binders', Product Name='Avery Index Tab, Clear', Sales='28.95', Quantity='5', Discount='0', Profit='7.8'),\n",
       " Row(Row ID='76', Order ID='ES-2014-4932761', Order Date='19/05/2014', Ship Date='25/05/2014', Ship Mode='Standard Class', Customer ID='SO-20335', Customer Name=\"Sean O'Donnell\", Segment='Consumer', City='Vienna', State='Vienna', Country='Austria', Region='Central', Product ID='OFF-ST-10000095', Category='Office Supplies', Sub-Category='Storage', Product Name='Fellowes File Cart, Industrial', Sales='964.53', Quantity='7', Discount='0', Profit='125.37'),\n",
       " Row(Row ID='77', Order ID='ES-2014-4932761', Order Date='19/05/2014', Ship Date='25/05/2014', Ship Mode='Standard Class', Customer ID='SO-20335', Customer Name=\"Sean O'Donnell\", Segment='Consumer', City='Vienna', State='Vienna', Country='Austria', Region='Central', Product ID='FUR-FU-10004608', Category='Furniture', Sub-Category='Furnishings', Product Name='Advantus Door Stop, Erganomic', Sales='87.3', Quantity='2', Discount='0', Profit='27.06'),\n",
       " Row(Row ID='78', Order ID='ES-2014-4932761', Order Date='19/05/2014', Ship Date='25/05/2014', Ship Mode='Standard Class', Customer ID='SO-20335', Customer Name=\"Sean O'Donnell\", Segment='Consumer', City='Vienna', State='Vienna', Country='Austria', Region='Central', Product ID='FUR-CH-10003362', Category='Furniture', Sub-Category='Chairs', Product Name='Office Star Swivel Stool, Adjustable', Sales='1058.58', Quantity='6', Discount='0', Profit='105.84'),\n",
       " Row(Row ID='79', Order ID='ES-2017-3249626', Order Date='10/07/2017', Ship Date='14/07/2017', Ship Mode='Standard Class', Customer ID='SV-20935', Customer Name='Susan Vittorini', Segment='Consumer', City='Sabadell', State='Catalonia', Country='Spain', Region='South', Product ID='OFF-SU-10004299', Category='Office Supplies', Sub-Category='Supplies', Product Name='Stiletto Trimmer, High Speed', Sales='85.5', Quantity='2', Discount='0', Profit='18.78'),\n",
       " Row(Row ID='80', Order ID='ES-2017-1016124', Order Date='08/02/2017', Ship Date='13/02/2017', Ship Mode='Standard Class', Customer ID='MC-18100', Customer Name='Mick Crebagga', Segment='Consumer', City='Rouen', State='Normandy', Country='France', Region='Central', Product ID='OFF-BI-10004628', Category='Office Supplies', Sub-Category='Binders', Product Name='Cardinal Binder, Durable', Sales='30.66', Quantity='2', Discount='0', Profit='1.5'),\n",
       " Row(Row ID='81', Order ID='ES-2017-2105640', Order Date='04/09/2017', Ship Date='06/09/2017', Ship Mode='First Class', Customer ID='CV-12805', Customer Name='Cynthia Voltz', Segment='Corporate', City='Stourbridge', State='England', Country='United Kingdom', Region='North', Product ID='OFF-ST-10002354', Category='Office Supplies', Sub-Category='Storage', Product Name='Eldon Lockers, Wire Frame', Sales='590.94', Quantity='3', Discount='0', Profit='118.17'),\n",
       " Row(Row ID='82', Order ID='ES-2017-2105640', Order Date='04/09/2017', Ship Date='06/09/2017', Ship Mode='First Class', Customer ID='CV-12805', Customer Name='Cynthia Voltz', Segment='Corporate', City='Stourbridge', State='England', Country='United Kingdom', Region='North', Product ID='TEC-PH-10002296', Category='Technology', Sub-Category='Phones', Product Name='Nokia Headset, Full Size', Sales='520.8', Quantity='7', Discount='0', Profit='10.29'),\n",
       " Row(Row ID='83', Order ID='ES-2015-3032254', Order Date='31/08/2015', Ship Date='03/09/2015', Ship Mode='Second Class', Customer ID='SH-20635', Customer Name='Stefanie Holloman', Segment='Corporate', City='Nuremberg', State='Bavaria', Country='Germany', Region='Central', Product ID='FUR-TA-10002467', Category='Furniture', Sub-Category='Tables', Product Name='Lesro Conference Table, Adjustable Height', Sales='2794.2525', Quantity='5', Discount='0.35', Profit='515.7525'),\n",
       " Row(Row ID='84', Order ID='ES-2015-3032254', Order Date='31/08/2015', Ship Date='03/09/2015', Ship Mode='Second Class', Customer ID='SH-20635', Customer Name='Stefanie Holloman', Segment='Corporate', City='Nuremberg', State='Bavaria', Country='Germany', Region='Central', Product ID='OFF-EN-10002065', Category='Office Supplies', Sub-Category='Envelopes', Product Name='Ames Clasp Envelope, Set of 50', Sales='43.2', Quantity='6', Discount='0', Profit='19.44'),\n",
       " Row(Row ID='85', Order ID='ES-2017-5791774', Order Date='13/03/2017', Ship Date='13/03/2017', Ship Mode='Same Day', Customer ID='PW-19030', Customer Name='Pauline Webber', Segment='Corporate', City='Southend-on-Sea', State='England', Country='United Kingdom', Region='North', Product ID='FUR-BO-10004119', Category='Furniture', Sub-Category='Bookcases', Product Name='Ikea Floating Shelf Set, Traditional', Sales='511.02', Quantity='3', Discount='0', Profit='30.6'),\n",
       " Row(Row ID='86', Order ID='ES-2017-5791774', Order Date='13/03/2017', Ship Date='13/03/2017', Ship Mode='Same Day', Customer ID='PW-19030', Customer Name='Pauline Webber', Segment='Corporate', City='Southend-on-Sea', State='England', Country='United Kingdom', Region='North', Product ID='FUR-BO-10003881', Category='Furniture', Sub-Category='Bookcases', Product Name='Sauder Floating Shelf Set, Mobile', Sales='788.4', Quantity='4', Discount='0', Profit='291.6'),\n",
       " Row(Row ID='87', Order ID='ES-2017-5791774', Order Date='13/03/2017', Ship Date='13/03/2017', Ship Mode='Same Day', Customer ID='PW-19030', Customer Name='Pauline Webber', Segment='Corporate', City='Southend-on-Sea', State='England', Country='United Kingdom', Region='North', Product ID='OFF-AR-10000219', Category='Office Supplies', Sub-Category='Art', Product Name='Sanford Highlighters, Blue', Sales='126', Quantity='8', Discount='0', Profit='13.68'),\n",
       " Row(Row ID='88', Order ID='ES-2017-5791774', Order Date='13/03/2017', Ship Date='13/03/2017', Ship Mode='Same Day', Customer ID='PW-19030', Customer Name='Pauline Webber', Segment='Corporate', City='Southend-on-Sea', State='England', Country='United Kingdom', Region='North', Product ID='TEC-CO-10000405', Category='Technology', Sub-Category='Copiers', Product Name='Canon Fax Machine, Digital', Sales='318.03', Quantity='1', Discount='0', Profit='73.14'),\n",
       " Row(Row ID='89', Order ID='ES-2016-2386093', Order Date='01/08/2016', Ship Date='07/08/2016', Ship Mode='Standard Class', Customer ID='NG-18430', Customer Name='Nathan Gelder', Segment='Consumer', City='Cambridge', State='England', Country='United Kingdom', Region='North', Product ID='TEC-AC-10003554', Category='Technology', Sub-Category='Accessories', Product Name='Belkin Numeric Keypad, USB', Sales='388.92', Quantity='7', Discount='0', Profit='58.17'),\n",
       " Row(Row ID='90', Order ID='ES-2016-2386093', Order Date='01/08/2016', Ship Date='07/08/2016', Ship Mode='Standard Class', Customer ID='NG-18430', Customer Name='Nathan Gelder', Segment='Consumer', City='Cambridge', State='England', Country='United Kingdom', Region='North', Product ID='FUR-BO-10000684', Category='Furniture', Sub-Category='Bookcases', Product Name='Sauder Corner Shelving, Traditional', Sales='441.9', Quantity='3', Discount='0', Profit='30.87'),\n",
       " Row(Row ID='91', Order ID='ES-2016-2386093', Order Date='01/08/2016', Ship Date='07/08/2016', Ship Mode='Standard Class', Customer ID='NG-18430', Customer Name='Nathan Gelder', Segment='Consumer', City='Cambridge', State='England', Country='United Kingdom', Region='North', Product ID='TEC-MA-10000559', Category='Technology', Sub-Category='Machines', Product Name='Epson Card Printer, Red', Sales='1002.6', Quantity='6', Discount='0', Profit='451.08'),\n",
       " Row(Row ID='92', Order ID='ES-2016-2386093', Order Date='01/08/2016', Ship Date='07/08/2016', Ship Mode='Standard Class', Customer ID='NG-18430', Customer Name='Nathan Gelder', Segment='Consumer', City='Cambridge', State='England', Country='United Kingdom', Region='North', Product ID='OFF-BI-10002799', Category='Office Supplies', Sub-Category='Binders', Product Name='Cardinal Binder Covers, Clear', Sales='57.3', Quantity='5', Discount='0', Profit='14.85'),\n",
       " Row(Row ID='93', Order ID='ES-2017-5631536', Order Date='06/10/2017', Ship Date='10/10/2017', Ship Mode='Standard Class', Customer ID='EM-14200', Customer Name='Evan Minnotte', Segment='Home Office', City='Rugby', State='England', Country='United Kingdom', Region='North', Product ID='TEC-MA-10003812', Category='Technology', Sub-Category='Machines', Product Name='Panasonic Printer, Wireless', Sales='799.47', Quantity='3', Discount='0', Profit='199.8'),\n",
       " Row(Row ID='94', Order ID='ES-2017-5631536', Order Date='06/10/2017', Ship Date='10/10/2017', Ship Mode='Standard Class', Customer ID='EM-14200', Customer Name='Evan Minnotte', Segment='Home Office', City='Rugby', State='England', Country='United Kingdom', Region='North', Product ID='TEC-PH-10002296', Category='Technology', Sub-Category='Phones', Product Name='Nokia Signal Booster, with Caller ID', Sales='955.5', Quantity='7', Discount='0', Profit='276.99'),\n",
       " Row(Row ID='95', Order ID='ES-2017-5631536', Order Date='06/10/2017', Ship Date='10/10/2017', Ship Mode='Standard Class', Customer ID='EM-14200', Customer Name='Evan Minnotte', Segment='Home Office', City='Rugby', State='England', Country='United Kingdom', Region='North', Product ID='OFF-EN-10001202', Category='Office Supplies', Sub-Category='Envelopes', Product Name='Kraft Clasp Envelope, with clear poly window', Sales='25.08', Quantity='2', Discount='0', Profit='12'),\n",
       " Row(Row ID='96', Order ID='ES-2017-5631536', Order Date='06/10/2017', Ship Date='10/10/2017', Ship Mode='Standard Class', Customer ID='EM-14200', Customer Name='Evan Minnotte', Segment='Home Office', City='Rugby', State='England', Country='United Kingdom', Region='North', Product ID='OFF-SU-10002611', Category='Office Supplies', Sub-Category='Supplies', Product Name='Fiskars Ruler, Serrated', Sales='11.13', Quantity='1', Discount='0', Profit='4.11'),\n",
       " Row(Row ID='97', Order ID='ES-2017-5631536', Order Date='06/10/2017', Ship Date='10/10/2017', Ship Mode='Standard Class', Customer ID='EM-14200', Customer Name='Evan Minnotte', Segment='Home Office', City='Rugby', State='England', Country='United Kingdom', Region='North', Product ID='FUR-BO-10001555', Category='Furniture', Sub-Category='Bookcases', Product Name='Bush Corner Shelving, Metal', Sales='246.9', Quantity='2', Discount='0', Profit='34.56'),\n",
       " Row(Row ID='98', Order ID='ES-2017-5631536', Order Date='06/10/2017', Ship Date='10/10/2017', Ship Mode='Standard Class', Customer ID='EM-14200', Customer Name='Evan Minnotte', Segment='Home Office', City='Rugby', State='England', Country='United Kingdom', Region='North', Product ID='OFF-AR-10001291', Category='Office Supplies', Sub-Category='Art', Product Name='Sanford Canvas, Fluorescent', Sales='51.78', Quantity='1', Discount='0', Profit='19.14'),\n",
       " Row(Row ID='99', Order ID='ES-2017-5631536', Order Date='06/10/2017', Ship Date='10/10/2017', Ship Mode='Standard Class', Customer ID='EM-14200', Customer Name='Evan Minnotte', Segment='Home Office', City='Rugby', State='England', Country='United Kingdom', Region='North', Product ID='TEC-MA-10000327', Category='Technology', Sub-Category='Machines', Product Name='Epson Phone, Durable', Sales='162.18', Quantity='2', Discount='0', Profit='22.68'),\n",
       " Row(Row ID='100', Order ID='ES-2016-5581781', Order Date='28/08/2016', Ship Date='01/09/2016', Ship Mode='Standard Class', Customer ID='MV-18190', Customer Name='Mike Vittorini', Segment='Consumer', City='Argentan', State='Normandy', Country='France', Region='Central', Product ID='FUR-FU-10003069', Category='Furniture', Sub-Category='Furnishings', Product Name='Deflect-O Photo Frame, Durable', Sales='195.72', Quantity='4', Discount='0', Profit='27.36'),\n",
       " Row(Row ID='101', Order ID='ES-2015-1530191', Order Date='14/11/2015', Ship Date='16/11/2015', Ship Mode='First Class', Customer ID='PB-18805', Customer Name='Patrick Bzostek', Segment='Home Office', City='Madrid', State='Madrid', Country='Spain', Region='South', Product ID='OFF-BI-10004903', Category='Office Supplies', Sub-Category='Binders', Product Name='Ibico Hole Reinforcements, Durable', Sales='25.47', Quantity='3', Discount='0', Profit='7.11'),\n",
       " Row(Row ID='102', Order ID='ES-2016-3971877', Order Date='30/05/2016', Ship Date='02/06/2016', Ship Mode='Second Class', Customer ID='KT-16465', Customer Name='Kean Takahito', Segment='Consumer', City='Barcelona', State='Catalonia', Country='Spain', Region='South', Product ID='OFF-AR-10004519', Category='Office Supplies', Sub-Category='Art', Product Name='Boston Canvas, Fluorescent', Sales='164.7', Quantity='3', Discount='0', Profit='29.61'),\n",
       " Row(Row ID='103', Order ID='ES-2016-3971877', Order Date='30/05/2016', Ship Date='02/06/2016', Ship Mode='Second Class', Customer ID='KT-16465', Customer Name='Kean Takahito', Segment='Consumer', City='Barcelona', State='Catalonia', Country='Spain', Region='South', Product ID='OFF-BI-10001685', Category='Office Supplies', Sub-Category='Binders', Product Name='Avery Index Tab, Durable', Sales='20.07', Quantity='3', Discount='0', Profit='5.13'),\n",
       " Row(Row ID='104', Order ID='ES-2015-1915501', Order Date='19/01/2015', Ship Date='21/01/2015', Ship Mode='Second Class', Customer ID='JB-15400', Customer Name='Jennifer Braxton', Segment='Corporate', City='Saint-Genis-Laval', State='Auvergne-Rhône-Alpes', Country='France', Region='Central', Product ID='OFF-AR-10001176', Category='Office Supplies', Sub-Category='Art', Product Name='Sanford Pens, Water Color', Sales='42.84', Quantity='3', Discount='0', Profit='19.62'),\n",
       " Row(Row ID='105', Order ID='IT-2016-4388990', Order Date='10/08/2016', Ship Date='13/08/2016', Ship Mode='Second Class', Customer ID='MM-17260', Customer Name='Magdelene Morse', Segment='Consumer', City='Vlaardingen', State='South Holland', Country='Netherlands', Region='Central', Product ID='FUR-FU-10004137', Category='Furniture', Sub-Category='Furnishings', Product Name='Tenex Light Bulb, Erganomic', Sales='84.24', Quantity='6', Discount='0.2', Profit='-15.84'),\n",
       " Row(Row ID='106', Order ID='IT-2016-4388990', Order Date='10/08/2016', Ship Date='13/08/2016', Ship Mode='Second Class', Customer ID='MM-17260', Customer Name='Magdelene Morse', Segment='Consumer', City='Vlaardingen', State='South Holland', Country='Netherlands', Region='Central', Product ID='OFF-ST-10001413', Category='Office Supplies', Sub-Category='Storage', Product Name='Rogers Folders, Blue', Sales='30.69', Quantity='2', Discount='0.5', Profit='-29.49'),\n",
       " Row(Row ID='107', Order ID='ES-2016-3029399', Order Date='27/09/2016', Ship Date='28/09/2016', Ship Mode='First Class', Customer ID='KL-16555', Customer Name='Kelly Lampkin', Segment='Corporate', City='Paris', State='Ile-de-France', Country='France', Region='Central', Product ID='OFF-PA-10002396', Category='Office Supplies', Sub-Category='Paper', Product Name='Eaton Memo Slips, 8.5 x 11', Sales='35.76', Quantity='2', Discount='0', Profit='9.6'),\n",
       " Row(Row ID='108', Order ID='ES-2014-3805636', Order Date='18/10/2014', Ship Date='25/10/2014', Ship Mode='Standard Class', Customer ID='GT-14710', Customer Name='Greg Tran', Segment='Consumer', City='Barcelona', State='Catalonia', Country='Spain', Region='South', Product ID='OFF-ST-10002608', Category='Office Supplies', Sub-Category='Storage', Product Name='Eldon Box, Industrial', Sales='38.664', Quantity='4', Discount='0.1', Profit='11.544'),\n",
       " Row(Row ID='109', Order ID='ES-2014-3805636', Order Date='18/10/2014', Ship Date='25/10/2014', Ship Mode='Standard Class', Customer ID='GT-14710', Customer Name='Greg Tran', Segment='Consumer', City='Barcelona', State='Catalonia', Country='Spain', Region='South', Product ID='FUR-BO-10004053', Category='Furniture', Sub-Category='Bookcases', Product Name='Dania Library with Doors, Metal', Sales='723.72', Quantity='2', Discount='0', Profit='253.26'),\n",
       " Row(Row ID='110', Order ID='ES-2014-3805636', Order Date='18/10/2014', Ship Date='25/10/2014', Ship Mode='Standard Class', Customer ID='GT-14710', Customer Name='Greg Tran', Segment='Consumer', City='Barcelona', State='Catalonia', Country='Spain', Region='South', Product ID='FUR-CH-10004462', Category='Furniture', Sub-Category='Chairs', Product Name='Hon Executive Leather Armchair, Adjustable', Sales='1838.52', Quantity='5', Discount='0.2', Profit='160.77'),\n",
       " Row(Row ID='111', Order ID='ES-2017-2774938', Order Date='01/01/2017', Ship Date='03/01/2017', Ship Mode='Second Class', Customer ID='FH-14350', Customer Name='Fred Harton', Segment='Consumer', City='Pantin', State='Ile-de-France', Country='France', Region='Central', Product ID='OFF-AR-10003658', Category='Office Supplies', Sub-Category='Art', Product Name='Boston Markers, Water Color', Sales='29.55', Quantity='1', Discount='0', Profit='0'),\n",
       " Row(Row ID='112', Order ID='ES-2017-2774938', Order Date='01/01/2017', Ship Date='03/01/2017', Ship Mode='Second Class', Customer ID='FH-14350', Customer Name='Fred Harton', Segment='Consumer', City='Pantin', State='Ile-de-France', Country='France', Region='Central', Product ID='OFF-LA-10003132', Category='Office Supplies', Sub-Category='Labels', Product Name='Smead Round Labels, Laser Printer Compatible', Sales='13.8', Quantity='2', Discount='0', Profit='4.92'),\n",
       " Row(Row ID='113', Order ID='ES-2017-2774938', Order Date='01/01/2017', Ship Date='03/01/2017', Ship Mode='Second Class', Customer ID='FH-14350', Customer Name='Fred Harton', Segment='Consumer', City='Pantin', State='Ile-de-France', Country='France', Region='Central', Product ID='TEC-MA-10001777', Category='Technology', Sub-Category='Machines', Product Name='Okidata Printer, Red', Sales='677.4075', Quantity='3', Discount='0.15', Profit='-111.6225'),\n",
       " Row(Row ID='114', Order ID='ES-2014-1406120', Order Date='04/12/2014', Ship Date='04/12/2014', Ship Mode='Same Day', Customer ID='LR-17035', Customer Name='Lisa Ryan', Segment='Corporate', City='Hamburg', State='Hamburg', Country='Germany', Region='Central', Product ID='TEC-PH-10000160', Category='Technology', Sub-Category='Phones', Product Name='Motorola Smart Phone, with Caller ID', Sales='3227.7', Quantity='5', Discount='0', Profit='742.35'),\n",
       " Row(Row ID='115', Order ID='ES-2014-1406120', Order Date='04/12/2014', Ship Date='04/12/2014', Ship Mode='Same Day', Customer ID='LR-17035', Customer Name='Lisa Ryan', Segment='Corporate', City='Hamburg', State='Hamburg', Country='Germany', Region='Central', Product ID='TEC-MA-10000946', Category='Technology', Sub-Category='Machines', Product Name='Panasonic Calculator, Red', Sales='379.44', Quantity='8', Discount='0', Profit='128.88'),\n",
       " Row(Row ID='116', Order ID='ES-2014-1406120', Order Date='04/12/2014', Ship Date='04/12/2014', Ship Mode='Same Day', Customer ID='LR-17035', Customer Name='Lisa Ryan', Segment='Corporate', City='Hamburg', State='Hamburg', Country='Germany', Region='Central', Product ID='OFF-BI-10004801', Category='Office Supplies', Sub-Category='Binders', Product Name='Acco Binding Machine, Durable', Sales='52.59', Quantity='1', Discount='0', Profit='12.6'),\n",
       " Row(Row ID='117', Order ID='ES-2014-1406120', Order Date='04/12/2014', Ship Date='04/12/2014', Ship Mode='Same Day', Customer ID='LR-17035', Customer Name='Lisa Ryan', Segment='Corporate', City='Hamburg', State='Hamburg', Country='Germany', Region='Central', Product ID='FUR-BO-10001165', Category='Furniture', Sub-Category='Bookcases', Product Name='Bush Library with Doors, Mobile', Sales='990.468', Quantity='3', Discount='0.1', Profit='242.028'),\n",
       " Row(Row ID='118', Order ID='ES-2014-1406120', Order Date='04/12/2014', Ship Date='04/12/2014', Ship Mode='Same Day', Customer ID='LR-17035', Customer Name='Lisa Ryan', Segment='Corporate', City='Hamburg', State='Hamburg', Country='Germany', Region='Central', Product ID='FUR-FU-10004954', Category='Furniture', Sub-Category='Furnishings', Product Name='Tenex Clock, Duo Pack', Sales='50.31', Quantity='1', Discount='0', Profit='19.11'),\n",
       " Row(Row ID='119', Order ID='ES-2014-1406120', Order Date='04/12/2014', Ship Date='04/12/2014', Ship Mode='Same Day', Customer ID='LR-17035', Customer Name='Lisa Ryan', Segment='Corporate', City='Hamburg', State='Hamburg', Country='Germany', Region='Central', Product ID='FUR-CH-10002335', Category='Furniture', Sub-Category='Chairs', Product Name='Hon Steel Folding Chair, Red', Sales='219.834', Quantity='3', Discount='0.1', Profit='90.324'),\n",
       " Row(Row ID='120', Order ID='ES-2014-3667388', Order Date='24/09/2014', Ship Date='29/09/2014', Ship Mode='Second Class', Customer ID='BM-11140', Customer Name='Becky Martin', Segment='Consumer', City='Krefeld', State='North Rhine-Westphalia', Country='Germany', Region='Central', Product ID='OFF-PA-10000423', Category='Office Supplies', Sub-Category='Paper', Product Name='Enermax Computer Printout Paper, Recycled', Sales='85.14', Quantity='3', Discount='0', Profit='4.23'),\n",
       " Row(Row ID='121', Order ID='ES-2014-1720401', Order Date='18/02/2014', Ship Date='24/02/2014', Ship Mode='Standard Class', Customer ID='KH-16630', Customer Name='Ken Heidel', Segment='Corporate', City='Beaune', State='Bourgogne-Franche-Comté', Country='France', Region='Central', Product ID='OFF-FA-10003463', Category='Office Supplies', Sub-Category='Fasteners', Product Name='OIC Thumb Tacks, Assorted Sizes', Sales='34.56', Quantity='3', Discount='0', Profit='13.77'),\n",
       " Row(Row ID='122', Order ID='ES-2017-2818758', Order Date='09/06/2017', Ship Date='09/06/2017', Ship Mode='Same Day', Customer ID='MO-17500', Customer Name=\"Mary O'Rourke\", Segment='Consumer', City='Antibes', State=\"Provence-Alpes-Côte d'Azur\", Country='France', Region='Central', Product ID='OFF-AR-10001898', Category='Office Supplies', Sub-Category='Art', Product Name='Binney & Smith Pencil Sharpener, Fluorescent', Sales='26.67', Quantity='1', Discount='0', Profit='1.05'),\n",
       " Row(Row ID='123', Order ID='ES-2017-2818758', Order Date='09/06/2017', Ship Date='09/06/2017', Ship Mode='Same Day', Customer ID='MO-17500', Customer Name=\"Mary O'Rourke\", Segment='Consumer', City='Antibes', State=\"Provence-Alpes-Côte d'Azur\", Country='France', Region='Central', Product ID='TEC-MA-10001494', Category='Technology', Sub-Category='Machines', Product Name='Okidata Inkjet, Durable', Sales='1062.534', Quantity='4', Discount='0.15', Profit='-175.026'),\n",
       " Row(Row ID='124', Order ID='ES-2017-2818758', Order Date='09/06/2017', Ship Date='09/06/2017', Ship Mode='Same Day', Customer ID='MO-17500', Customer Name=\"Mary O'Rourke\", Segment='Consumer', City='Antibes', State=\"Provence-Alpes-Côte d'Azur\", Country='France', Region='Central', Product ID='OFF-AR-10000467', Category='Office Supplies', Sub-Category='Art', Product Name='Sanford Markers, Fluorescent', Sales='73.53', Quantity='3', Discount='0', Profit='29.34'),\n",
       " Row(Row ID='125', Order ID='ES-2017-2818758', Order Date='09/06/2017', Ship Date='09/06/2017', Ship Mode='Same Day', Customer ID='MO-17500', Customer Name=\"Mary O'Rourke\", Segment='Consumer', City='Antibes', State=\"Provence-Alpes-Côte d'Azur\", Country='France', Region='Central', Product ID='OFF-PA-10003455', Category='Office Supplies', Sub-Category='Paper', Product Name='Xerox Cards & Envelopes, Premium', Sales='179.88', Quantity='4', Discount='0', Profit='53.88'),\n",
       " Row(Row ID='126', Order ID='IT-2015-1191900', Order Date='16/06/2015', Ship Date='16/06/2015', Ship Mode='Same Day', Customer ID='GR-14560', Customer Name='Georgia Rosenberg', Segment='Corporate', City='Houilles', State='Ile-de-France', Country='France', Region='Central', Product ID='FUR-BO-10004630', Category='Furniture', Sub-Category='Bookcases', Product Name='Ikea Library with Doors, Mobile', Sales='987.957', Quantity='3', Discount='0.1', Profit='-54.963'),\n",
       " Row(Row ID='127', Order ID='ES-2017-3484812', Order Date='24/10/2017', Ship Date='26/10/2017', Ship Mode='First Class', Customer ID='GT-14755', Customer Name='Guy Thornton', Segment='Consumer', City='Cesena', State='Emilia-Romagna', Country='Italy', Region='South', Product ID='OFF-PA-10000878', Category='Office Supplies', Sub-Category='Paper', Product Name='SanDisk Note Cards, Multicolor', Sales='67.92', Quantity='2', Discount='0', Profit='28.5'),\n",
       " Row(Row ID='128', Order ID='ES-2017-3484812', Order Date='24/10/2017', Ship Date='26/10/2017', Ship Mode='First Class', Customer ID='GT-14755', Customer Name='Guy Thornton', Segment='Consumer', City='Cesena', State='Emilia-Romagna', Country='Italy', Region='South', Product ID='OFF-ST-10002720', Category='Office Supplies', Sub-Category='Storage', Product Name='Rogers Shelving, Blue', Sales='74.556', Quantity='2', Discount='0.4', Profit='-43.524'),\n",
       " Row(Row ID='129', Order ID='ES-2017-3484812', Order Date='24/10/2017', Ship Date='26/10/2017', Ship Mode='First Class', Customer ID='GT-14755', Customer Name='Guy Thornton', Segment='Consumer', City='Cesena', State='Emilia-Romagna', Country='Italy', Region='South', Product ID='OFF-BI-10000440', Category='Office Supplies', Sub-Category='Binders', Product Name='Acco Index Tab, Economy', Sales='20.16', Quantity='2', Discount='0', Profit='9.24'),\n",
       " Row(Row ID='130', Order ID='ES-2014-2377967', Order Date='24/02/2014', Ship Date='28/02/2014', Ship Mode='Standard Class', Customer ID='JC-16105', Customer Name='Julie Creighton', Segment='Corporate', City='Namur', State='Namur', Country='Belgium', Region='Central', Product ID='OFF-BI-10002172', Category='Office Supplies', Sub-Category='Binders', Product Name='Acco Binding Machine, Recycled', Sales='308.7', Quantity='6', Discount='0', Profit='77.04'),\n",
       " Row(Row ID='131', Order ID='ES-2014-2377967', Order Date='24/02/2014', Ship Date='28/02/2014', Ship Mode='Standard Class', Customer ID='JC-16105', Customer Name='Julie Creighton', Segment='Corporate', City='Namur', State='Namur', Country='Belgium', Region='Central', Product ID='FUR-BO-10000002', Category='Furniture', Sub-Category='Bookcases', Product Name='Bush Classic Bookcase, Mobile', Sales='2076', Quantity='5', Discount='0', Profit='103.8'),\n",
       " Row(Row ID='132', Order ID='ES-2014-2377967', Order Date='24/02/2014', Ship Date='28/02/2014', Ship Mode='Standard Class', Customer ID='JC-16105', Customer Name='Julie Creighton', Segment='Corporate', City='Namur', State='Namur', Country='Belgium', Region='Central', Product ID='TEC-CO-10003597', Category='Technology', Sub-Category='Copiers', Product Name='Brother Copy Machine, High-Speed', Sales='524.58', Quantity='2', Discount='0', Profit='57.66'),\n",
       " Row(Row ID='133', Order ID='ES-2015-5757351', Order Date='05/04/2015', Ship Date='05/04/2015', Ship Mode='Same Day', Customer ID='AW-10840', Customer Name='Anthony Witt', Segment='Consumer', City='Marano di Napoli', State='Campania', Country='Italy', Region='South', Product ID='OFF-PA-10001466', Category='Office Supplies', Sub-Category='Paper', Product Name='Eaton Computer Printout Paper, 8.5 x 11', Sales='122.76', Quantity='4', Discount='0', Profit='56.4'),\n",
       " Row(Row ID='134', Order ID='ES-2016-1169960', Order Date='20/12/2016', Ship Date='25/12/2016', Ship Mode='Standard Class', Customer ID='AD-10180', Customer Name='Alan Dominguez', Segment='Home Office', City='London', State='England', Country='United Kingdom', Region='North', Product ID='OFF-ST-10003995', Category='Office Supplies', Sub-Category='Storage', Product Name='Eldon File Cart, Single Width', Sales='575.64', Quantity='5', Discount='0.1', Profit='51.09'),\n",
       " Row(Row ID='135', Order ID='IT-2017-4554442', Order Date='27/06/2017', Ship Date='03/07/2017', Ship Mode='Standard Class', Customer ID='AC-10615', Customer Name='Ann Chong', Segment='Corporate', City='Dundee', State='Scotland', Country='United Kingdom', Region='North', Product ID='OFF-BI-10002986', Category='Office Supplies', Sub-Category='Binders', Product Name='Avery Binder Covers, Recycled', Sales='34.29', Quantity='3', Discount='0', Profit='12.33'),\n",
       " Row(Row ID='136', Order ID='IT-2014-1900372', Order Date='27/09/2014', Ship Date='02/10/2014', Ship Mode='Standard Class', Customer ID='MC-17425', Customer Name='Mark Cousins', Segment='Corporate', City='Wiesbaden', State='Hesse', Country='Germany', Region='Central', Product ID='OFF-ST-10001562', Category='Office Supplies', Sub-Category='Storage', Product Name='Fellowes Box, Industrial', Sales='54.432', Quantity='3', Discount='0.1', Profit='-3.078'),\n",
       " Row(Row ID='137', Order ID='IT-2014-1900372', Order Date='27/09/2014', Ship Date='02/10/2014', Ship Mode='Standard Class', Customer ID='MC-17425', Customer Name='Mark Cousins', Segment='Corporate', City='Wiesbaden', State='Hesse', Country='Germany', Region='Central', Product ID='OFF-AR-10001269', Category='Office Supplies', Sub-Category='Art', Product Name='BIC Markers, Water Color', Sales='236.88', Quantity='8', Discount='0', Profit='82.8'),\n",
       " Row(Row ID='138', Order ID='ES-2014-1749151', Order Date='14/06/2014', Ship Date='19/06/2014', Ship Mode='Second Class', Customer ID='LC-16870', Customer Name='Lena Cacioppo', Segment='Consumer', City='Vitry-sur-Seine', State='Ile-de-France', Country='France', Region='Central', Product ID='OFF-AR-10001462', Category='Office Supplies', Sub-Category='Art', Product Name='Stanley Highlighters, Fluorescent', Sales='47.88', Quantity='3', Discount='0', Profit='17.64'),\n",
       " Row(Row ID='139', Order ID='ES-2014-1749151', Order Date='14/06/2014', Ship Date='19/06/2014', Ship Mode='Second Class', Customer ID='LC-16870', Customer Name='Lena Cacioppo', Segment='Consumer', City='Vitry-sur-Seine', State='Ile-de-France', Country='France', Region='Central', Product ID='OFF-BI-10000972', Category='Office Supplies', Sub-Category='Binders', Product Name='Acco 3-Hole Punch, Economy', Sales='271.08', Quantity='9', Discount='0', Profit='51.3'),\n",
       " Row(Row ID='140', Order ID='ES-2016-4897406', Order Date='16/10/2016', Ship Date='18/10/2016', Ship Mode='First Class', Customer ID='DB-13060', Customer Name='Dave Brooks', Segment='Consumer', City='Villiers-le-Bel', State='Ile-de-France', Country='France', Region='Central', Product ID='TEC-MA-10004446', Category='Technology', Sub-Category='Machines', Product Name='StarTech Printer, Wireless', Sales='1306.467', Quantity='6', Discount='0.15', Profit='107.487'),\n",
       " Row(Row ID='141', Order ID='ES-2014-1401137', Order Date='01/09/2014', Ship Date='05/09/2014', Ship Mode='Standard Class', Customer ID='DO-13645', Customer Name=\"Doug O'Connell\", Segment='Consumer', City='Wuppertal', State='North Rhine-Westphalia', Country='Germany', Region='Central', Product ID='OFF-AR-10000176', Category='Office Supplies', Sub-Category='Art', Product Name='Sanford Highlighters, Water Color', Sales='113.58', Quantity='6', Discount='0', Profit='40.86'),\n",
       " Row(Row ID='142', Order ID='ES-2014-1401137', Order Date='01/09/2014', Ship Date='05/09/2014', Ship Mode='Standard Class', Customer ID='DO-13645', Customer Name=\"Doug O'Connell\", Segment='Consumer', City='Wuppertal', State='North Rhine-Westphalia', Country='Germany', Region='Central', Product ID='OFF-ST-10000288', Category='Office Supplies', Sub-Category='Storage', Product Name='Fellowes Lockers, Industrial', Sales='374.058', Quantity='2', Discount='0.1', Profit='141.258'),\n",
       " Row(Row ID='143', Order ID='IT-2014-5134922', Order Date='16/10/2014', Ship Date='18/10/2014', Ship Mode='Second Class', Customer ID='BS-11365', Customer Name='Bill Shonely', Segment='Corporate', City='Rotterdam', State='South Holland', Country='Netherlands', Region='Central', Product ID='OFF-PA-10001662', Category='Office Supplies', Sub-Category='Paper', Product Name='Green Bar Note Cards, Premium', Sales='14.895', Quantity='1', Discount='0.5', Profit='-4.185'),\n",
       " Row(Row ID='144', Order ID='IT-2014-5134922', Order Date='16/10/2014', Ship Date='18/10/2014', Ship Mode='Second Class', Customer ID='BS-11365', Customer Name='Bill Shonely', Segment='Corporate', City='Rotterdam', State='South Holland', Country='Netherlands', Region='Central', Product ID='OFF-ST-10002263', Category='Office Supplies', Sub-Category='Storage', Product Name='Rogers Trays, Wire Frame', Sales='151.875', Quantity='5', Discount='0.5', Profit='-3.075'),\n",
       " Row(Row ID='145', Order ID='IT-2015-2655811', Order Date='16/06/2015', Ship Date='22/06/2015', Ship Mode='Standard Class', Customer ID='MT-18070', Customer Name='Michelle Tran', Segment='Home Office', City='Rotterdam', State='South Holland', Country='Netherlands', Region='Central', Product ID='TEC-AC-10002530', Category='Technology', Sub-Category='Accessories', Product Name='Memorex Numeric Keypad, USB', Sales='86.04', Quantity='4', Discount='0.5', Profit='-29.28'),\n",
       " Row(Row ID='146', Order ID='IT-2015-2655811', Order Date='16/06/2015', Ship Date='22/06/2015', Ship Mode='Standard Class', Customer ID='MT-18070', Customer Name='Michelle Tran', Segment='Home Office', City='Rotterdam', State='South Holland', Country='Netherlands', Region='Central', Product ID='OFF-AR-10001672', Category='Office Supplies', Sub-Category='Art', Product Name='Boston Sketch Pad, Easy-Erase', Sales='48.87', Quantity='2', Discount='0.5', Profit='-20.55'),\n",
       " Row(Row ID='147', Order ID='ES-2016-1621921', Order Date='02/04/2016', Ship Date='03/04/2016', Ship Mode='First Class', Customer ID='CM-11830', Customer Name='Cari MacIntyre', Segment='Corporate', City='Castelldefels', State='Catalonia', Country='Spain', Region='South', Product ID='OFF-AR-10000823', Category='Office Supplies', Sub-Category='Art', Product Name='Stanley Pens, Water Color', Sales='26.46', Quantity='2', Discount='0', Profit='8.46'),\n",
       " Row(Row ID='148', Order ID='ES-2016-1621921', Order Date='02/04/2016', Ship Date='03/04/2016', Ship Mode='First Class', Customer ID='CM-11830', Customer Name='Cari MacIntyre', Segment='Corporate', City='Castelldefels', State='Catalonia', Country='Spain', Region='South', Product ID='OFF-AP-10003590', Category='Office Supplies', Sub-Category='Appliances', Product Name='KitchenAid Refrigerator, Black', Sales='2636.85', Quantity='5', Discount='0', Profit='949.2'),\n",
       " Row(Row ID='149', Order ID='ES-2016-1621921', Order Date='02/04/2016', Ship Date='03/04/2016', Ship Mode='First Class', Customer ID='CM-11830', Customer Name='Cari MacIntyre', Segment='Corporate', City='Castelldefels', State='Catalonia', Country='Spain', Region='South', Product ID='OFF-PA-10001661', Category='Office Supplies', Sub-Category='Paper', Product Name='SanDisk Computer Printout Paper, 8.5 x 11', Sales='135.72', Quantity='4', Discount='0', Profit='14.88'),\n",
       " Row(Row ID='150', Order ID='ES-2016-1621921', Order Date='02/04/2016', Ship Date='03/04/2016', Ship Mode='First Class', Customer ID='CM-11830', Customer Name='Cari MacIntyre', Segment='Corporate', City='Castelldefels', State='Catalonia', Country='Spain', Region='South', Product ID='OFF-PA-10002524', Category='Office Supplies', Sub-Category='Paper', Product Name='Enermax Note Cards, 8.5 x 11', Sales='227.28', Quantity='8', Discount='0', Profit='95.28'),\n",
       " Row(Row ID='151', Order ID='ES-2016-1621921', Order Date='02/04/2016', Ship Date='03/04/2016', Ship Mode='First Class', Customer ID='CM-11830', Customer Name='Cari MacIntyre', Segment='Corporate', City='Castelldefels', State='Catalonia', Country='Spain', Region='South', Product ID='FUR-BO-10002926', Category='Furniture', Sub-Category='Bookcases', Product Name='Bush Stackable Bookrack, Mobile', Sales='370.53', Quantity='3', Discount='0', Profit='40.68'),\n",
       " Row(Row ID='152', Order ID='ES-2016-2926991', Order Date='14/06/2016', Ship Date='21/06/2016', Ship Mode='Standard Class', Customer ID='SR-20740', Customer Name='Steven Roelle', Segment='Home Office', City='Madrid', State='Madrid', Country='Spain', Region='South', Product ID='OFF-BI-10000179', Category='Office Supplies', Sub-Category='Binders', Product Name='Wilson Jones 3-Hole Punch, Economy', Sales='83.97', Quantity='3', Discount='0', Profit='27.63'),\n",
       " Row(Row ID='153', Order ID='ES-2016-2926991', Order Date='14/06/2016', Ship Date='21/06/2016', Ship Mode='Standard Class', Customer ID='SR-20740', Customer Name='Steven Roelle', Segment='Home Office', City='Madrid', State='Madrid', Country='Spain', Region='South', Product ID='TEC-CO-10001926', Category='Technology', Sub-Category='Copiers', Product Name='Hewlett Wireless Fax, Laser', Sales='760.38', Quantity='2', Discount='0', Profit='235.68'),\n",
       " Row(Row ID='154', Order ID='ES-2016-2926991', Order Date='14/06/2016', Ship Date='21/06/2016', Ship Mode='Standard Class', Customer ID='SR-20740', Customer Name='Steven Roelle', Segment='Home Office', City='Madrid', State='Madrid', Country='Spain', Region='South', Product ID='OFF-BI-10002128', Category='Office Supplies', Sub-Category='Binders', Product Name='Acco Binder Covers, Durable', Sales='44.46', Quantity='3', Discount='0', Profit='19.98'),\n",
       " Row(Row ID='155', Order ID='ES-2016-2926991', Order Date='14/06/2016', Ship Date='21/06/2016', Ship Mode='Standard Class', Customer ID='SR-20740', Customer Name='Steven Roelle', Segment='Home Office', City='Madrid', State='Madrid', Country='Spain', Region='South', Product ID='OFF-BI-10000179', Category='Office Supplies', Sub-Category='Binders', Product Name='Wilson Jones 3-Hole Punch, Economy', Sales='83.97', Quantity='3', Discount='0', Profit='27.63'),\n",
       " Row(Row ID='156', Order ID='ES-2016-2926991', Order Date='14/06/2016', Ship Date='21/06/2016', Ship Mode='Standard Class', Customer ID='SR-20740', Customer Name='Steven Roelle', Segment='Home Office', City='Madrid', State='Madrid', Country='Spain', Region='South', Product ID='TEC-AC-10000712', Category='Technology', Sub-Category='Accessories', Product Name='Enermax Router, Programmable', Sales='2078.64', Quantity='8', Discount='0', Profit='852.24'),\n",
       " Row(Row ID='157', Order ID='ES-2017-4717877', Order Date='23/12/2017', Ship Date='23/12/2017', Ship Mode='Same Day', Customer ID='PB-19210', Customer Name='Phillip Breyer', Segment='Corporate', City='Mont-Saint-Aignan', State='Normandy', Country='France', Region='Central', Product ID='FUR-BO-10000847', Category='Furniture', Sub-Category='Bookcases', Product Name='Dania Stackable Bookrack, Mobile', Sales='437.724', Quantity='4', Discount='0.1', Profit='165.324'),\n",
       " Row(Row ID='158', Order ID='ES-2017-1771479', Order Date='12/05/2017', Ship Date='14/05/2017', Ship Mode='Second Class', Customer ID='TC-21145', Customer Name='Theresa Coyne', Segment='Corporate', City='Loos', State='Hauts-de-France', Country='France', Region='Central', Product ID='OFF-AR-10000316', Category='Office Supplies', Sub-Category='Art', Product Name='Stanley Pens, Blue', Sales='30.15', Quantity='3', Discount='0', Profit='14.76'),\n",
       " Row(Row ID='159', Order ID='ES-2016-5376470', Order Date='04/01/2016', Ship Date='10/01/2016', Ship Mode='Standard Class', Customer ID='AF-10885', Customer Name='Art Foster', Segment='Consumer', City='London', State='England', Country='United Kingdom', Region='North', Product ID='OFF-ST-10004695', Category='Office Supplies', Sub-Category='Storage', Product Name='Fellowes File Cart, Blue', Sales='617.895', Quantity='5', Discount='0.1', Profit='205.845'),\n",
       " Row(Row ID='160', Order ID='ES-2014-3911616', Order Date='05/11/2014', Ship Date='10/11/2014', Ship Mode='Second Class', Customer ID='MM-18055', Customer Name='Michelle Moray', Segment='Consumer', City='Tarragona', State='Catalonia', Country='Spain', Region='South', Product ID='OFF-SU-10003739', Category='Office Supplies', Sub-Category='Supplies', Product Name='Elite Box Cutter, Steel', Sales='102.87', Quantity='3', Discount='0', Profit='40.05'),\n",
       " Row(Row ID='161', Order ID='ES-2014-3911616', Order Date='05/11/2014', Ship Date='10/11/2014', Ship Mode='Second Class', Customer ID='MM-18055', Customer Name='Michelle Moray', Segment='Consumer', City='Tarragona', State='Catalonia', Country='Spain', Region='South', Product ID='OFF-ST-10000648', Category='Office Supplies', Sub-Category='Storage', Product Name='Eldon File Cart, Industrial', Sales='230.202', Quantity='2', Discount='0.1', Profit='5.082'),\n",
       " Row(Row ID='162', Order ID='ES-2017-5347900', Order Date='18/03/2017', Ship Date='18/03/2017', Ship Mode='Same Day', Customer ID='MP-17965', Customer Name='Michael Paige', Segment='Corporate', City='Cork', State='Cork', Country='Ireland', Region='North', Product ID='OFF-AR-10001482', Category='Office Supplies', Sub-Category='Art', Product Name='Stanley Markers, Easy-Erase', Sales='67.41', Quantity='6', Discount='0.5', Profit='-67.41'),\n",
       " Row(Row ID='163', Order ID='ES-2016-3895853', Order Date='29/02/2016', Ship Date='01/03/2016', Ship Mode='First Class', Customer ID='IG-15085', Customer Name='Ivan Gibson', Segment='Consumer', City='Santander', State='Cantabria', Country='Spain', Region='South', Product ID='OFF-BI-10001900', Category='Office Supplies', Sub-Category='Binders', Product Name='Wilson Jones Binder Covers, Clear', Sales='42.6', Quantity='4', Discount='0', Profit='10.56'),\n",
       " Row(Row ID='164', Order ID='IT-2016-3695467', Order Date='10/06/2016', Ship Date='14/06/2016', Ship Mode='Standard Class', Customer ID='SS-20140', Customer Name='Saphhira Shifley', Segment='Corporate', City='Lisbon', State='Lisboa', Country='Portugal', Region='South', Product ID='OFF-AP-10001623', Category='Office Supplies', Sub-Category='Appliances', Product Name='Hoover Stove, White', Sales='3399.66', Quantity='12', Discount='0.5', Profit='-3059.82'),\n",
       " Row(Row ID='165', Order ID='ES-2014-3540276', Order Date='09/06/2014', Ship Date='13/06/2014', Ship Mode='Standard Class', Customer ID='AR-10405', Customer Name='Allen Rosenblatt', Segment='Corporate', City='Berlin', State='Berlin', Country='Germany', Region='Central', Product ID='OFF-BI-10000179', Category='Office Supplies', Sub-Category='Binders', Product Name='Wilson Jones 3-Hole Punch, Economy', Sales='25.191', Quantity='1', Discount='0.1', Profit='6.411'),\n",
       " Row(Row ID='166', Order ID='ES-2014-3540276', Order Date='09/06/2014', Ship Date='13/06/2014', Ship Mode='Standard Class', Customer ID='AR-10405', Customer Name='Allen Rosenblatt', Segment='Corporate', City='Berlin', State='Berlin', Country='Germany', Region='Central', Product ID='TEC-AC-10001226', Category='Technology', Sub-Category='Accessories', Product Name='Enermax Mouse, Programmable', Sales='112.833', Quantity='3', Discount='0.1', Profit='-12.537'),\n",
       " Row(Row ID='167', Order ID='ES-2014-3540276', Order Date='09/06/2014', Ship Date='13/06/2014', Ship Mode='Standard Class', Customer ID='AR-10405', Customer Name='Allen Rosenblatt', Segment='Corporate', City='Berlin', State='Berlin', Country='Germany', Region='Central', Product ID='TEC-CO-10002157', Category='Technology', Sub-Category='Copiers', Product Name='Canon Fax Machine, Laser', Sales='859.653', Quantity='3', Discount='0.1', Profit='-0.027'),\n",
       " Row(Row ID='168', Order ID='ES-2014-3540276', Order Date='09/06/2014', Ship Date='13/06/2014', Ship Mode='Standard Class', Customer ID='AR-10405', Customer Name='Allen Rosenblatt', Segment='Corporate', City='Berlin', State='Berlin', Country='Germany', Region='Central', Product ID='OFF-BI-10004722', Category='Office Supplies', Sub-Category='Binders', Product Name='Avery Index Tab, Clear', Sales='10.422', Quantity='2', Discount='0.1', Profit='1.962'),\n",
       " Row(Row ID='169', Order ID='ES-2014-3540276', Order Date='09/06/2014', Ship Date='13/06/2014', Ship Mode='Standard Class', Customer ID='AR-10405', Customer Name='Allen Rosenblatt', Segment='Corporate', City='Berlin', State='Berlin', Country='Germany', Region='Central', Product ID='FUR-FU-10003804', Category='Furniture', Sub-Category='Furnishings', Product Name='Rubbermaid Frame, Durable', Sales='288.684', Quantity='3', Discount='0.1', Profit='48.114'),\n",
       " Row(Row ID='170', Order ID='ES-2014-3540276', Order Date='09/06/2014', Ship Date='13/06/2014', Ship Mode='Standard Class', Customer ID='AR-10405', Customer Name='Allen Rosenblatt', Segment='Corporate', City='Berlin', State='Berlin', Country='Germany', Region='Central', Product ID='OFF-BI-10002674', Category='Office Supplies', Sub-Category='Binders', Product Name='Cardinal Binder Covers, Recycled', Sales='55.62', Quantity='5', Discount='0.1', Profit='21.57'),\n",
       " Row(Row ID='171', Order ID='ES-2014-5894162', Order Date='22/11/2014', Ship Date='27/11/2014', Ship Mode='Second Class', Customer ID='JE-15715', Customer Name='Joe Elijah', Segment='Consumer', City='Hattingen', State='North Rhine-Westphalia', Country='Germany', Region='Central', Product ID='OFF-AR-10002672', Category='Office Supplies', Sub-Category='Art', Product Name='Boston Highlighters, Blue', Sales='94.35', Quantity='5', Discount='0', Profit='23.55'),\n",
       " Row(Row ID='172', Order ID='ES-2015-5284545', Order Date='30/05/2015', Ship Date='03/06/2015', Ship Mode='Standard Class', Customer ID='AB-10150', Customer Name='Aimee Bixby', Segment='Consumer', City='San Fernando', State='Andalusía', Country='Spain', Region='South', Product ID='OFF-AR-10002939', Category='Office Supplies', Sub-Category='Art', Product Name='Stanley Highlighters, Water Color', Sales='53.64', Quantity='3', Discount='0', Profit='18.18'),\n",
       " Row(Row ID='173', Order ID='ES-2015-5284545', Order Date='30/05/2015', Ship Date='03/06/2015', Ship Mode='Standard Class', Customer ID='AB-10150', Customer Name='Aimee Bixby', Segment='Consumer', City='San Fernando', State='Andalusía', Country='Spain', Region='South', Product ID='TEC-MA-10001139', Category='Technology', Sub-Category='Machines', Product Name='Okidata Receipt Printer, Wireless', Sales='442.476', Quantity='4', Discount='0.1', Profit='83.556'),\n",
       " Row(Row ID='174', Order ID='ES-2015-5284545', Order Date='30/05/2015', Ship Date='03/06/2015', Ship Mode='Standard Class', Customer ID='AB-10150', Customer Name='Aimee Bixby', Segment='Consumer', City='San Fernando', State='Andalusía', Country='Spain', Region='South', Product ID='OFF-BI-10004554', Category='Office Supplies', Sub-Category='Binders', Product Name='Avery Index Tab, Clear', Sales='25.32', Quantity='4', Discount='0', Profit='0.96'),\n",
       " Row(Row ID='175', Order ID='ES-2016-3480627', Order Date='16/02/2016', Ship Date='20/02/2016', Ship Mode='Standard Class', Customer ID='JE-15715', Customer Name='Joe Elijah', Segment='Consumer', City='Brest', State='Brittany', Country='France', Region='Central', Product ID='TEC-AC-10000450', Category='Technology', Sub-Category='Accessories', Product Name='Enermax Keyboard, USB', Sales='167.34', Quantity='2', Discount='0', Profit='55.2'),\n",
       " Row(Row ID='176', Order ID='ES-2016-3480627', Order Date='16/02/2016', Ship Date='20/02/2016', Ship Mode='Standard Class', Customer ID='JE-15715', Customer Name='Joe Elijah', Segment='Consumer', City='Brest', State='Brittany', Country='France', Region='Central', Product ID='OFF-FA-10001711', Category='Office Supplies', Sub-Category='Fasteners', Product Name='Accos Rubber Bands, 12 Pack', Sales='48.33', Quantity='3', Discount='0', Profit='15.93'),\n",
       " Row(Row ID='177', Order ID='IT-2016-2720003', Order Date='04/12/2016', Ship Date='06/12/2016', Ship Mode='First Class', Customer ID='MR-17545', Customer Name='Mathew Reese', Segment='Home Office', City='Trier', State='Rhineland-Palatinate', Country='Germany', Region='Central', Product ID='FUR-BO-10002632', Category='Furniture', Sub-Category='Bookcases', Product Name='Sauder Corner Shelving, Pine', Sales='401.355', Quantity='3', Discount='0.1', Profit='44.595'),\n",
       " Row(Row ID='178', Order ID='IT-2016-2720003', Order Date='04/12/2016', Ship Date='06/12/2016', Ship Mode='First Class', Customer ID='MR-17545', Customer Name='Mathew Reese', Segment='Home Office', City='Trier', State='Rhineland-Palatinate', Country='Germany', Region='Central', Product ID='OFF-EN-10000556', Category='Office Supplies', Sub-Category='Envelopes', Product Name='Kraft Interoffice Envelope, Security-Tint', Sales='49.32', Quantity='1', Discount='0', Profit='4.92'),\n",
       " Row(Row ID='179', Order ID='ES-2015-5980468', Order Date='30/08/2015', Ship Date='04/09/2015', Ship Mode='Standard Class', Customer ID='HA-14920', Customer Name='Helen Andreada', Segment='Consumer', City='Ulm', State='Baden-Württemberg', Country='Germany', Region='Central', Product ID='FUR-CH-10002053', Category='Furniture', Sub-Category='Chairs', Product Name='Novimex Chairmat, Set of Two', Sales='263.655', Quantity='5', Discount='0.1', Profit='17.505'),\n",
       " Row(Row ID='180', Order ID='ES-2015-5512464', Order Date='06/06/2015', Ship Date='12/06/2015', Ship Mode='Standard Class', Customer ID='MY-17380', Customer Name='Maribeth Yedwab', Segment='Corporate', City='Nancy', State='Alsace-Champagne-Ardenne-Lorraine', Country='France', Region='Central', Product ID='OFF-EN-10001979', Category='Office Supplies', Sub-Category='Envelopes', Product Name='Cameo Clasp Envelope, Security-Tint', Sales='35.73', Quantity='3', Discount='0', Profit='8.55'),\n",
       " Row(Row ID='181', Order ID='IT-2017-5192801', Order Date='25/12/2017', Ship Date='01/01/2018', Ship Mode='Standard Class', Customer ID='JD-15895', Customer Name='Jonathan Doherty', Segment='Corporate', City='Oosterhout', State='North Brabant', Country='Netherlands', Region='Central', Product ID='OFF-LA-10003699', Category='Office Supplies', Sub-Category='Labels', Product Name='Smead File Folder Labels, Adjustable', Sales='23.73', Quantity='7', Discount='0.5', Profit='-21'),\n",
       " Row(Row ID='182', Order ID='ES-2016-1788644', Order Date='27/05/2016', Ship Date='01/06/2016', Ship Mode='Standard Class', Customer ID='EB-13840', Customer Name='Ellis Ballard', Segment='Corporate', City='Grevenbroich', State='North Rhine-Westphalia', Country='Germany', Region='Central', Product ID='OFF-AR-10003377', Category='Office Supplies', Sub-Category='Art', Product Name='Boston Pencil Sharpener, Easy-Erase', Sales='181.26', Quantity='6', Discount='0', Profit='28.98'),\n",
       " Row(Row ID='183', Order ID='ES-2016-1788644', Order Date='27/05/2016', Ship Date='01/06/2016', Ship Mode='Standard Class', Customer ID='EB-13840', Customer Name='Ellis Ballard', Segment='Corporate', City='Grevenbroich', State='North Rhine-Westphalia', Country='Germany', Region='Central', Product ID='TEC-PH-10004263', Category='Technology', Sub-Category='Phones', Product Name='Cisco Signal Booster, with Caller ID', Sales='1062.81', Quantity='7', Discount='0', Profit='265.65'),\n",
       " Row(Row ID='184', Order ID='ES-2016-1788644', Order Date='27/05/2016', Ship Date='01/06/2016', Ship Mode='Standard Class', Customer ID='EB-13840', Customer Name='Ellis Ballard', Segment='Corporate', City='Grevenbroich', State='North Rhine-Westphalia', Country='Germany', Region='Central', Product ID='OFF-ST-10004577', Category='Office Supplies', Sub-Category='Storage', Product Name='Tenex Shelving, Wire Frame', Sales='96.714', Quantity='2', Discount='0.1', Profit='2.094'),\n",
       " Row(Row ID='185', Order ID='ES-2015-4698340', Order Date='01/09/2015', Ship Date='02/09/2015', Ship Mode='First Class', Customer ID='HF-14995', Customer Name='Herbert Flentye', Segment='Consumer', City='Paris', State='Ile-de-France', Country='France', Region='Central', Product ID='TEC-CO-10002269', Category='Technology', Sub-Category='Copiers', Product Name='Brother Ink, Color', Sales='632.145', Quantity='5', Discount='0.15', Profit='252.795'),\n",
       " Row(Row ID='186', Order ID='ES-2017-3802139', Order Date='23/06/2017', Ship Date='26/06/2017', Ship Mode='First Class', Customer ID='JP-16135', Customer Name='Julie Prescott', Segment='Home Office', City='Cannes', State=\"Provence-Alpes-Côte d'Azur\", Country='France', Region='Central', Product ID='OFF-FA-10000790', Category='Office Supplies', Sub-Category='Fasteners', Product Name='Stockwell Rubber Bands, Bulk Pack', Sales='33.06', Quantity='2', Discount='0', Profit='14.52'),\n",
       " Row(Row ID='187', Order ID='IT-2014-3760449', Order Date='04/08/2014', Ship Date='06/08/2014', Ship Mode='Second Class', Customer ID='DL-13330', Customer Name='Denise Leinenbach', Segment='Consumer', City='Berlin', State='Berlin', Country='Germany', Region='Central', Product ID='OFF-AR-10002485', Category='Office Supplies', Sub-Category='Art', Product Name='Boston Markers, Easy-Erase', Sales='47.952', Quantity='2', Discount='0.1', Profit='-0.588'),\n",
       " Row(Row ID='188', Order ID='IT-2014-3760449', Order Date='04/08/2014', Ship Date='06/08/2014', Ship Mode='Second Class', Customer ID='DL-13330', Customer Name='Denise Leinenbach', Segment='Consumer', City='Berlin', State='Berlin', Country='Germany', Region='Central', Product ID='FUR-CH-10002335', Category='Furniture', Sub-Category='Chairs', Product Name='Hon Steel Folding Chair, Red', Sales='195.408', Quantity='3', Discount='0.2', Profit='65.898'),\n",
       " Row(Row ID='189', Order ID='IT-2014-3760449', Order Date='04/08/2014', Ship Date='06/08/2014', Ship Mode='Second Class', Customer ID='DL-13330', Customer Name='Denise Leinenbach', Segment='Consumer', City='Berlin', State='Berlin', Country='Germany', Region='Central', Product ID='OFF-SU-10003924', Category='Office Supplies', Sub-Category='Supplies', Product Name='Elite Trimmer, Steel', Sales='73.926', Quantity='2', Discount='0.1', Profit='31.986'),\n",
       " Row(Row ID='190', Order ID='IT-2014-3760449', Order Date='04/08/2014', Ship Date='06/08/2014', Ship Mode='Second Class', Customer ID='DL-13330', Customer Name='Denise Leinenbach', Segment='Consumer', City='Berlin', State='Berlin', Country='Germany', Region='Central', Product ID='OFF-EN-10004150', Category='Office Supplies', Sub-Category='Envelopes', Product Name='GlobeWeis Business Envelopes, Recycled', Sales='58.104', Quantity='4', Discount='0.1', Profit='21.864'),\n",
       " Row(Row ID='191', Order ID='IT-2015-4187289', Order Date='10/05/2015', Ship Date='12/05/2015', Ship Mode='Second Class', Customer ID='LC-16960', Customer Name='Lindsay Castell', Segment='Home Office', City='Amsterdam', State='North Holland', Country='Netherlands', Region='Central', Product ID='OFF-FA-10000740', Category='Office Supplies', Sub-Category='Fasteners', Product Name='Accos Staples, Bulk Pack', Sales='10.95', Quantity='2', Discount='0.5', Profit='-6.57'),\n",
       " Row(Row ID='192', Order ID='ES-2017-3655961', Order Date='16/12/2017', Ship Date='21/12/2017', Ship Mode='Standard Class', Customer ID='PB-19210', Customer Name='Phillip Breyer', Segment='Corporate', City='Pontault-Combault', State='Ile-de-France', Country='France', Region='Central', Product ID='OFF-PA-10000450', Category='Office Supplies', Sub-Category='Paper', Product Name='Green Bar Note Cards, Multicolor', Sales='67.86', Quantity='2', Discount='0', Profit='27.78'),\n",
       " Row(Row ID='193', Order ID='ES-2017-3655961', Order Date='16/12/2017', Ship Date='21/12/2017', Ship Mode='Standard Class', Customer ID='PB-19210', Customer Name='Phillip Breyer', Segment='Corporate', City='Pontault-Combault', State='Ile-de-France', Country='France', Region='Central', Product ID='TEC-AC-10004679', Category='Technology', Sub-Category='Accessories', Product Name='Enermax Flash Drive, Programmable', Sales='129.06', Quantity='3', Discount='0', Profit='46.44'),\n",
       " Row(Row ID='194', Order ID='ES-2017-3655961', Order Date='16/12/2017', Ship Date='21/12/2017', Ship Mode='Standard Class', Customer ID='PB-19210', Customer Name='Phillip Breyer', Segment='Corporate', City='Pontault-Combault', State='Ile-de-France', Country='France', Region='Central', Product ID='OFF-ST-10001999', Category='Office Supplies', Sub-Category='Storage', Product Name='Tenex Folders, Wire Frame', Sales='260.793', Quantity='13', Discount='0.1', Profit='109.863'),\n",
       " Row(Row ID='195', Order ID='ES-2017-3655961', Order Date='16/12/2017', Ship Date='21/12/2017', Ship Mode='Standard Class', Customer ID='PB-19210', Customer Name='Phillip Breyer', Segment='Corporate', City='Pontault-Combault', State='Ile-de-France', Country='France', Region='Central', Product ID='OFF-ST-10003204', Category='Office Supplies', Sub-Category='Storage', Product Name='Tenex Trays, Industrial', Sales='196.884', Quantity='4', Discount='0.1', Profit='-0.036'),\n",
       " Row(Row ID='196', Order ID='ES-2017-3655961', Order Date='16/12/2017', Ship Date='21/12/2017', Ship Mode='Standard Class', Customer ID='PB-19210', Customer Name='Phillip Breyer', Segment='Corporate', City='Pontault-Combault', State='Ile-de-France', Country='France', Region='Central', Product ID='OFF-EN-10002065', Category='Office Supplies', Sub-Category='Envelopes', Product Name='Ames Clasp Envelope, Set of 50', Sales='36', Quantity='5', Discount='0', Profit='16.2'),\n",
       " Row(Row ID='197', Order ID='IT-2015-1226862', Order Date='18/11/2015', Ship Date='20/11/2015', Ship Mode='First Class', Customer ID='KB-16240', Customer Name='Karen Bern', Segment='Corporate', City='Sheffield', State='England', Country='United Kingdom', Region='North', Product ID='OFF-AR-10003217', Category='Office Supplies', Sub-Category='Art', Product Name='Sanford Highlighters, Fluorescent', Sales='42.525', Quantity='5', Discount='0.5', Profit='-6.825'),\n",
       " Row(Row ID='198', Order ID='ES-2016-1739400', Order Date='30/04/2016', Ship Date='04/05/2016', Ship Mode='Standard Class', Customer ID='KW-16435', Customer Name='Katrina Willman', Segment='Consumer', City='Marseille', State=\"Provence-Alpes-Côte d'Azur\", Country='France', Region='Central', Product ID='TEC-PH-10000800', Category='Technology', Sub-Category='Phones', Product Name='Cisco Smart Phone, Full Size', Sales='1109.556', Quantity='2', Discount='0.15', Profit='143.556'),\n",
       " Row(Row ID='199', Order ID='ES-2016-2354581', Order Date='05/11/2016', Ship Date='07/11/2016', Ship Mode='Second Class', Customer ID='SC-20095', Customer Name='Sanjit Chand', Segment='Consumer', City='Basildon', State='England', Country='United Kingdom', Region='North', Product ID='OFF-AP-10002238', Category='Office Supplies', Sub-Category='Appliances', Product Name='Hoover Coffee Grinder, Red', Sales='343.95', Quantity='5', Discount='0', Profit='10.2'),\n",
       " Row(Row ID='200', Order ID='ES-2016-2354581', Order Date='05/11/2016', Ship Date='07/11/2016', Ship Mode='Second Class', Customer ID='SC-20095', Customer Name='Sanjit Chand', Segment='Consumer', City='Basildon', State='England', Country='United Kingdom', Region='North', Product ID='OFF-BI-10003708', Category='Office Supplies', Sub-Category='Binders', Product Name='Cardinal Binder, Recycled', Sales='14.19', Quantity='1', Discount='0', Profit='2.97'),\n",
       " Row(Row ID='201', Order ID='ES-2016-2354581', Order Date='05/11/2016', Ship Date='07/11/2016', Ship Mode='Second Class', Customer ID='SC-20095', Customer Name='Sanjit Chand', Segment='Consumer', City='Basildon', State='England', Country='United Kingdom', Region='North', Product ID='TEC-AC-10004557', Category='Technology', Sub-Category='Accessories', Product Name='Logitech Mouse, USB', Sales='206.43', Quantity='7', Discount='0', Profit='26.67'),\n",
       " Row(Row ID='202', Order ID='ES-2016-2354581', Order Date='05/11/2016', Ship Date='07/11/2016', Ship Mode='Second Class', Customer ID='SC-20095', Customer Name='Sanjit Chand', Segment='Consumer', City='Basildon', State='England', Country='United Kingdom', Region='North', Product ID='OFF-AR-10001216', Category='Office Supplies', Sub-Category='Art', Product Name='BIC Pencil Sharpener, Easy-Erase', Sales='29.28', Quantity='1', Discount='0', Profit='1.44'),\n",
       " Row(Row ID='203', Order ID='ES-2016-4165099', Order Date='19/02/2016', Ship Date='26/02/2016', Ship Mode='Standard Class', Customer ID='BV-11245', Customer Name='Benjamin Venier', Segment='Corporate', City='San Sebastian', State='Basque Country', Country='Spain', Region='South', Product ID='TEC-AC-10001258', Category='Technology', Sub-Category='Accessories', Product Name='Belkin Router, Erganomic', Sales='1026.24', Quantity='4', Discount='0', Profit='482.28'),\n",
       " Row(Row ID='204', Order ID='ES-2016-4165099', Order Date='19/02/2016', Ship Date='26/02/2016', Ship Mode='Standard Class', Customer ID='BV-11245', Customer Name='Benjamin Venier', Segment='Corporate', City='San Sebastian', State='Basque Country', Country='Spain', Region='South', Product ID='FUR-CH-10004101', Category='Furniture', Sub-Category='Chairs', Product Name='SAFCO Swivel Stool, Adjustable', Sales='409.032', Quantity='3', Discount='0.2', Profit='143.082'),\n",
       " Row(Row ID='205', Order ID='ES-2016-4165099', Order Date='19/02/2016', Ship Date='26/02/2016', Ship Mode='Standard Class', Customer ID='BV-11245', Customer Name='Benjamin Venier', Segment='Corporate', City='San Sebastian', State='Basque Country', Country='Spain', Region='South', Product ID='OFF-BI-10001507', Category='Office Supplies', Sub-Category='Binders', Product Name='Wilson Jones Binder Covers, Economy', Sales='33.57', Quantity='3', Discount='0', Profit='8.64'),\n",
       " Row(Row ID='206', Order ID='ES-2016-4165099', Order Date='19/02/2016', Ship Date='26/02/2016', Ship Mode='Standard Class', Customer ID='BV-11245', Customer Name='Benjamin Venier', Segment='Corporate', City='San Sebastian', State='Basque Country', Country='Spain', Region='South', Product ID='FUR-FU-10003540', Category='Furniture', Sub-Category='Furnishings', Product Name='Deflect-O Stacking Tray, Erganomic', Sales='47.82', Quantity='2', Discount='0', Profit='13.38'),\n",
       " Row(Row ID='207', Order ID='ES-2016-4165099', Order Date='19/02/2016', Ship Date='26/02/2016', Ship Mode='Standard Class', Customer ID='BV-11245', Customer Name='Benjamin Venier', Segment='Corporate', City='San Sebastian', State='Basque Country', Country='Spain', Region='South', Product ID='TEC-CO-10004567', Category='Technology', Sub-Category='Copiers', Product Name='Brother Fax Machine, Color', Sales='2879.82', Quantity='9', Discount='0', Profit='1295.73'),\n",
       " Row(Row ID='208', Order ID='ES-2016-4165099', Order Date='19/02/2016', Ship Date='26/02/2016', Ship Mode='Standard Class', Customer ID='BV-11245', Customer Name='Benjamin Venier', Segment='Corporate', City='San Sebastian', State='Basque Country', Country='Spain', Region='South', Product ID='OFF-AR-10002816', Category='Office Supplies', Sub-Category='Art', Product Name='Boston Canvas, Blue', Sales='160.92', Quantity='3', Discount='0', Profit='40.23'),\n",
       " Row(Row ID='209', Order ID='ES-2015-1420387', Order Date='30/06/2015', Ship Date='04/07/2015', Ship Mode='Standard Class', Customer ID='BD-11605', Customer Name='Brian Dahlen', Segment='Consumer', City='Granada', State='Andalusía', Country='Spain', Region='South', Product ID='OFF-EN-10003737', Category='Office Supplies', Sub-Category='Envelopes', Product Name='Kraft Business Envelopes, Set of 50', Sales='59.94', Quantity='3', Discount='0', Profit='28.71'),\n",
       " Row(Row ID='210', Order ID='ES-2015-1420387', Order Date='30/06/2015', Ship Date='04/07/2015', Ship Mode='Standard Class', Customer ID='BD-11605', Customer Name='Brian Dahlen', Segment='Consumer', City='Granada', State='Andalusía', Country='Spain', Region='South', Product ID='TEC-PH-10002419', Category='Technology', Sub-Category='Phones', Product Name='Motorola Headset, Cordless', Sales='445.986', Quantity='6', Discount='0.1', Profit='108.846'),\n",
       " Row(Row ID='211', Order ID='ES-2016-5960221', Order Date='12/12/2016', Ship Date='17/12/2016', Ship Mode='Second Class', Customer ID='BG-11740', Customer Name='Bruce Geld', Segment='Consumer', City='Barry', State='Wales', Country='United Kingdom', Region='North', Product ID='OFF-BI-10000341', Category='Office Supplies', Sub-Category='Binders', Product Name='Ibico Binding Machine, Recycled', Sales='155.34', Quantity='3', Discount='0', Profit='27.9'),\n",
       " Row(Row ID='212', Order ID='ES-2015-4141764', Order Date='11/08/2015', Ship Date='15/08/2015', Ship Mode='Standard Class', Customer ID='SC-20770', Customer Name='Stewart Carmichael', Segment='Corporate', City='Bedford', State='England', Country='United Kingdom', Region='North', Product ID='OFF-LA-10003827', Category='Office Supplies', Sub-Category='Labels', Product Name='Avery Color Coded Labels, 5000 Label Set', Sales='95.76', Quantity='7', Discount='0', Profit='33.39'),\n",
       " Row(Row ID='213', Order ID='ES-2015-4141764', Order Date='11/08/2015', Ship Date='15/08/2015', Ship Mode='Standard Class', Customer ID='SC-20770', Customer Name='Stewart Carmichael', Segment='Corporate', City='Bedford', State='England', Country='United Kingdom', Region='North', Product ID='TEC-CO-10000775', Category='Technology', Sub-Category='Copiers', Product Name='Sharp Fax and Copier, Laser', Sales='674.4', Quantity='4', Discount='0', Profit='303.48'),\n",
       " Row(Row ID='214', Order ID='ES-2015-4141764', Order Date='11/08/2015', Ship Date='15/08/2015', Ship Mode='Standard Class', Customer ID='SC-20770', Customer Name='Stewart Carmichael', Segment='Corporate', City='Bedford', State='England', Country='United Kingdom', Region='North', Product ID='OFF-FA-10003411', Category='Office Supplies', Sub-Category='Fasteners', Product Name='OIC Staples, Bulk Pack', Sales='34.02', Quantity='3', Discount='0', Profit='16.29'),\n",
       " Row(Row ID='215', Order ID='ES-2014-5384617', Order Date='04/08/2014', Ship Date='08/08/2014', Ship Mode='Standard Class', Customer ID='DC-12850', Customer Name='Dan Campbell', Segment='Consumer', City='Marseille', State=\"Provence-Alpes-Côte d'Azur\", Country='France', Region='Central', Product ID='OFF-SU-10002094', Category='Office Supplies', Sub-Category='Supplies', Product Name='Acme Letter Opener, Steel', Sales='148.05', Quantity='5', Discount='0', Profit='60.6'),\n",
       " Row(Row ID='216', Order ID='ES-2017-3019536', Order Date='19/12/2017', Ship Date='21/12/2017', Ship Mode='First Class', Customer ID='SW-20350', Customer Name='Sean Wendt', Segment='Home Office', City='Pessac', State='Aquitaine-Limousin-Poitou-Charentes', Country='France', Region='Central', Product ID='OFF-EN-10003049', Category='Office Supplies', Sub-Category='Envelopes', Product Name='GlobeWeis Clasp Envelope, Security-Tint', Sales='36.9', Quantity='3', Discount='0', Profit='13.95'),\n",
       " Row(Row ID='217', Order ID='ES-2015-4071187', Order Date='19/05/2015', Ship Date='19/05/2015', Ship Mode='Same Day', Customer ID='TD-20995', Customer Name='Tamara Dahlen', Segment='Consumer', City='Irun', State='Basque Country', Country='Spain', Region='South', Product ID='OFF-AR-10001291', Category='Office Supplies', Sub-Category='Art', Product Name='Sanford Canvas, Fluorescent', Sales='207.12', Quantity='4', Discount='0', Profit='76.56'),\n",
       " Row(Row ID='218', Order ID='ES-2015-4071187', Order Date='19/05/2015', Ship Date='19/05/2015', Ship Mode='Same Day', Customer ID='TD-20995', Customer Name='Tamara Dahlen', Segment='Consumer', City='Irun', State='Basque Country', Country='Spain', Region='South', Product ID='OFF-SU-10003535', Category='Office Supplies', Sub-Category='Supplies', Product Name='Elite Box Cutter, Easy Grip', Sales='109.53', Quantity='3', Discount='0', Profit='16.38'),\n",
       " Row(Row ID='219', Order ID='ES-2017-3850519', Order Date='23/02/2017', Ship Date='27/02/2017', Ship Mode='Standard Class', Customer ID='LC-16960', Customer Name='Lindsay Castell', Segment='Home Office', City='Rome', State='Lazio', Country='Italy', Region='South', Product ID='OFF-ST-10001646', Category='Office Supplies', Sub-Category='Storage', Product Name='Fellowes Box, Wire Frame', Sales='112.5', Quantity='10', Discount='0.4', Profit='11.1'),\n",
       " Row(Row ID='220', Order ID='ES-2017-2938679', Order Date='18/06/2017', Ship Date='23/06/2017', Ship Mode='Standard Class', Customer ID='CH-12070', Customer Name='Cathy Hwang', Segment='Home Office', City='Mantes-la-Jolie', State='Ile-de-France', Country='France', Region='Central', Product ID='OFF-ST-10000710', Category='Office Supplies', Sub-Category='Storage', Product Name='Smead Shelving, Blue', Sales='572.481', Quantity='13', Discount='0.1', Profit='127.101'),\n",
       " Row(Row ID='221', Order ID='ES-2017-2938679', Order Date='18/06/2017', Ship Date='23/06/2017', Ship Mode='Standard Class', Customer ID='CH-12070', Customer Name='Cathy Hwang', Segment='Home Office', City='Mantes-la-Jolie', State='Ile-de-France', Country='France', Region='Central', Product ID='OFF-BI-10000171', Category='Office Supplies', Sub-Category='Binders', Product Name='Wilson Jones Index Tab, Recycled', Sales='6.81', Quantity='1', Discount='0', Profit='1.89'),\n",
       " Row(Row ID='222', Order ID='ES-2017-2938679', Order Date='18/06/2017', Ship Date='23/06/2017', Ship Mode='Standard Class', Customer ID='CH-12070', Customer Name='Cathy Hwang', Segment='Home Office', City='Mantes-la-Jolie', State='Ile-de-France', Country='France', Region='Central', Product ID='TEC-PH-10001664', Category='Technology', Sub-Category='Phones', Product Name='Motorola Office Telephone, VoIP', Sales='305.3625', Quantity='5', Discount='0.15', Profit='104.0625'),\n",
       " Row(Row ID='223', Order ID='ES-2017-2938679', Order Date='18/06/2017', Ship Date='23/06/2017', Ship Mode='Standard Class', Customer ID='CH-12070', Customer Name='Cathy Hwang', Segment='Home Office', City='Mantes-la-Jolie', State='Ile-de-France', Country='France', Region='Central', Product ID='OFF-BI-10000289', Category='Office Supplies', Sub-Category='Binders', Product Name='Wilson Jones Binder Covers, Recycled', Sales='23.1', Quantity='2', Discount='0', Profit='5.52'),\n",
       " Row(Row ID='224', Order ID='ES-2017-2938679', Order Date='18/06/2017', Ship Date='23/06/2017', Ship Mode='Standard Class', Customer ID='CH-12070', Customer Name='Cathy Hwang', Segment='Home Office', City='Mantes-la-Jolie', State='Ile-de-France', Country='France', Region='Central', Product ID='OFF-SU-10001409', Category='Office Supplies', Sub-Category='Supplies', Product Name='Stiletto Scissors, Serrated', Sales='121.86', Quantity='6', Discount='0', Profit='40.14'),\n",
       " Row(Row ID='225', Order ID='ES-2017-2938679', Order Date='18/06/2017', Ship Date='23/06/2017', Ship Mode='Standard Class', Customer ID='CH-12070', Customer Name='Cathy Hwang', Segment='Home Office', City='Mantes-la-Jolie', State='Ile-de-France', Country='France', Region='Central', Product ID='OFF-BI-10000346', Category='Office Supplies', Sub-Category='Binders', Product Name='Ibico 3-Hole Punch, Clear', Sales='89.73', Quantity='3', Discount='0', Profit='35.82'),\n",
       " Row(Row ID='226', Order ID='ES-2017-2938679', Order Date='18/06/2017', Ship Date='23/06/2017', Ship Mode='Standard Class', Customer ID='CH-12070', Customer Name='Cathy Hwang', Segment='Home Office', City='Mantes-la-Jolie', State='Ile-de-France', Country='France', Region='Central', Product ID='FUR-FU-10001086', Category='Furniture', Sub-Category='Furnishings', Product Name='Advantus Frame, Black', Sales='222.24', Quantity='2', Discount='0', Profit='44.4'),\n",
       " Row(Row ID='227', Order ID='ES-2017-4673578', Order Date='11/08/2017', Ship Date='16/08/2017', Ship Mode='Second Class', Customer ID='MS-17980', Customer Name='Michael Stewart', Segment='Corporate', City='Munster', State='Lower Saxony', Country='Germany', Region='Central', Product ID='TEC-AC-10000815', Category='Technology', Sub-Category='Accessories', Product Name='Enermax Flash Drive, Erganomic', Sales='117.99', Quantity='3', Discount='0', Profit='51.84'),\n",
       " Row(Row ID='228', Order ID='ES-2017-4673578', Order Date='11/08/2017', Ship Date='16/08/2017', Ship Mode='Second Class', Customer ID='MS-17980', Customer Name='Michael Stewart', Segment='Corporate', City='Munster', State='Lower Saxony', Country='Germany', Region='Central', Product ID='TEC-PH-10002035', Category='Technology', Sub-Category='Phones', Product Name='Samsung Smart Phone, Cordless', Sales='4473', Quantity='7', Discount='0', Profit='313.11'),\n",
       " Row(Row ID='229', Order ID='IT-2015-2956829', Order Date='18/11/2015', Ship Date='22/11/2015', Ship Mode='Standard Class', Customer ID='TB-21250', Customer Name='Tim Brockman', Segment='Consumer', City='Bisceglie', State='Apulia', Country='Italy', Region='South', Product ID='FUR-CH-10002927', Category='Furniture', Sub-Category='Chairs', Product Name='Office Star Swivel Stool, Black', Sales='343.02', Quantity='5', Discount='0.6', Profit='-223.08'),\n",
       " Row(Row ID='230', Order ID='ES-2017-3256320', Order Date='24/06/2017', Ship Date='28/06/2017', Ship Mode='Standard Class', Customer ID='BO-11425', Customer Name='Bobby Odegard', Segment='Consumer', City='Barcelona', State='Catalonia', Country='Spain', Region='South', Product ID='TEC-AC-10003518', Category='Technology', Sub-Category='Accessories', Product Name='Logitech Router, USB', Sales='1732.71', Quantity='7', Discount='0', Profit='207.9'),\n",
       " Row(Row ID='231', Order ID='ES-2017-3256320', Order Date='24/06/2017', Ship Date='28/06/2017', Ship Mode='Standard Class', Customer ID='BO-11425', Customer Name='Bobby Odegard', Segment='Consumer', City='Barcelona', State='Catalonia', Country='Spain', Region='South', Product ID='OFF-AR-10001418', Category='Office Supplies', Sub-Category='Art', Product Name='BIC Markers, Easy-Erase', Sales='133.5', Quantity='5', Discount='0', Profit='37.35'),\n",
       " Row(Row ID='232', Order ID='ES-2017-1956763', Order Date='29/12/2017', Ship Date='04/01/2018', Ship Mode='Standard Class', Customer ID='EB-13840', Customer Name='Ellis Ballard', Segment='Corporate', City='London', State='England', Country='United Kingdom', Region='North', Product ID='OFF-EN-10003360', Category='Office Supplies', Sub-Category='Envelopes', Product Name='Kraft Mailers, with clear poly window', Sales='148.284', Quantity='4', Discount='0.1', Profit='23.004'),\n",
       " Row(Row ID='233', Order ID='ES-2017-3430575', Order Date='21/04/2017', Ship Date='23/04/2017', Ship Mode='Second Class', Customer ID='CC-12220', Customer Name='Chris Cortes', Segment='Consumer', City='London', State='England', Country='United Kingdom', Region='North', Product ID='OFF-AR-10000467', Category='Office Supplies', Sub-Category='Art', Product Name='Sanford Markers, Fluorescent', Sales='66.177', Quantity='3', Discount='0.1', Profit='21.987'),\n",
       " Row(Row ID='234', Order ID='ES-2017-3430575', Order Date='21/04/2017', Ship Date='23/04/2017', Ship Mode='Second Class', Customer ID='CC-12220', Customer Name='Chris Cortes', Segment='Consumer', City='London', State='England', Country='United Kingdom', Region='North', Product ID='FUR-BO-10002889', Category='Furniture', Sub-Category='Bookcases', Product Name='Dania Stackable Bookrack, Pine', Sales='1116.99', Quantity='10', Discount='0.1', Profit='446.79'),\n",
       " Row(Row ID='235', Order ID='ES-2017-3430575', Order Date='21/04/2017', Ship Date='23/04/2017', Ship Mode='Second Class', Customer ID='CC-12220', Customer Name='Chris Cortes', Segment='Consumer', City='London', State='England', Country='United Kingdom', Region='North', Product ID='FUR-FU-10002937', Category='Furniture', Sub-Category='Furnishings', Product Name='Rubbermaid Light Bulb, Durable', Sales='28.566', Quantity='3', Discount='0.4', Profit='-0.054'),\n",
       " Row(Row ID='236', Order ID='ES-2016-2121455', Order Date='10/05/2016', Ship Date='13/05/2016', Ship Mode='First Class', Customer ID='LC-16960', Customer Name='Lindsay Castell', Segment='Home Office', City='Albertville', State='Auvergne-Rhône-Alpes', Country='France', Region='Central', Product ID='OFF-BI-10003068', Category='Office Supplies', Sub-Category='Binders', Product Name='Ibico Binding Machine, Durable', Sales='158.76', Quantity='3', Discount='0', Profit='72.99'),\n",
       " Row(Row ID='237', Order ID='IT-2016-5450529', Order Date='28/06/2016', Ship Date='30/06/2016', Ship Mode='First Class', Customer ID='AS-10225', Customer Name='Alan Schoenberger', Segment='Corporate', City='Birmingham', State='England', Country='United Kingdom', Region='North', Product ID='OFF-ST-10002354', Category='Office Supplies', Sub-Category='Storage', Product Name='Eldon Lockers, Wire Frame', Sales='196.98', Quantity='2', Discount='0.5', Profit='-118.2'),\n",
       " Row(Row ID='238', Order ID='IT-2016-5450529', Order Date='28/06/2016', Ship Date='30/06/2016', Ship Mode='First Class', Customer ID='AS-10225', Customer Name='Alan Schoenberger', Segment='Corporate', City='Birmingham', State='England', Country='United Kingdom', Region='North', Product ID='OFF-EN-10004074', Category='Office Supplies', Sub-Category='Envelopes', Product Name='GlobeWeis Clasp Envelope, Recycled', Sales='21.75', Quantity='5', Discount='0.5', Profit='-10.5'),\n",
       " Row(Row ID='239', Order ID='ES-2015-3278844', Order Date='31/01/2015', Ship Date='02/02/2015', Ship Mode='Second Class', Customer ID='CM-11830', Customer Name='Cari MacIntyre', Segment='Corporate', City='Perpignan', State='Languedoc-Roussillon-Midi-Pyrénées', Country='France', Region='Central', Product ID='OFF-FA-10003930', Category='Office Supplies', Sub-Category='Fasteners', Product Name='Stockwell Push Pins, Assorted Sizes', Sales='35.46', Quantity='3', Discount='0', Profit='11.7'),\n",
       " Row(Row ID='240', Order ID='ES-2015-3278844', Order Date='31/01/2015', Ship Date='02/02/2015', Ship Mode='Second Class', Customer ID='CM-11830', Customer Name='Cari MacIntyre', Segment='Corporate', City='Perpignan', State='Languedoc-Roussillon-Midi-Pyrénées', Country='France', Region='Central', Product ID='OFF-FA-10002071', Category='Office Supplies', Sub-Category='Fasteners', Product Name='Accos Thumb Tacks, Assorted Sizes', Sales='33.39', Quantity='3', Discount='0', Profit='2.25'),\n",
       " Row(Row ID='241', Order ID='ES-2015-3278844', Order Date='31/01/2015', Ship Date='02/02/2015', Ship Mode='Second Class', Customer ID='CM-11830', Customer Name='Cari MacIntyre', Segment='Corporate', City='Perpignan', State='Languedoc-Roussillon-Midi-Pyrénées', Country='France', Region='Central', Product ID='OFF-ST-10001818', Category='Office Supplies', Sub-Category='Storage', Product Name='Smead Trays, Blue', Sales='218.16', Quantity='5', Discount='0.1', Profit='7.26'),\n",
       " Row(Row ID='242', Order ID='ES-2017-1308719', Order Date='17/03/2017', Ship Date='22/03/2017', Ship Mode='Standard Class', Customer ID='LC-16885', Customer Name='Lena Creighton', Segment='Consumer', City='Vigneux-sur-Seine', State='Ile-de-France', Country='France', Region='Central', Product ID='TEC-AC-10000827', Category='Technology', Sub-Category='Accessories', Product Name='SanDisk Keyboard, Programmable', Sales='165.96', Quantity='2', Discount='0', Profit='26.52'),\n",
       " Row(Row ID='243', Order ID='ES-2014-5987802', Order Date='18/02/2014', Ship Date='22/02/2014', Ship Mode='Second Class', Customer ID='DL-12925', Customer Name='Daniel Lacy', Segment='Consumer', City='Castrop-Rauxel', State='North Rhine-Westphalia', Country='Germany', Region='Central', Product ID='OFF-FA-10002350', Category='Office Supplies', Sub-Category='Fasteners', Product Name='OIC Staples, Assorted Sizes', Sales='61.53', Quantity='7', Discount='0', Profit='23.31'),\n",
       " Row(Row ID='244', Order ID='ES-2014-5987802', Order Date='18/02/2014', Ship Date='22/02/2014', Ship Mode='Second Class', Customer ID='DL-12925', Customer Name='Daniel Lacy', Segment='Consumer', City='Castrop-Rauxel', State='North Rhine-Westphalia', Country='Germany', Region='Central', Product ID='OFF-FA-10004344', Category='Office Supplies', Sub-Category='Fasteners', Product Name='Advantus Thumb Tacks, Assorted Sizes', Sales='55.2', Quantity='5', Discount='0', Profit='8.25'),\n",
       " Row(Row ID='245', Order ID='ES-2017-1872017', Order Date='29/03/2017', Ship Date='02/04/2017', Ship Mode='Second Class', Customer ID='LC-16930', Customer Name='Linda Cazamias', Segment='Corporate', City='Estepona', State='Andalusía', Country='Spain', Region='South', Product ID='OFF-AR-10003466', Category='Office Supplies', Sub-Category='Art', Product Name='Binney & Smith Highlighters, Easy-Erase', Sales='33.72', Quantity='2', Discount='0', Profit='12.12'),\n",
       " Row(Row ID='246', Order ID='IT-2017-1036058', Order Date='18/06/2017', Ship Date='20/06/2017', Ship Mode='Second Class', Customer ID='GM-14695', Customer Name='Greg Maxwell', Segment='Corporate', City='Hanover', State='Lower Saxony', Country='Germany', Region='Central', Product ID='TEC-CO-10001192', Category='Technology', Sub-Category='Copiers', Product Name='HP Personal Copier, Digital', Sales='123.93', Quantity='2', Discount='0.5', Profit='-84.33'),\n",
       " Row(Row ID='247', Order ID='IT-2017-1036058', Order Date='18/06/2017', Ship Date='20/06/2017', Ship Mode='Second Class', Customer ID='GM-14695', Customer Name='Greg Maxwell', Segment='Corporate', City='Hanover', State='Lower Saxony', Country='Germany', Region='Central', Product ID='OFF-AP-10000934', Category='Office Supplies', Sub-Category='Appliances', Product Name='Hamilton Beach Stove, Black', Sales='1950.372', Quantity='9', Discount='0.6', Profit='-1121.688'),\n",
       " Row(Row ID='248', Order ID='IT-2017-1036058', Order Date='18/06/2017', Ship Date='20/06/2017', Ship Mode='Second Class', Customer ID='GM-14695', Customer Name='Greg Maxwell', Segment='Corporate', City='Hanover', State='Lower Saxony', Country='Germany', Region='Central', Product ID='TEC-MA-10000811', Category='Technology', Sub-Category='Machines', Product Name='Okidata Phone, Durable', Sales='130.455', Quantity='3', Discount='0.5', Profit='-73.125'),\n",
       " Row(Row ID='249', Order ID='ES-2017-5831908', Order Date='12/11/2017', Ship Date='14/11/2017', Ship Mode='First Class', Customer ID='BP-11155', Customer Name='Becky Pak', Segment='Consumer', City='Fontenay-aux-Roses', State='Ile-de-France', Country='France', Region='Central', Product ID='TEC-AC-10004704', Category='Technology', Sub-Category='Accessories', Product Name='Logitech Numeric Keypad, Bluetooth', Sales='138.96', Quantity='3', Discount='0', Profit='20.79'),\n",
       " Row(Row ID='250', Order ID='ES-2017-5831908', Order Date='12/11/2017', Ship Date='14/11/2017', Ship Mode='First Class', Customer ID='BP-11155', Customer Name='Becky Pak', Segment='Consumer', City='Fontenay-aux-Roses', State='Ile-de-France', Country='France', Region='Central', Product ID='OFF-SU-10004980', Category='Office Supplies', Sub-Category='Supplies', Product Name='Acme Trimmer, Steel', Sales='87.96', Quantity='2', Discount='0', Profit='19.32'),\n",
       " Row(Row ID='251', Order ID='ES-2017-5831908', Order Date='12/11/2017', Ship Date='14/11/2017', Ship Mode='First Class', Customer ID='BP-11155', Customer Name='Becky Pak', Segment='Consumer', City='Fontenay-aux-Roses', State='Ile-de-France', Country='France', Region='Central', Product ID='FUR-CH-10001831', Category='Furniture', Sub-Category='Chairs', Product Name='Novimex Rocking Chair, Set of Two', Sales='120.312', Quantity='1', Discount='0.1', Profit='1.332'),\n",
       " Row(Row ID='252', Order ID='ES-2017-5831908', Order Date='12/11/2017', Ship Date='14/11/2017', Ship Mode='First Class', Customer ID='BP-11155', Customer Name='Becky Pak', Segment='Consumer', City='Fontenay-aux-Roses', State='Ile-de-France', Country='France', Region='Central', Product ID='OFF-BI-10001808', Category='Office Supplies', Sub-Category='Binders', Product Name='Cardinal Binding Machine, Clear', Sales='246.15', Quantity='5', Discount='0', Profit='98.4'),\n",
       " Row(Row ID='253', Order ID='ES-2017-5831908', Order Date='12/11/2017', Ship Date='14/11/2017', Ship Mode='First Class', Customer ID='BP-11155', Customer Name='Becky Pak', Segment='Consumer', City='Fontenay-aux-Roses', State='Ile-de-France', Country='France', Region='Central', Product ID='OFF-AR-10004739', Category='Office Supplies', Sub-Category='Art', Product Name='BIC Canvas, Easy-Erase', Sales='161.91', Quantity='3', Discount='0', Profit='54.99'),\n",
       " Row(Row ID='254', Order ID='ES-2017-5831908', Order Date='12/11/2017', Ship Date='14/11/2017', Ship Mode='First Class', Customer ID='BP-11155', Customer Name='Becky Pak', Segment='Consumer', City='Fontenay-aux-Roses', State='Ile-de-France', Country='France', Region='Central', Product ID='OFF-ST-10000710', Category='Office Supplies', Sub-Category='Storage', Product Name='Smead Shelving, Blue', Sales='88.074', Quantity='2', Discount='0.1', Profit='19.554'),\n",
       " Row(Row ID='255', Order ID='IT-2016-3376681', Order Date='31/08/2016', Ship Date='03/09/2016', Ship Mode='First Class', Customer ID='KC-16675', Customer Name='Kimberly Carter', Segment='Corporate', City='Celle', State='Lower Saxony', Country='Germany', Region='Central', Product ID='TEC-PH-10002565', Category='Technology', Sub-Category='Phones', Product Name='Apple Audio Dock, with Caller ID', Sales='1502.01', Quantity='9', Discount='0', Profit='225.18'),\n",
       " Row(Row ID='256', Order ID='IT-2016-3376681', Order Date='31/08/2016', Ship Date='03/09/2016', Ship Mode='First Class', Customer ID='KC-16675', Customer Name='Kimberly Carter', Segment='Corporate', City='Celle', State='Lower Saxony', Country='Germany', Region='Central', Product ID='OFF-PA-10003868', Category='Office Supplies', Sub-Category='Paper', Product Name='SanDisk Cards & Envelopes, Recycled', Sales='193.32', Quantity='4', Discount='0', Profit='7.68'),\n",
       " Row(Row ID='257', Order ID='IT-2016-3376681', Order Date='31/08/2016', Ship Date='03/09/2016', Ship Mode='First Class', Customer ID='KC-16675', Customer Name='Kimberly Carter', Segment='Corporate', City='Celle', State='Lower Saxony', Country='Germany', Region='Central', Product ID='FUR-CH-10000399', Category='Furniture', Sub-Category='Chairs', Product Name='Hon Swivel Stool, Set of Two', Sales='298.62', Quantity='2', Discount='0.1', Profit='46.44'),\n",
       " Row(Row ID='258', Order ID='IT-2016-3376681', Order Date='31/08/2016', Ship Date='03/09/2016', Ship Mode='First Class', Customer ID='KC-16675', Customer Name='Kimberly Carter', Segment='Corporate', City='Celle', State='Lower Saxony', Country='Germany', Region='Central', Product ID='TEC-MA-10004929', Category='Technology', Sub-Category='Machines', Product Name='Panasonic Printer, White', Sales='794.7', Quantity='3', Discount='0', Profit='174.78'),\n",
       " Row(Row ID='259', Order ID='IT-2016-3376681', Order Date='31/08/2016', Ship Date='03/09/2016', Ship Mode='First Class', Customer ID='KC-16675', Customer Name='Kimberly Carter', Segment='Corporate', City='Celle', State='Lower Saxony', Country='Germany', Region='Central', Product ID='OFF-ST-10001547', Category='Office Supplies', Sub-Category='Storage', Product Name='Rogers Lockers, Industrial', Sales='1527.12', Quantity='8', Discount='0.1', Profit='474.96'),\n",
       " Row(Row ID='260', Order ID='IT-2016-3376681', Order Date='31/08/2016', Ship Date='03/09/2016', Ship Mode='First Class', Customer ID='KC-16675', Customer Name='Kimberly Carter', Segment='Corporate', City='Celle', State='Lower Saxony', Country='Germany', Region='Central', Product ID='FUR-CH-10004676', Category='Furniture', Sub-Category='Chairs', Product Name='Office Star Rocking Chair, Black', Sales='249.264', Quantity='2', Discount='0.1', Profit='27.684'),\n",
       " Row(Row ID='261', Order ID='IT-2016-3376681', Order Date='31/08/2016', Ship Date='03/09/2016', Ship Mode='First Class', Customer ID='KC-16675', Customer Name='Kimberly Carter', Segment='Corporate', City='Celle', State='Lower Saxony', Country='Germany', Region='Central', Product ID='OFF-LA-10004594', Category='Office Supplies', Sub-Category='Labels', Product Name='Avery Color Coded Labels, Adjustable', Sales='33.57', Quantity='3', Discount='0', Profit='3.96'),\n",
       " Row(Row ID='262', Order ID='IT-2016-3376681', Order Date='31/08/2016', Ship Date='03/09/2016', Ship Mode='First Class', Customer ID='KC-16675', Customer Name='Kimberly Carter', Segment='Corporate', City='Celle', State='Lower Saxony', Country='Germany', Region='Central', Product ID='OFF-FA-10001800', Category='Office Supplies', Sub-Category='Fasteners', Product Name='Accos Paper Clips, Metal', Sales='121.23', Quantity='9', Discount='0', Profit='5.94'),\n",
       " Row(Row ID='263', Order ID='IT-2016-3376681', Order Date='31/08/2016', Ship Date='03/09/2016', Ship Mode='First Class', Customer ID='KC-16675', Customer Name='Kimberly Carter', Segment='Corporate', City='Celle', State='Lower Saxony', Country='Germany', Region='Central', Product ID='OFF-AR-10000594', Category='Office Supplies', Sub-Category='Art', Product Name='Binney & Smith Highlighters, Water Color', Sales='118.62', Quantity='6', Discount='0', Profit='49.68'),\n",
       " Row(Row ID='264', Order ID='ES-2015-5420130', Order Date='21/12/2015', Ship Date='23/12/2015', Ship Mode='First Class', Customer ID='LS-17200', Customer Name='Luke Schmidt', Segment='Corporate', City='Deuil-la-Barre', State='Ile-de-France', Country='France', Region='Central', Product ID='TEC-MA-10002918', Category='Technology', Sub-Category='Machines', Product Name='StarTech Card Printer, White', Sales='1238.6115', Quantity='9', Discount='0.15', Profit='14.4315'),\n",
       " Row(Row ID='265', Order ID='ES-2015-5420130', Order Date='21/12/2015', Ship Date='23/12/2015', Ship Mode='First Class', Customer ID='LS-17200', Customer Name='Luke Schmidt', Segment='Corporate', City='Deuil-la-Barre', State='Ile-de-France', Country='France', Region='Central', Product ID='OFF-BI-10004903', Category='Office Supplies', Sub-Category='Binders', Product Name='Ibico Hole Reinforcements, Durable', Sales='33.96', Quantity='4', Discount='0', Profit='9.48'),\n",
       " Row(Row ID='266', Order ID='ES-2016-4701811', Order Date='22/03/2016', Ship Date='26/03/2016', Ship Mode='Standard Class', Customer ID='DM-13015', Customer Name='Darrin Martin', Segment='Consumer', City='Hamburg', State='Hamburg', Country='Germany', Region='Central', Product ID='TEC-PH-10003620', Category='Technology', Sub-Category='Phones', Product Name='Apple Signal Booster, Cordless', Sales='279', Quantity='2', Discount='0', Profit='69.72'),\n",
       " Row(Row ID='267', Order ID='ES-2014-4421897', Order Date='18/08/2014', Ship Date='22/08/2014', Ship Mode='Standard Class', Customer ID='MO-17950', Customer Name='Michael Oakman', Segment='Consumer', City='Madrid', State='Madrid', Country='Spain', Region='South', Product ID='OFF-BI-10000894', Category='Office Supplies', Sub-Category='Binders', Product Name='Avery Binder Covers, Clear', Sales='31.59', Quantity='3', Discount='0', Profit='7.2'),\n",
       " Row(Row ID='268', Order ID='ES-2017-1987504', Order Date='02/08/2017', Ship Date='04/08/2017', Ship Mode='Second Class', Customer ID='JK-15640', Customer Name='Jim Kriz', Segment='Home Office', City='Lille', State='Hauts-de-France', Country='France', Region='Central', Product ID='TEC-CO-10001894', Category='Technology', Sub-Category='Copiers', Product Name='Sharp Copy Machine, High-Speed', Sales='610.47', Quantity='3', Discount='0.15', Profit='208.26'),\n",
       " Row(Row ID='269', Order ID='ES-2014-3805636', Order Date='13/05/2014', Ship Date='16/05/2014', Ship Mode='First Class', Customer ID='YC-21895', Customer Name='Yoseph Carroll', Segment='Corporate', City='Burgos', State='Castile and León', Country='Spain', Region='South', Product ID='OFF-ST-10004855', Category='Office Supplies', Sub-Category='Storage', Product Name='Smead Lockers, Industrial', Sales='1074.06', Quantity='6', Discount='0.1', Profit='214.74'),\n",
       " Row(Row ID='270', Order ID='ES-2016-1667528', Order Date='03/12/2016', Ship Date='03/12/2016', Ship Mode='Same Day', Customer ID='LB-16735', Customer Name='Larry Blacks', Segment='Consumer', City='Moncalieri', State='Piedmont', Country='Italy', Region='South', Product ID='OFF-EN-10003936', Category='Office Supplies', Sub-Category='Envelopes', Product Name='Cameo Peel and Seal, with clear poly window', Sales='49.08', Quantity='2', Discount='0', Profit='21.54'),\n",
       " Row(Row ID='271', Order ID='ES-2014-2720769', Order Date='10/08/2014', Ship Date='15/08/2014', Ship Mode='Second Class', Customer ID='CK-12325', Customer Name='Christine Kargatis', Segment='Home Office', City='Arnsberg', State='North Rhine-Westphalia', Country='Germany', Region='Central', Product ID='OFF-AR-10002805', Category='Office Supplies', Sub-Category='Art', Product Name='Boston Sketch Pad, Blue', Sales='194.4', Quantity='4', Discount='0', Profit='83.52'),\n",
       " Row(Row ID='272', Order ID='ES-2015-1749192', Order Date='25/12/2015', Ship Date='30/12/2015', Ship Mode='Standard Class', Customer ID='KH-16690', Customer Name='Kristen Hastings', Segment='Corporate', City='Chilly-Mazarin', State='Ile-de-France', Country='France', Region='Central', Product ID='OFF-BI-10000312', Category='Office Supplies', Sub-Category='Binders', Product Name='Cardinal Binder Covers, Economy', Sales='48', Quantity='4', Discount='0', Profit='1.92'),\n",
       " Row(Row ID='273', Order ID='ES-2015-1749192', Order Date='25/12/2015', Ship Date='30/12/2015', Ship Mode='Standard Class', Customer ID='KH-16690', Customer Name='Kristen Hastings', Segment='Corporate', City='Chilly-Mazarin', State='Ile-de-France', Country='France', Region='Central', Product ID='OFF-PA-10001686', Category='Office Supplies', Sub-Category='Paper', Product Name='SanDisk Memo Slips, Premium', Sales='33.96', Quantity='2', Discount='0', Profit='12.9'),\n",
       " Row(Row ID='274', Order ID='ES-2015-1749192', Order Date='25/12/2015', Ship Date='30/12/2015', Ship Mode='Standard Class', Customer ID='KH-16690', Customer Name='Kristen Hastings', Segment='Corporate', City='Chilly-Mazarin', State='Ile-de-France', Country='France', Region='Central', Product ID='OFF-LA-10003283', Category='Office Supplies', Sub-Category='Labels', Product Name='Harbour Creations Removable Labels, Adjustable', Sales='41.25', Quantity='5', Discount='0', Profit='5.7'),\n",
       " Row(Row ID='275', Order ID='ES-2017-2039034', Order Date='07/04/2017', Ship Date='11/04/2017', Ship Mode='Standard Class', Customer ID='JW-15220', Customer Name='Jane Waco', Segment='Corporate', City='Lille', State='Hauts-de-France', Country='France', Region='Central', Product ID='OFF-ST-10004489', Category='Office Supplies', Sub-Category='Storage', Product Name='Smead Lockers, Single Width', Sales='1250.235', Quantity='7', Discount='0.1', Profit='486.045'),\n",
       " Row(Row ID='276', Order ID='ES-2017-2039034', Order Date='07/04/2017', Ship Date='11/04/2017', Ship Mode='Standard Class', Customer ID='JW-15220', Customer Name='Jane Waco', Segment='Corporate', City='Lille', State='Hauts-de-France', Country='France', Region='Central', Product ID='OFF-AR-10002816', Category='Office Supplies', Sub-Category='Art', Product Name='Boston Canvas, Blue', Sales='160.92', Quantity='3', Discount='0', Profit='40.23'),\n",
       " Row(Row ID='277', Order ID='ES-2014-3734581', Order Date='31/08/2014', Ship Date='04/09/2014', Ship Mode='Standard Class', Customer ID='AO-10810', Customer Name=\"Anthony O'Donnell\", Segment='Corporate', City='Chester', State='England', Country='United Kingdom', Region='North', Product ID='OFF-BI-10003152', Category='Office Supplies', Sub-Category='Binders', Product Name='Avery Hole Reinforcements, Recycled', Sales='9.54', Quantity='2', Discount='0', Profit='4.08'),\n",
       " Row(Row ID='278', Order ID='ES-2015-4307683', Order Date='28/12/2015', Ship Date='02/01/2016', Ship Mode='Standard Class', Customer ID='BS-11665', Customer Name='Brian Stugart', Segment='Consumer', City='Sant Boi de Llobregat', State='Catalonia', Country='Spain', Region='South', Product ID='OFF-AR-10000467', Category='Office Supplies', Sub-Category='Art', Product Name='Sanford Markers, Fluorescent', Sales='73.53', Quantity='3', Discount='0', Profit='29.34'),\n",
       " Row(Row ID='279', Order ID='ES-2015-4490883', Order Date='06/11/2015', Ship Date='10/11/2015', Ship Mode='Standard Class', Customer ID='FO-14305', Customer Name='Frank Olsen', Segment='Consumer', City='Marseille', State=\"Provence-Alpes-Côte d'Azur\", Country='France', Region='Central', Product ID='FUR-FU-10002305', Category='Furniture', Sub-Category='Furnishings', Product Name='Advantus Door Stop, Black', Sales='180.12', Quantity='4', Discount='0', Profit='37.8'),\n",
       " Row(Row ID='280', Order ID='ES-2017-2282871', Order Date='17/01/2017', Ship Date='23/01/2017', Ship Mode='Standard Class', Customer ID='JG-15805', Customer Name='John Grady', Segment='Corporate', City='Metz', State='Alsace-Champagne-Ardenne-Lorraine', Country='France', Region='Central', Product ID='OFF-BI-10000563', Category='Office Supplies', Sub-Category='Binders', Product Name='Acco Hole Reinforcements, Durable', Sales='24.48', Quantity='3', Discount='0', Profit='11.43'),\n",
       " Row(Row ID='281', Order ID='ES-2017-2282871', Order Date='17/01/2017', Ship Date='23/01/2017', Ship Mode='Standard Class', Customer ID='JG-15805', Customer Name='John Grady', Segment='Corporate', City='Metz', State='Alsace-Champagne-Ardenne-Lorraine', Country='France', Region='Central', Product ID='OFF-ST-10001974', Category='Office Supplies', Sub-Category='Storage', Product Name='Rogers File Cart, Industrial', Sales='637.2', Quantity='5', Discount='0.1', Profit='49.5'),\n",
       " Row(Row ID='282', Order ID='ES-2017-2282871', Order Date='17/01/2017', Ship Date='23/01/2017', Ship Mode='Standard Class', Customer ID='JG-15805', Customer Name='John Grady', Segment='Corporate', City='Metz', State='Alsace-Champagne-Ardenne-Lorraine', Country='France', Region='Central', Product ID='OFF-AR-10000594', Category='Office Supplies', Sub-Category='Art', Product Name='Binney & Smith Highlighters, Water Color', Sales='79.08', Quantity='4', Discount='0', Profit='33.12'),\n",
       " Row(Row ID='283', Order ID='ES-2017-4794612', Order Date='03/12/2017', Ship Date='07/12/2017', Ship Mode='Standard Class', Customer ID='BT-11395', Customer Name='Bill Tyler', Segment='Corporate', City='Antony', State='Ile-de-France', Country='France', Region='Central', Product ID='OFF-SU-10001889', Category='Office Supplies', Sub-Category='Supplies', Product Name='Kleencut Letter Opener, Easy Grip', Sales='229.44', Quantity='8', Discount='0', Profit='27.36'),\n",
       " Row(Row ID='284', Order ID='ES-2017-4794612', Order Date='03/12/2017', Ship Date='07/12/2017', Ship Mode='Standard Class', Customer ID='BT-11395', Customer Name='Bill Tyler', Segment='Corporate', City='Antony', State='Ile-de-France', Country='France', Region='Central', Product ID='OFF-FA-10001551', Category='Office Supplies', Sub-Category='Fasteners', Product Name='Stockwell Thumb Tacks, 12 Pack', Sales='25.14', Quantity='2', Discount='0', Profit='7.74'),\n",
       " Row(Row ID='285', Order ID='ES-2017-4794612', Order Date='03/12/2017', Ship Date='07/12/2017', Ship Mode='Standard Class', Customer ID='BT-11395', Customer Name='Bill Tyler', Segment='Corporate', City='Antony', State='Ile-de-France', Country='France', Region='Central', Product ID='OFF-BI-10004722', Category='Office Supplies', Sub-Category='Binders', Product Name='Avery Index Tab, Clear', Sales='17.37', Quantity='3', Discount='0', Profit='4.68'),\n",
       " Row(Row ID='286', Order ID='ES-2017-4794612', Order Date='03/12/2017', Ship Date='07/12/2017', Ship Mode='Standard Class', Customer ID='BT-11395', Customer Name='Bill Tyler', Segment='Corporate', City='Antony', State='Ile-de-France', Country='France', Region='Central', Product ID='OFF-AR-10000711', Category='Office Supplies', Sub-Category='Art', Product Name='BIC Pens, Easy-Erase', Sales='101.85', Quantity='7', Discount='0', Profit='22.26'),\n",
       " Row(Row ID='287', Order ID='ES-2017-4794612', Order Date='03/12/2017', Ship Date='07/12/2017', Ship Mode='Standard Class', Customer ID='BT-11395', Customer Name='Bill Tyler', Segment='Corporate', City='Antony', State='Ile-de-France', Country='France', Region='Central', Product ID='OFF-ST-10004695', Category='Office Supplies', Sub-Category='Storage', Product Name='Fellowes File Cart, Blue', Sales='370.737', Quantity='3', Discount='0.1', Profit='123.507'),\n",
       " Row(Row ID='288', Order ID='ES-2016-3867083', Order Date='08/04/2016', Ship Date='12/04/2016', Ship Mode='Standard Class', Customer ID='RH-19600', Customer Name='Rob Haberlin', Segment='Consumer', City='Vienna', State='Vienna', Country='Austria', Region='Central', Product ID='FUR-FU-10003069', Category='Furniture', Sub-Category='Furnishings', Product Name='Deflect-O Photo Frame, Durable', Sales='146.79', Quantity='3', Discount='0', Profit='20.52'),\n",
       " Row(Row ID='289', Order ID='ES-2014-3609014', Order Date='10/02/2014', Ship Date='16/02/2014', Ship Mode='Standard Class', Customer ID='MO-17800', Customer Name=\"Meg O'Connel\", Segment='Home Office', City='Bielefeld', State='North Rhine-Westphalia', Country='Germany', Region='Central', Product ID='OFF-AR-10000079', Category='Office Supplies', Sub-Category='Art', Product Name='Stanley Pencil Sharpener, Fluorescent', Sales='123.9', Quantity='5', Discount='0', Profit='39.6'),\n",
       " Row(Row ID='290', Order ID='IT-2017-2907373', Order Date='06/01/2017', Ship Date='10/01/2017', Ship Mode='Standard Class', Customer ID='JL-15175', Customer Name='James Lanier', Segment='Home Office', City='Drancy', State='Ile-de-France', Country='France', Region='Central', Product ID='FUR-TA-10004680', Category='Furniture', Sub-Category='Tables', Product Name='Lesro Wood Table, Fully Assembled', Sales='1828.71', Quantity='6', Discount='0.35', Profit='-56.43'),\n",
       " Row(Row ID='291', Order ID='IT-2017-2907373', Order Date='06/01/2017', Ship Date='10/01/2017', Ship Mode='Standard Class', Customer ID='JL-15175', Customer Name='James Lanier', Segment='Home Office', City='Drancy', State='Ile-de-France', Country='France', Region='Central', Product ID='OFF-AR-10003466', Category='Office Supplies', Sub-Category='Art', Product Name='Binney & Smith Highlighters, Easy-Erase', Sales='16.86', Quantity='1', Discount='0', Profit='6.06'),\n",
       " Row(Row ID='292', Order ID='IT-2017-2907373', Order Date='06/01/2017', Ship Date='10/01/2017', Ship Mode='Standard Class', Customer ID='JL-15175', Customer Name='James Lanier', Segment='Home Office', City='Drancy', State='Ile-de-France', Country='France', Region='Central', Product ID='OFF-ST-10004489', Category='Office Supplies', Sub-Category='Storage', Product Name='Smead Lockers, Single Width', Sales='357.21', Quantity='2', Discount='0.1', Profit='138.87'),\n",
       " Row(Row ID='293', Order ID='ES-2015-2809459', Order Date='18/03/2015', Ship Date='22/03/2015', Ship Mode='Standard Class', Customer ID='PF-19225', Customer Name='Phillip Flathmann', Segment='Consumer', City='Duisburg', State='North Rhine-Westphalia', Country='Germany', Region='Central', Product ID='FUR-FU-10004954', Category='Furniture', Sub-Category='Furnishings', Product Name='Tenex Clock, Duo Pack', Sales='100.62', Quantity='2', Discount='0', Profit='38.22'),\n",
       " Row(Row ID='294', Order ID='ES-2015-2809459', Order Date='18/03/2015', Ship Date='22/03/2015', Ship Mode='Standard Class', Customer ID='PF-19225', Customer Name='Phillip Flathmann', Segment='Consumer', City='Duisburg', State='North Rhine-Westphalia', Country='Germany', Region='Central', Product ID='OFF-AR-10001578', Category='Office Supplies', Sub-Category='Art', Product Name='Sanford Pencil Sharpener, Fluorescent', Sales='51.66', Quantity='2', Discount='0', Profit='18.06'),\n",
       " Row(Row ID='295', Order ID='ES-2015-2809459', Order Date='18/03/2015', Ship Date='22/03/2015', Ship Mode='Standard Class', Customer ID='PF-19225', Customer Name='Phillip Flathmann', Segment='Consumer', City='Duisburg', State='North Rhine-Westphalia', Country='Germany', Region='Central', Product ID='OFF-ST-10004035', Category='Office Supplies', Sub-Category='Storage', Product Name='Rogers Box, Wire Frame', Sales='103.68', Quantity='5', Discount='0.1', Profit='2.28'),\n",
       " Row(Row ID='296', Order ID='IT-2014-5989878', Order Date='20/10/2014', Ship Date='24/10/2014', Ship Mode='Standard Class', Customer ID='RS-19870', Customer Name='Roy Skaria', Segment='Home Office', City='Helmond', State='North Brabant', Country='Netherlands', Region='Central', Product ID='OFF-AR-10003457', Category='Office Supplies', Sub-Category='Art', Product Name='Sanford Sketch Pad, Water Color', Sales='72.99', Quantity='3', Discount='0.5', Profit='-4.41'),\n",
       " Row(Row ID='297', Order ID='ES-2016-5413372', Order Date='18/09/2016', Ship Date='23/09/2016', Ship Mode='Standard Class', Customer ID='JR-16210', Customer Name='Justin Ritter', Segment='Corporate', City='Paris', State='Ile-de-France', Country='France', Region='Central', Product ID='OFF-EN-10003103', Category='Office Supplies', Sub-Category='Envelopes', Product Name='GlobeWeis Manila Envelope, with clear poly window', Sales='123.72', Quantity='4', Discount='0', Profit='38.28'),\n",
       " Row(Row ID='298', Order ID='ES-2017-3878729', Order Date='31/03/2017', Ship Date='04/04/2017', Ship Mode='Standard Class', Customer ID='GG-14650', Customer Name='Greg Guthrie', Segment='Corporate', City='Offenbach', State='Hesse', Country='Germany', Region='Central', Product ID='OFF-AR-10000715', Category='Office Supplies', Sub-Category='Art', Product Name='Boston Markers, Blue', Sales='79.11', Quantity='3', Discount='0', Profit='32.4'),\n",
       " Row(Row ID='299', Order ID='ES-2017-3878729', Order Date='31/03/2017', Ship Date='04/04/2017', Ship Mode='Standard Class', Customer ID='GG-14650', Customer Name='Greg Guthrie', Segment='Corporate', City='Offenbach', State='Hesse', Country='Germany', Region='Central', Product ID='OFF-BI-10003708', Category='Office Supplies', Sub-Category='Binders', Product Name='Avery Binder, Economy', Sales='77.4', Quantity='6', Discount='0', Profit='30.06'),\n",
       " Row(Row ID='300', Order ID='ES-2017-3878729', Order Date='31/03/2017', Ship Date='04/04/2017', Ship Mode='Standard Class', Customer ID='GG-14650', Customer Name='Greg Guthrie', Segment='Corporate', City='Offenbach', State='Hesse', Country='Germany', Region='Central', Product ID='TEC-AC-10000140', Category='Technology', Sub-Category='Accessories', Product Name='Enermax Numeric Keypad, Bluetooth', Sales='115.08', Quantity='2', Discount='0', Profit='26.46'),\n",
       " Row(Row ID='301', Order ID='ES-2017-3878729', Order Date='31/03/2017', Ship Date='04/04/2017', Ship Mode='Standard Class', Customer ID='GG-14650', Customer Name='Greg Guthrie', Segment='Corporate', City='Offenbach', State='Hesse', Country='Germany', Region='Central', Product ID='OFF-ST-10001974', Category='Office Supplies', Sub-Category='Storage', Product Name='Rogers File Cart, Industrial', Sales='382.32', Quantity='3', Discount='0.1', Profit='29.7'),\n",
       " Row(Row ID='302', Order ID='IT-2016-5316481', Order Date='05/08/2016', Ship Date='10/08/2016', Ship Mode='Standard Class', Customer ID='BT-11530', Customer Name='Bradley Talbott', Segment='Home Office', City='Sheffield', State='England', Country='United Kingdom', Region='North', Product ID='OFF-ST-10001091', Category='Office Supplies', Sub-Category='Storage', Product Name='Smead Box, Industrial', Sales='11.25', Quantity='2', Discount='0.5', Profit='-9.45'),\n",
       " Row(Row ID='303', Order ID='IT-2016-5316481', Order Date='05/08/2016', Ship Date='10/08/2016', Ship Mode='Standard Class', Customer ID='BT-11530', Customer Name='Bradley Talbott', Segment='Home Office', City='Sheffield', State='England', Country='United Kingdom', Region='North', Product ID='OFF-FA-10003463', Category='Office Supplies', Sub-Category='Fasteners', Product Name='OIC Thumb Tacks, Assorted Sizes', Sales='40.32', Quantity='7', Discount='0.5', Profit='-8.19'),\n",
       " Row(Row ID='304', Order ID='IT-2016-5316481', Order Date='05/08/2016', Ship Date='10/08/2016', Ship Mode='Standard Class', Customer ID='BT-11530', Customer Name='Bradley Talbott', Segment='Home Office', City='Sheffield', State='England', Country='United Kingdom', Region='North', Product ID='OFF-AR-10004519', Category='Office Supplies', Sub-Category='Art', Product Name='Boston Canvas, Fluorescent', Sales='219.6', Quantity='8', Discount='0.5', Profit='-140.64'),\n",
       " Row(Row ID='305', Order ID='IT-2016-5316481', Order Date='05/08/2016', Ship Date='10/08/2016', Ship Mode='Standard Class', Customer ID='BT-11530', Customer Name='Bradley Talbott', Segment='Home Office', City='Sheffield', State='England', Country='United Kingdom', Region='North', Product ID='TEC-AC-10002900', Category='Technology', Sub-Category='Accessories', Product Name='Belkin Mouse, Programmable', Sales='21.105', Quantity='1', Discount='0.5', Profit='-13.515'),\n",
       " Row(Row ID='306', Order ID='ES-2016-2028016', Order Date='02/12/2016', Ship Date='04/12/2016', Ship Mode='Second Class', Customer ID='SP-20620', Customer Name='Stefania Perrino', Segment='Corporate', City='Cerignola', State='Apulia', Country='Italy', Region='South', Product ID='OFF-BI-10004220', Category='Office Supplies', Sub-Category='Binders', Product Name='Cardinal 3-Hole Punch, Recycled', Sales='204.12', Quantity='7', Discount='0', Profit='59.01'),\n",
       " Row(Row ID='307', Order ID='ES-2016-2028016', Order Date='02/12/2016', Ship Date='04/12/2016', Ship Mode='Second Class', Customer ID='SP-20620', Customer Name='Stefania Perrino', Segment='Corporate', City='Cerignola', State='Apulia', Country='Italy', Region='South', Product ID='OFF-AR-10000452', Category='Office Supplies', Sub-Category='Art', Product Name='Boston Pencil Sharpener, Fluorescent', Sales='28.95', Quantity='1', Discount='0', Profit='4.05'),\n",
       " Row(Row ID='308', Order ID='ES-2017-2879883', Order Date='04/12/2017', Ship Date='04/12/2017', Ship Mode='Same Day', Customer ID='DR-12940', Customer Name='Daniel Raglin', Segment='Home Office', City='Grasse', State=\"Provence-Alpes-Côte d'Azur\", Country='France', Region='Central', Product ID='FUR-CH-10000583', Category='Furniture', Sub-Category='Chairs', Product Name='Novimex Swivel Stool, Set of Two', Sales='450.117', Quantity='3', Discount='0.1', Profit='139.977'),\n",
       " Row(Row ID='309', Order ID='ES-2014-5649807', Order Date='20/09/2014', Ship Date='24/09/2014', Ship Mode='Standard Class', Customer ID='RP-19855', Customer Name='Roy Phan', Segment='Corporate', City='Murcia', State='Murcia', Country='Spain', Region='South', Product ID='OFF-BI-10002799', Category='Office Supplies', Sub-Category='Binders', Product Name='Cardinal Binder Covers, Clear', Sales='34.38', Quantity='3', Discount='0', Profit='8.91'),\n",
       " Row(Row ID='310', Order ID='ES-2014-5649807', Order Date='20/09/2014', Ship Date='24/09/2014', Ship Mode='Standard Class', Customer ID='RP-19855', Customer Name='Roy Phan', Segment='Corporate', City='Murcia', State='Murcia', Country='Spain', Region='South', Product ID='FUR-FU-10001691', Category='Furniture', Sub-Category='Furnishings', Product Name='Deflect-O Photo Frame, Black', Sales='311.4', Quantity='6', Discount='0', Profit='68.4'),\n",
       " Row(Row ID='311', Order ID='ES-2015-2091336', Order Date='25/09/2015', Ship Date='29/09/2015', Ship Mode='Standard Class', Customer ID='AH-10210', Customer Name='Alan Hwang', Segment='Consumer', City='Munich', State='Bavaria', Country='Germany', Region='Central', Product ID='OFF-AR-10000751', Category='Office Supplies', Sub-Category='Art', Product Name='Boston Highlighters, Fluorescent', Sales='40.26', Quantity='2', Discount='0', Profit='10.44'),\n",
       " Row(Row ID='312', Order ID='ES-2015-2091336', Order Date='25/09/2015', Ship Date='29/09/2015', Ship Mode='Standard Class', Customer ID='AH-10210', Customer Name='Alan Hwang', Segment='Consumer', City='Munich', State='Bavaria', Country='Germany', Region='Central', Product ID='FUR-CH-10002030', Category='Furniture', Sub-Category='Chairs', Product Name='Office Star Swivel Stool, Red', Sales='156.546', Quantity='1', Discount='0.1', Profit='-8.724'),\n",
       " Row(Row ID='313', Order ID='ES-2015-2091336', Order Date='25/09/2015', Ship Date='29/09/2015', Ship Mode='Standard Class', Customer ID='AH-10210', Customer Name='Alan Hwang', Segment='Consumer', City='Munich', State='Bavaria', Country='Germany', Region='Central', Product ID='TEC-AC-10002363', Category='Technology', Sub-Category='Accessories', Product Name='Logitech Keyboard, USB', Sales='145.32', Quantity='2', Discount='0', Profit='30.48'),\n",
       " Row(Row ID='314', Order ID='ES-2015-2091336', Order Date='25/09/2015', Ship Date='29/09/2015', Ship Mode='Standard Class', Customer ID='AH-10210', Customer Name='Alan Hwang', Segment='Consumer', City='Munich', State='Bavaria', Country='Germany', Region='Central', Product ID='FUR-BO-10003878', Category='Furniture', Sub-Category='Bookcases', Product Name='Safco Corner Shelving, Mobile', Sales='136.782', Quantity='1', Discount='0.1', Profit='51.672'),\n",
       " Row(Row ID='315', Order ID='ES-2016-3243058', Order Date='06/11/2016', Ship Date='10/11/2016', Ship Mode='Standard Class', Customer ID='RE-19405', Customer Name='Ricardo Emerson', Segment='Consumer', City='Gateshead', State='England', Country='United Kingdom', Region='North', Product ID='OFF-FA-10001698', Category='Office Supplies', Sub-Category='Fasteners', Product Name='Stockwell Clamps, Assorted Sizes', Sales='166.8', Quantity='10', Discount='0', Profit='63.3'),\n",
       " Row(Row ID='316', Order ID='ES-2016-3243058', Order Date='06/11/2016', Ship Date='10/11/2016', Ship Mode='Standard Class', Customer ID='RE-19405', Customer Name='Ricardo Emerson', Segment='Consumer', City='Gateshead', State='England', Country='United Kingdom', Region='North', Product ID='FUR-CH-10001153', Category='Furniture', Sub-Category='Chairs', Product Name='Harbour Creations Bag Chairs, Adjustable', Sales='128.22', Quantity='2', Discount='0', Profit='58.98'),\n",
       " Row(Row ID='317', Order ID='ES-2016-3243058', Order Date='06/11/2016', Ship Date='10/11/2016', Ship Mode='Standard Class', Customer ID='RE-19405', Customer Name='Ricardo Emerson', Segment='Consumer', City='Gateshead', State='England', Country='United Kingdom', Region='North', Product ID='TEC-CO-10001008', Category='Technology', Sub-Category='Copiers', Product Name='Canon Fax and Copier, Laser', Sales='382.68', Quantity='2', Discount='0', Profit='179.82'),\n",
       " Row(Row ID='318', Order ID='ES-2015-2700213', Order Date='24/11/2015', Ship Date='30/11/2015', Ship Mode='Standard Class', Customer ID='SV-20815', Customer Name='Stuart Van', Segment='Corporate', City='Issy-les-Moulineaux', State='Ile-de-France', Country='France', Region='Central', Product ID='TEC-PH-10004271', Category='Technology', Sub-Category='Phones', Product Name='Cisco Speaker Phone, VoIP', Sales='588.9225', Quantity='5', Discount='0.15', Profit='124.6725'),\n",
       " Row(Row ID='319', Order ID='ES-2015-2700213', Order Date='24/11/2015', Ship Date='30/11/2015', Ship Mode='Standard Class', Customer ID='SV-20815', Customer Name='Stuart Van', Segment='Corporate', City='Issy-les-Moulineaux', State='Ile-de-France', Country='France', Region='Central', Product ID='OFF-AP-10003032', Category='Office Supplies', Sub-Category='Appliances', Product Name='Hamilton Beach Blender, Silver', Sales='383.616', Quantity='6', Discount='0.1', Profit='-42.624'),\n",
       " Row(Row ID='320', Order ID='ES-2015-2700213', Order Date='24/11/2015', Ship Date='30/11/2015', Ship Mode='Standard Class', Customer ID='SV-20815', Customer Name='Stuart Van', Segment='Corporate', City='Issy-les-Moulineaux', State='Ile-de-France', Country='France', Region='Central', Product ID='TEC-PH-10004601', Category='Technology', Sub-Category='Phones', Product Name='Nokia Audio Dock, with Caller ID', Sales='425.187', Quantity='3', Discount='0.15', Profit='-0.063'),\n",
       " Row(Row ID='321', Order ID='ES-2015-2700213', Order Date='24/11/2015', Ship Date='30/11/2015', Ship Mode='Standard Class', Customer ID='SV-20815', Customer Name='Stuart Van', Segment='Corporate', City='Issy-les-Moulineaux', State='Ile-de-France', Country='France', Region='Central', Product ID='OFF-EN-10004296', Category='Office Supplies', Sub-Category='Envelopes', Product Name='GlobeWeis Mailers, Security-Tint', Sales='286.65', Quantity='7', Discount='0', Profit='111.72'),\n",
       " Row(Row ID='322', Order ID='ES-2017-3573530', Order Date='27/03/2017', Ship Date='29/03/2017', Ship Mode='Second Class', Customer ID='SM-20905', Customer Name='Susan MacKendrick', Segment='Consumer', City='Saint-Nazaire', State='Pays de la Loire', Country='France', Region='Central', Product ID='OFF-AR-10003113', Category='Office Supplies', Sub-Category='Art', Product Name='Binney & Smith Pens, Blue', Sales='35.82', Quantity='3', Discount='0', Profit='15.03'),\n",
       " Row(Row ID='323', Order ID='ES-2015-2183106', Order Date='23/04/2015', Ship Date='27/04/2015', Ship Mode='Standard Class', Customer ID='DK-13150', Customer Name='David Kendrick', Segment='Corporate', City='Berlin', State='Berlin', Country='Germany', Region='Central', Product ID='OFF-AP-10001882', Category='Office Supplies', Sub-Category='Appliances', Product Name='Breville Coffee Grinder, Silver', Sales='100.176', Quantity='2', Discount='0.2', Profit='24.996'),\n",
       " Row(Row ID='324', Order ID='ES-2015-2183106', Order Date='23/04/2015', Ship Date='27/04/2015', Ship Mode='Standard Class', Customer ID='DK-13150', Customer Name='David Kendrick', Segment='Corporate', City='Berlin', State='Berlin', Country='Germany', Region='Central', Product ID='OFF-AR-10002816', Category='Office Supplies', Sub-Category='Art', Product Name='Boston Canvas, Blue', Sales='241.38', Quantity='5', Discount='0.1', Profit='40.23'),\n",
       " Row(Row ID='325', Order ID='ES-2015-2183106', Order Date='23/04/2015', Ship Date='27/04/2015', Ship Mode='Standard Class', Customer ID='DK-13150', Customer Name='David Kendrick', Segment='Corporate', City='Berlin', State='Berlin', Country='Germany', Region='Central', Product ID='OFF-AR-10000799', Category='Office Supplies', Sub-Category='Art', Product Name='Sanford Highlighters, Easy-Erase', Sales='100.926', Quantity='7', Discount='0.1', Profit='-6.804'),\n",
       " Row(Row ID='326', Order ID='ES-2015-2183106', Order Date='23/04/2015', Ship Date='27/04/2015', Ship Mode='Standard Class', Customer ID='DK-13150', Customer Name='David Kendrick', Segment='Corporate', City='Berlin', State='Berlin', Country='Germany', Region='Central', Product ID='TEC-CO-10003342', Category='Technology', Sub-Category='Copiers', Product Name='Canon Wireless Fax, High-Speed', Sales='4748.436', Quantity='14', Discount='0.1', Profit='844.116'),\n",
       " Row(Row ID='327', Order ID='IT-2014-1573599', Order Date='18/11/2014', Ship Date='23/11/2014', Ship Mode='Standard Class', Customer ID='CC-12550', Customer Name='Clay Cheatham', Segment='Consumer', City='London', State='England', Country='United Kingdom', Region='North', Product ID='OFF-BI-10003281', Category='Office Supplies', Sub-Category='Binders', Product Name='Ibico Binder, Recycled', Sales='28.512', Quantity='2', Discount='0.1', Profit='-0.648'),\n",
       " Row(Row ID='328', Order ID='ES-2015-5259635', Order Date='06/12/2015', Ship Date='09/12/2015', Ship Mode='Second Class', Customer ID='NK-18490', Customer Name='Neil Knudson', Segment='Home Office', City='Hamburg', State='Hamburg', Country='Germany', Region='Central', Product ID='OFF-BI-10000542', Category='Office Supplies', Sub-Category='Binders', Product Name='Wilson Jones 3-Hole Punch, Durable', Sales='147.45', Quantity='5', Discount='0', Profit='30.9'),\n",
       " Row(Row ID='329', Order ID='ES-2014-2401476', Order Date='08/11/2014', Ship Date='14/11/2014', Ship Mode='Standard Class', Customer ID='RE-19450', Customer Name='Richard Eichhorn', Segment='Consumer', City='Halle', State='North Rhine-Westphalia', Country='Germany', Region='Central', Product ID='OFF-PA-10002338', Category='Office Supplies', Sub-Category='Paper', Product Name='Green Bar Parchment Paper, Recycled', Sales='165.9', Quantity='10', Discount='0', Profit='76.2'),\n",
       " Row(Row ID='330', Order ID='IT-2015-5288691', Order Date='25/08/2015', Ship Date='26/08/2015', Ship Mode='First Class', Customer ID='AG-10270', Customer Name='Alejandro Grove', Segment='Consumer', City='Chemnitz', State='Saxony', Country='Germany', Region='Central', Product ID='OFF-BI-10000289', Category='Office Supplies', Sub-Category='Binders', Product Name='Wilson Jones Binder Covers, Recycled', Sales='57.75', Quantity='5', Discount='0', Profit='13.8'),\n",
       " Row(Row ID='331', Order ID='ES-2017-2815584', Order Date='31/12/2017', Ship Date='04/01/2018', Ship Mode='Standard Class', Customer ID='ES-14020', Customer Name='Erica Smith', Segment='Consumer', City='Bielefeld', State='North Rhine-Westphalia', Country='Germany', Region='Central', Product ID='OFF-SU-10004279', Category='Office Supplies', Sub-Category='Supplies', Product Name='Kleencut Shears, Serrated', Sales='260.82', Quantity='6', Discount='0', Profit='12.96'),\n",
       " Row(Row ID='332', Order ID='ES-2015-1307059', Order Date='28/10/2015', Ship Date='01/11/2015', Ship Mode='Standard Class', Customer ID='JH-16180', Customer Name='Justin Hirsh', Segment='Consumer', City='Naples', State='Campania', Country='Italy', Region='South', Product ID='OFF-BI-10004328', Category='Office Supplies', Sub-Category='Binders', Product Name='Wilson Jones Binding Machine, Economy', Sales='244.8', Quantity='5', Discount='0', Profit='88.05'),\n",
       " Row(Row ID='333', Order ID='ES-2015-1307059', Order Date='28/10/2015', Ship Date='01/11/2015', Ship Mode='Standard Class', Customer ID='JH-16180', Customer Name='Justin Hirsh', Segment='Consumer', City='Naples', State='Campania', Country='Italy', Region='South', Product ID='FUR-BO-10004119', Category='Furniture', Sub-Category='Bookcases', Product Name='Ikea Floating Shelf Set, Traditional', Sales='1362.72', Quantity='8', Discount='0', Profit='81.6'),\n",
       " Row(Row ID='334', Order ID='ES-2015-1307059', Order Date='28/10/2015', Ship Date='01/11/2015', Ship Mode='Standard Class', Customer ID='JH-16180', Customer Name='Justin Hirsh', Segment='Consumer', City='Naples', State='Campania', Country='Italy', Region='South', Product ID='OFF-LA-10001184', Category='Office Supplies', Sub-Category='Labels', Product Name='Novimex Legal Exhibit Labels, 5000 Label Set', Sales='21.72', Quantity='2', Discount='0', Profit='2.82'),\n",
       " Row(Row ID='335', Order ID='ES-2015-1307059', Order Date='28/10/2015', Ship Date='01/11/2015', Ship Mode='Standard Class', Customer ID='JH-16180', Customer Name='Justin Hirsh', Segment='Consumer', City='Naples', State='Campania', Country='Italy', Region='South', Product ID='OFF-EN-10003933', Category='Office Supplies', Sub-Category='Envelopes', Product Name='Kraft Manila Envelope, Security-Tint', Sales='173.34', Quantity='6', Discount='0', Profit='13.86'),\n",
       " Row(Row ID='336', Order ID='ES-2017-3066003', Order Date='15/09/2017', Ship Date='21/09/2017', Ship Mode='Standard Class', Customer ID='GW-14605', Customer Name='Giulietta Weimer', Segment='Consumer', City='Coulommiers', State='Ile-de-France', Country='France', Region='Central', Product ID='OFF-ST-10003455', Category='Office Supplies', Sub-Category='Storage', Product Name='Fellowes Lockers, Blue', Sales='1119.582', Quantity='6', Discount='0.1', Profit='198.882'),\n",
       " Row(Row ID='337', Order ID='ES-2017-3066003', Order Date='15/09/2017', Ship Date='21/09/2017', Ship Mode='Standard Class', Customer ID='GW-14605', Customer Name='Giulietta Weimer', Segment='Consumer', City='Coulommiers', State='Ile-de-France', Country='France', Region='Central', Product ID='OFF-BI-10001192', Category='Office Supplies', Sub-Category='Binders', Product Name='Cardinal Binder, Clear', Sales='53.16', Quantity='4', Discount='0', Profit='1.56'),\n",
       " Row(Row ID='338', Order ID='ES-2017-3066003', Order Date='15/09/2017', Ship Date='21/09/2017', Ship Mode='Standard Class', Customer ID='GW-14605', Customer Name='Giulietta Weimer', Segment='Consumer', City='Coulommiers', State='Ile-de-France', Country='France', Region='Central', Product ID='TEC-CO-10002601', Category='Technology', Sub-Category='Copiers', Product Name='Brother Fax and Copier, Digital', Sales='1137.2235', Quantity='7', Discount='0.15', Profit='-13.5765'),\n",
       " Row(Row ID='339', Order ID='ES-2017-3066003', Order Date='15/09/2017', Ship Date='21/09/2017', Ship Mode='Standard Class', Customer ID='GW-14605', Customer Name='Giulietta Weimer', Segment='Consumer', City='Coulommiers', State='Ile-de-France', Country='France', Region='Central', Product ID='FUR-BO-10004483', Category='Furniture', Sub-Category='Bookcases', Product Name='Ikea Floating Shelf Set, Pine', Sales='618.084', Quantity='4', Discount='0.1', Profit='27.444'),\n",
       " Row(Row ID='340', Order ID='IT-2015-1188964', Order Date='10/06/2015', Ship Date='17/06/2015', Ship Mode='Standard Class', Customer ID='JK-16090', Customer Name='Juliana Krohn', Segment='Consumer', City='Uppsala', State='Uppsala', Country='Sweden', Region='North', Product ID='FUR-CH-10004790', Category='Furniture', Sub-Category='Chairs', Product Name='Office Star Bag Chairs, Black', Sales='159.03', Quantity='6', Discount='0.5', Profit='-28.71'),\n",
       " Row(Row ID='341', Order ID='IT-2015-1188964', Order Date='10/06/2015', Ship Date='17/06/2015', Ship Mode='Standard Class', Customer ID='JK-16090', Customer Name='Juliana Krohn', Segment='Consumer', City='Uppsala', State='Uppsala', Country='Sweden', Region='North', Product ID='OFF-PA-10001492', Category='Office Supplies', Sub-Category='Paper', Product Name='Enermax Note Cards, Premium', Sales='59.82', Quantity='4', Discount='0.5', Profit='-34.74'),\n",
       " Row(Row ID='342', Order ID='IT-2015-1188964', Order Date='10/06/2015', Ship Date='17/06/2015', Ship Mode='Standard Class', Customer ID='JK-16090', Customer Name='Juliana Krohn', Segment='Consumer', City='Uppsala', State='Uppsala', Country='Sweden', Region='North', Product ID='OFF-PA-10000816', Category='Office Supplies', Sub-Category='Paper', Product Name='Enermax Memo Slips, Recycled', Sales='7.785', Quantity='1', Discount='0.5', Profit='-4.845'),\n",
       " Row(Row ID='343', Order ID='IT-2015-1188964', Order Date='10/06/2015', Ship Date='17/06/2015', Ship Mode='Standard Class', Customer ID='JK-16090', Customer Name='Juliana Krohn', Segment='Consumer', City='Uppsala', State='Uppsala', Country='Sweden', Region='North', Product ID='OFF-FA-10004359', Category='Office Supplies', Sub-Category='Fasteners', Product Name='OIC Paper Clips, Assorted Sizes', Sales='11.88', Quantity='2', Discount='0.5', Profit='-5.94'),\n",
       " Row(Row ID='344', Order ID='IT-2015-1188964', Order Date='10/06/2015', Ship Date='17/06/2015', Ship Mode='Standard Class', Customer ID='JK-16090', Customer Name='Juliana Krohn', Segment='Consumer', City='Uppsala', State='Uppsala', Country='Sweden', Region='North', Product ID='TEC-PH-10001963', Category='Technology', Sub-Category='Phones', Product Name='Nokia Speaker Phone, Full Size', Sales='248.88', Quantity='4', Discount='0.5', Profit='-149.4'),\n",
       " Row(Row ID='345', Order ID='ES-2017-3432314', Order Date='14/03/2017', Ship Date='19/03/2017', Ship Mode='Second Class', Customer ID='MH-18025', Customer Name='Michelle Huthwaite', Segment='Consumer', City='Brandenburg', State='Brandenburg', Country='Germany', Region='Central', Product ID='FUR-FU-10000946', Category='Furniture', Sub-Category='Furnishings', Product Name='Advantus Stacking Tray, Durable', Sales='210.96', Quantity='8', Discount='0', Profit='56.88'),\n",
       " Row(Row ID='346', Order ID='IT-2017-5630655', Order Date='27/08/2017', Ship Date='03/09/2017', Ship Mode='Standard Class', Customer ID='ZC-21910', Customer Name='Zuschuss Carroll', Segment='Consumer', City='Lisbon', State='Lisboa', Country='Portugal', Region='South', Product ID='OFF-PA-10001971', Category='Office Supplies', Sub-Category='Paper', Product Name='Eaton Memo Slips, Premium', Sales='34.35', Quantity='5', Discount='0.5', Profit='-11.1'),\n",
       " Row(Row ID='347', Order ID='ES-2017-2939767', Order Date='13/04/2017', Ship Date='14/04/2017', Ship Mode='First Class', Customer ID='NC-18415', Customer Name='Nathan Cano', Segment='Consumer', City='Witten', State='North Rhine-Westphalia', Country='Germany', Region='Central', Product ID='OFF-BI-10004448', Category='Office Supplies', Sub-Category='Binders', Product Name='Ibico Binder, Clear', Sales='29.88', Quantity='2', Discount='0', Profit='2.64'),\n",
       " Row(Row ID='348', Order ID='IT-2017-2674196', Order Date='10/09/2017', Ship Date='13/09/2017', Ship Mode='First Class', Customer ID='JF-15565', Customer Name='Jill Fjeld', Segment='Consumer', City='Milan', State='Lombardy', Country='Italy', Region='South', Product ID='OFF-ST-10004996', Category='Office Supplies', Sub-Category='Storage', Product Name='Tenex Trays, Blue', Sales='130.104', Quantity='4', Discount='0.4', Profit='-41.256'),\n",
       " Row(Row ID='349', Order ID='IT-2017-2674196', Order Date='10/09/2017', Ship Date='13/09/2017', Ship Mode='First Class', Customer ID='JF-15565', Customer Name='Jill Fjeld', Segment='Consumer', City='Milan', State='Lombardy', Country='Italy', Region='South', Product ID='OFF-ST-10004035', Category='Office Supplies', Sub-Category='Storage', Product Name='Rogers Box, Wire Frame', Sales='55.296', Quantity='4', Discount='0.4', Profit='-25.824'),\n",
       " Row(Row ID='350', Order ID='IT-2017-2674196', Order Date='10/09/2017', Ship Date='13/09/2017', Ship Mode='First Class', Customer ID='JF-15565', Customer Name='Jill Fjeld', Segment='Consumer', City='Milan', State='Lombardy', Country='Italy', Region='South', Product ID='OFF-PA-10002941', Category='Office Supplies', Sub-Category='Paper', Product Name='Green Bar Computer Printout Paper, Premium', Sales='29.76', Quantity='1', Discount='0', Profit='12.78'),\n",
       " Row(Row ID='351', Order ID='IT-2016-1992463', Order Date='24/05/2016', Ship Date='31/05/2016', Ship Mode='Standard Class', Customer ID='NF-18595', Customer Name='Nicole Fjeld', Segment='Home Office', City='London', State='England', Country='United Kingdom', Region='North', Product ID='TEC-CO-10000270', Category='Technology', Sub-Category='Copiers', Product Name='Hewlett Fax Machine, High-Speed', Sales='572.616', Quantity='2', Discount='0.1', Profit='-0.024'),\n",
       " Row(Row ID='352', Order ID='ES-2015-5870268', Order Date='18/07/2015', Ship Date='20/07/2015', Ship Mode='First Class', Customer ID='BS-11365', Customer Name='Bill Shonely', Segment='Corporate', City='Saint-Brieuc', State='Brittany', Country='France', Region='Central', Product ID='OFF-PA-10002248', Category='Office Supplies', Sub-Category='Paper', Product Name='Green Bar Memo Slips, 8.5 x 11', Sales='210.9', Quantity='10', Discount='0', Profit='103.2'),\n",
       " Row(Row ID='353', Order ID='ES-2015-5870268', Order Date='18/07/2015', Ship Date='20/07/2015', Ship Mode='First Class', Customer ID='BS-11365', Customer Name='Bill Shonely', Segment='Corporate', City='Saint-Brieuc', State='Brittany', Country='France', Region='Central', Product ID='FUR-CH-10001726', Category='Furniture', Sub-Category='Chairs', Product Name='Office Star Steel Folding Chair, Adjustable', Sales='508.68', Quantity='6', Discount='0.1', Profit='214.74'),\n",
       " Row(Row ID='354', Order ID='ES-2015-5870268', Order Date='18/07/2015', Ship Date='20/07/2015', Ship Mode='First Class', Customer ID='BS-11365', Customer Name='Bill Shonely', Segment='Corporate', City='Saint-Brieuc', State='Brittany', Country='France', Region='Central', Product ID='TEC-MA-10000161', Category='Technology', Sub-Category='Machines', Product Name='Okidata Inkjet, Wireless', Sales='2402.865', Quantity='9', Discount='0.15', Profit='763.155'),\n",
       " Row(Row ID='355', Order ID='ES-2017-5547121', Order Date='18/12/2017', Ship Date='21/12/2017', Ship Mode='First Class', Customer ID='JF-15355', Customer Name='Jay Fein', Segment='Consumer', City='Trapani', State='Sicily', Country='Italy', Region='South', Product ID='TEC-PH-10004707', Category='Technology', Sub-Category='Phones', Product Name='Samsung Signal Booster, Cordless', Sales='250.992', Quantity='3', Discount='0.4', Profit='4.122'),\n",
       " Row(Row ID='356', Order ID='ES-2017-5547121', Order Date='18/12/2017', Ship Date='21/12/2017', Ship Mode='First Class', Customer ID='JF-15355', Customer Name='Jay Fein', Segment='Consumer', City='Trapani', State='Sicily', Country='Italy', Region='South', Product ID='OFF-ST-10002905', Category='Office Supplies', Sub-Category='Storage', Product Name='Rogers Box, Single Width', Sales='43.2', Quantity='3', Discount='0.4', Profit='-20.16'),\n",
       " Row(Row ID='357', Order ID='ES-2017-5547121', Order Date='18/12/2017', Ship Date='21/12/2017', Ship Mode='First Class', Customer ID='JF-15355', Customer Name='Jay Fein', Segment='Consumer', City='Trapani', State='Sicily', Country='Italy', Region='South', Product ID='OFF-ST-10000695', Category='Office Supplies', Sub-Category='Storage', Product Name='Rogers Lockers, Wire Frame', Sales='632.07', Quantity='5', Discount='0.4', Profit='-158.13'),\n",
       " Row(Row ID='358', Order ID='ES-2017-5547121', Order Date='18/12/2017', Ship Date='21/12/2017', Ship Mode='First Class', Customer ID='JF-15355', Customer Name='Jay Fein', Segment='Consumer', City='Trapani', State='Sicily', Country='Italy', Region='South', Product ID='OFF-ST-10003956', Category='Office Supplies', Sub-Category='Storage', Product Name='Rogers Trays, Single Width', Sales='185.13', Quantity='5', Discount='0.4', Profit='-101.97'),\n",
       " Row(Row ID='359', Order ID='ES-2014-3003511', Order Date='15/03/2014', Ship Date='19/03/2014', Ship Mode='Standard Class', Customer ID='CM-11815', Customer Name='Candace McMahon', Segment='Corporate', City='Berlin', State='Berlin', Country='Germany', Region='Central', Product ID='TEC-AC-10004808', Category='Technology', Sub-Category='Accessories', Product Name='Memorex Router, Erganomic', Sales='219.618', Quantity='1', Discount='0.1', Profit='48.798'),\n",
       " Row(Row ID='360', Order ID='ES-2017-5485209', Order Date='24/10/2017', Ship Date='27/10/2017', Ship Mode='Second Class', Customer ID='CS-11845', Customer Name='Cari Sayre', Segment='Corporate', City='Munich', State='Bavaria', Country='Germany', Region='Central', Product ID='OFF-SU-10000810', Category='Office Supplies', Sub-Category='Supplies', Product Name='Kleencut Letter Opener, Steel', Sales='71.28', Quantity='3', Discount='0', Profit='17.82'),\n",
       " Row(Row ID='361', Order ID='ES-2016-3065153', Order Date='13/03/2016', Ship Date='17/03/2016', Ship Mode='Standard Class', Customer ID='CV-12295', Customer Name='Christina VanderZanden', Segment='Consumer', City='Poole', State='England', Country='United Kingdom', Region='North', Product ID='OFF-BI-10003114', Category='Office Supplies', Sub-Category='Binders', Product Name='Ibico Hole Reinforcements, Economy', Sales='13.98', Quantity='2', Discount='0', Profit='6.84'),\n",
       " Row(Row ID='362', Order ID='ES-2016-3065153', Order Date='13/03/2016', Ship Date='17/03/2016', Ship Mode='Standard Class', Customer ID='CV-12295', Customer Name='Christina VanderZanden', Segment='Consumer', City='Poole', State='England', Country='United Kingdom', Region='North', Product ID='OFF-EN-10003630', Category='Office Supplies', Sub-Category='Envelopes', Product Name='GlobeWeis Business Envelopes, Set of 50', Sales='86.7', Quantity='5', Discount='0', Profit='23.4'),\n",
       " Row(Row ID='363', Order ID='ES-2016-1484456', Order Date='11/03/2016', Ship Date='18/03/2016', Ship Mode='Standard Class', Customer ID='BM-11140', Customer Name='Becky Martin', Segment='Consumer', City='Evry', State='Ile-de-France', Country='France', Region='Central', Product ID='OFF-EN-10003962', Category='Office Supplies', Sub-Category='Envelopes', Product Name='GlobeWeis Clasp Envelope, Set of 50', Sales='29.7', Quantity='3', Discount='0', Profit='11.88'),\n",
       " Row(Row ID='364', Order ID='ES-2017-5400129', Order Date='10/09/2017', Ship Date='14/09/2017', Ship Mode='Standard Class', Customer ID='MH-17620', Customer Name='Matt Hagelstein', Segment='Corporate', City='Herford', State='North Rhine-Westphalia', Country='Germany', Region='Central', Product ID='TEC-AC-10004808', Category='Technology', Sub-Category='Accessories', Product Name='Memorex Router, Erganomic', Sales='732.06', Quantity='3', Discount='0', Profit='219.6'),\n",
       " Row(Row ID='365', Order ID='ES-2016-3098610', Order Date='13/03/2016', Ship Date='18/03/2016', Ship Mode='Second Class', Customer ID='DK-12985', Customer Name='Darren Koutras', Segment='Consumer', City='Lippstadt', State='North Rhine-Westphalia', Country='Germany', Region='Central', Product ID='OFF-PA-10004746', Category='Office Supplies', Sub-Category='Paper', Product Name='SanDisk Memo Slips, 8.5 x 11', Sales='63.36', Quantity='3', Discount='0', Profit='10.08'),\n",
       " Row(Row ID='366', Order ID='ES-2016-3098610', Order Date='13/03/2016', Ship Date='18/03/2016', Ship Mode='Second Class', Customer ID='DK-12985', Customer Name='Darren Koutras', Segment='Consumer', City='Lippstadt', State='North Rhine-Westphalia', Country='Germany', Region='Central', Product ID='OFF-BI-10000341', Category='Office Supplies', Sub-Category='Binders', Product Name='Ibico Binding Machine, Recycled', Sales='258.9', Quantity='5', Discount='0', Profit='46.5'),\n",
       " Row(Row ID='367', Order ID='ES-2016-3098610', Order Date='13/03/2016', Ship Date='18/03/2016', Ship Mode='Second Class', Customer ID='DK-12985', Customer Name='Darren Koutras', Segment='Consumer', City='Lippstadt', State='North Rhine-Westphalia', Country='Germany', Region='Central', Product ID='FUR-CH-10001674', Category='Furniture', Sub-Category='Chairs', Product Name='Office Star Chairmat, Adjustable', Sales='245.916', Quantity='4', Discount='0.1', Profit='79.236'),\n",
       " Row(Row ID='368', Order ID='IT-2014-5663038', Order Date='15/09/2014', Ship Date='19/09/2014', Ship Mode='Standard Class', Customer ID='BD-11500', Customer Name='Bradley Drucker', Segment='Consumer', City='Aulnay-sous-Bois', State='Ile-de-France', Country='France', Region='Central', Product ID='TEC-CO-10000620', Category='Technology', Sub-Category='Copiers', Product Name='Brother Wireless Fax, Digital', Sales='965.0475', Quantity='3', Discount='0.15', Profit='-68.1525'),\n",
       " Row(Row ID='369', Order ID='ES-2016-4180252', Order Date='13/02/2016', Ship Date='15/02/2016', Ship Mode='First Class', Customer ID='BM-11140', Customer Name='Becky Martin', Segment='Consumer', City='Haguenau', State='Alsace-Champagne-Ardenne-Lorraine', Country='France', Region='Central', Product ID='TEC-MA-10002268', Category='Technology', Sub-Category='Machines', Product Name='StarTech Receipt Printer, White', Sales='277.9245', Quantity='3', Discount='0.15', Profit='62.1045'),\n",
       " Row(Row ID='370', Order ID='IT-2016-3395178', Order Date='24/12/2016', Ship Date='30/12/2016', Ship Mode='Standard Class', Customer ID='PF-19165', Customer Name='Philip Fox', Segment='Consumer', City='Munich', State='Bavaria', Country='Germany', Region='Central', Product ID='OFF-ST-10003785', Category='Office Supplies', Sub-Category='Storage', Product Name='Eldon Lockers, Blue', Sales='356.238', Quantity='2', Discount='0.1', Profit='-0.042'),\n",
       " Row(Row ID='371', Order ID='IT-2016-3395178', Order Date='24/12/2016', Ship Date='30/12/2016', Ship Mode='Standard Class', Customer ID='PF-19165', Customer Name='Philip Fox', Segment='Consumer', City='Munich', State='Bavaria', Country='Germany', Region='Central', Product ID='TEC-AC-10004341', Category='Technology', Sub-Category='Accessories', Product Name='Belkin Mouse, USB', Sales='40.92', Quantity='1', Discount='0', Profit='6.12'),\n",
       " Row(Row ID='372', Order ID='IT-2016-1127161', Order Date='22/06/2016', Ship Date='29/06/2016', Ship Mode='Standard Class', Customer ID='EN-13780', Customer Name='Edward Nazzal', Segment='Consumer', City='Saint-Nazaire', State='Pays de la Loire', Country='France', Region='Central', Product ID='TEC-CO-10002916', Category='Technology', Sub-Category='Copiers', Product Name='Hewlett Ink, Color', Sales='382.806', Quantity='3', Discount='0.15', Profit='-4.554'),\n",
       " Row(Row ID='373', Order ID='ES-2014-1712442', Order Date='17/08/2014', Ship Date='22/08/2014', Ship Mode='Standard Class', Customer ID='AM-10360', Customer Name='Alice McCarthy', Segment='Corporate', City='Harrogate', State='England', Country='United Kingdom', Region='North', Product ID='OFF-AR-10001599', Category='Office Supplies', Sub-Category='Art', Product Name='Binney & Smith Canvas, Blue', Sales='205.44', Quantity='4', Discount='0', Profit='39'),\n",
       " Row(Row ID='374', Order ID='ES-2014-1712442', Order Date='17/08/2014', Ship Date='22/08/2014', Ship Mode='Standard Class', Customer ID='AM-10360', Customer Name='Alice McCarthy', Segment='Corporate', City='Harrogate', State='England', Country='United Kingdom', Region='North', Product ID='OFF-ST-10002905', Category='Office Supplies', Sub-Category='Storage', Product Name='Rogers Box, Single Width', Sales='48', Quantity='2', Discount='0', Profit='5.76'),\n",
       " Row(Row ID='375', Order ID='ES-2014-1712442', Order Date='17/08/2014', Ship Date='22/08/2014', Ship Mode='Standard Class', Customer ID='AM-10360', Customer Name='Alice McCarthy', Segment='Corporate', City='Harrogate', State='England', Country='United Kingdom', Region='North', Product ID='OFF-BI-10001055', Category='Office Supplies', Sub-Category='Binders', Product Name='Wilson Jones Hole Reinforcements, Durable', Sales='12.06', Quantity='2', Discount='0', Profit='3.72'),\n",
       " Row(Row ID='376', Order ID='ES-2014-1712442', Order Date='17/08/2014', Ship Date='22/08/2014', Ship Mode='Standard Class', Customer ID='AM-10360', Customer Name='Alice McCarthy', Segment='Corporate', City='Harrogate', State='England', Country='United Kingdom', Region='North', Product ID='TEC-PH-10001396', Category='Technology', Sub-Category='Phones', Product Name='Nokia Smart Phone, Cordless', Sales='4453.05', Quantity='7', Discount='0', Profit='1424.85'),\n",
       " Row(Row ID='377', Order ID='ES-2014-1712442', Order Date='17/08/2014', Ship Date='22/08/2014', Ship Mode='Standard Class', Customer ID='AM-10360', Customer Name='Alice McCarthy', Segment='Corporate', City='Harrogate', State='England', Country='United Kingdom', Region='North', Product ID='OFF-ST-10001478', Category='Office Supplies', Sub-Category='Storage', Product Name='Tenex File Cart, Single Width', Sales='268.32', Quantity='2', Discount='0', Profit='24.12'),\n",
       " Row(Row ID='378', Order ID='ES-2017-2968300', Order Date='18/04/2017', Ship Date='20/04/2017', Ship Mode='First Class', Customer ID='GR-14560', Customer Name='Georgia Rosenberg', Segment='Corporate', City='Ermont', State='Ile-de-France', Country='France', Region='Central', Product ID='FUR-FU-10004049', Category='Furniture', Sub-Category='Furnishings', Product Name='Eldon Light Bulb, Erganomic', Sales='95.28', Quantity='4', Discount='0', Profit='11.4'),\n",
       " Row(Row ID='379', Order ID='ES-2017-2968300', Order Date='18/04/2017', Ship Date='20/04/2017', Ship Mode='First Class', Customer ID='GR-14560', Customer Name='Georgia Rosenberg', Segment='Corporate', City='Ermont', State='Ile-de-France', Country='France', Region='Central', Product ID='OFF-ST-10003931', Category='Office Supplies', Sub-Category='Storage', Product Name='Smead Trays, Wire Frame', Sales='128.385', Quantity='3', Discount='0.1', Profit='4.275'),\n",
       " Row(Row ID='380', Order ID='ES-2015-4633993', Order Date='29/09/2015', Ship Date='02/10/2015', Ship Mode='Second Class', Customer ID='BT-11440', Customer Name='Bobby Trafton', Segment='Consumer', City='Colmar', State='Alsace-Champagne-Ardenne-Lorraine', Country='France', Region='Central', Product ID='OFF-ST-10000695', Category='Office Supplies', Sub-Category='Storage', Product Name='Rogers Lockers, Wire Frame', Sales='379.242', Quantity='2', Discount='0.1', Profit='63.162'),\n",
       " Row(Row ID='381', Order ID='IT-2015-5883185', Order Date='05/10/2015', Ship Date='05/10/2015', Ship Mode='Same Day', Customer ID='KC-16540', Customer Name='Kelly Collister', Segment='Consumer', City='Palma de Mallorca', State='Balearic Islands', Country='Spain', Region='South', Product ID='TEC-MA-10003923', Category='Technology', Sub-Category='Machines', Product Name='Okidata Receipt Printer, Durable', Sales='332.181', Quantity='3', Discount='0.1', Profit='-22.149'),\n",
       " Row(Row ID='382', Order ID='IT-2015-5883185', Order Date='05/10/2015', Ship Date='05/10/2015', Ship Mode='Same Day', Customer ID='KC-16540', Customer Name='Kelly Collister', Segment='Consumer', City='Palma de Mallorca', State='Balearic Islands', Country='Spain', Region='South', Product ID='TEC-AC-10001402', Category='Technology', Sub-Category='Accessories', Product Name='Memorex Numeric Keypad, Bluetooth', Sales='136.26', Quantity='3', Discount='0', Profit='51.75'),\n",
       " Row(Row ID='383', Order ID='IT-2017-1331498', Order Date='16/08/2017', Ship Date='21/08/2017', Ship Mode='Standard Class', Customer ID='CY-12745', Customer Name='Craig Yedwab', Segment='Corporate', City='Alphen aan den Rijn', State='South Holland', Country='Netherlands', Region='Central', Product ID='OFF-EN-10003177', Category='Office Supplies', Sub-Category='Envelopes', Product Name='Kraft Interoffice Envelope, Recycled', Sales='114.3', Quantity='5', Discount='0.5', Profit='-39'),\n",
       " Row(Row ID='384', Order ID='IT-2017-4317175', Order Date='09/05/2017', Ship Date='14/05/2017', Ship Mode='Standard Class', Customer ID='SH-20635', Customer Name='Stefanie Holloman', Segment='Corporate', City='Stockholm', State='Stockholm', Country='Sweden', Region='North', Product ID='OFF-PA-10004761', Category='Office Supplies', Sub-Category='Paper', Product Name='Green Bar Memo Slips, Premium', Sales='59.325', Quantity='7', Discount='0.5', Profit='-46.305'),\n",
       " Row(Row ID='385', Order ID='IT-2017-4317175', Order Date='09/05/2017', Ship Date='14/05/2017', Ship Mode='Standard Class', Customer ID='SH-20635', Customer Name='Stefanie Holloman', Segment='Corporate', City='Stockholm', State='Stockholm', Country='Sweden', Region='North', Product ID='OFF-EN-10004649', Category='Office Supplies', Sub-Category='Envelopes', Product Name='Ames Mailers, Recycled', Sales='69.3', Quantity='4', Discount='0.5', Profit='-66.54'),\n",
       " Row(Row ID='386', Order ID='IT-2017-3734233', Order Date='26/08/2017', Ship Date='30/08/2017', Ship Mode='Standard Class', Customer ID='CS-12490', Customer Name='Cindy Schnelling', Segment='Corporate', City='Castellammare di Stabia', State='Campania', Country='Italy', Region='South', Product ID='FUR-CH-10000966', Category='Furniture', Sub-Category='Chairs', Product Name='Harbour Creations Chairmat, Set of Two', Sales='29.7', Quantity='1', Discount='0.6', Profit='-34.92'),\n",
       " Row(Row ID='387', Order ID='ES-2017-1237764', Order Date='30/10/2017', Ship Date='04/11/2017', Ship Mode='Standard Class', Customer ID='NS-18505', Customer Name='Neola Schneider', Segment='Consumer', City='Belfort', State='Bourgogne-Franche-Comté', Country='France', Region='Central', Product ID='OFF-ST-10000486', Category='Office Supplies', Sub-Category='Storage', Product Name='Rogers Trays, Industrial', Sales='279.72', Quantity='5', Discount='0.1', Profit='93.12'),\n",
       " Row(Row ID='388', Order ID='ES-2017-1237764', Order Date='30/10/2017', Ship Date='04/11/2017', Ship Mode='Standard Class', Customer ID='NS-18505', Customer Name='Neola Schneider', Segment='Consumer', City='Belfort', State='Bourgogne-Franche-Comté', Country='France', Region='Central', Product ID='OFF-AR-10002116', Category='Office Supplies', Sub-Category='Art', Product Name='BIC Pens, Fluorescent', Sales='46.62', Quantity='3', Discount='0', Profit='15.3'),\n",
       " Row(Row ID='389', Order ID='ES-2017-1237764', Order Date='30/10/2017', Ship Date='04/11/2017', Ship Mode='Standard Class', Customer ID='NS-18505', Customer Name='Neola Schneider', Segment='Consumer', City='Belfort', State='Bourgogne-Franche-Comté', Country='France', Region='Central', Product ID='FUR-TA-10000052', Category='Furniture', Sub-Category='Tables', Product Name='Hon Training Table, Adjustable Height', Sales='435.357', Quantity='2', Discount='0.35', Profit='40.137'),\n",
       " Row(Row ID='390', Order ID='ES-2017-1237764', Order Date='30/10/2017', Ship Date='04/11/2017', Ship Mode='Standard Class', Customer ID='NS-18505', Customer Name='Neola Schneider', Segment='Consumer', City='Belfort', State='Bourgogne-Franche-Comté', Country='France', Region='Central', Product ID='TEC-MA-10004772', Category='Technology', Sub-Category='Machines', Product Name='Konica Inkjet, White', Sales='528.003', Quantity='2', Discount='0.15', Profit='142.863'),\n",
       " Row(Row ID='391', Order ID='ES-2017-1237764', Order Date='30/10/2017', Ship Date='04/11/2017', Ship Mode='Standard Class', Customer ID='NS-18505', Customer Name='Neola Schneider', Segment='Consumer', City='Belfort', State='Bourgogne-Franche-Comté', Country='France', Region='Central', Product ID='OFF-FA-10004339', Category='Office Supplies', Sub-Category='Fasteners', Product Name='Stockwell Staples, Metal', Sales='94.77', Quantity='9', Discount='0', Profit='25.38'),\n",
       " Row(Row ID='392', Order ID='ES-2017-1237764', Order Date='30/10/2017', Ship Date='04/11/2017', Ship Mode='Standard Class', Customer ID='NS-18505', Customer Name='Neola Schneider', Segment='Consumer', City='Belfort', State='Bourgogne-Franche-Comté', Country='France', Region='Central', Product ID='OFF-ST-10001142', Category='Office Supplies', Sub-Category='Storage', Product Name='Smead Folders, Wire Frame', Sales='29.808', Quantity='2', Discount='0.1', Profit='-1.332'),\n",
       " Row(Row ID='393', Order ID='ES-2017-1237764', Order Date='30/10/2017', Ship Date='04/11/2017', Ship Mode='Standard Class', Customer ID='NS-18505', Customer Name='Neola Schneider', Segment='Consumer', City='Belfort', State='Bourgogne-Franche-Comté', Country='France', Region='Central', Product ID='TEC-MA-10004933', Category='Technology', Sub-Category='Machines', Product Name='Konica Phone, Wireless', Sales='146.523', Quantity='2', Discount='0.15', Profit='8.583'),\n",
       " Row(Row ID='394', Order ID='ES-2017-1931896', Order Date='23/12/2017', Ship Date='28/12/2017', Ship Mode='Standard Class', Customer ID='GP-14740', Customer Name='Guy Phonely', Segment='Corporate', City='Burnley', State='England', Country='United Kingdom', Region='North', Product ID='TEC-PH-10002907', Category='Technology', Sub-Category='Phones', Product Name='Motorola Headset, VoIP', Sales='478.98', Quantity='6', Discount='0', Profit='100.44'),\n",
       " Row(Row ID='395', Order ID='ES-2015-2506839', Order Date='11/09/2015', Ship Date='12/09/2015', Ship Mode='First Class', Customer ID='EK-13795', Customer Name='Eileen Kiefer', Segment='Home Office', City='Caen', State='Normandy', Country='France', Region='Central', Product ID='OFF-AR-10000703', Category='Office Supplies', Sub-Category='Art', Product Name='BIC Pens, Water Color', Sales='69.84', Quantity='4', Discount='0', Profit='28.56'),\n",
       " Row(Row ID='396', Order ID='ES-2015-2506839', Order Date='11/09/2015', Ship Date='12/09/2015', Ship Mode='First Class', Customer ID='EK-13795', Customer Name='Eileen Kiefer', Segment='Home Office', City='Caen', State='Normandy', Country='France', Region='Central', Product ID='OFF-BI-10001249', Category='Office Supplies', Sub-Category='Binders', Product Name='Acco Hole Reinforcements, Recycled', Sales='35.1', Quantity='5', Discount='0', Profit='17.55'),\n",
       " Row(Row ID='397', Order ID='ES-2015-2506839', Order Date='11/09/2015', Ship Date='12/09/2015', Ship Mode='First Class', Customer ID='EK-13795', Customer Name='Eileen Kiefer', Segment='Home Office', City='Caen', State='Normandy', Country='France', Region='Central', Product ID='OFF-FA-10002895', Category='Office Supplies', Sub-Category='Fasteners', Product Name='Accos Staples, 12 Pack', Sales='51.9', Quantity='5', Discount='0', Profit='10.8'),\n",
       " Row(Row ID='398', Order ID='ES-2016-3711061', Order Date='06/02/2016', Ship Date='10/02/2016', Ship Mode='Standard Class', Customer ID='SC-20680', Customer Name='Steve Carroll', Segment='Home Office', City='Linz', State='Upper Austria', Country='Austria', Region='Central', Product ID='OFF-BI-10003650', Category='Office Supplies', Sub-Category='Binders', Product Name='Ibico Index Tab, Clear', Sales='44.55', Quantity='5', Discount='0', Profit='7.95'),\n",
       " Row(Row ID='399', Order ID='ES-2016-5905999', Order Date='02/04/2016', Ship Date='07/04/2016', Ship Mode='Standard Class', Customer ID='BE-11455', Customer Name='Brad Eason', Segment='Home Office', City='Salzburg', State='Salzburg', Country='Austria', Region='Central', Product ID='OFF-AR-10004492', Category='Office Supplies', Sub-Category='Art', Product Name='BIC Canvas, Blue', Sales='107.4', Quantity='2', Discount='0', Profit='8.58'),\n",
       " Row(Row ID='400', Order ID='ES-2017-1817870', Order Date='16/12/2017', Ship Date='19/12/2017', Ship Mode='Second Class', Customer ID='IM-15055', Customer Name='Ionia McGrath', Segment='Consumer', City='Alicante', State='Valenciana', Country='Spain', Region='South', Product ID='OFF-ST-10001358', Category='Office Supplies', Sub-Category='Storage', Product Name='Rogers Folders, Wire Frame', Sales='53.568', Quantity='2', Discount='0.1', Profit='0.588'),\n",
       " Row(Row ID='401', Order ID='ES-2014-2673474', Order Date='19/10/2014', Ship Date='23/10/2014', Ship Mode='Second Class', Customer ID='RM-19750', Customer Name='Roland Murray', Segment='Consumer', City='Hamburg', State='Hamburg', Country='Germany', Region='Central', Product ID='TEC-PH-10004601', Category='Technology', Sub-Category='Phones', Product Name='Nokia Audio Dock, with Caller ID', Sales='1333.92', Quantity='8', Discount='0', Profit='199.92'),\n",
       " Row(Row ID='402', Order ID='ES-2015-1290570', Order Date='22/11/2015', Ship Date='28/11/2015', Ship Mode='Standard Class', Customer ID='BD-11500', Customer Name='Bradley Drucker', Segment='Consumer', City='London', State='England', Country='United Kingdom', Region='North', Product ID='OFF-ST-10002905', Category='Office Supplies', Sub-Category='Storage', Product Name='Rogers Box, Single Width', Sales='43.2', Quantity='2', Discount='0.1', Profit='0.96'),\n",
       " Row(Row ID='403', Order ID='ES-2017-2420090', Order Date='13/06/2017', Ship Date='20/06/2017', Ship Mode='Standard Class', Customer ID='MJ-17740', Customer Name='Max Jones', Segment='Consumer', City='Marseille', State=\"Provence-Alpes-Côte d'Azur\", Country='France', Region='Central', Product ID='OFF-AR-10000124', Category='Office Supplies', Sub-Category='Art', Product Name='Binney & Smith Highlighters, Fluorescent', Sales='53.55', Quantity='3', Discount='0', Profit='4.23'),\n",
       " Row(Row ID='404', Order ID='ES-2014-5496709', Order Date='10/09/2014', Ship Date='17/09/2014', Ship Mode='Standard Class', Customer ID='CD-12790', Customer Name='Cynthia Delaney', Segment='Home Office', City='Rome', State='Lazio', Country='Italy', Region='South', Product ID='OFF-FA-10000834', Category='Office Supplies', Sub-Category='Fasteners', Product Name='Advantus Staples, Assorted Sizes', Sales='16.62', Quantity='2', Discount='0', Profit='6.96'),\n",
       " Row(Row ID='405', Order ID='IT-2017-4429259', Order Date='26/07/2017', Ship Date='31/07/2017', Ship Mode='Standard Class', Customer ID='ED-13885', Customer Name='Emily Ducich', Segment='Home Office', City='Montfermeil', State='Ile-de-France', Country='France', Region='Central', Product ID='OFF-ST-10003956', Category='Office Supplies', Sub-Category='Storage', Product Name='Rogers Trays, Single Width', Sales='277.695', Quantity='5', Discount='0.1', Profit='-9.405'),\n",
       " Row(Row ID='406', Order ID='IT-2017-4429259', Order Date='26/07/2017', Ship Date='31/07/2017', Ship Mode='Standard Class', Customer ID='ED-13885', Customer Name='Emily Ducich', Segment='Home Office', City='Montfermeil', State='Ile-de-France', Country='France', Region='Central', Product ID='OFF-FA-10002017', Category='Office Supplies', Sub-Category='Fasteners', Product Name='Stockwell Paper Clips, Assorted Sizes', Sales='54.75', Quantity='5', Discount='0', Profit='21.3'),\n",
       " Row(Row ID='407', Order ID='IT-2017-4429259', Order Date='26/07/2017', Ship Date='31/07/2017', Ship Mode='Standard Class', Customer ID='ED-13885', Customer Name='Emily Ducich', Segment='Home Office', City='Montfermeil', State='Ile-de-France', Country='France', Region='Central', Product ID='OFF-LA-10001265', Category='Office Supplies', Sub-Category='Labels', Product Name='Hon File Folder Labels, Alphabetical', Sales='25.38', Quantity='3', Discount='0', Profit='9.63'),\n",
       " Row(Row ID='408', Order ID='ES-2017-2484644', Order Date='18/09/2017', Ship Date='23/09/2017', Ship Mode='Standard Class', Customer ID='AR-10345', Customer Name='Alex Russell', Segment='Corporate', City='Vienna', State='Vienna', Country='Austria', Region='Central', Product ID='OFF-LA-10001402', Category='Office Supplies', Sub-Category='Labels', Product Name='Smead Color Coded Labels, 5000 Label Set', Sales='26.88', Quantity='2', Discount='0', Profit='4.56'),\n",
       " Row(Row ID='409', Order ID='ES-2017-1515279', Order Date='08/08/2017', Ship Date='14/08/2017', Ship Mode='Standard Class', Customer ID='EL-13735', Customer Name='Ed Ludwig', Segment='Home Office', City='Vitoria', State='Basque Country', Country='Spain', Region='South', Product ID='OFF-AP-10004372', Category='Office Supplies', Sub-Category='Appliances', Product Name='Hoover Coffee Grinder, White', Sales='267.72', Quantity='4', Discount='0', Profit='7.92'),\n",
       " Row(Row ID='410', Order ID='IT-2017-5044898', Order Date='26/09/2017', Ship Date='28/09/2017', Ship Mode='First Class', Customer ID='DV-13045', Customer Name='Darrin Van Huff', Segment='Corporate', City='Sittard', State='Limburg', Country='Netherlands', Region='Central', Product ID='TEC-AC-10004880', Category='Technology', Sub-Category='Accessories', Product Name='Logitech Keyboard, Programmable', Sales='73.95', Quantity='2', Discount='0.5', Profit='-59.19'),\n",
       " Row(Row ID='411', Order ID='IT-2017-5044898', Order Date='26/09/2017', Ship Date='28/09/2017', Ship Mode='First Class', Customer ID='DV-13045', Customer Name='Darrin Van Huff', Segment='Corporate', City='Sittard', State='Limburg', Country='Netherlands', Region='Central', Product ID='OFF-EN-10001991', Category='Office Supplies', Sub-Category='Envelopes', Product Name='Kraft Clasp Envelope, Set of 50', Sales='9', Quantity='2', Discount='0.5', Profit='-9'),\n",
       " Row(Row ID='412', Order ID='ES-2017-2689172', Order Date='30/06/2017', Ship Date='04/07/2017', Ship Mode='Standard Class', Customer ID='CC-12370', Customer Name='Christopher Conant', Segment='Consumer', City='Aulnay-sous-Bois', State='Ile-de-France', Country='France', Region='Central', Product ID='OFF-ST-10002437', Category='Office Supplies', Sub-Category='Storage', Product Name='Eldon Trays, Blue', Sales='86.346', Quantity='2', Discount='0.1', Profit='7.626'),\n",
       " Row(Row ID='413', Order ID='ES-2017-2689172', Order Date='30/06/2017', Ship Date='04/07/2017', Ship Mode='Standard Class', Customer ID='CC-12370', Customer Name='Christopher Conant', Segment='Consumer', City='Aulnay-sous-Bois', State='Ile-de-France', Country='France', Region='Central', Product ID='OFF-AR-10002485', Category='Office Supplies', Sub-Category='Art', Product Name='Boston Markers, Easy-Erase', Sales='79.92', Quantity='3', Discount='0', Profit='7.11'),\n",
       " Row(Row ID='414', Order ID='ES-2017-2689172', Order Date='30/06/2017', Ship Date='04/07/2017', Ship Mode='Standard Class', Customer ID='CC-12370', Customer Name='Christopher Conant', Segment='Consumer', City='Aulnay-sous-Bois', State='Ile-de-France', Country='France', Region='Central', Product ID='OFF-PA-10003105', Category='Office Supplies', Sub-Category='Paper', Product Name='SanDisk Parchment Paper, Premium', Sales='16.71', Quantity='1', Discount='0', Profit='3.15'),\n",
       " Row(Row ID='415', Order ID='ES-2017-2591069', Order Date='29/10/2017', Ship Date='02/11/2017', Ship Mode='Standard Class', Customer ID='PO-18865', Customer Name=\"Patrick O'Donnell\", Segment='Consumer', City='Nancy', State='Alsace-Champagne-Ardenne-Lorraine', Country='France', Region='Central', Product ID='OFF-AR-10004303', Category='Office Supplies', Sub-Category='Art', Product Name='Stanley Markers, Blue', Sales='88.8', Quantity='4', Discount='0', Profit='7.92'),\n",
       " Row(Row ID='416', Order ID='ES-2017-2591069', Order Date='29/10/2017', Ship Date='02/11/2017', Ship Mode='Standard Class', Customer ID='PO-18865', Customer Name=\"Patrick O'Donnell\", Segment='Consumer', City='Nancy', State='Alsace-Champagne-Ardenne-Lorraine', Country='France', Region='Central', Product ID='TEC-CO-10004005', Category='Technology', Sub-Category='Copiers', Product Name='Sharp Copy Machine, Laser', Sales='1015.92', Quantity='5', Discount='0.15', Profit='-24.03'),\n",
       " Row(Row ID='417', Order ID='ES-2016-3066853', Order Date='07/05/2016', Ship Date='11/05/2016', Ship Mode='Standard Class', Customer ID='PO-19180', Customer Name='Philisse Overcash', Segment='Home Office', City='Arnsberg', State='North Rhine-Westphalia', Country='Germany', Region='Central', Product ID='OFF-BI-10002718', Category='Office Supplies', Sub-Category='Binders', Product Name='Avery Binder, Durable', Sales='43.2', Quantity='3', Discount='0', Profit='2.16'),\n",
       " Row(Row ID='418', Order ID='ES-2016-3066853', Order Date='07/05/2016', Ship Date='11/05/2016', Ship Mode='Standard Class', Customer ID='PO-19180', Customer Name='Philisse Overcash', Segment='Home Office', City='Arnsberg', State='North Rhine-Westphalia', Country='Germany', Region='Central', Product ID='OFF-FA-10001348', Category='Office Supplies', Sub-Category='Fasteners', Product Name='Accos Thumb Tacks, Metal', Sales='41.4', Quantity='3', Discount='0', Profit='7.83'),\n",
       " Row(Row ID='419', Order ID='ES-2016-3066853', Order Date='07/05/2016', Ship Date='11/05/2016', Ship Mode='Standard Class', Customer ID='PO-19180', Customer Name='Philisse Overcash', Segment='Home Office', City='Arnsberg', State='North Rhine-Westphalia', Country='Germany', Region='Central', Product ID='OFF-AR-10001898', Category='Office Supplies', Sub-Category='Art', Product Name='Binney & Smith Pencil Sharpener, Fluorescent', Sales='80.01', Quantity='3', Discount='0', Profit='3.15'),\n",
       " Row(Row ID='420', Order ID='ES-2016-1007331', Order Date='14/08/2016', Ship Date='18/08/2016', Ship Mode='Standard Class', Customer ID='CS-12400', Customer Name='Christopher Schild', Segment='Home Office', City='Bielefeld', State='North Rhine-Westphalia', Country='Germany', Region='Central', Product ID='OFF-FA-10001577', Category='Office Supplies', Sub-Category='Fasteners', Product Name='Stockwell Staples, Bulk Pack', Sales='21.6', Quantity='2', Discount='0', Profit='3.24'),\n",
       " Row(Row ID='421', Order ID='ES-2016-1007331', Order Date='14/08/2016', Ship Date='18/08/2016', Ship Mode='Standard Class', Customer ID='CS-12400', Customer Name='Christopher Schild', Segment='Home Office', City='Bielefeld', State='North Rhine-Westphalia', Country='Germany', Region='Central', Product ID='OFF-FA-10001113', Category='Office Supplies', Sub-Category='Fasteners', Product Name='OIC Push Pins, Assorted Sizes', Sales='24.72', Quantity='2', Discount='0', Profit='4.92'),\n",
       " Row(Row ID='422', Order ID='ES-2014-1640672', Order Date='02/02/2014', Ship Date='05/02/2014', Ship Mode='First Class', Customer ID='KH-16630', Customer Name='Ken Heidel', Segment='Corporate', City='Dresden', State='Saxony', Country='Germany', Region='Central', Product ID='TEC-PH-10001432', Category='Technology', Sub-Category='Phones', Product Name='Motorola Signal Booster, Cordless', Sales='583.92', Quantity='8', Discount='0.5', Profit='-58.56'),\n",
       " Row(Row ID='423', Order ID='ES-2014-1640672', Order Date='02/02/2014', Ship Date='05/02/2014', Ship Mode='First Class', Customer ID='KH-16630', Customer Name='Ken Heidel', Segment='Corporate', City='Dresden', State='Saxony', Country='Germany', Region='Central', Product ID='TEC-CO-10003534', Category='Technology', Sub-Category='Copiers', Product Name='HP Fax and Copier, Digital', Sales='86.265', Quantity='1', Discount='0.5', Profit='-0.015'),\n",
       " Row(Row ID='424', Order ID='ES-2014-1640672', Order Date='02/02/2014', Ship Date='05/02/2014', Ship Mode='First Class', Customer ID='KH-16630', Customer Name='Ken Heidel', Segment='Corporate', City='Dresden', State='Saxony', Country='Germany', Region='Central', Product ID='OFF-PA-10000908', Category='Office Supplies', Sub-Category='Paper', Product Name='Xerox Note Cards, Premium', Sales='13.185', Quantity='1', Discount='0.5', Profit='-7.935'),\n",
       " Row(Row ID='425', Order ID='ES-2017-5185744', Order Date='12/08/2017', Ship Date='15/08/2017', Ship Mode='First Class', Customer ID='MY-18295', Customer Name='Muhammed Yedwab', Segment='Corporate', City='Essen', State='North Rhine-Westphalia', Country='Germany', Region='Central', Product ID='OFF-LA-10002559', Category='Office Supplies', Sub-Category='Labels', Product Name='Smead File Folder Labels, Alphabetical', Sales='8.7', Quantity='1', Discount='0', Profit='3.99'),\n",
       " Row(Row ID='426', Order ID='ES-2017-5185744', Order Date='12/08/2017', Ship Date='15/08/2017', Ship Mode='First Class', Customer ID='MY-18295', Customer Name='Muhammed Yedwab', Segment='Corporate', City='Essen', State='North Rhine-Westphalia', Country='Germany', Region='Central', Product ID='OFF-BI-10000289', Category='Office Supplies', Sub-Category='Binders', Product Name='Wilson Jones Binder Covers, Recycled', Sales='23.1', Quantity='2', Discount='0', Profit='5.52'),\n",
       " Row(Row ID='427', Order ID='ES-2016-3340197', Order Date='21/08/2016', Ship Date='26/08/2016', Ship Mode='Second Class', Customer ID='RB-19570', Customer Name='Rob Beeghly', Segment='Consumer', City='Rochdale', State='England', Country='United Kingdom', Region='North', Product ID='OFF-LA-10001549', Category='Office Supplies', Sub-Category='Labels', Product Name='Harbour Creations Removable Labels, Adjustable', Sales='53.7', Quantity='5', Discount='0', Profit='21.45'),\n",
       " Row(Row ID='428', Order ID='ES-2016-3340197', Order Date='21/08/2016', Ship Date='26/08/2016', Ship Mode='Second Class', Customer ID='RB-19570', Customer Name='Rob Beeghly', Segment='Consumer', City='Rochdale', State='England', Country='United Kingdom', Region='North', Product ID='OFF-AR-10000980', Category='Office Supplies', Sub-Category='Art', Product Name='Sanford Pencil Sharpener, Water Color', Sales='26.1', Quantity='1', Discount='0', Profit='6.78'),\n",
       " Row(Row ID='429', Order ID='ES-2016-3688439', Order Date='13/03/2016', Ship Date='15/03/2016', Ship Mode='First Class', Customer ID='JL-15850', Customer Name='John Lucas', Segment='Consumer', City='Northampton', State='England', Country='United Kingdom', Region='North', Product ID='OFF-AR-10002113', Category='Office Supplies', Sub-Category='Art', Product Name='Boston Highlighters, Easy-Erase', Sales='57.42', Quantity='3', Discount='0', Profit='12.6'),\n",
       " Row(Row ID='430', Order ID='ES-2016-3688439', Order Date='13/03/2016', Ship Date='15/03/2016', Ship Mode='First Class', Customer ID='JL-15850', Customer Name='John Lucas', Segment='Consumer', City='Northampton', State='England', Country='United Kingdom', Region='North', Product ID='OFF-AR-10000659', Category='Office Supplies', Sub-Category='Art', Product Name='BIC Pencil Sharpener, Fluorescent', Sales='242.16', Quantity='8', Discount='0', Profit='82.32'),\n",
       " Row(Row ID='431', Order ID='ES-2015-2074353', Order Date='30/12/2015', Ship Date='02/01/2016', Ship Mode='First Class', Customer ID='Co-12640', Customer Name='Corey-Lock', Segment='Consumer', City='Marseille', State=\"Provence-Alpes-Côte d'Azur\", Country='France', Region='Central', Product ID='OFF-ST-10002539', Category='Office Supplies', Sub-Category='Storage', Product Name='Fellowes Shelving, Single Width', Sales='364.581', Quantity='7', Discount='0.1', Profit='64.701'),\n",
       " Row(Row ID='432', Order ID='ES-2016-1486678', Order Date='09/08/2016', Ship Date='12/08/2016', Ship Mode='Second Class', Customer ID='SC-20680', Customer Name='Steve Carroll', Segment='Home Office', City='Champigny-sur-Marne', State='Ile-de-France', Country='France', Region='Central', Product ID='OFF-AR-10001626', Category='Office Supplies', Sub-Category='Art', Product Name='BIC Pens, Blue', Sales='57.12', Quantity='4', Discount='0', Profit='6.24'),\n",
       " Row(Row ID='433', Order ID='ES-2017-3934686', Order Date='01/08/2017', Ship Date='06/08/2017', Ship Mode='Standard Class', Customer ID='CM-12235', Customer Name='Chris McAfee', Segment='Consumer', City='Cologne', State='North Rhine-Westphalia', Country='Germany', Region='Central', Product ID='OFF-PA-10003416', Category='Office Supplies', Sub-Category='Paper', Product Name='Enermax Note Cards, Multicolor', Sales='130.56', Quantity='4', Discount='0', Profit='27.36'),\n",
       " Row(Row ID='434', Order ID='IT-2015-5346950', Order Date='05/08/2015', Ship Date='11/08/2015', Ship Mode='Standard Class', Customer ID='KH-16690', Customer Name='Kristen Hastings', Segment='Corporate', City='Aulnay-sous-Bois', State='Ile-de-France', Country='France', Region='Central', Product ID='FUR-CH-10002212', Category='Furniture', Sub-Category='Chairs', Product Name='Novimex Swivel Stool, Adjustable', Sales='150.255', Quantity='1', Discount='0.1', Profit='-3.345'),\n",
       " Row(Row ID='435', Order ID='IT-2015-5346950', Order Date='05/08/2015', Ship Date='11/08/2015', Ship Mode='Standard Class', Customer ID='KH-16690', Customer Name='Kristen Hastings', Segment='Corporate', City='Aulnay-sous-Bois', State='Ile-de-France', Country='France', Region='Central', Product ID='OFF-LA-10004727', Category='Office Supplies', Sub-Category='Labels', Product Name='Hon File Folder Labels, Laser Printer Compatible', Sales='17.28', Quantity='2', Discount='0', Profit='2.04'),\n",
       " Row(Row ID='436', Order ID='IT-2015-5346950', Order Date='05/08/2015', Ship Date='11/08/2015', Ship Mode='Standard Class', Customer ID='KH-16690', Customer Name='Kristen Hastings', Segment='Corporate', City='Aulnay-sous-Bois', State='Ile-de-France', Country='France', Region='Central', Product ID='OFF-BI-10003281', Category='Office Supplies', Sub-Category='Binders', Product Name='Ibico Binder, Recycled', Sales='79.2', Quantity='5', Discount='0', Profit='6.3'),\n",
       " Row(Row ID='437', Order ID='IT-2015-5346950', Order Date='05/08/2015', Ship Date='11/08/2015', Ship Mode='Standard Class', Customer ID='KH-16690', Customer Name='Kristen Hastings', Segment='Corporate', City='Aulnay-sous-Bois', State='Ile-de-France', Country='France', Region='Central', Product ID='OFF-ST-10001195', Category='Office Supplies', Sub-Category='Storage', Product Name='Smead Box, Wire Frame', Sales='8.856', Quantity='1', Discount='0.1', Profit='0.666'),\n",
       " Row(Row ID='438', Order ID='IT-2015-5346950', Order Date='05/08/2015', Ship Date='11/08/2015', Ship Mode='Standard Class', Customer ID='KH-16690', Customer Name='Kristen Hastings', Segment='Corporate', City='Aulnay-sous-Bois', State='Ile-de-France', Country='France', Region='Central', Product ID='OFF-SU-10001657', Category='Office Supplies', Sub-Category='Supplies', Product Name='Acme Box Cutter, High Speed', Sales='226.8', Quantity='6', Discount='0', Profit='108.72'),\n",
       " Row(Row ID='439', Order ID='IT-2015-5346950', Order Date='05/08/2015', Ship Date='11/08/2015', Ship Mode='Standard Class', Customer ID='KH-16690', Customer Name='Kristen Hastings', Segment='Corporate', City='Aulnay-sous-Bois', State='Ile-de-France', Country='France', Region='Central', Product ID='OFF-ST-10004267', Category='Office Supplies', Sub-Category='Storage', Product Name='Smead File Cart, Single Width', Sales='462.348', Quantity='4', Discount='0.1', Profit='-46.332'),\n",
       " Row(Row ID='440', Order ID='ES-2016-1836661', Order Date='20/03/2016', Ship Date='24/03/2016', Ship Mode='Standard Class', Customer ID='LC-17050', Customer Name='Liz Carlisle', Segment='Consumer', City='Mainz', State='Rhineland-Palatinate', Country='Germany', Region='Central', Product ID='OFF-ST-10003018', Category='Office Supplies', Sub-Category='Storage', Product Name='Smead File Cart, Industrial', Sales='1155.6', Quantity='10', Discount='0.1', Profit='231'),\n",
       " Row(Row ID='441', Order ID='ES-2016-1836661', Order Date='20/03/2016', Ship Date='24/03/2016', Ship Mode='Standard Class', Customer ID='LC-17050', Customer Name='Liz Carlisle', Segment='Consumer', City='Mainz', State='Rhineland-Palatinate', Country='Germany', Region='Central', Product ID='OFF-EN-10001852', Category='Office Supplies', Sub-Category='Envelopes', Product Name='Cameo Manila Envelope, with clear poly window', Sales='213.78', Quantity='7', Discount='0', Profit='104.58'),\n",
       " Row(Row ID='442', Order ID='ES-2015-1760393', Order Date='02/06/2015', Ship Date='07/06/2015', Ship Mode='Standard Class', Customer ID='JB-15400', Customer Name='Jennifer Braxton', Segment='Corporate', City='Avignon', State=\"Provence-Alpes-Côte d'Azur\", Country='France', Region='Central', Product ID='OFF-SU-10004691', Category='Office Supplies', Sub-Category='Supplies', Product Name='Fiskars Scissors, Serrated', Sales='79.44', Quantity='4', Discount='0', Profit='35.64'),\n",
       " Row(Row ID='443', Order ID='ES-2015-1760393', Order Date='02/06/2015', Ship Date='07/06/2015', Ship Mode='Standard Class', Customer ID='JB-15400', Customer Name='Jennifer Braxton', Segment='Corporate', City='Avignon', State=\"Provence-Alpes-Côte d'Azur\", Country='France', Region='Central', Product ID='TEC-MA-10000161', Category='Technology', Sub-Category='Machines', Product Name='Konica Receipt Printer, Durable', Sales='312.0435', Quantity='3', Discount='0.15', Profit='51.3135'),\n",
       " Row(Row ID='444', Order ID='ES-2016-5448041', Order Date='20/01/2016', Ship Date='22/01/2016', Ship Mode='Second Class', Customer ID='JD-16150', Customer Name='Justin Deggeller', Segment='Corporate', City='Nuremberg', State='Bavaria', Country='Germany', Region='Central', Product ID='OFF-ST-10004191', Category='Office Supplies', Sub-Category='Storage', Product Name='Tenex Lockers, Blue', Sales='183.735', Quantity='1', Discount='0.1', Profit='32.655'),\n",
       " Row(Row ID='445', Order ID='ES-2016-5448041', Order Date='20/01/2016', Ship Date='22/01/2016', Ship Mode='Second Class', Customer ID='JD-16150', Customer Name='Justin Deggeller', Segment='Corporate', City='Nuremberg', State='Bavaria', Country='Germany', Region='Central', Product ID='OFF-BI-10002193', Category='Office Supplies', Sub-Category='Binders', Product Name='Wilson Jones Hole Reinforcements, Recycled', Sales='14.67', Quantity='3', Discount='0', Profit='3.51'),\n",
       " Row(Row ID='446', Order ID='ES-2014-2945927', Order Date='22/09/2014', Ship Date='24/09/2014', Ship Mode='First Class', Customer ID='PC-18745', Customer Name='Pamela Coakley', Segment='Corporate', City='Bolzano', State='Trentino-Alto Adige', Country='Italy', Region='South', Product ID='OFF-AR-10003113', Category='Office Supplies', Sub-Category='Art', Product Name='Binney & Smith Pens, Blue', Sales='35.82', Quantity='3', Discount='0', Profit='15.03'),\n",
       " Row(Row ID='447', Order ID='ES-2017-3986366', Order Date='11/07/2017', Ship Date='15/07/2017', Ship Mode='Standard Class', Customer ID='EM-13960', Customer Name='Eric Murdock', Segment='Consumer', City='Washington', State='England', Country='United Kingdom', Region='North', Product ID='OFF-BI-10004448', Category='Office Supplies', Sub-Category='Binders', Product Name='Ibico Binder, Clear', Sales='29.88', Quantity='2', Discount='0', Profit='2.64'),\n",
       " Row(Row ID='448', Order ID='ES-2017-3986366', Order Date='11/07/2017', Ship Date='15/07/2017', Ship Mode='Standard Class', Customer ID='EM-13960', Customer Name='Eric Murdock', Segment='Consumer', City='Washington', State='England', Country='United Kingdom', Region='North', Product ID='OFF-ST-10000648', Category='Office Supplies', Sub-Category='Storage', Product Name='Eldon File Cart, Industrial', Sales='1023.12', Quantity='8', Discount='0', Profit='122.64'),\n",
       " Row(Row ID='449', Order ID='ES-2017-3986366', Order Date='11/07/2017', Ship Date='15/07/2017', Ship Mode='Standard Class', Customer ID='EM-13960', Customer Name='Eric Murdock', Segment='Consumer', City='Washington', State='England', Country='United Kingdom', Region='North', Product ID='OFF-SU-10002342', Category='Office Supplies', Sub-Category='Supplies', Product Name='Kleencut Scissors, Steel', Sales='108.45', Quantity='5', Discount='0', Profit='6.45'),\n",
       " Row(Row ID='450', Order ID='ES-2014-3215372', Order Date='17/08/2014', Ship Date='18/08/2014', Ship Mode='First Class', Customer ID='AC-10420', Customer Name='Alyssa Crouse', Segment='Corporate', City='Sant Boi de Llobregat', State='Catalonia', Country='Spain', Region='South', Product ID='FUR-FU-10000295', Category='Furniture', Sub-Category='Furnishings', Product Name='Advantus Light Bulb, Durable', Sales='51.3', Quantity='3', Discount='0', Profit='12.24'),\n",
       " Row(Row ID='451', Order ID='IT-2014-5629016', Order Date='31/05/2014', Ship Date='03/06/2014', Ship Mode='First Class', Customer ID='TC-21295', Customer Name='Toby Carlisle', Segment='Consumer', City='Talence', State='Aquitaine-Limousin-Poitou-Charentes', Country='France', Region='Central', Product ID='FUR-TA-10000347', Category='Furniture', Sub-Category='Tables', Product Name='Hon Computer Table, Adjustable Height', Sales='2228.6355', Quantity='7', Discount='0.35', Profit='-754.4145'),\n",
       " Row(Row ID='452', Order ID='ES-2016-4670822', Order Date='22/11/2016', Ship Date='24/11/2016', Ship Mode='First Class', Customer ID='PV-18985', Customer Name='Paul Van Hugh', Segment='Home Office', City='Palaiseau', State='Ile-de-France', Country='France', Region='Central', Product ID='OFF-PA-10001686', Category='Office Supplies', Sub-Category='Paper', Product Name='SanDisk Memo Slips, Premium', Sales='203.76', Quantity='12', Discount='0', Profit='77.4'),\n",
       " Row(Row ID='453', Order ID='ES-2017-1766652', Order Date='09/08/2017', Ship Date='15/08/2017', Ship Mode='Standard Class', Customer ID='ML-17755', Customer Name='Max Ludwig', Segment='Home Office', City='Pertuis', State=\"Provence-Alpes-Côte d'Azur\", Country='France', Region='Central', Product ID='OFF-BI-10001622', Category='Office Supplies', Sub-Category='Binders', Product Name='Acco 3-Hole Punch, Durable', Sales='126.48', Quantity='4', Discount='0', Profit='51.84'),\n",
       " Row(Row ID='454', Order ID='ES-2017-1766652', Order Date='09/08/2017', Ship Date='15/08/2017', Ship Mode='Standard Class', Customer ID='ML-17755', Customer Name='Max Ludwig', Segment='Home Office', City='Pertuis', State=\"Provence-Alpes-Côte d'Azur\", Country='France', Region='Central', Product ID='OFF-BI-10000341', Category='Office Supplies', Sub-Category='Binders', Product Name='Ibico Binding Machine, Recycled', Sales='258.9', Quantity='5', Discount='0', Profit='46.5'),\n",
       " Row(Row ID='455', Order ID='IT-2017-1072003', Order Date='02/06/2017', Ship Date='06/06/2017', Ship Mode='Standard Class', Customer ID='LO-17170', Customer Name='Lori Olson', Segment='Corporate', City='Karlstad', State='Värmland', Country='Sweden', Region='North', Product ID='OFF-AR-10000066', Category='Office Supplies', Sub-Category='Art', Product Name='Sanford Pens, Blue', Sales='16.65', Quantity='3', Discount='0.5', Profit='-8.73'),\n",
       " Row(Row ID='456', Order ID='IT-2017-1072003', Order Date='02/06/2017', Ship Date='06/06/2017', Ship Mode='Standard Class', Customer ID='LO-17170', Customer Name='Lori Olson', Segment='Corporate', City='Karlstad', State='Värmland', Country='Sweden', Region='North', Product ID='OFF-AR-10001002', Category='Office Supplies', Sub-Category='Art', Product Name='BIC Sketch Pad, Fluorescent', Sales='74.88', Quantity='3', Discount='0.5', Profit='-25.47'),\n",
       " Row(Row ID='457', Order ID='ES-2016-3927096', Order Date='21/08/2016', Ship Date='28/08/2016', Ship Mode='Standard Class', Customer ID='BF-11005', Customer Name='Barry Franz', Segment='Home Office', City='Marseille', State=\"Provence-Alpes-Côte d'Azur\", Country='France', Region='Central', Product ID='OFF-AR-10001068', Category='Office Supplies', Sub-Category='Art', Product Name='BIC Sketch Pad, Easy-Erase', Sales='48.93', Quantity='1', Discount='0', Profit='24.45'),\n",
       " Row(Row ID='458', Order ID='ES-2016-3927096', Order Date='21/08/2016', Ship Date='28/08/2016', Ship Mode='Standard Class', Customer ID='BF-11005', Customer Name='Barry Franz', Segment='Home Office', City='Marseille', State=\"Provence-Alpes-Côte d'Azur\", Country='France', Region='Central', Product ID='TEC-CO-10000270', Category='Technology', Sub-Category='Copiers', Product Name='Hewlett Fax Machine, High-Speed', Sales='540.804', Quantity='2', Discount='0.15', Profit='-31.836'),\n",
       " Row(Row ID='459', Order ID='ES-2016-3927096', Order Date='21/08/2016', Ship Date='28/08/2016', Ship Mode='Standard Class', Customer ID='BF-11005', Customer Name='Barry Franz', Segment='Home Office', City='Marseille', State=\"Provence-Alpes-Côte d'Azur\", Country='France', Region='Central', Product ID='OFF-AR-10003377', Category='Office Supplies', Sub-Category='Art', Product Name='Boston Pencil Sharpener, Easy-Erase', Sales='60.42', Quantity='2', Discount='0', Profit='9.66'),\n",
       " Row(Row ID='460', Order ID='ES-2016-3927096', Order Date='21/08/2016', Ship Date='28/08/2016', Ship Mode='Standard Class', Customer ID='BF-11005', Customer Name='Barry Franz', Segment='Home Office', City='Marseille', State=\"Provence-Alpes-Côte d'Azur\", Country='France', Region='Central', Product ID='OFF-EN-10000897', Category='Office Supplies', Sub-Category='Envelopes', Product Name='Kraft Mailers, Set of 50', Sales='112.95', Quantity='3', Discount='0', Profit='30.42'),\n",
       " Row(Row ID='461', Order ID='ES-2016-3927096', Order Date='21/08/2016', Ship Date='28/08/2016', Ship Mode='Standard Class', Customer ID='BF-11005', Customer Name='Barry Franz', Segment='Home Office', City='Marseille', State=\"Provence-Alpes-Côte d'Azur\", Country='France', Region='Central', Product ID='OFF-AP-10000344', Category='Office Supplies', Sub-Category='Appliances', Product Name='Hoover Toaster, Silver', Sales='227.853', Quantity='3', Discount='0.1', Profit='65.763'),\n",
       " Row(Row ID='462', Order ID='ES-2017-1137361', Order Date='17/05/2017', Ship Date='21/05/2017', Ship Mode='Standard Class', Customer ID='CS-11860', Customer Name='Cari Schnelling', Segment='Consumer', City='Dewsbury', State='England', Country='United Kingdom', Region='North', Product ID='OFF-AR-10004739', Category='Office Supplies', Sub-Category='Art', Product Name='BIC Canvas, Easy-Erase', Sales='161.91', Quantity='3', Discount='0', Profit='54.99'),\n",
       " Row(Row ID='463', Order ID='ES-2014-5814037', Order Date='08/06/2014', Ship Date='13/06/2014', Ship Mode='Standard Class', Customer ID='RH-19510', Customer Name='Rick Huthwaite', Segment='Home Office', City='Southend-on-Sea', State='England', Country='United Kingdom', Region='North', Product ID='OFF-AR-10001216', Category='Office Supplies', Sub-Category='Art', Product Name='BIC Pencil Sharpener, Easy-Erase', Sales='146.4', Quantity='5', Discount='0', Profit='7.2'),\n",
       " Row(Row ID='464', Order ID='ES-2016-5210417', Order Date='16/08/2016', Ship Date='20/08/2016', Ship Mode='Standard Class', Customer ID='MF-18250', Customer Name='Monica Federle', Segment='Corporate', City='Castrop-Rauxel', State='North Rhine-Westphalia', Country='Germany', Region='Central', Product ID='OFF-BI-10003708', Category='Office Supplies', Sub-Category='Binders', Product Name='Avery Binder, Economy', Sales='25.8', Quantity='2', Discount='0', Profit='10.02'),\n",
       " Row(Row ID='465', Order ID='ES-2016-5210417', Order Date='16/08/2016', Ship Date='20/08/2016', Ship Mode='Standard Class', Customer ID='MF-18250', Customer Name='Monica Federle', Segment='Corporate', City='Castrop-Rauxel', State='North Rhine-Westphalia', Country='Germany', Region='Central', Product ID='OFF-ST-10002271', Category='Office Supplies', Sub-Category='Storage', Product Name='Rogers Shelving, Wire Frame', Sales='110.16', Quantity='2', Discount='0.1', Profit='25.68'),\n",
       " Row(Row ID='466', Order ID='ES-2016-5210417', Order Date='16/08/2016', Ship Date='20/08/2016', Ship Mode='Standard Class', Customer ID='MF-18250', Customer Name='Monica Federle', Segment='Corporate', City='Castrop-Rauxel', State='North Rhine-Westphalia', Country='Germany', Region='Central', Product ID='OFF-LA-10004280', Category='Office Supplies', Sub-Category='Labels', Product Name='Harbour Creations Legal Exhibit Labels, Alphabetical', Sales='86.16', Quantity='8', Discount='0', Profit='36.96'),\n",
       " Row(Row ID='467', Order ID='IT-2016-2616134', Order Date='12/06/2016', Ship Date='15/06/2016', Ship Mode='First Class', Customer ID='BM-11650', Customer Name='Brian Moss', Segment='Corporate', City='Huddinge', State='Stockholm', Country='Sweden', Region='North', Product ID='FUR-FU-10000295', Category='Furniture', Sub-Category='Furnishings', Product Name='Advantus Light Bulb, Black', Sales='72.252', Quantity='9', Discount='0.6', Profit='-23.598'),\n",
       " Row(Row ID='468', Order ID='IT-2016-2616134', Order Date='12/06/2016', Ship Date='15/06/2016', Ship Mode='First Class', Customer ID='BM-11650', Customer Name='Brian Moss', Segment='Corporate', City='Huddinge', State='Stockholm', Country='Sweden', Region='North', Product ID='OFF-LA-10001170', Category='Office Supplies', Sub-Category='Labels', Product Name='Harbour Creations Color Coded Labels, 5000 Label Set', Sales='19.935', Quantity='3', Discount='0.5', Profit='-0.855'),\n",
       " Row(Row ID='469', Order ID='IT-2015-4338663', Order Date='25/08/2015', Ship Date='29/08/2015', Ship Mode='Standard Class', Customer ID='MG-17890', Customer Name='Michael Granlund', Segment='Home Office', City='The Hague', State='South Holland', Country='Netherlands', Region='Central', Product ID='TEC-PH-10003847', Category='Technology', Sub-Category='Phones', Product Name='Apple Headset, with Caller ID', Sales='183.15', Quantity='5', Discount='0.5', Profit='-128.25'),\n",
       " Row(Row ID='470', Order ID='IT-2015-4338663', Order Date='25/08/2015', Ship Date='29/08/2015', Ship Mode='Standard Class', Customer ID='MG-17890', Customer Name='Michael Granlund', Segment='Home Office', City='The Hague', State='South Holland', Country='Netherlands', Region='Central', Product ID='OFF-PA-10000850', Category='Office Supplies', Sub-Category='Paper', Product Name='SanDisk Parchment Paper, Multicolor', Sales='63.42', Quantity='7', Discount='0.5', Profit='-38.22'),\n",
       " Row(Row ID='471', Order ID='IT-2015-4338663', Order Date='25/08/2015', Ship Date='29/08/2015', Ship Mode='Standard Class', Customer ID='MG-17890', Customer Name='Michael Granlund', Segment='Home Office', City='The Hague', State='South Holland', Country='Netherlands', Region='Central', Product ID='OFF-ST-10000580', Category='Office Supplies', Sub-Category='Storage', Product Name='Fellowes Trays, Industrial', Sales='57.87', Quantity='2', Discount='0.5', Profit='-30.15'),\n",
       " Row(Row ID='472', Order ID='IT-2015-4338663', Order Date='25/08/2015', Ship Date='29/08/2015', Ship Mode='Standard Class', Customer ID='MG-17890', Customer Name='Michael Granlund', Segment='Home Office', City='The Hague', State='South Holland', Country='Netherlands', Region='Central', Product ID='OFF-AR-10001228', Category='Office Supplies', Sub-Category='Art', Product Name='Stanley Markers, Water Color', Sales='88.83', Quantity='7', Discount='0.5', Profit='-30.24'),\n",
       " Row(Row ID='473', Order ID='IT-2015-4338663', Order Date='25/08/2015', Ship Date='29/08/2015', Ship Mode='Standard Class', Customer ID='MG-17890', Customer Name='Michael Granlund', Segment='Home Office', City='The Hague', State='South Holland', Country='Netherlands', Region='Central', Product ID='OFF-SU-10003456', Category='Office Supplies', Sub-Category='Supplies', Product Name='Elite Letter Opener, Easy Grip', Sales='86.76', Quantity='6', Discount='0.5', Profit='-78.12'),\n",
       " Row(Row ID='474', Order ID='IT-2016-3279634', Order Date='21/03/2016', Ship Date='26/03/2016', Ship Mode='Standard Class', Customer ID='FO-14305', Customer Name='Frank Olsen', Segment='Consumer', City='Amsterdam', State='North Holland', Country='Netherlands', Region='Central', Product ID='OFF-EN-10002406', Category='Office Supplies', Sub-Category='Envelopes', Product Name='Kraft Business Envelopes, Recycled', Sales='28.26', Quantity='3', Discount='0.5', Profit='-0.63'),\n",
       " Row(Row ID='475', Order ID='ES-2015-4269542', Order Date='01/12/2015', Ship Date='06/12/2015', Ship Mode='Standard Class', Customer ID='NZ-18565', Customer Name='Nick Zandusky', Segment='Home Office', City='Livry-Gargan', State='Ile-de-France', Country='France', Region='Central', Product ID='OFF-BI-10002047', Category='Office Supplies', Sub-Category='Binders', Product Name='Acco Index Tab, Durable', Sales='53.64', Quantity='6', Discount='0', Profit='11.7'),\n",
       " Row(Row ID='476', Order ID='ES-2015-4269542', Order Date='01/12/2015', Ship Date='06/12/2015', Ship Mode='Standard Class', Customer ID='NZ-18565', Customer Name='Nick Zandusky', Segment='Home Office', City='Livry-Gargan', State='Ile-de-France', Country='France', Region='Central', Product ID='OFF-PA-10000756', Category='Office Supplies', Sub-Category='Paper', Product Name='Enermax Computer Printout Paper, Premium', Sales='56.94', Quantity='2', Discount='0', Profit='27.3'),\n",
       " Row(Row ID='477', Order ID='ES-2015-4269542', Order Date='01/12/2015', Ship Date='06/12/2015', Ship Mode='Standard Class', Customer ID='NZ-18565', Customer Name='Nick Zandusky', Segment='Home Office', City='Livry-Gargan', State='Ile-de-France', Country='France', Region='Central', Product ID='FUR-BO-10002781', Category='Furniture', Sub-Category='Bookcases', Product Name='Sauder Floating Shelf Set, Traditional', Sales='350.244', Quantity='2', Discount='0.1', Profit='105.024'),\n",
       " Row(Row ID='478', Order ID='ES-2017-2592303', Order Date='21/11/2017', Ship Date='23/11/2017', Ship Mode='Second Class', Customer ID='NS-18640', Customer Name='Noel Staavos', Segment='Corporate', City='Madrid', State='Madrid', Country='Spain', Region='South', Product ID='OFF-EN-10001346', Category='Office Supplies', Sub-Category='Envelopes', Product Name='GlobeWeis Interoffice Envelope, Security-Tint', Sales='50.22', Quantity='1', Discount='0', Profit='21.09'),\n",
       " Row(Row ID='479', Order ID='ES-2017-2592303', Order Date='21/11/2017', Ship Date='23/11/2017', Ship Mode='Second Class', Customer ID='NS-18640', Customer Name='Noel Staavos', Segment='Corporate', City='Madrid', State='Madrid', Country='Spain', Region='South', Product ID='FUR-FU-10000468', Category='Furniture', Sub-Category='Furnishings', Product Name='Advantus Frame, Durable', Sales='432.6', Quantity='4', Discount='0', Profit='47.52'),\n",
       " Row(Row ID='480', Order ID='ES-2015-1211442', Order Date='03/11/2015', Ship Date='07/11/2015', Ship Mode='Second Class', Customer ID='SW-20275', Customer Name='Scott Williamson', Segment='Consumer', City='Marseille', State=\"Provence-Alpes-Côte d'Azur\", Country='France', Region='Central', Product ID='OFF-FA-10000179', Category='Office Supplies', Sub-Category='Fasteners', Product Name='Advantus Paper Clips, Metal', Sales='80.28', Quantity='6', Discount='0', Profit='19.26'),\n",
       " Row(Row ID='481', Order ID='ES-2016-1622008', Order Date='26/11/2016', Ship Date='01/12/2016', Ship Mode='Standard Class', Customer ID='JK-15730', Customer Name='Joe Kamberova', Segment='Consumer', City='London', State='England', Country='United Kingdom', Region='North', Product ID='OFF-BI-10000815', Category='Office Supplies', Sub-Category='Binders', Product Name='Ibico 3-Hole Punch, Durable', Sales='86.265', Quantity='3', Discount='0.1', Profit='25.875'),\n",
       " Row(Row ID='482', Order ID='ES-2016-1622008', Order Date='26/11/2016', Ship Date='01/12/2016', Ship Mode='Standard Class', Customer ID='JK-15730', Customer Name='Joe Kamberova', Segment='Consumer', City='London', State='England', Country='United Kingdom', Region='North', Product ID='OFF-BI-10004924', Category='Office Supplies', Sub-Category='Binders', Product Name='Cardinal 3-Hole Punch, Economy', Sales='51.84', Quantity='2', Discount='0.1', Profit='20.16'),\n",
       " Row(Row ID='483', Order ID='ES-2016-1622008', Order Date='26/11/2016', Ship Date='01/12/2016', Ship Mode='Standard Class', Customer ID='JK-15730', Customer Name='Joe Kamberova', Segment='Consumer', City='London', State='England', Country='United Kingdom', Region='North', Product ID='OFF-SU-10003277', Category='Office Supplies', Sub-Category='Supplies', Product Name='Elite Ruler, Serrated', Sales='9.45', Quantity='1', Discount='0.1', Profit='0.84'),\n",
       " Row(Row ID='484', Order ID='ES-2017-5617990', Order Date='11/09/2017', Ship Date='12/09/2017', Ship Mode='First Class', Customer ID='LW-16825', Customer Name='Laurel Workman', Segment='Corporate', City='Schiltigheim', State='Alsace-Champagne-Ardenne-Lorraine', Country='France', Region='Central', Product ID='OFF-SU-10003160', Category='Office Supplies', Sub-Category='Supplies', Product Name='Acme Ruler, High Speed', Sales='33.42', Quantity='2', Discount='0', Profit='1.32'),\n",
       " Row(Row ID='485', Order ID='ES-2017-5617990', Order Date='11/09/2017', Ship Date='12/09/2017', Ship Mode='First Class', Customer ID='LW-16825', Customer Name='Laurel Workman', Segment='Corporate', City='Schiltigheim', State='Alsace-Champagne-Ardenne-Lorraine', Country='France', Region='Central', Product ID='OFF-BI-10000341', Category='Office Supplies', Sub-Category='Binders', Product Name='Ibico Binding Machine, Recycled', Sales='258.9', Quantity='5', Discount='0', Profit='46.5'),\n",
       " Row(Row ID='486', Order ID='ES-2017-5617990', Order Date='11/09/2017', Ship Date='12/09/2017', Ship Mode='First Class', Customer ID='LW-16825', Customer Name='Laurel Workman', Segment='Corporate', City='Schiltigheim', State='Alsace-Champagne-Ardenne-Lorraine', Country='France', Region='Central', Product ID='FUR-TA-10004649', Category='Furniture', Sub-Category='Tables', Product Name='Barricks Round Table, Rectangular', Sales='1622.01', Quantity='5', Discount='0.35', Profit='-623.94'),\n",
       " Row(Row ID='487', Order ID='ES-2017-1503928', Order Date='10/06/2017', Ship Date='14/06/2017', Ship Mode='Standard Class', Customer ID='DL-13330', Customer Name='Denise Leinenbach', Segment='Consumer', City='Ludwigsfelde', State='Brandenburg', Country='Germany', Region='Central', Product ID='TEC-PH-10002255', Category='Technology', Sub-Category='Phones', Product Name='Apple Audio Dock, Full Size', Sales='840.9', Quantity='5', Discount='0', Profit='75.6'),\n",
       " Row(Row ID='488', Order ID='ES-2016-1417572', Order Date='04/11/2016', Ship Date='09/11/2016', Ship Mode='Standard Class', Customer ID='EJ-14155', Customer Name='Eva Jacobs', Segment='Consumer', City='Dresden', State='Saxony', Country='Germany', Region='Central', Product ID='FUR-FU-10001692', Category='Furniture', Sub-Category='Furnishings', Product Name='Deflect-O Clock, Durable', Sales='47.34', Quantity='2', Discount='0.5', Profit='-17.1'),\n",
       " Row(Row ID='489', Order ID='ES-2015-2110783', Order Date='29/12/2015', Ship Date='04/01/2016', Ship Mode='Standard Class', Customer ID='NF-18385', Customer Name='Natalie Fritzler', Segment='Consumer', City='London', State='England', Country='United Kingdom', Region='North', Product ID='OFF-SU-10002451', Category='Office Supplies', Sub-Category='Supplies', Product Name='Elite Letter Opener, High Speed', Sales='168.21', Quantity='7', Discount='0.1', Profit='59.64'),\n",
       " Row(Row ID='490', Order ID='ES-2015-3898439', Order Date='24/03/2015', Ship Date='29/03/2015', Ship Mode='Standard Class', Customer ID='AG-10525', Customer Name='Andy Gerbode', Segment='Corporate', City='Bielefeld', State='North Rhine-Westphalia', Country='Germany', Region='Central', Product ID='OFF-ST-10004296', Category='Office Supplies', Sub-Category='Storage', Product Name='Smead Folders, Industrial', Sales='32.346', Quantity='2', Discount='0.1', Profit='4.626'),\n",
       " Row(Row ID='491', Order ID='ES-2015-3898439', Order Date='24/03/2015', Ship Date='29/03/2015', Ship Mode='Standard Class', Customer ID='AG-10525', Customer Name='Andy Gerbode', Segment='Corporate', City='Bielefeld', State='North Rhine-Westphalia', Country='Germany', Region='Central', Product ID='TEC-MA-10003885', Category='Technology', Sub-Category='Machines', Product Name='Okidata Calculator, Wireless', Sales='156.87', Quantity='3', Discount='0', Profit='3.06'),\n",
       " Row(Row ID='492', Order ID='ES-2014-1458159', Order Date='13/09/2014', Ship Date='17/09/2014', Ship Mode='Standard Class', Customer ID='RW-19540', Customer Name='Rick Wilson', Segment='Corporate', City='Alicante', State='Valenciana', Country='Spain', Region='South', Product ID='TEC-PH-10003960', Category='Technology', Sub-Category='Phones', Product Name='Apple Speaker Phone, with Caller ID', Sales='776.79', Quantity='7', Discount='0.1', Profit='129.36'),\n",
       " Row(Row ID='493', Order ID='ES-2017-1356130', Order Date='06/08/2017', Ship Date='07/08/2017', Ship Mode='First Class', Customer ID='SK-19990', Customer Name='Sally Knutson', Segment='Consumer', City='Levallois-Perret', State='Ile-de-France', Country='France', Region='Central', Product ID='TEC-AC-10004849', Category='Technology', Sub-Category='Accessories', Product Name='SanDisk Router, Programmable', Sales='1547.1', Quantity='6', Discount='0', Profit='340.2'),\n",
       " Row(Row ID='494', Order ID='ES-2015-5824366', Order Date='24/04/2015', Ship Date='28/04/2015', Ship Mode='Standard Class', Customer ID='LD-16855', Customer Name='Lela Donovan', Segment='Corporate', City='Vienna', State='Vienna', Country='Austria', Region='Central', Product ID='TEC-AC-10000827', Category='Technology', Sub-Category='Accessories', Product Name='SanDisk Keyboard, Programmable', Sales='414.9', Quantity='5', Discount='0', Profit='66.3'),\n",
       " Row(Row ID='495', Order ID='ES-2017-3909772', Order Date='14/01/2017', Ship Date='19/01/2017', Ship Mode='Second Class', Customer ID='JB-15400', Customer Name='Jennifer Braxton', Segment='Corporate', City='Taranto', State='Apulia', Country='Italy', Region='South', Product ID='OFF-BI-10002799', Category='Office Supplies', Sub-Category='Binders', Product Name='Cardinal Binder Covers, Clear', Sales='34.38', Quantity='3', Discount='0', Profit='8.91'),\n",
       " Row(Row ID='496', Order ID='ES-2015-1484906', Order Date='26/12/2015', Ship Date='29/12/2015', Ship Mode='Second Class', Customer ID='CD-11980', Customer Name='Carol Darley', Segment='Consumer', City='Tours', State='Centre-Val de Loire', Country='France', Region='Central', Product ID='FUR-CH-10001150', Category='Furniture', Sub-Category='Chairs', Product Name='SAFCO Steel Folding Chair, Red', Sales='462.834', Quantity='6', Discount='0.1', Profit='190.134'),\n",
       " Row(Row ID='497', Order ID='ES-2015-1484906', Order Date='26/12/2015', Ship Date='29/12/2015', Ship Mode='Second Class', Customer ID='CD-11980', Customer Name='Carol Darley', Segment='Consumer', City='Tours', State='Centre-Val de Loire', Country='France', Region='Central', Product ID='OFF-AR-10003629', Category='Office Supplies', Sub-Category='Art', Product Name='Boston Canvas, Water Color', Sales='227.28', Quantity='4', Discount='0', Profit='34.08'),\n",
       " Row(Row ID='498', Order ID='ES-2015-1484906', Order Date='26/12/2015', Ship Date='29/12/2015', Ship Mode='Second Class', Customer ID='CD-11980', Customer Name='Carol Darley', Segment='Consumer', City='Tours', State='Centre-Val de Loire', Country='France', Region='Central', Product ID='OFF-AP-10001776', Category='Office Supplies', Sub-Category='Appliances', Product Name='Hamilton Beach Microwave, White', Sales='505.17', Quantity='2', Discount='0.1', Profit='-22.47'),\n",
       " Row(Row ID='499', Order ID='ES-2015-1484906', Order Date='26/12/2015', Ship Date='29/12/2015', Ship Mode='Second Class', Customer ID='CD-11980', Customer Name='Carol Darley', Segment='Consumer', City='Tours', State='Centre-Val de Loire', Country='France', Region='Central', Product ID='FUR-CH-10000667', Category='Furniture', Sub-Category='Chairs', Product Name='Novimex Chairmat, Black', Sales='97.038', Quantity='2', Discount='0.1', Profit='12.918'),\n",
       " Row(Row ID='500', Order ID='ES-2015-1484906', Order Date='26/12/2015', Ship Date='29/12/2015', Ship Mode='Second Class', Customer ID='CD-11980', Customer Name='Carol Darley', Segment='Consumer', City='Tours', State='Centre-Val de Loire', Country='France', Region='Central', Product ID='OFF-ST-10003111', Category='Office Supplies', Sub-Category='Storage', Product Name='Eldon Trays, Single Width', Sales='129.6', Quantity='3', Discount='0.1', Profit='33.12'),\n",
       " Row(Row ID='501', Order ID='ES-2017-5218647', Order Date='14/04/2017', Ship Date='18/04/2017', Ship Mode='Standard Class', Customer ID='EG-13900', Customer Name='Emily Grady', Segment='Consumer', City='Woking', State='England', Country='United Kingdom', Region='North', Product ID='OFF-AP-10004183', Category='Office Supplies', Sub-Category='Appliances', Product Name='Breville Microwave, Red', Sales='2111.97', Quantity='7', Discount='0', Profit='190.05'),\n",
       " Row(Row ID='502', Order ID='IT-2014-4028329', Order Date='29/06/2014', Ship Date='03/07/2014', Ship Mode='Standard Class', Customer ID='JF-15355', Customer Name='Jay Fein', Segment='Consumer', City='London', State='England', Country='United Kingdom', Region='North', Product ID='FUR-FU-10004640', Category='Furniture', Sub-Category='Furnishings', Product Name='Tenex Light Bulb, Durable', Sales='19.152', Quantity='2', Discount='0.4', Profit='-8.988'),\n",
       " Row(Row ID='503', Order ID='IT-2014-4028329', Order Date='29/06/2014', Ship Date='03/07/2014', Ship Mode='Standard Class', Customer ID='JF-15355', Customer Name='Jay Fein', Segment='Consumer', City='London', State='England', Country='United Kingdom', Region='North', Product ID='OFF-BI-10003114', Category='Office Supplies', Sub-Category='Binders', Product Name='Ibico Hole Reinforcements, Economy', Sales='44.037', Quantity='7', Discount='0.1', Profit='19.047'),\n",
       " Row(Row ID='504', Order ID='ES-2017-3243241', Order Date='18/06/2017', Ship Date='24/06/2017', Ship Mode='Standard Class', Customer ID='JC-16105', Customer Name='Julie Creighton', Segment='Corporate', City='West Bromwich', State='England', Country='United Kingdom', Region='North', Product ID='OFF-BI-10000282', Category='Office Supplies', Sub-Category='Binders', Product Name='Ibico Binder, Durable', Sales='16.98', Quantity='1', Discount='0', Profit='0.48'),\n",
       " Row(Row ID='505', Order ID='ES-2017-3243241', Order Date='18/06/2017', Ship Date='24/06/2017', Ship Mode='Standard Class', Customer ID='JC-16105', Customer Name='Julie Creighton', Segment='Corporate', City='West Bromwich', State='England', Country='United Kingdom', Region='North', Product ID='OFF-AR-10003521', Category='Office Supplies', Sub-Category='Art', Product Name='Stanley Highlighters, Easy-Erase', Sales='59.88', Quantity='4', Discount='0', Profit='21.48'),\n",
       " Row(Row ID='506', Order ID='ES-2017-3243241', Order Date='18/06/2017', Ship Date='24/06/2017', Ship Mode='Standard Class', Customer ID='JC-16105', Customer Name='Julie Creighton', Segment='Corporate', City='West Bromwich', State='England', Country='United Kingdom', Region='North', Product ID='TEC-AC-10001226', Category='Technology', Sub-Category='Accessories', Product Name='Enermax Mouse, Programmable', Sales='125.37', Quantity='3', Discount='0', Profit='0'),\n",
       " Row(Row ID='507', Order ID='ES-2017-1154298', Order Date='16/02/2017', Ship Date='22/02/2017', Ship Mode='Standard Class', Customer ID='JK-15625', Customer Name='Jim Karlsson', Segment='Consumer', City='Avignon', State=\"Provence-Alpes-Côte d'Azur\", Country='France', Region='Central', Product ID='TEC-AC-10001441', Category='Technology', Sub-Category='Accessories', Product Name='SanDisk Mouse, Erganomic', Sales='216.72', Quantity='6', Discount='0', Profit='43.2'),\n",
       " Row(Row ID='508', Order ID='ES-2017-1154298', Order Date='16/02/2017', Ship Date='22/02/2017', Ship Mode='Standard Class', Customer ID='JK-15625', Customer Name='Jim Karlsson', Segment='Consumer', City='Avignon', State=\"Provence-Alpes-Côte d'Azur\", Country='France', Region='Central', Product ID='OFF-LA-10002029', Category='Office Supplies', Sub-Category='Labels', Product Name='Hon Round Labels, 5000 Label Set', Sales='42.3', Quantity='6', Discount='0', Profit='13.5'),\n",
       " Row(Row ID='509', Order ID='ES-2015-3840924', Order Date='21/04/2015', Ship Date='25/04/2015', Ship Mode='Standard Class', Customer ID='FC-14335', Customer Name='Fred Chung', Segment='Corporate', City='Bezons', State='Ile-de-France', Country='France', Region='Central', Product ID='OFF-EN-10004970', Category='Office Supplies', Sub-Category='Envelopes', Product Name='GlobeWeis Peel and Seal, Security-Tint', Sales='47.58', Quantity='2', Discount='0', Profit='5.7'),\n",
       " Row(Row ID='510', Order ID='ES-2015-3840924', Order Date='21/04/2015', Ship Date='25/04/2015', Ship Mode='Standard Class', Customer ID='FC-14335', Customer Name='Fred Chung', Segment='Corporate', City='Bezons', State='Ile-de-France', Country='France', Region='Central', Product ID='TEC-MA-10000946', Category='Technology', Sub-Category='Machines', Product Name='Panasonic Calculator, Red', Sales='201.5775', Quantity='5', Discount='0.15', Profit='44.9775'),\n",
       " Row(Row ID='511', Order ID='IT-2016-3214372', Order Date='10/09/2016', Ship Date='14/09/2016', Ship Mode='Second Class', Customer ID='SU-20665', Customer Name='Stephanie Ulpright', Segment='Home Office', City='Breda', State='North Brabant', Country='Netherlands', Region='Central', Product ID='OFF-LA-10002651', Category='Office Supplies', Sub-Category='Labels', Product Name='Novimex Round Labels, Adjustable', Sales='18.765', Quantity='9', Discount='0.5', Profit='-8.505'),\n",
       " Row(Row ID='512', Order ID='IT-2016-3214372', Order Date='10/09/2016', Ship Date='14/09/2016', Ship Mode='Second Class', Customer ID='SU-20665', Customer Name='Stephanie Ulpright', Segment='Home Office', City='Breda', State='North Brabant', Country='Netherlands', Region='Central', Product ID='FUR-BO-10000034', Category='Furniture', Sub-Category='Bookcases', Product Name='Safco Classic Bookcase, Pine', Sales='219.75', Quantity='1', Discount='0.5', Profit='-202.17'),\n",
       " Row(Row ID='513', Order ID='IT-2016-3214372', Order Date='10/09/2016', Ship Date='14/09/2016', Ship Mode='Second Class', Customer ID='SU-20665', Customer Name='Stephanie Ulpright', Segment='Home Office', City='Breda', State='North Brabant', Country='Netherlands', Region='Central', Product ID='FUR-FU-10004289', Category='Furniture', Sub-Category='Furnishings', Product Name='Deflect-O Stacking Tray, Black', Sales='40.56', Quantity='2', Discount='0.2', Profit='12.66'),\n",
       " Row(Row ID='514', Order ID='ES-2015-3049668', Order Date='11/10/2015', Ship Date='11/10/2015', Ship Mode='Same Day', Customer ID='DK-12895', Customer Name='Dana Kaydos', Segment='Consumer', City='Vincennes', State='Ile-de-France', Country='France', Region='Central', Product ID='OFF-AR-10003829', Category='Office Supplies', Sub-Category='Art', Product Name='Stanley Markers, Fluorescent', Sales='93.84', Quantity='4', Discount='0', Profit='31.8'),\n",
       " Row(Row ID='515', Order ID='ES-2017-1271577', Order Date='06/08/2017', Ship Date='10/08/2017', Ship Mode='Standard Class', Customer ID='JF-15415', Customer Name='Jennifer Ferguson', Segment='Consumer', City='Maubeuge', State='Hauts-de-France', Country='France', Region='Central', Product ID='OFF-AR-10001216', Category='Office Supplies', Sub-Category='Art', Product Name='BIC Pencil Sharpener, Easy-Erase', Sales='58.56', Quantity='2', Discount='0', Profit='2.88'),\n",
       " Row(Row ID='516', Order ID='ES-2017-1271577', Order Date='06/08/2017', Ship Date='10/08/2017', Ship Mode='Standard Class', Customer ID='JF-15415', Customer Name='Jennifer Ferguson', Segment='Consumer', City='Maubeuge', State='Hauts-de-France', Country='France', Region='Central', Product ID='OFF-ST-10004060', Category='Office Supplies', Sub-Category='Storage', Product Name='Eldon Lockers, Single Width', Sales='178.146', Quantity='1', Discount='0.1', Profit='77.196'),\n",
       " Row(Row ID='517', Order ID='ES-2017-3610373', Order Date='04/08/2017', Ship Date='10/08/2017', Ship Mode='Standard Class', Customer ID='MC-17845', Customer Name='Michael Chen', Segment='Consumer', City='Sarcelles', State='Ile-de-France', Country='France', Region='Central', Product ID='OFF-BI-10000081', Category='Office Supplies', Sub-Category='Binders', Product Name='Ibico Index Tab, Clear', Sales='75.33', Quantity='9', Discount='0', Profit='27.81'),\n",
       " Row(Row ID='518', Order ID='IT-2017-5784522', Order Date='16/07/2017', Ship Date='21/07/2017', Ship Mode='Standard Class', Customer ID='CM-11830', Customer Name='Cari MacIntyre', Segment='Corporate', City='Amsterdam', State='North Holland', Country='Netherlands', Region='Central', Product ID='OFF-BI-10003642', Category='Office Supplies', Sub-Category='Binders', Product Name='Wilson Jones Binder, Economy', Sales='6.51', Quantity='1', Discount='0.5', Profit='-2.49'),\n",
       " Row(Row ID='519', Order ID='IT-2017-5784522', Order Date='16/07/2017', Ship Date='21/07/2017', Ship Mode='Standard Class', Customer ID='CM-11830', Customer Name='Cari MacIntyre', Segment='Corporate', City='Amsterdam', State='North Holland', Country='Netherlands', Region='Central', Product ID='TEC-PH-10000270', Category='Technology', Sub-Category='Phones', Product Name='Apple Office Telephone, VoIP', Sales='65.37', Quantity='2', Discount='0.5', Profit='-15.69'),\n",
       " Row(Row ID='520', Order ID='IT-2015-5367645', Order Date='24/07/2015', Ship Date='31/07/2015', Ship Mode='Standard Class', Customer ID='SC-20725', Customer Name='Steven Cartwright', Segment='Consumer', City='Cerignola', State='Apulia', Country='Italy', Region='South', Product ID='OFF-ST-10000872', Category='Office Supplies', Sub-Category='Storage', Product Name='Fellowes File Cart, Single Width', Sales='412.02', Quantity='5', Discount='0.4', Profit='-274.68'),\n",
       " Row(Row ID='521', Order ID='IT-2015-5367645', Order Date='24/07/2015', Ship Date='31/07/2015', Ship Mode='Standard Class', Customer ID='SC-20725', Customer Name='Steven Cartwright', Segment='Consumer', City='Cerignola', State='Apulia', Country='Italy', Region='South', Product ID='OFF-ST-10001648', Category='Office Supplies', Sub-Category='Storage', Product Name='Tenex Shelving, Blue', Sales='98.388', Quantity='3', Discount='0.4', Profit='-57.402'),\n",
       " Row(Row ID='522', Order ID='IT-2015-5367645', Order Date='24/07/2015', Ship Date='31/07/2015', Ship Mode='Standard Class', Customer ID='SC-20725', Customer Name='Steven Cartwright', Segment='Consumer', City='Cerignola', State='Apulia', Country='Italy', Region='South', Product ID='OFF-AR-10001546', Category='Office Supplies', Sub-Category='Art', Product Name='Binney & Smith Sketch Pad, Easy-Erase', Sales='93.18', Quantity='2', Discount='0', Profit='13.92'),\n",
       " Row(Row ID='523', Order ID='ES-2014-1679370', Order Date='04/08/2014', Ship Date='08/08/2014', Ship Mode='Standard Class', Customer ID='RA-19885', Customer Name='Ruben Ausman', Segment='Corporate', City='Huddersfield', State='England', Country='United Kingdom', Region='North', Product ID='FUR-CH-10001802', Category='Furniture', Sub-Category='Chairs', Product Name='Novimex Rocking Chair, Black', Sales='387', Quantity='3', Discount='0', Profit='46.44'),\n",
       " Row(Row ID='524', Order ID='ES-2014-2857462', Order Date='07/02/2014', Ship Date='12/02/2014', Ship Mode='Standard Class', Customer ID='GB-14530', Customer Name='George Bell', Segment='Corporate', City='La Crau', State=\"Provence-Alpes-Côte d'Azur\", Country='France', Region='Central', Product ID='OFF-LA-10003969', Category='Office Supplies', Sub-Category='Labels', Product Name='Novimex Legal Exhibit Labels, Laser Printer Compatible', Sales='31.41', Quantity='3', Discount='0', Profit='10.62'),\n",
       " Row(Row ID='525', Order ID='ES-2016-4548757', Order Date='16/12/2016', Ship Date='23/12/2016', Ship Mode='Standard Class', Customer ID='HK-14890', Customer Name='Heather Kirkland', Segment='Corporate', City='Stafford', State='England', Country='United Kingdom', Region='North', Product ID='OFF-PA-10000850', Category='Office Supplies', Sub-Category='Paper', Product Name='SanDisk Parchment Paper, Multicolor', Sales='54.36', Quantity='3', Discount='0', Profit='10.8'),\n",
       " Row(Row ID='526', Order ID='IT-2017-2019502', Order Date='11/12/2017', Ship Date='16/12/2017', Ship Mode='Standard Class', Customer ID='GH-14410', Customer Name='Gary Hansen', Segment='Home Office', City='Paris', State='Ile-de-France', Country='France', Region='Central', Product ID='FUR-CH-10003249', Category='Furniture', Sub-Category='Chairs', Product Name='Office Star Steel Folding Chair, Black', Sales='241.056', Quantity='3', Discount='0.1', Profit='-26.784'),\n",
       " Row(Row ID='527', Order ID='IT-2017-2019502', Order Date='11/12/2017', Ship Date='16/12/2017', Ship Mode='Standard Class', Customer ID='GH-14410', Customer Name='Gary Hansen', Segment='Home Office', City='Paris', State='Ile-de-France', Country='France', Region='Central', Product ID='OFF-EN-10004775', Category='Office Supplies', Sub-Category='Envelopes', Product Name='Kraft Manila Envelope, Set of 50', Sales='52.98', Quantity='2', Discount='0', Profit='5.82'),\n",
       " Row(Row ID='528', Order ID='IT-2017-2019502', Order Date='11/12/2017', Ship Date='16/12/2017', Ship Mode='Standard Class', Customer ID='GH-14410', Customer Name='Gary Hansen', Segment='Home Office', City='Paris', State='Ile-de-France', Country='France', Region='Central', Product ID='OFF-AR-10002113', Category='Office Supplies', Sub-Category='Art', Product Name='Boston Highlighters, Easy-Erase', Sales='38.28', Quantity='2', Discount='0', Profit='8.4'),\n",
       " Row(Row ID='529', Order ID='IT-2017-2019502', Order Date='11/12/2017', Ship Date='16/12/2017', Ship Mode='Standard Class', Customer ID='GH-14410', Customer Name='Gary Hansen', Segment='Home Office', City='Paris', State='Ile-de-France', Country='France', Region='Central', Product ID='TEC-CO-10002601', Category='Technology', Sub-Category='Copiers', Product Name='Brother Fax and Copier, Digital', Sales='1462.1445', Quantity='9', Discount='0.15', Profit='-17.4555'),\n",
       " Row(Row ID='530', Order ID='ES-2016-3291561', Order Date='19/12/2016', Ship Date='24/12/2016', Ship Mode='Second Class', Customer ID='EK-13795', Customer Name='Eileen Kiefer', Segment='Home Office', City='Moissy-Cramayel', State='Ile-de-France', Country='France', Region='Central', Product ID='OFF-AR-10002640', Category='Office Supplies', Sub-Category='Art', Product Name='Boston Pens, Blue', Sales='71.1', Quantity='5', Discount='0', Profit='1.35'),\n",
       " Row(Row ID='531', Order ID='ES-2017-5374606', Order Date='30/07/2017', Ship Date='31/07/2017', Ship Mode='First Class', Customer ID='BM-11650', Customer Name='Brian Moss', Segment='Corporate', City='Seville', State='Andalusía', Country='Spain', Region='South', Product ID='FUR-BO-10004055', Category='Furniture', Sub-Category='Bookcases', Product Name='Safco Corner Shelving, Metal', Sales='297.84', Quantity='2', Discount='0', Profit='74.46'),\n",
       " Row(Row ID='532', Order ID='ES-2017-5374606', Order Date='30/07/2017', Ship Date='31/07/2017', Ship Mode='First Class', Customer ID='BM-11650', Customer Name='Brian Moss', Segment='Corporate', City='Seville', State='Andalusía', Country='Spain', Region='South', Product ID='OFF-ST-10003446', Category='Office Supplies', Sub-Category='Storage', Product Name='Smead Trays, Single Width', Sales='261.954', Quantity='6', Discount='0.1', Profit='63.954'),\n",
       " Row(Row ID='533', Order ID='ES-2017-5374606', Order Date='30/07/2017', Ship Date='31/07/2017', Ship Mode='First Class', Customer ID='BM-11650', Customer Name='Brian Moss', Segment='Corporate', City='Seville', State='Andalusía', Country='Spain', Region='South', Product ID='FUR-BO-10004547', Category='Furniture', Sub-Category='Bookcases', Product Name='Bush Stackable Bookrack, Traditional', Sales='245.94', Quantity='2', Discount='0', Profit='61.44'),\n",
       " Row(Row ID='534', Order ID='IT-2017-3941500', Order Date='02/09/2017', Ship Date='04/09/2017', Ship Mode='Second Class', Customer ID='MC-17845', Customer Name='Michael Chen', Segment='Consumer', City='Paris', State='Ile-de-France', Country='France', Region='Central', Product ID='OFF-ST-10003785', Category='Office Supplies', Sub-Category='Storage', Product Name='Eldon Lockers, Blue', Sales='1068.714', Quantity='6', Discount='0.1', Profit='-0.126'),\n",
       " Row(Row ID='535', Order ID='IT-2015-1197304', Order Date='01/03/2015', Ship Date='04/03/2015', Ship Mode='Standard Class', Customer ID='SW-20245', Customer Name='Scot Wooten', Segment='Consumer', City='Chartres', State='Centre-Val de Loire', Country='France', Region='Central', Product ID='OFF-ST-10002800', Category='Office Supplies', Sub-Category='Storage', Product Name='Tenex Folders, Industrial', Sales='42.66', Quantity='2', Discount='0.1', Profit='-4.74'),\n",
       " Row(Row ID='536', Order ID='ES-2016-5958799', Order Date='16/04/2016', Ship Date='18/04/2016', Ship Mode='Second Class', Customer ID='JD-15790', Customer Name='John Dryer', Segment='Consumer', City='Turku', State='Finland Proper', Country='Finland', Region='North', Product ID='TEC-PH-10001708', Category='Technology', Sub-Category='Phones', Product Name='Cisco Audio Dock, with Caller ID', Sales='910.35', Quantity='5', Discount='0', Profit='200.25'),\n",
       " Row(Row ID='537', Order ID='ES-2016-5958799', Order Date='16/04/2016', Ship Date='18/04/2016', Ship Mode='Second Class', Customer ID='JD-15790', Customer Name='John Dryer', Segment='Consumer', City='Turku', State='Finland Proper', Country='Finland', Region='North', Product ID='OFF-ST-10003990', Category='Office Supplies', Sub-Category='Storage', Product Name='Smead Folders, Single Width', Sales='52.56', Quantity='3', Discount='0', Profit='16.29'),\n",
       " Row(Row ID='538', Order ID='ES-2017-4818116', Order Date='11/09/2017', Ship Date='14/09/2017', Ship Mode='First Class', Customer ID='RR-19525', Customer Name='Rick Reed', Segment='Corporate', City='Leipzig', State='Saxony', Country='Germany', Region='Central', Product ID='FUR-CH-10000807', Category='Furniture', Sub-Category='Chairs', Product Name='Hon Rocking Chair, Adjustable', Sales='718.794', Quantity='6', Discount='0.1', Profit='303.354'),\n",
       " Row(Row ID='539', Order ID='ES-2017-4818116', Order Date='11/09/2017', Ship Date='14/09/2017', Ship Mode='First Class', Customer ID='RR-19525', Customer Name='Rick Reed', Segment='Corporate', City='Leipzig', State='Saxony', Country='Germany', Region='Central', Product ID='OFF-EN-10000788', Category='Office Supplies', Sub-Category='Envelopes', Product Name='Jiffy Manila Envelope, Security-Tint', Sales='56.82', Quantity='2', Discount='0', Profit='27.84'),\n",
       " Row(Row ID='540', Order ID='IT-2017-3118491', Order Date='05/12/2017', Ship Date='09/12/2017', Ship Mode='Second Class', Customer ID='NF-18475', Customer Name='Neil Französisch', Segment='Home Office', City='Velsen', State='North Holland', Country='Netherlands', Region='Central', Product ID='OFF-ST-10001173', Category='Office Supplies', Sub-Category='Storage', Product Name='Eldon Folders, Industrial', Sales='26.19', Quantity='3', Discount='0.5', Profit='-24.66'),\n",
       " Row(Row ID='541', Order ID='ES-2017-5545008', Order Date='19/08/2017', Ship Date='19/08/2017', Ship Mode='Same Day', Customer ID='BF-11020', Customer Name='Barry Französisch', Segment='Corporate', City='Grasse', State=\"Provence-Alpes-Côte d'Azur\", Country='France', Region='Central', Product ID='OFF-EN-10002449', Category='Office Supplies', Sub-Category='Envelopes', Product Name='Ames Interoffice Envelope, Security-Tint', Sales='95.04', Quantity='2', Discount='0', Profit='46.56'),\n",
       " Row(Row ID='542', Order ID='IT-2015-4452672', Order Date='30/03/2015', Ship Date='03/04/2015', Ship Mode='Standard Class', Customer ID='CD-12280', Customer Name='Christina DeMoss', Segment='Consumer', City='Limoges', State='Aquitaine-Limousin-Poitou-Charentes', Country='France', Region='Central', Product ID='OFF-ST-10000872', Category='Office Supplies', Sub-Category='Storage', Product Name='Fellowes File Cart, Single Width', Sales='494.424', Quantity='4', Discount='0.1', Profit='-54.936'),\n",
       " Row(Row ID='543', Order ID='IT-2015-1765963', Order Date='18/01/2015', Ship Date='24/01/2015', Ship Mode='Standard Class', Customer ID='TB-21190', Customer Name='Thomas Brumley', Segment='Home Office', City='Assen', State='Drenthe', Country='Netherlands', Region='Central', Product ID='OFF-AR-10001672', Category='Office Supplies', Sub-Category='Art', Product Name='Boston Sketch Pad, Easy-Erase', Sales='171.045', Quantity='7', Discount='0.5', Profit='-71.925'),\n",
       " Row(Row ID='544', Order ID='ES-2017-2873001', Order Date='27/06/2017', Ship Date='29/06/2017', Ship Mode='First Class', Customer ID='AJ-10795', Customer Name='Anthony Johnson', Segment='Corporate', City='Valence', State='Auvergne-Rhône-Alpes', Country='France', Region='Central', Product ID='OFF-ST-10004577', Category='Office Supplies', Sub-Category='Storage', Product Name='Tenex Shelving, Wire Frame', Sales='48.357', Quantity='1', Discount='0.1', Profit='1.047'),\n",
       " Row(Row ID='545', Order ID='ES-2017-1209005', Order Date='09/06/2017', Ship Date='15/06/2017', Ship Mode='Standard Class', Customer ID='NG-18355', Customer Name='Nat Gilpin', Segment='Corporate', City='Ronchin', State='Hauts-de-France', Country='France', Region='Central', Product ID='OFF-LA-10004737', Category='Office Supplies', Sub-Category='Labels', Product Name='Avery Shipping Labels, 5000 Label Set', Sales='61.2', Quantity='5', Discount='0', Profit='23.25'),\n",
       " Row(Row ID='546', Order ID='ES-2017-1209005', Order Date='09/06/2017', Ship Date='15/06/2017', Ship Mode='Standard Class', Customer ID='NG-18355', Customer Name='Nat Gilpin', Segment='Corporate', City='Ronchin', State='Hauts-de-France', Country='France', Region='Central', Product ID='OFF-AP-10003758', Category='Office Supplies', Sub-Category='Appliances', Product Name='KitchenAid Blender, Silver', Sales='266.895', Quantity='3', Discount='0.1', Profit='74.115'),\n",
       " Row(Row ID='547', Order ID='ES-2017-1209005', Order Date='09/06/2017', Ship Date='15/06/2017', Ship Mode='Standard Class', Customer ID='NG-18355', Customer Name='Nat Gilpin', Segment='Corporate', City='Ronchin', State='Hauts-de-France', Country='France', Region='Central', Product ID='TEC-AC-10001904', Category='Technology', Sub-Category='Accessories', Product Name='Logitech Mouse, Bluetooth', Sales='146.4', Quantity='5', Discount='0', Profit='65.85'),\n",
       " Row(Row ID='548', Order ID='IT-2016-4762728', Order Date='18/12/2016', Ship Date='19/12/2016', Ship Mode='First Class', Customer ID='MC-17275', Customer Name='Marc Crier', Segment='Consumer', City='Krefeld', State='North Rhine-Westphalia', Country='Germany', Region='Central', Product ID='OFF-ST-10000632', Category='Office Supplies', Sub-Category='Storage', Product Name='Rogers Shelving, Single Width', Sales='167.832', Quantity='3', Discount='0.1', Profit='-3.798'),\n",
       " Row(Row ID='549', Order ID='IT-2016-4762728', Order Date='18/12/2016', Ship Date='19/12/2016', Ship Mode='First Class', Customer ID='MC-17275', Customer Name='Marc Crier', Segment='Consumer', City='Krefeld', State='North Rhine-Westphalia', Country='Germany', Region='Central', Product ID='TEC-CO-10003362', Category='Technology', Sub-Category='Copiers', Product Name='Sharp Fax and Copier, High-Speed', Sales='333.6', Quantity='2', Discount='0', Profit='40.02'),\n",
       " Row(Row ID='550', Order ID='IT-2016-4762728', Order Date='18/12/2016', Ship Date='19/12/2016', Ship Mode='First Class', Customer ID='MC-17275', Customer Name='Marc Crier', Segment='Consumer', City='Krefeld', State='North Rhine-Westphalia', Country='Germany', Region='Central', Product ID='TEC-CO-10002240', Category='Technology', Sub-Category='Copiers', Product Name='Canon Copy Machine, High-Speed', Sales='520.68', Quantity='2', Discount='0', Profit='93.72'),\n",
       " Row(Row ID='551', Order ID='ES-2016-2934598', Order Date='12/07/2016', Ship Date='16/07/2016', Ship Mode='Standard Class', Customer ID='CC-12100', Customer Name='Chad Cunningham', Segment='Home Office', City='Rome', State='Lazio', Country='Italy', Region='South', Product ID='OFF-LA-10004744', Category='Office Supplies', Sub-Category='Labels', Product Name='Smead Shipping Labels, Alphabetical', Sales='68.58', Quantity='6', Discount='0', Profit='16.38'),\n",
       " Row(Row ID='552', Order ID='ES-2016-2934598', Order Date='12/07/2016', Ship Date='16/07/2016', Ship Mode='Standard Class', Customer ID='CC-12100', Customer Name='Chad Cunningham', Segment='Home Office', City='Rome', State='Lazio', Country='Italy', Region='South', Product ID='TEC-CO-10002872', Category='Technology', Sub-Category='Copiers', Product Name='Canon Ink, Color', Sales='297.18', Quantity='2', Discount='0', Profit='56.46'),\n",
       " Row(Row ID='553', Order ID='ES-2016-2934598', Order Date='12/07/2016', Ship Date='16/07/2016', Ship Mode='Standard Class', Customer ID='CC-12100', Customer Name='Chad Cunningham', Segment='Home Office', City='Rome', State='Lazio', Country='Italy', Region='South', Product ID='OFF-ST-10002566', Category='Office Supplies', Sub-Category='Storage', Product Name='Tenex Lockers, Wire Frame', Sales='487.728', Quantity='4', Discount='0.4', Profit='-73.272'),\n",
       " Row(Row ID='554', Order ID='ES-2016-2934598', Order Date='12/07/2016', Ship Date='16/07/2016', Ship Mode='Standard Class', Customer ID='CC-12100', Customer Name='Chad Cunningham', Segment='Home Office', City='Rome', State='Lazio', Country='Italy', Region='South', Product ID='OFF-AR-10001002', Category='Office Supplies', Sub-Category='Art', Product Name='BIC Sketch Pad, Fluorescent', Sales='499.2', Quantity='10', Discount='0', Profit='164.7'),\n",
       " Row(Row ID='555', Order ID='ES-2016-2934598', Order Date='12/07/2016', Ship Date='16/07/2016', Ship Mode='Standard Class', Customer ID='CC-12100', Customer Name='Chad Cunningham', Segment='Home Office', City='Rome', State='Lazio', Country='Italy', Region='South', Product ID='OFF-SU-10003115', Category='Office Supplies', Sub-Category='Supplies', Product Name='Acme Scissors, Serrated', Sales='88.56', Quantity='4', Discount='0', Profit='5.28'),\n",
       " Row(Row ID='556', Order ID='ES-2016-2934598', Order Date='12/07/2016', Ship Date='16/07/2016', Ship Mode='Standard Class', Customer ID='CC-12100', Customer Name='Chad Cunningham', Segment='Home Office', City='Rome', State='Lazio', Country='Italy', Region='South', Product ID='OFF-AR-10000491', Category='Office Supplies', Sub-Category='Art', Product Name='Binney & Smith Pens, Water Color', Sales='30.24', Quantity='2', Discount='0', Profit='10.86'),\n",
       " Row(Row ID='557', Order ID='ES-2016-2934598', Order Date='12/07/2016', Ship Date='16/07/2016', Ship Mode='Standard Class', Customer ID='CC-12100', Customer Name='Chad Cunningham', Segment='Home Office', City='Rome', State='Lazio', Country='Italy', Region='South', Product ID='TEC-CO-10004365', Category='Technology', Sub-Category='Copiers', Product Name='HP Wireless Fax, Color', Sales='723.3', Quantity='2', Discount='0', Profit='7.2'),\n",
       " Row(Row ID='558', Order ID='ES-2016-2934598', Order Date='12/07/2016', Ship Date='16/07/2016', Ship Mode='Standard Class', Customer ID='CC-12100', Customer Name='Chad Cunningham', Segment='Home Office', City='Rome', State='Lazio', Country='Italy', Region='South', Product ID='OFF-BI-10000329', Category='Office Supplies', Sub-Category='Binders', Product Name='Acco Binder, Durable', Sales='133.2', Quantity='8', Discount='0', Profit='37.2'),\n",
       " Row(Row ID='559', Order ID='ES-2015-2424799', Order Date='24/08/2015', Ship Date='28/08/2015', Ship Mode='Standard Class', Customer ID='TB-21055', Customer Name='Ted Butterfield', Segment='Consumer', City='Bury', State='England', Country='United Kingdom', Region='North', Product ID='OFF-FA-10002071', Category='Office Supplies', Sub-Category='Fasteners', Product Name='Accos Thumb Tacks, Assorted Sizes', Sales='77.91', Quantity='7', Discount='0', Profit='5.25'),\n",
       " Row(Row ID='560', Order ID='ES-2016-3327575', Order Date='18/05/2016', Ship Date='24/05/2016', Ship Mode='Standard Class', Customer ID='JL-15835', Customer Name='John Lee', Segment='Consumer', City='Messina', State='Sicily', Country='Italy', Region='South', Product ID='OFF-ST-10001426', Category='Office Supplies', Sub-Category='Storage', Product Name='Eldon Folders, Single Width', Sales='20.412', Quantity='2', Discount='0.4', Profit='2.352'),\n",
       " Row(Row ID='561', Order ID='ES-2015-1909603', Order Date='24/08/2015', Ship Date='29/08/2015', Ship Mode='Standard Class', Customer ID='JF-15190', Customer Name='Jamie Frazer', Segment='Consumer', City='Hanover', State='Lower Saxony', Country='Germany', Region='Central', Product ID='FUR-BO-10003904', Category='Furniture', Sub-Category='Bookcases', Product Name='Ikea Corner Shelving, Traditional', Sales='147.672', Quantity='3', Discount='0.6', Profit='-81.288'),\n",
       " Row(Row ID='562', Order ID='ES-2015-2376278', Order Date='07/11/2015', Ship Date='13/11/2015', Ship Mode='Standard Class', Customer ID='JE-15715', Customer Name='Joe Elijah', Segment='Consumer', City='Luton', State='England', Country='United Kingdom', Region='North', Product ID='OFF-ST-10001025', Category='Office Supplies', Sub-Category='Storage', Product Name='Tenex Trays, Single Width', Sales='325.44', Quantity='6', Discount='0', Profit='123.66'),\n",
       " Row(Row ID='563', Order ID='ES-2017-3549819', Order Date='04/09/2017', Ship Date='08/09/2017', Ship Mode='Standard Class', Customer ID='DL-12865', Customer Name='Dan Lawera', Segment='Consumer', City='Bordeaux', State='Aquitaine-Limousin-Poitou-Charentes', Country='France', Region='Central', Product ID='OFF-AR-10001578', Category='Office Supplies', Sub-Category='Art', Product Name='Sanford Pencil Sharpener, Fluorescent', Sales='51.66', Quantity='2', Discount='0', Profit='18.06'),\n",
       " Row(Row ID='564', Order ID='ES-2015-3944475', Order Date='30/06/2015', Ship Date='05/07/2015', Ship Mode='Standard Class', Customer ID='SC-20725', Customer Name='Steven Cartwright', Segment='Consumer', City='Berlin', State='Berlin', Country='Germany', Region='Central', Product ID='OFF-BI-10004722', Category='Office Supplies', Sub-Category='Binders', Product Name='Avery Index Tab, Clear', Sales='15.633', Quantity='3', Discount='0.1', Profit='2.943'),\n",
       " Row(Row ID='565', Order ID='ES-2015-3944475', Order Date='30/06/2015', Ship Date='05/07/2015', Ship Mode='Standard Class', Customer ID='SC-20725', Customer Name='Steven Cartwright', Segment='Consumer', City='Berlin', State='Berlin', Country='Germany', Region='Central', Product ID='OFF-AR-10001176', Category='Office Supplies', Sub-Category='Art', Product Name='Sanford Pens, Water Color', Sales='64.26', Quantity='5', Discount='0.1', Profit='25.56'),\n",
       " Row(Row ID='566', Order ID='ES-2015-3944475', Order Date='30/06/2015', Ship Date='05/07/2015', Ship Mode='Standard Class', Customer ID='SC-20725', Customer Name='Steven Cartwright', Segment='Consumer', City='Berlin', State='Berlin', Country='Germany', Region='Central', Product ID='FUR-CH-10004047', Category='Furniture', Sub-Category='Chairs', Product Name='SAFCO Rocking Chair, Adjustable', Sales='769.44', Quantity='7', Discount='0.2', Profit='153.72'),\n",
       " Row(Row ID='567', Order ID='ES-2015-3944475', Order Date='30/06/2015', Ship Date='05/07/2015', Ship Mode='Standard Class', Customer ID='SC-20725', Customer Name='Steven Cartwright', Segment='Consumer', City='Berlin', State='Berlin', Country='Germany', Region='Central', Product ID='OFF-ST-10001142', Category='Office Supplies', Sub-Category='Storage', Product Name='Smead Folders, Wire Frame', Sales='52.992', Quantity='4', Discount='0.2', Profit='-9.288'),\n",
       " Row(Row ID='568', Order ID='ES-2015-3944475', Order Date='30/06/2015', Ship Date='05/07/2015', Ship Mode='Standard Class', Customer ID='SC-20725', Customer Name='Steven Cartwright', Segment='Consumer', City='Berlin', State='Berlin', Country='Germany', Region='Central', Product ID='TEC-CO-10002601', Category='Technology', Sub-Category='Copiers', Product Name='Brother Fax and Copier, Digital', Sales='344.034', Quantity='2', Discount='0.1', Profit='15.234'),\n",
       " Row(Row ID='569', Order ID='ES-2015-3944475', Order Date='30/06/2015', Ship Date='05/07/2015', Ship Mode='Standard Class', Customer ID='SC-20725', Customer Name='Steven Cartwright', Segment='Consumer', City='Berlin', State='Berlin', Country='Germany', Region='Central', Product ID='OFF-BI-10003650', Category='Office Supplies', Sub-Category='Binders', Product Name='Ibico Index Tab, Clear', Sales='56.133', Quantity='7', Discount='0.1', Profit='4.893'),\n",
       " Row(Row ID='570', Order ID='ES-2015-3944475', Order Date='30/06/2015', Ship Date='05/07/2015', Ship Mode='Standard Class', Customer ID='SC-20725', Customer Name='Steven Cartwright', Segment='Consumer', City='Berlin', State='Berlin', Country='Germany', Region='Central', Product ID='FUR-FU-10000907', Category='Furniture', Sub-Category='Furnishings', Product Name='Eldon Clock, Duo Pack', Sales='152.766', Quantity='3', Discount='0.1', Profit='57.636'),\n",
       " Row(Row ID='571', Order ID='IT-2015-5774254', Order Date='06/03/2015', Ship Date='11/03/2015', Ship Mode='Standard Class', Customer ID='JE-15475', Customer Name='Jeremy Ellison', Segment='Consumer', City='Dundee', State='Scotland', Country='United Kingdom', Region='North', Product ID='OFF-ST-10000872', Category='Office Supplies', Sub-Category='Storage', Product Name='Fellowes File Cart, Single Width', Sales='137.34', Quantity='1', Discount='0', Profit='0'),\n",
       " Row(Row ID='572', Order ID='IT-2015-5774254', Order Date='06/03/2015', Ship Date='11/03/2015', Ship Mode='Standard Class', Customer ID='JE-15475', Customer Name='Jeremy Ellison', Segment='Consumer', City='Dundee', State='Scotland', Country='United Kingdom', Region='North', Product ID='FUR-FU-10004152', Category='Furniture', Sub-Category='Furnishings', Product Name='Eldon Photo Frame, Erganomic', Sales='119.133', Quantity='3', Discount='0.3', Profit='6.723'),\n",
       " Row(Row ID='573', Order ID='ES-2016-3621706', Order Date='11/10/2016', Ship Date='13/10/2016', Ship Mode='Second Class', Customer ID='CK-12205', Customer Name='Chloris Kastensmidt', Segment='Consumer', City='Great Yarmouth', State='England', Country='United Kingdom', Region='North', Product ID='FUR-CH-10002585', Category='Furniture', Sub-Category='Chairs', Product Name='Harbour Creations Executive Leather Armchair, Black', Sales='947.22', Quantity='2', Discount='0', Profit='274.68'),\n",
       " Row(Row ID='574', Order ID='ES-2016-3621706', Order Date='11/10/2016', Ship Date='13/10/2016', Ship Mode='Second Class', Customer ID='CK-12205', Customer Name='Chloris Kastensmidt', Segment='Consumer', City='Great Yarmouth', State='England', Country='United Kingdom', Region='North', Product ID='OFF-EN-10002723', Category='Office Supplies', Sub-Category='Envelopes', Product Name='Cameo Interoffice Envelope, with clear poly window', Sales='101.94', Quantity='2', Discount='0', Profit='5.04'),\n",
       " Row(Row ID='575', Order ID='ES-2016-3621706', Order Date='11/10/2016', Ship Date='13/10/2016', Ship Mode='Second Class', Customer ID='CK-12205', Customer Name='Chloris Kastensmidt', Segment='Consumer', City='Great Yarmouth', State='England', Country='United Kingdom', Region='North', Product ID='OFF-ST-10004060', Category='Office Supplies', Sub-Category='Storage', Product Name='Eldon Lockers, Single Width', Sales='395.88', Quantity='2', Discount='0', Profit='193.98'),\n",
       " Row(Row ID='576', Order ID='ES-2015-2368795', Order Date='22/12/2015', Ship Date='29/12/2015', Ship Mode='Standard Class', Customer ID='RB-19360', Customer Name='Raymond Buch', Segment='Consumer', City='Fontaine', State='Auvergne-Rhône-Alpes', Country='France', Region='Central', Product ID='OFF-AP-10000330', Category='Office Supplies', Sub-Category='Appliances', Product Name='Hamilton Beach Stove, Red', Sales='1952.424', Quantity='4', Discount='0.1', Profit='759.264'),\n",
       " Row(Row ID='577', Order ID='ES-2015-2368795', Order Date='22/12/2015', Ship Date='29/12/2015', Ship Mode='Standard Class', Customer ID='RB-19360', Customer Name='Raymond Buch', Segment='Consumer', City='Fontaine', State='Auvergne-Rhône-Alpes', Country='France', Region='Central', Product ID='FUR-TA-10002568', Category='Furniture', Sub-Category='Tables', Product Name='Chromcraft Coffee Table, Rectangular', Sales='172.029', Quantity='1', Discount='0.35', Profit='-58.251'),\n",
       " Row(Row ID='578', Order ID='ES-2015-2368795', Order Date='22/12/2015', Ship Date='29/12/2015', Ship Mode='Standard Class', Customer ID='RB-19360', Customer Name='Raymond Buch', Segment='Consumer', City='Fontaine', State='Auvergne-Rhône-Alpes', Country='France', Region='Central', Product ID='OFF-BI-10001621', Category='Office Supplies', Sub-Category='Binders', Product Name='Cardinal Binding Machine, Economy', Sales='248.85', Quantity='5', Discount='0', Profit='69.6'),\n",
       " Row(Row ID='579', Order ID='ES-2015-2368795', Order Date='22/12/2015', Ship Date='29/12/2015', Ship Mode='Standard Class', Customer ID='RB-19360', Customer Name='Raymond Buch', Segment='Consumer', City='Fontaine', State='Auvergne-Rhône-Alpes', Country='France', Region='Central', Product ID='TEC-MA-10004897', Category='Technology', Sub-Category='Machines', Product Name='StarTech Calculator, White', Sales='130.458', Quantity='4', Discount='0.15', Profit='-20.022'),\n",
       " Row(Row ID='580', Order ID='IT-2017-2531959', Order Date='12/06/2017', Ship Date='18/06/2017', Ship Mode='Standard Class', Customer ID='AM-10360', Customer Name='Alice McCarthy', Segment='Corporate', City='Paris', State='Ile-de-France', Country='France', Region='Central', Product ID='TEC-MA-10000261', Category='Technology', Sub-Category='Machines', Product Name='StarTech Calculator, Red', Sales='126.174', Quantity='4', Discount='0.15', Profit='-0.066'),\n",
       " Row(Row ID='581', Order ID='IT-2017-2531959', Order Date='12/06/2017', Ship Date='18/06/2017', Ship Mode='Standard Class', Customer ID='AM-10360', Customer Name='Alice McCarthy', Segment='Corporate', City='Paris', State='Ile-de-France', Country='France', Region='Central', Product ID='OFF-BI-10001984', Category='Office Supplies', Sub-Category='Binders', Product Name='Ibico Binding Machine, Economy', Sales='154.26', Quantity='3', Discount='0', Profit='13.86'),\n",
       " Row(Row ID='582', Order ID='IT-2017-2531959', Order Date='12/06/2017', Ship Date='18/06/2017', Ship Mode='Standard Class', Customer ID='AM-10360', Customer Name='Alice McCarthy', Segment='Corporate', City='Paris', State='Ile-de-France', Country='France', Region='Central', Product ID='OFF-EN-10004649', Category='Office Supplies', Sub-Category='Envelopes', Product Name='Ames Mailers, Recycled', Sales='207.9', Quantity='6', Discount='0', Profit='4.14'),\n",
       " Row(Row ID='583', Order ID='ES-2015-1830333', Order Date='22/09/2015', Ship Date='25/09/2015', Ship Mode='First Class', Customer ID='BM-11785', Customer Name='Bryan Mills', Segment='Consumer', City='Bochum', State='North Rhine-Westphalia', Country='Germany', Region='Central', Product ID='TEC-AC-10002883', Category='Technology', Sub-Category='Accessories', Product Name='Belkin Flash Drive, USB', Sales='126.45', Quantity='3', Discount='0', Profit='41.67'),\n",
       " Row(Row ID='584', Order ID='ES-2015-5994251', Order Date='11/04/2015', Ship Date='13/04/2015', Ship Mode='Second Class', Customer ID='TB-21520', Customer Name='Tracy Blumstein', Segment='Consumer', City='Parla', State='Madrid', Country='Spain', Region='South', Product ID='OFF-BI-10003152', Category='Office Supplies', Sub-Category='Binders', Product Name='Avery Hole Reinforcements, Recycled', Sales='23.85', Quantity='5', Discount='0', Profit='10.2'),\n",
       " Row(Row ID='585', Order ID='ES-2015-1059651', Order Date='18/08/2015', Ship Date='23/08/2015', Ship Mode='Standard Class', Customer ID='BE-11335', Customer Name='Bill Eplett', Segment='Home Office', City='Evreux', State='Normandy', Country='France', Region='Central', Product ID='FUR-FU-10001718', Category='Furniture', Sub-Category='Furnishings', Product Name='Eldon Door Stop, Duo Pack', Sales='200.88', Quantity='4', Discount='0', Profit='62.16'),\n",
       " Row(Row ID='586', Order ID='ES-2015-1059651', Order Date='18/08/2015', Ship Date='23/08/2015', Ship Mode='Standard Class', Customer ID='BE-11335', Customer Name='Bill Eplett', Segment='Home Office', City='Evreux', State='Normandy', Country='France', Region='Central', Product ID='OFF-PA-10004468', Category='Office Supplies', Sub-Category='Paper', Product Name='SanDisk Note Cards, Premium', Sales='93.69', Quantity='3', Discount='0', Profit='38.34'),\n",
       " Row(Row ID='587', Order ID='ES-2015-1059651', Order Date='18/08/2015', Ship Date='23/08/2015', Ship Mode='Standard Class', Customer ID='BE-11335', Customer Name='Bill Eplett', Segment='Home Office', City='Evreux', State='Normandy', Country='France', Region='Central', Product ID='OFF-AR-10000584', Category='Office Supplies', Sub-Category='Art', Product Name='Sanford Pencil Sharpener, Water Color', Sales='87.03', Quantity='3', Discount='0', Profit='9.54'),\n",
       " Row(Row ID='588', Order ID='ES-2017-4554406', Order Date='18/08/2017', Ship Date='22/08/2017', Ship Mode='Standard Class', Customer ID='IM-15070', Customer Name='Irene Maddox', Segment='Consumer', City='Nuremberg', State='Bavaria', Country='Germany', Region='Central', Product ID='OFF-AR-10002485', Category='Office Supplies', Sub-Category='Art', Product Name='Boston Markers, Easy-Erase', Sales='186.48', Quantity='7', Discount='0', Profit='16.59'),\n",
       " Row(Row ID='589', Order ID='ES-2017-4554406', Order Date='18/08/2017', Ship Date='22/08/2017', Ship Mode='Standard Class', Customer ID='IM-15070', Customer Name='Irene Maddox', Segment='Consumer', City='Nuremberg', State='Bavaria', Country='Germany', Region='Central', Product ID='OFF-AR-10003651', Category='Office Supplies', Sub-Category='Art', Product Name='Sanford Pencil Sharpener, Easy-Erase', Sales='243.81', Quantity='9', Discount='0', Profit='121.77'),\n",
       " Row(Row ID='590', Order ID='ES-2017-4554406', Order Date='18/08/2017', Ship Date='22/08/2017', Ship Mode='Standard Class', Customer ID='IM-15070', Customer Name='Irene Maddox', Segment='Consumer', City='Nuremberg', State='Bavaria', Country='Germany', Region='Central', Product ID='OFF-BI-10000115', Category='Office Supplies', Sub-Category='Binders', Product Name='Acco Hole Reinforcements, Clear', Sales='18.36', Quantity='3', Discount='0', Profit='0.72'),\n",
       " Row(Row ID='591', Order ID='ES-2017-4554406', Order Date='18/08/2017', Ship Date='22/08/2017', Ship Mode='Standard Class', Customer ID='IM-15070', Customer Name='Irene Maddox', Segment='Consumer', City='Nuremberg', State='Bavaria', Country='Germany', Region='Central', Product ID='TEC-MA-10000002', Category='Technology', Sub-Category='Machines', Product Name='Epson Card Printer, Durable', Sales='1190.49', Quantity='7', Discount='0', Profit='404.67'),\n",
       " Row(Row ID='592', Order ID='ES-2017-4554406', Order Date='18/08/2017', Ship Date='22/08/2017', Ship Mode='Standard Class', Customer ID='IM-15070', Customer Name='Irene Maddox', Segment='Consumer', City='Nuremberg', State='Bavaria', Country='Germany', Region='Central', Product ID='OFF-ST-10000710', Category='Office Supplies', Sub-Category='Storage', Product Name='Smead Shelving, Blue', Sales='44.037', Quantity='1', Discount='0.1', Profit='9.777'),\n",
       " Row(Row ID='593', Order ID='ES-2017-2718788', Order Date='21/03/2017', Ship Date='24/03/2017', Ship Mode='Second Class', Customer ID='KA-16525', Customer Name='Kelly Andreada', Segment='Consumer', City='Sarcelles', State='Ile-de-France', Country='France', Region='Central', Product ID='TEC-MA-10002660', Category='Technology', Sub-Category='Machines', Product Name='Epson Phone, White', Sales='134.946', Quantity='2', Discount='0.15', Profit='36.486'),\n",
       " Row(Row ID='594', Order ID='IT-2017-2655984', Order Date='05/12/2017', Ship Date='12/12/2017', Ship Mode='Standard Class', Customer ID='BF-11215', Customer Name='Benjamin Farhat', Segment='Home Office', City='Villeneuve-sur-Lot', State='Aquitaine-Limousin-Poitou-Charentes', Country='France', Region='Central', Product ID='OFF-AP-10001776', Category='Office Supplies', Sub-Category='Appliances', Product Name='Hamilton Beach Microwave, White', Sales='1262.925', Quantity='5', Discount='0.1', Profit='-56.175'),\n",
       " Row(Row ID='595', Order ID='ES-2015-1177332', Order Date='10/01/2015', Ship Date='16/01/2015', Ship Mode='Standard Class', Customer ID='JL-15235', Customer Name='Janet Lee', Segment='Consumer', City='Verona', State='Veneto', Country='Italy', Region='South', Product ID='OFF-PA-10003884', Category='Office Supplies', Sub-Category='Paper', Product Name='Eaton Message Books, Multicolor', Sales='43.98', Quantity='2', Discount='0', Profit='20.22'),\n",
       " Row(Row ID='596', Order ID='ES-2015-1177332', Order Date='10/01/2015', Ship Date='16/01/2015', Ship Mode='Standard Class', Customer ID='JL-15235', Customer Name='Janet Lee', Segment='Consumer', City='Verona', State='Veneto', Country='Italy', Region='South', Product ID='OFF-PA-10004160', Category='Office Supplies', Sub-Category='Paper', Product Name='SanDisk Note Cards, Premium', Sales='59.64', Quantity='2', Discount='0', Profit='17.88'),\n",
       " Row(Row ID='597', Order ID='ES-2015-1177332', Order Date='10/01/2015', Ship Date='16/01/2015', Ship Mode='Standard Class', Customer ID='JL-15235', Customer Name='Janet Lee', Segment='Consumer', City='Verona', State='Veneto', Country='Italy', Region='South', Product ID='FUR-BO-10004119', Category='Furniture', Sub-Category='Bookcases', Product Name='Ikea Floating Shelf Set, Traditional', Sales='1022.04', Quantity='6', Discount='0', Profit='61.2'),\n",
       " Row(Row ID='598', Order ID='ES-2015-1177332', Order Date='10/01/2015', Ship Date='16/01/2015', Ship Mode='Standard Class', Customer ID='JL-15235', Customer Name='Janet Lee', Segment='Consumer', City='Verona', State='Veneto', Country='Italy', Region='South', Product ID='OFF-ST-10004377', Category='Office Supplies', Sub-Category='Storage', Product Name='Rogers File Cart, Single Width', Sales='169.956', Quantity='2', Discount='0.4', Profit='-39.684'),\n",
       " Row(Row ID='599', Order ID='ES-2016-1172576', Order Date='25/12/2016', Ship Date='01/01/2017', Ship Mode='Standard Class', Customer ID='MW-18220', Customer Name='Mitch Webber', Segment='Consumer', City='Gelsenkirchen', State='North Rhine-Westphalia', Country='Germany', Region='Central', Product ID='OFF-FA-10004503', Category='Office Supplies', Sub-Category='Fasteners', Product Name='Accos Staples, Assorted Sizes', Sales='25.2', Quantity='3', Discount='0', Profit='9.81'),\n",
       " Row(Row ID='600', Order ID='ES-2016-1172576', Order Date='25/12/2016', Ship Date='01/01/2017', Ship Mode='Standard Class', Customer ID='MW-18220', Customer Name='Mitch Webber', Segment='Consumer', City='Gelsenkirchen', State='North Rhine-Westphalia', Country='Germany', Region='Central', Product ID='OFF-BI-10001808', Category='Office Supplies', Sub-Category='Binders', Product Name='Cardinal Binding Machine, Clear', Sales='393.84', Quantity='8', Discount='0', Profit='157.44'),\n",
       " Row(Row ID='601', Order ID='ES-2016-1172576', Order Date='25/12/2016', Ship Date='01/01/2017', Ship Mode='Standard Class', Customer ID='MW-18220', Customer Name='Mitch Webber', Segment='Consumer', City='Gelsenkirchen', State='North Rhine-Westphalia', Country='Germany', Region='Central', Product ID='OFF-BI-10002894', Category='Office Supplies', Sub-Category='Binders', Product Name='Avery Binding Machine, Durable', Sales='100.68', Quantity='2', Discount='0', Profit='6'),\n",
       " Row(Row ID='602', Order ID='IT-2015-1032855', Order Date='08/03/2015', Ship Date='14/03/2015', Ship Mode='Standard Class', Customer ID='FA-14230', Customer Name='Frank Atkinson', Segment='Corporate', City='Apeldoorn', State='Gelderland', Country='Netherlands', Region='Central', Product ID='OFF-AR-10001230', Category='Office Supplies', Sub-Category='Art', Product Name='Binney & Smith Markers, Water Color', Sales='27.27', Quantity='2', Discount='0.5', Profit='-18.03'),\n",
       " Row(Row ID='603', Order ID='ES-2017-5239688', Order Date='05/11/2017', Ship Date='09/11/2017', Ship Mode='Second Class', Customer ID='JD-16015', Customer Name='Joy Daniels', Segment='Consumer', City='Glasgow', State='Scotland', Country='United Kingdom', Region='North', Product ID='OFF-AR-10000316', Category='Office Supplies', Sub-Category='Art', Product Name='Stanley Pens, Blue', Sales='50.25', Quantity='5', Discount='0', Profit='24.6'),\n",
       " Row(Row ID='604', Order ID='ES-2017-5949760', Order Date='29/08/2017', Ship Date='02/09/2017', Ship Mode='Standard Class', Customer ID='HA-14905', Customer Name='Helen Abelman', Segment='Consumer', City='Barcelona', State='Catalonia', Country='Spain', Region='South', Product ID='TEC-AC-10003666', Category='Technology', Sub-Category='Accessories', Product Name='Memorex Router, Bluetooth', Sales='492.42', Quantity='2', Discount='0', Profit='187.08'),\n",
       " Row(Row ID='605', Order ID='ES-2017-5949760', Order Date='29/08/2017', Ship Date='02/09/2017', Ship Mode='Standard Class', Customer ID='HA-14905', Customer Name='Helen Abelman', Segment='Consumer', City='Barcelona', State='Catalonia', Country='Spain', Region='South', Product ID='FUR-BO-10004119', Category='Furniture', Sub-Category='Bookcases', Product Name='Ikea Floating Shelf Set, Traditional', Sales='851.7', Quantity='5', Discount='0', Profit='51'),\n",
       " Row(Row ID='606', Order ID='ES-2016-3903431', Order Date='09/09/2016', Ship Date='16/09/2016', Ship Mode='Standard Class', Customer ID='TB-21250', Customer Name='Tim Brockman', Segment='Consumer', City='Lohne', State='Lower Saxony', Country='Germany', Region='Central', Product ID='OFF-SU-10001021', Category='Office Supplies', Sub-Category='Supplies', Product Name='Fiskars Box Cutter, Serrated', Sales='225.54', Quantity='7', Discount='0', Profit='72.03'),\n",
       " Row(Row ID='607', Order ID='ES-2016-4895029', Order Date='19/02/2016', Ship Date='22/02/2016', Ship Mode='Second Class', Customer ID='MM-17260', Customer Name='Magdelene Morse', Segment='Consumer', City='Argenteuil', State='Ile-de-France', Country='France', Region='Central', Product ID='OFF-EN-10000352', Category='Office Supplies', Sub-Category='Envelopes', Product Name='GlobeWeis Peel and Seal, Recycled', Sales='100.95', Quantity='5', Discount='0', Profit='48.45'),\n",
       " Row(Row ID='608', Order ID='ES-2016-4895029', Order Date='19/02/2016', Ship Date='22/02/2016', Ship Mode='Second Class', Customer ID='MM-17260', Customer Name='Magdelene Morse', Segment='Consumer', City='Argenteuil', State='Ile-de-France', Country='France', Region='Central', Product ID='OFF-BI-10001119', Category='Office Supplies', Sub-Category='Binders', Product Name='Wilson Jones Index Tab, Clear', Sales='23.64', Quantity='4', Discount='0', Profit='2.04'),\n",
       " Row(Row ID='609', Order ID='ES-2016-4895029', Order Date='19/02/2016', Ship Date='22/02/2016', Ship Mode='Second Class', Customer ID='MM-17260', Customer Name='Magdelene Morse', Segment='Consumer', City='Argenteuil', State='Ile-de-France', Country='France', Region='Central', Product ID='OFF-BI-10002172', Category='Office Supplies', Sub-Category='Binders', Product Name='Acco Binding Machine, Recycled', Sales='102.9', Quantity='2', Discount='0', Profit='25.68'),\n",
       " Row(Row ID='610', Order ID='ES-2016-4895029', Order Date='19/02/2016', Ship Date='22/02/2016', Ship Mode='Second Class', Customer ID='MM-17260', Customer Name='Magdelene Morse', Segment='Consumer', City='Argenteuil', State='Ile-de-France', Country='France', Region='Central', Product ID='OFF-ST-10003111', Category='Office Supplies', Sub-Category='Storage', Product Name='Eldon Trays, Single Width', Sales='388.8', Quantity='9', Discount='0.1', Profit='99.36'),\n",
       " Row(Row ID='611', Order ID='IT-2015-1819598', Order Date='23/02/2015', Ship Date='01/03/2015', Ship Mode='Standard Class', Customer ID='NF-18595', Customer Name='Nicole Fjeld', Segment='Home Office', City='Sassari', State='Sardinia', Country='Italy', Region='South', Product ID='TEC-MA-10001139', Category='Technology', Sub-Category='Machines', Product Name='Okidata Receipt Printer, Wireless', Sales='147.492', Quantity='2', Discount='0.4', Profit='-31.968'),\n",
       " Row(Row ID='612', Order ID='IT-2017-5285883', Order Date='06/12/2017', Ship Date='12/12/2017', Ship Mode='Standard Class', Customer ID='PB-19210', Customer Name='Phillip Breyer', Segment='Corporate', City='Oosterhout', State='North Brabant', Country='Netherlands', Region='Central', Product ID='OFF-AR-10003658', Category='Office Supplies', Sub-Category='Art', Product Name='Boston Markers, Water Color', Sales='73.875', Quantity='5', Discount='0.5', Profit='-73.875'),\n",
       " Row(Row ID='613', Order ID='IT-2017-5285883', Order Date='06/12/2017', Ship Date='12/12/2017', Ship Mode='Standard Class', Customer ID='PB-19210', Customer Name='Phillip Breyer', Segment='Corporate', City='Oosterhout', State='North Brabant', Country='Netherlands', Region='Central', Product ID='OFF-LA-10003283', Category='Office Supplies', Sub-Category='Labels', Product Name='Hon File Folder Labels, 5000 Label Set', Sales='40.635', Quantity='9', Discount='0.5', Profit='-0.135'),\n",
       " Row(Row ID='614', Order ID='IT-2017-5285883', Order Date='06/12/2017', Ship Date='12/12/2017', Ship Mode='Standard Class', Customer ID='PB-19210', Customer Name='Phillip Breyer', Segment='Corporate', City='Oosterhout', State='North Brabant', Country='Netherlands', Region='Central', Product ID='OFF-BI-10002570', Category='Office Supplies', Sub-Category='Binders', Product Name='Cardinal 3-Hole Punch, Clear', Sales='28.26', Quantity='2', Discount='0.5', Profit='-16.44'),\n",
       " Row(Row ID='615', Order ID='IT-2017-5285883', Order Date='06/12/2017', Ship Date='12/12/2017', Ship Mode='Standard Class', Customer ID='PB-19210', Customer Name='Phillip Breyer', Segment='Corporate', City='Oosterhout', State='North Brabant', Country='Netherlands', Region='Central', Product ID='TEC-CO-10004042', Category='Technology', Sub-Category='Copiers', Product Name='Brother Wireless Fax, Laser', Sales='378.81', Quantity='2', Discount='0.5', Profit='-98.55'),\n",
       " Row(Row ID='616', Order ID='ES-2015-5677695', Order Date='07/07/2015', Ship Date='11/07/2015', Ship Mode='Standard Class', Customer ID='SR-20740', Customer Name='Steven Roelle', Segment='Home Office', City='Paris', State='Ile-de-France', Country='France', Region='Central', Product ID='FUR-CH-10003842', Category='Furniture', Sub-Category='Chairs', Product Name='Harbour Creations Chairmat, Red', Sales='518.4', Quantity='8', Discount='0.1', Profit='63.36'),\n",
       " Row(Row ID='617', Order ID='ES-2017-5748893', Order Date='27/08/2017', Ship Date='31/08/2017', Ship Mode='Standard Class', Customer ID='CA-12055', Customer Name='Cathy Armstrong', Segment='Home Office', City='Barcelona', State='Catalonia', Country='Spain', Region='South', Product ID='OFF-SU-10003173', Category='Office Supplies', Sub-Category='Supplies', Product Name='Acme Ruler, Serrated', Sales='53.64', Quantity='4', Discount='0', Profit='15'),\n",
       " Row(Row ID='618', Order ID='ES-2017-3632460', Order Date='17/09/2017', Ship Date='24/09/2017', Ship Mode='Standard Class', Customer ID='TS-21160', Customer Name='Theresa Swint', Segment='Corporate', City='Marseille', State=\"Provence-Alpes-Côte d'Azur\", Country='France', Region='Central', Product ID='OFF-BI-10001253', Category='Office Supplies', Sub-Category='Binders', Product Name='Acco Binder Covers, Recycled', Sales='54.72', Quantity='4', Discount='0', Profit='16.32'),\n",
       " Row(Row ID='619', Order ID='ES-2017-3632460', Order Date='17/09/2017', Ship Date='24/09/2017', Ship Mode='Standard Class', Customer ID='TS-21160', Customer Name='Theresa Swint', Segment='Corporate', City='Marseille', State=\"Provence-Alpes-Côte d'Azur\", Country='France', Region='Central', Product ID='FUR-CH-10001037', Category='Furniture', Sub-Category='Chairs', Product Name='SAFCO Chairmat, Adjustable', Sales='504.711', Quantity='9', Discount='0.1', Profit='67.041'),\n",
       " Row(Row ID='620', Order ID='ES-2015-1994326', Order Date='01/11/2015', Ship Date='05/11/2015', Ship Mode='Standard Class', Customer ID='JF-15190', Customer Name='Jamie Frazer', Segment='Consumer', City='Villeurbanne', State='Auvergne-Rhône-Alpes', Country='France', Region='Central', Product ID='OFF-EN-10003087', Category='Office Supplies', Sub-Category='Envelopes', Product Name='Jiffy Peel and Seal, Security-Tint', Sales='112.05', Quantity='5', Discount='0', Profit='12.3'),\n",
       " Row(Row ID='621', Order ID='IT-2017-3438902', Order Date='12/11/2017', Ship Date='19/11/2017', Ship Mode='Standard Class', Customer ID='GR-14560', Customer Name='Georgia Rosenberg', Segment='Corporate', City='Stockholm', State='Stockholm', Country='Sweden', Region='North', Product ID='OFF-AP-10001847', Category='Office Supplies', Sub-Category='Appliances', Product Name='Breville Toaster, Red', Sales='115.065', Quantity='3', Discount='0.5', Profit='-39.195'),\n",
       " Row(Row ID='622', Order ID='IT-2017-3438902', Order Date='12/11/2017', Ship Date='19/11/2017', Ship Mode='Standard Class', Customer ID='GR-14560', Customer Name='Georgia Rosenberg', Segment='Corporate', City='Stockholm', State='Stockholm', Country='Sweden', Region='North', Product ID='OFF-EN-10004649', Category='Office Supplies', Sub-Category='Envelopes', Product Name='Ames Mailers, Recycled', Sales='86.625', Quantity='5', Discount='0.5', Profit='-83.175'),\n",
       " Row(Row ID='623', Order ID='ES-2016-3118043', Order Date='06/06/2016', Ship Date='10/06/2016', Ship Mode='Standard Class', Customer ID='LL-16840', Customer Name='Lauren Leatherbury', Segment='Consumer', City='Bourges', State='Centre-Val de Loire', Country='France', Region='Central', Product ID='OFF-BI-10003899', Category='Office Supplies', Sub-Category='Binders', Product Name='Avery 3-Hole Punch, Recycled', Sales='84.69', Quantity='3', Discount='0', Profit='0'),\n",
       " Row(Row ID='624', Order ID='ES-2015-2617664', Order Date='02/12/2015', Ship Date='06/12/2015', Ship Mode='Standard Class', Customer ID='SJ-20500', Customer Name='Shirley Jackson', Segment='Consumer', City='Mont-de-Marsan', State='Aquitaine-Limousin-Poitou-Charentes', Country='France', Region='Central', Product ID='OFF-AR-10001461', Category='Office Supplies', Sub-Category='Art', Product Name='BIC Canvas, Water Color', Sales='511.92', Quantity='9', Discount='0', Profit='4.86'),\n",
       " Row(Row ID='625', Order ID='ES-2015-1743140', Order Date='22/06/2015', Ship Date='29/06/2015', Ship Mode='Standard Class', Customer ID='VP-21760', Customer Name='Victoria Pisteka', Segment='Corporate', City='Vienna', State='Vienna', Country='Austria', Region='Central', Product ID='OFF-SU-10003357', Category='Office Supplies', Sub-Category='Supplies', Product Name='Fiskars Shears, Steel', Sales='94.08', Quantity='2', Discount='0', Profit='27.24'),\n",
       " Row(Row ID='626', Order ID='ES-2014-4825230', Order Date='18/01/2014', Ship Date='23/01/2014', Ship Mode='Second Class', Customer ID='RB-19435', Customer Name='Richard Bierner', Segment='Consumer', City='Esbjerg', State='South Denmark', Country='Denmark', Region='North', Product ID='OFF-BI-10004446', Category='Office Supplies', Sub-Category='Binders', Product Name='Acco Binding Machine, Economy', Sales='25.545', Quantity='1', Discount='0.5', Profit='-10.755'),\n",
       " Row(Row ID='627', Order ID='ES-2015-5138595', Order Date='25/07/2015', Ship Date='01/08/2015', Ship Mode='Standard Class', Customer ID='LA-16780', Customer Name='Laura Armstrong', Segment='Corporate', City='Nice', State=\"Provence-Alpes-Côte d'Azur\", Country='France', Region='Central', Product ID='OFF-ST-10004367', Category='Office Supplies', Sub-Category='Storage', Product Name='Rogers Trays, Blue', Sales='166.536', Quantity='3', Discount='0.1', Profit='36.936'),\n",
       " Row(Row ID='628', Order ID='ES-2015-5138595', Order Date='25/07/2015', Ship Date='01/08/2015', Ship Mode='Standard Class', Customer ID='LA-16780', Customer Name='Laura Armstrong', Segment='Corporate', City='Nice', State=\"Provence-Alpes-Côte d'Azur\", Country='France', Region='Central', Product ID='OFF-ST-10000988', Category='Office Supplies', Sub-Category='Storage', Product Name='Fellowes Folders, Blue', Sales='47.52', Quantity='2', Discount='0.1', Profit='21.12'),\n",
       " Row(Row ID='629', Order ID='ES-2015-5138595', Order Date='25/07/2015', Ship Date='01/08/2015', Ship Mode='Standard Class', Customer ID='LA-16780', Customer Name='Laura Armstrong', Segment='Corporate', City='Nice', State=\"Provence-Alpes-Côte d'Azur\", Country='France', Region='Central', Product ID='OFF-ST-10002659', Category='Office Supplies', Sub-Category='Storage', Product Name='Smead Shelving, Wire Frame', Sales='129.6', Quantity='3', Discount='0.1', Profit='51.84'),\n",
       " Row(Row ID='630', Order ID='ES-2015-5138595', Order Date='25/07/2015', Ship Date='01/08/2015', Ship Mode='Standard Class', Customer ID='LA-16780', Customer Name='Laura Armstrong', Segment='Corporate', City='Nice', State=\"Provence-Alpes-Côte d'Azur\", Country='France', Region='Central', Product ID='OFF-PA-10002338', Category='Office Supplies', Sub-Category='Paper', Product Name='Green Bar Parchment Paper, Recycled', Sales='49.77', Quantity='3', Discount='0', Profit='22.86'),\n",
       " Row(Row ID='631', Order ID='ES-2015-5138595', Order Date='25/07/2015', Ship Date='01/08/2015', Ship Mode='Standard Class', Customer ID='LA-16780', Customer Name='Laura Armstrong', Segment='Corporate', City='Nice', State=\"Provence-Alpes-Côte d'Azur\", Country='France', Region='Central', Product ID='OFF-PA-10003105', Category='Office Supplies', Sub-Category='Paper', Product Name='SanDisk Parchment Paper, Premium', Sales='33.42', Quantity='2', Discount='0', Profit='6.3'),\n",
       " Row(Row ID='632', Order ID='IT-2017-1204575', Order Date='30/04/2017', Ship Date='06/05/2017', Ship Mode='Standard Class', Customer ID='PO-18850', Customer Name=\"Patrick O'Brill\", Segment='Consumer', City='Stockholm', State='Stockholm', Country='Sweden', Region='North', Product ID='OFF-SU-10003697', Category='Office Supplies', Sub-Category='Supplies', Product Name='Elite Scissors, High Speed', Sales='45.06', Quantity='4', Discount='0.5', Profit='-1.86'),\n",
       " Row(Row ID='633', Order ID='IT-2017-1204575', Order Date='30/04/2017', Ship Date='06/05/2017', Ship Mode='Standard Class', Customer ID='PO-18850', Customer Name=\"Patrick O'Brill\", Segment='Consumer', City='Stockholm', State='Stockholm', Country='Sweden', Region='North', Product ID='OFF-ST-10003990', Category='Office Supplies', Sub-Category='Storage', Product Name='Smead Folders, Single Width', Sales='43.8', Quantity='5', Discount='0.5', Profit='-16.65'),\n",
       " Row(Row ID='634', Order ID='IT-2017-1204575', Order Date='30/04/2017', Ship Date='06/05/2017', Ship Mode='Standard Class', Customer ID='PO-18850', Customer Name=\"Patrick O'Brill\", Segment='Consumer', City='Stockholm', State='Stockholm', Country='Sweden', Region='North', Product ID='OFF-AR-10001190', Category='Office Supplies', Sub-Category='Art', Product Name='Boston Canvas, Easy-Erase', Sales='26.955', Quantity='1', Discount='0.5', Profit='-14.565'),\n",
       " Row(Row ID='635', Order ID='IT-2017-1204575', Order Date='30/04/2017', Ship Date='06/05/2017', Ship Mode='Standard Class', Customer ID='PO-18850', Customer Name=\"Patrick O'Brill\", Segment='Consumer', City='Stockholm', State='Stockholm', Country='Sweden', Region='North', Product ID='OFF-ST-10002172', Category='Office Supplies', Sub-Category='Storage', Product Name='Fellowes Trays, Blue', Sales='143.475', Quantity='5', Discount='0.5', Profit='-123.525'),\n",
       " Row(Row ID='636', Order ID='ES-2015-5343508', Order Date='28/08/2015', Ship Date='29/08/2015', Ship Mode='First Class', Customer ID='HW-14935', Customer Name='Helen Wasserman', Segment='Corporate', City='Rome', State='Lazio', Country='Italy', Region='South', Product ID='OFF-BI-10003705', Category='Office Supplies', Sub-Category='Binders', Product Name='Wilson Jones Binding Machine, Recycled', Sales='49.32', Quantity='1', Discount='0', Profit='5.4'),\n",
       " Row(Row ID='637', Order ID='ES-2017-1277554', Order Date='27/09/2017', Ship Date='03/10/2017', Ship Mode='Standard Class', Customer ID='CK-12325', Customer Name='Christine Kargatis', Segment='Home Office', City='Berlin', State='Berlin', Country='Germany', Region='Central', Product ID='FUR-FU-10003325', Category='Furniture', Sub-Category='Furnishings', Product Name='Tenex Door Stop, Duo Pack', Sales='158.22', Quantity='4', Discount='0.1', Profit='61.5'),\n",
       " Row(Row ID='638', Order ID='ES-2017-5272129', Order Date='25/02/2017', Ship Date='28/02/2017', Ship Mode='First Class', Customer ID='BB-10990', Customer Name='Barry Blumstein', Segment='Corporate', City='Pforzheim', State='Baden-Württemberg', Country='Germany', Region='Central', Product ID='OFF-AR-10001759', Category='Office Supplies', Sub-Category='Art', Product Name='Sanford Sketch Pad, Fluorescent', Sales='233.7', Quantity='5', Discount='0', Profit='109.8'),\n",
       " Row(Row ID='639', Order ID='ES-2017-5272129', Order Date='25/02/2017', Ship Date='28/02/2017', Ship Mode='First Class', Customer ID='BB-10990', Customer Name='Barry Blumstein', Segment='Corporate', City='Pforzheim', State='Baden-Württemberg', Country='Germany', Region='Central', Product ID='TEC-PH-10002076', Category='Technology', Sub-Category='Phones', Product Name='Samsung Audio Dock, Full Size', Sales='672.48', Quantity='4', Discount='0', Profit='87.36'),\n",
       " Row(Row ID='640', Order ID='ES-2016-5014054', Order Date='21/05/2016', Ship Date='25/05/2016', Ship Mode='Standard Class', Customer ID='SC-20845', Customer Name='Sung Chung', Segment='Consumer', City='Florence', State='Tuscany', Country='Italy', Region='South', Product ID='OFF-EN-10003936', Category='Office Supplies', Sub-Category='Envelopes', Product Name='Cameo Peel and Seal, with clear poly window', Sales='49.08', Quantity='2', Discount='0', Profit='21.54'),\n",
       " Row(Row ID='641', Order ID='ES-2015-4904223', Order Date='27/06/2015', Ship Date='27/06/2015', Ship Mode='Same Day', Customer ID='KH-16510', Customer Name='Keith Herrera', Segment='Consumer', City='Ennigerloh', State='North Rhine-Westphalia', Country='Germany', Region='Central', Product ID='TEC-PH-10003770', Category='Technology', Sub-Category='Phones', Product Name='Apple Speaker Phone, Full Size', Sales='124.59', Quantity='1', Discount='0', Profit='53.55'),\n",
       " Row(Row ID='642', Order ID='ES-2015-4904223', Order Date='27/06/2015', Ship Date='27/06/2015', Ship Mode='Same Day', Customer ID='KH-16510', Customer Name='Keith Herrera', Segment='Consumer', City='Ennigerloh', State='North Rhine-Westphalia', Country='Germany', Region='Central', Product ID='OFF-ST-10001195', Category='Office Supplies', Sub-Category='Storage', Product Name='Smead Box, Wire Frame', Sales='17.712', Quantity='2', Discount='0.1', Profit='1.332'),\n",
       " Row(Row ID='643', Order ID='IT-2016-4204870', Order Date='09/12/2016', Ship Date='13/12/2016', Ship Mode='Standard Class', Customer ID='JF-15565', Customer Name='Jill Fjeld', Segment='Consumer', City='Sabadell', State='Catalonia', Country='Spain', Region='South', Product ID='OFF-ST-10004267', Category='Office Supplies', Sub-Category='Storage', Product Name='Smead File Cart, Single Width', Sales='346.761', Quantity='3', Discount='0.1', Profit='-34.749'),\n",
       " Row(Row ID='644', Order ID='IT-2016-4007264', Order Date='12/10/2016', Ship Date='16/10/2016', Ship Mode='Standard Class', Customer ID='JM-16195', Customer Name='Justin MacKendrick', Segment='Consumer', City='Porto', State='Porto', Country='Portugal', Region='South', Product ID='OFF-BI-10003650', Category='Office Supplies', Sub-Category='Binders', Product Name='Ibico Index Tab, Clear', Sales='17.82', Quantity='4', Discount='0.5', Profit='-11.46'),\n",
       " Row(Row ID='645', Order ID='ES-2015-4620972', Order Date='21/12/2015', Ship Date='25/12/2015', Ship Mode='Standard Class', Customer ID='AR-10570', Customer Name='Anemone Ratner', Segment='Consumer', City='Ravenna', State='Emilia-Romagna', Country='Italy', Region='South', Product ID='TEC-CO-10004078', Category='Technology', Sub-Category='Copiers', Product Name='Sharp Fax Machine, Laser', Sales='1478.25', Quantity='5', Discount='0', Profit='132.9'),\n",
       " Row(Row ID='646', Order ID='ES-2014-2093980', Order Date='16/12/2014', Ship Date='21/12/2014', Ship Mode='Standard Class', Customer ID='JK-16120', Customer Name='Julie Kriz', Segment='Home Office', City='Augsburg', State='Bavaria', Country='Germany', Region='Central', Product ID='TEC-AC-10002017', Category='Technology', Sub-Category='Accessories', Product Name='Belkin Memory Card, Erganomic', Sales='112.62', Quantity='1', Discount='0', Profit='56.31'),\n",
       " Row(Row ID='647', Order ID='ES-2014-4028861', Order Date='04/11/2014', Ship Date='09/11/2014', Ship Mode='Second Class', Customer ID='SC-20380', Customer Name='Shahid Collister', Segment='Consumer', City='Pozzuoli', State='Campania', Country='Italy', Region='South', Product ID='OFF-FA-10003836', Category='Office Supplies', Sub-Category='Fasteners', Product Name='Stockwell Rubber Bands, 12 Pack', Sales='15.96', Quantity='1', Discount='0', Profit='1.59'),\n",
       " Row(Row ID='648', Order ID='ES-2017-5081971', Order Date='12/02/2017', Ship Date='13/02/2017', Ship Mode='First Class', Customer ID='CC-12145', Customer Name='Charles Crestani', Segment='Consumer', City='Sandnes', State='Rogaland', Country='Norway', Region='North', Product ID='TEC-MA-10003923', Category='Technology', Sub-Category='Machines', Product Name='Okidata Receipt Printer, Durable', Sales='369.09', Quantity='3', Discount='0', Profit='14.76'),\n",
       " Row(Row ID='649', Order ID='IT-2016-3435780', Order Date='31/03/2016', Ship Date='05/04/2016', Ship Mode='Second Class', Customer ID='CM-12235', Customer Name='Chris McAfee', Segment='Consumer', City='Valencia', State='Valenciana', Country='Spain', Region='South', Product ID='OFF-ST-10003785', Category='Office Supplies', Sub-Category='Storage', Product Name='Eldon Lockers, Blue', Sales='356.238', Quantity='2', Discount='0.1', Profit='-0.042'),\n",
       " Row(Row ID='650', Order ID='ES-2014-1708225', Order Date='04/03/2014', Ship Date='10/03/2014', Ship Mode='Standard Class', Customer ID='DP-13165', Customer Name='David Philippe', Segment='Consumer', City='Rimini', State='Emilia-Romagna', Country='Italy', Region='South', Product ID='OFF-FA-10004899', Category='Office Supplies', Sub-Category='Fasteners', Product Name='OIC Clamps, 12 Pack', Sales='57.6', Quantity='3', Discount='0', Profit='28.8'),\n",
       " Row(Row ID='651', Order ID='IT-2015-5173520', Order Date='07/04/2015', Ship Date='11/04/2015', Ship Mode='Standard Class', Customer ID='BW-11065', Customer Name='Barry Weirich', Segment='Consumer', City='Dundee', State='Scotland', Country='United Kingdom', Region='North', Product ID='OFF-BI-10000894', Category='Office Supplies', Sub-Category='Binders', Product Name='Avery Binder Covers, Clear', Sales='31.59', Quantity='3', Discount='0', Profit='7.2'),\n",
       " Row(Row ID='652', Order ID='ES-2015-2160548', Order Date='11/01/2015', Ship Date='17/01/2015', Ship Mode='Standard Class', Customer ID='JE-15745', Customer Name='Joel Eaton', Segment='Consumer', City='Neubrandenburg', State='Mecklenburg-Vorpommern', Country='Germany', Region='Central', Product ID='OFF-AR-10003450', Category='Office Supplies', Sub-Category='Art', Product Name='BIC Markers, Blue', Sales='79.29', Quantity='3', Discount='0', Profit='1.53'),\n",
       " Row(Row ID='653', Order ID='ES-2016-2616819', Order Date='08/08/2016', Ship Date='13/08/2016', Ship Mode='Standard Class', Customer ID='VP-21760', Customer Name='Victoria Pisteka', Segment='Corporate', City='Wetzlar', State='Hesse', Country='Germany', Region='Central', Product ID='FUR-FU-10004527', Category='Furniture', Sub-Category='Furnishings', Product Name='Advantus Frame, Duo Pack', Sales='333.54', Quantity='3', Discount='0', Profit='156.69'),\n",
       " Row(Row ID='654', Order ID='ES-2016-2616819', Order Date='08/08/2016', Ship Date='13/08/2016', Ship Mode='Standard Class', Customer ID='VP-21760', Customer Name='Victoria Pisteka', Segment='Corporate', City='Wetzlar', State='Hesse', Country='Germany', Region='Central', Product ID='OFF-ST-10004035', Category='Office Supplies', Sub-Category='Storage', Product Name='Rogers Box, Wire Frame', Sales='103.68', Quantity='5', Discount='0.1', Profit='2.28'),\n",
       " Row(Row ID='655', Order ID='ES-2016-2616819', Order Date='08/08/2016', Ship Date='13/08/2016', Ship Mode='Standard Class', Customer ID='VP-21760', Customer Name='Victoria Pisteka', Segment='Corporate', City='Wetzlar', State='Hesse', Country='Germany', Region='Central', Product ID='FUR-CH-10000213', Category='Furniture', Sub-Category='Chairs', Product Name='Hon Swivel Stool, Red', Sales='441.855', Quantity='3', Discount='0.1', Profit='24.525'),\n",
       " Row(Row ID='656', Order ID='ES-2016-5305308', Order Date='29/03/2016', Ship Date='31/03/2016', Ship Mode='Second Class', Customer ID='RR-19525', Customer Name='Rick Reed', Segment='Corporate', City='Edinburgh', State='Scotland', Country='United Kingdom', Region='North', Product ID='FUR-CH-10004047', Category='Furniture', Sub-Category='Chairs', Product Name='SAFCO Rocking Chair, Adjustable', Sales='412.2', Quantity='3', Discount='0', Profit='148.32'),\n",
       " Row(Row ID='657', Order ID='ES-2015-5923089', Order Date='02/07/2015', Ship Date='07/07/2015', Ship Mode='Standard Class', Customer ID='CB-12535', Customer Name='Claudia Bergmann', Segment='Corporate', City='Edinburgh', State='Scotland', Country='United Kingdom', Region='North', Product ID='FUR-TA-10003591', Category='Furniture', Sub-Category='Tables', Product Name='Bevis Wood Table, Rectangular', Sales='1062.36', Quantity='2', Discount='0', Profit='180.6'),\n",
       " Row(Row ID='658', Order ID='ES-2015-5923089', Order Date='02/07/2015', Ship Date='07/07/2015', Ship Mode='Standard Class', Customer ID='CB-12535', Customer Name='Claudia Bergmann', Segment='Corporate', City='Edinburgh', State='Scotland', Country='United Kingdom', Region='North', Product ID='TEC-AC-10003533', Category='Technology', Sub-Category='Accessories', Product Name='SanDisk Mouse, Bluetooth', Sales='229.86', Quantity='6', Discount='0', Profit='25.2'),\n",
       " Row(Row ID='659', Order ID='ES-2015-5923089', Order Date='02/07/2015', Ship Date='07/07/2015', Ship Mode='Standard Class', Customer ID='CB-12535', Customer Name='Claudia Bergmann', Segment='Corporate', City='Edinburgh', State='Scotland', Country='United Kingdom', Region='North', Product ID='TEC-PH-10004879', Category='Technology', Sub-Category='Phones', Product Name='Nokia Headset, Cordless', Sales='379.8', Quantity='5', Discount='0', Profit='83.55'),\n",
       " Row(Row ID='660', Order ID='ES-2015-5923089', Order Date='02/07/2015', Ship Date='07/07/2015', Ship Mode='Standard Class', Customer ID='CB-12535', Customer Name='Claudia Bergmann', Segment='Corporate', City='Edinburgh', State='Scotland', Country='United Kingdom', Region='North', Product ID='OFF-AR-10000319', Category='Office Supplies', Sub-Category='Art', Product Name='Binney & Smith Canvas, Fluorescent', Sales='157.86', Quantity='3', Discount='0', Profit='29.97'),\n",
       " Row(Row ID='661', Order ID='ES-2015-5923089', Order Date='02/07/2015', Ship Date='07/07/2015', Ship Mode='Standard Class', Customer ID='CB-12535', Customer Name='Claudia Bergmann', Segment='Corporate', City='Edinburgh', State='Scotland', Country='United Kingdom', Region='North', Product ID='FUR-BO-10004585', Category='Furniture', Sub-Category='Bookcases', Product Name='Ikea 3-Shelf Cabinet, Traditional', Sales='712.2', Quantity='5', Discount='0', Profit='320.4'),\n",
       " Row(Row ID='662', Order ID='ES-2017-4285009', Order Date='03/02/2017', Ship Date='06/02/2017', Ship Mode='Second Class', Customer ID='YC-21895', Customer Name='Yoseph Carroll', Segment='Corporate', City='Antwerp', State='Antwerp', Country='Belgium', Region='Central', Product ID='OFF-AR-10000079', Category='Office Supplies', Sub-Category='Art', Product Name='Stanley Pencil Sharpener, Fluorescent', Sales='49.56', Quantity='2', Discount='0', Profit='15.84'),\n",
       " Row(Row ID='663', Order ID='ES-2017-4285009', Order Date='03/02/2017', Ship Date='06/02/2017', Ship Mode='Second Class', Customer ID='YC-21895', Customer Name='Yoseph Carroll', Segment='Corporate', City='Antwerp', State='Antwerp', Country='Belgium', Region='Central', Product ID='OFF-EN-10001147', Category='Office Supplies', Sub-Category='Envelopes', Product Name='Jiffy Clasp Envelope, Recycled', Sales='21.96', Quantity='3', Discount='0', Profit='10.71'),\n",
       " Row(Row ID='664', Order ID='ES-2017-2015796', Order Date='01/05/2017', Ship Date='03/05/2017', Ship Mode='Second Class', Customer ID='GH-14410', Customer Name='Gary Hansen', Segment='Home Office', City='Les Lilas', State='Ile-de-France', Country='France', Region='Central', Product ID='OFF-BI-10001544', Category='Office Supplies', Sub-Category='Binders', Product Name='Wilson Jones Hole Reinforcements, Clear', Sales='15.96', Quantity='4', Discount='0', Profit='1.68'),\n",
       " Row(Row ID='665', Order ID='ES-2017-2015796', Order Date='01/05/2017', Ship Date='03/05/2017', Ship Mode='Second Class', Customer ID='GH-14410', Customer Name='Gary Hansen', Segment='Home Office', City='Les Lilas', State='Ile-de-France', Country='France', Region='Central', Product ID='FUR-FU-10001717', Category='Furniture', Sub-Category='Furnishings', Product Name='Rubbermaid Stacking Tray, Erganomic', Sales='71.28', Quantity='3', Discount='0', Profit='22.77'),\n",
       " Row(Row ID='666', Order ID='IT-2015-2967452', Order Date='22/08/2015', Ship Date='29/08/2015', Ship Mode='Standard Class', Customer ID='MW-18235', Customer Name='Mitch Willingham', Segment='Corporate', City='Porto', State='Porto', Country='Portugal', Region='South', Product ID='OFF-ST-10002539', Category='Office Supplies', Sub-Category='Storage', Product Name='Fellowes Shelving, Single Width', Sales='86.805', Quantity='3', Discount='0.5', Profit='-41.715'),\n",
       " Row(Row ID='667', Order ID='IT-2015-2967452', Order Date='22/08/2015', Ship Date='29/08/2015', Ship Mode='Standard Class', Customer ID='MW-18235', Customer Name='Mitch Willingham', Segment='Corporate', City='Porto', State='Porto', Country='Portugal', Region='South', Product ID='TEC-CO-10002962', Category='Technology', Sub-Category='Copiers', Product Name='Sharp Wireless Fax, Color', Sales='178.68', Quantity='1', Discount='0.5', Profit='-60.78'),\n",
       " Row(Row ID='668', Order ID='ES-2015-5897153', Order Date='23/03/2015', Ship Date='23/03/2015', Ship Mode='Same Day', Customer ID='NC-18625', Customer Name='Noah Childs', Segment='Corporate', City='Bochum', State='North Rhine-Westphalia', Country='Germany', Region='Central', Product ID='OFF-AR-10003377', Category='Office Supplies', Sub-Category='Art', Product Name='Boston Pencil Sharpener, Easy-Erase', Sales='241.68', Quantity='8', Discount='0', Profit='38.64'),\n",
       " Row(Row ID='669', Order ID='ES-2015-2195955', Order Date='08/03/2015', Ship Date='10/03/2015', Ship Mode='Second Class', Customer ID='SW-20245', Customer Name='Scot Wooten', Segment='Consumer', City='Vienna', State='Vienna', Country='Austria', Region='Central', Product ID='TEC-CO-10004662', Category='Technology', Sub-Category='Copiers', Product Name='Hewlett Fax Machine, Color', Sales='1285.44', Quantity='4', Discount='0', Profit='449.88'),\n",
       " Row(Row ID='670', Order ID='IT-2016-3837703', Order Date='17/05/2016', Ship Date='24/05/2016', Ship Mode='Standard Class', Customer ID='KL-16555', Customer Name='Kelly Lampkin', Segment='Corporate', City='Tilburg', State='North Brabant', Country='Netherlands', Region='Central', Product ID='OFF-LA-10003591', Category='Office Supplies', Sub-Category='Labels', Product Name='Smead Removable Labels, Laser Printer Compatible', Sales='15.48', Quantity='3', Discount='0.5', Profit='-5.94'),\n",
       " Row(Row ID='671', Order ID='IT-2016-3837703', Order Date='17/05/2016', Ship Date='24/05/2016', Ship Mode='Standard Class', Customer ID='KL-16555', Customer Name='Kelly Lampkin', Segment='Corporate', City='Tilburg', State='North Brabant', Country='Netherlands', Region='Central', Product ID='FUR-FU-10001890', Category='Furniture', Sub-Category='Furnishings', Product Name='Eldon Clock, Durable', Sales='42.84', Quantity='1', Discount='0.2', Profit='5.34'),\n",
       " Row(Row ID='672', Order ID='IT-2014-3284965', Order Date='21/02/2014', Ship Date='25/02/2014', Ship Mode='Standard Class', Customer ID='SJ-20215', Customer Name='Sarah Jordon', Segment='Consumer', City='Zurich', State='Zürich', Country='Switzerland', Region='Central', Product ID='OFF-ST-10000154', Category='Office Supplies', Sub-Category='Storage', Product Name='Smead Box, Single Width', Sales='32.4', Quantity='3', Discount='0', Profit='8.37'),\n",
       " Row(Row ID='673', Order ID='IT-2014-3284965', Order Date='21/02/2014', Ship Date='25/02/2014', Ship Mode='Standard Class', Customer ID='SJ-20215', Customer Name='Sarah Jordon', Segment='Consumer', City='Zurich', State='Zürich', Country='Switzerland', Region='Central', Product ID='OFF-FA-10003462', Category='Office Supplies', Sub-Category='Fasteners', Product Name='Stockwell Thumb Tacks, Assorted Sizes', Sales='21.18', Quantity='2', Discount='0', Profit='5.88'),\n",
       " Row(Row ID='674', Order ID='ES-2014-5315807', Order Date='21/09/2014', Ship Date='24/09/2014', Ship Mode='Second Class', Customer ID='SC-20575', Customer Name='Sonia Cooley', Segment='Consumer', City='Drancy', State='Ile-de-France', Country='France', Region='Central', Product ID='FUR-CH-10002991', Category='Furniture', Sub-Category='Chairs', Product Name='Novimex Steel Folding Chair, Adjustable', Sales='152.496', Quantity='2', Discount='0.1', Profit='6.756'),\n",
       " Row(Row ID='675', Order ID='ES-2015-5847046', Order Date='05/06/2015', Ship Date='09/06/2015', Ship Mode='Standard Class', Customer ID='KC-16540', Customer Name='Kelly Collister', Segment='Consumer', City='Newcastle upon Tyne', State='England', Country='United Kingdom', Region='North', Product ID='OFF-BI-10000734', Category='Office Supplies', Sub-Category='Binders', Product Name='Avery Binding Machine, Recycled', Sales='98.4', Quantity='2', Discount='0', Profit='42.3'),\n",
       " Row(Row ID='676', Order ID='ES-2016-5488008', Order Date='25/08/2016', Ship Date='31/08/2016', Ship Mode='Standard Class', Customer ID='KS-16300', Customer Name='Karen Seio', Segment='Corporate', City='Magdeburg', State='Saxony-Anhalt', Country='Germany', Region='Central', Product ID='OFF-BI-10001507', Category='Office Supplies', Sub-Category='Binders', Product Name='Wilson Jones Binder Covers, Economy', Sales='22.38', Quantity='2', Discount='0', Profit='5.76'),\n",
       " Row(Row ID='677', Order ID='ES-2016-5488008', Order Date='25/08/2016', Ship Date='31/08/2016', Ship Mode='Standard Class', Customer ID='KS-16300', Customer Name='Karen Seio', Segment='Corporate', City='Magdeburg', State='Saxony-Anhalt', Country='Germany', Region='Central', Product ID='OFF-BI-10003708', Category='Office Supplies', Sub-Category='Binders', Product Name='Cardinal Binder, Recycled', Sales='28.38', Quantity='2', Discount='0', Profit='5.94'),\n",
       " Row(Row ID='678', Order ID='ES-2016-5488008', Order Date='25/08/2016', Ship Date='31/08/2016', Ship Mode='Standard Class', Customer ID='KS-16300', Customer Name='Karen Seio', Segment='Corporate', City='Magdeburg', State='Saxony-Anhalt', Country='Germany', Region='Central', Product ID='OFF-PA-10001323', Category='Office Supplies', Sub-Category='Paper', Product Name='Eaton Note Cards, 8.5 x 11', Sales='158.94', Quantity='6', Discount='0', Profit='28.44'),\n",
       " Row(Row ID='679', Order ID='ES-2016-1668222', Order Date='27/08/2016', Ship Date='02/09/2016', Ship Mode='Standard Class', Customer ID='VG-21805', Customer Name='Vivek Grady', Segment='Corporate', City='Wetter (Ruhr)', State='North Rhine-Westphalia', Country='Germany', Region='Central', Product ID='TEC-PH-10003325', Category='Technology', Sub-Category='Phones', Product Name='Samsung Speaker Phone, with Caller ID', Sales='123.24', Quantity='1', Discount='0', Profit='7.38'),\n",
       " Row(Row ID='680', Order ID='ES-2016-1668222', Order Date='27/08/2016', Ship Date='02/09/2016', Ship Mode='Standard Class', Customer ID='VG-21805', Customer Name='Vivek Grady', Segment='Corporate', City='Wetter (Ruhr)', State='North Rhine-Westphalia', Country='Germany', Region='Central', Product ID='OFF-ST-10004409', Category='Office Supplies', Sub-Category='Storage', Product Name='Rogers Box, Industrial', Sales='44.01', Quantity='2', Discount='0.1', Profit='-4.89'),\n",
       " Row(Row ID='681', Order ID='ES-2016-1668222', Order Date='27/08/2016', Ship Date='02/09/2016', Ship Mode='Standard Class', Customer ID='VG-21805', Customer Name='Vivek Grady', Segment='Corporate', City='Wetter (Ruhr)', State='North Rhine-Westphalia', Country='Germany', Region='Central', Product ID='FUR-FU-10004516', Category='Furniture', Sub-Category='Furnishings', Product Name='Deflect-O Frame, Black', Sales='330.12', Quantity='3', Discount='0', Profit='145.17'),\n",
       " Row(Row ID='682', Order ID='ES-2016-1668222', Order Date='27/08/2016', Ship Date='02/09/2016', Ship Mode='Standard Class', Customer ID='VG-21805', Customer Name='Vivek Grady', Segment='Corporate', City='Wetter (Ruhr)', State='North Rhine-Westphalia', Country='Germany', Region='Central', Product ID='OFF-SU-10001690', Category='Office Supplies', Sub-Category='Supplies', Product Name='Kleencut Box Cutter, Steel', Sales='68.1', Quantity='2', Discount='0', Profit='10.86'),\n",
       " Row(Row ID='683', Order ID='ES-2016-3880977', Order Date='15/04/2016', Ship Date='20/04/2016', Ship Mode='Standard Class', Customer ID='TS-21655', Customer Name='Trudy Schmidt', Segment='Consumer', City='Glasgow', State='Scotland', Country='United Kingdom', Region='North', Product ID='OFF-SU-10003556', Category='Office Supplies', Sub-Category='Supplies', Product Name='Fiskars Trimmer, Easy Grip', Sales='351.36', Quantity='8', Discount='0', Profit='129.84'),\n",
       " Row(Row ID='684', Order ID='ES-2016-1341762', Order Date='12/11/2016', Ship Date='17/11/2016', Ship Mode='Standard Class', Customer ID='DL-13315', Customer Name='Delfina Latchford', Segment='Consumer', City='London', State='England', Country='United Kingdom', Region='North', Product ID='OFF-ST-10002555', Category='Office Supplies', Sub-Category='Storage', Product Name='Eldon Lockers, Industrial', Sales='357.102', Quantity='2', Discount='0.1', Profit='154.722'),\n",
       " Row(Row ID='685', Order ID='ES-2015-4198217', Order Date='14/11/2015', Ship Date='18/11/2015', Ship Mode='Standard Class', Customer ID='ST-20530', Customer Name='Shui Tom', Segment='Consumer', City='Berlin', State='Berlin', Country='Germany', Region='Central', Product ID='OFF-ST-10003990', Category='Office Supplies', Sub-Category='Storage', Product Name='Smead Folders, Single Width', Sales='28.032', Quantity='2', Discount='0.2', Profit='3.852'),\n",
       " Row(Row ID='686', Order ID='ES-2016-4510356', Order Date='24/01/2016', Ship Date='27/01/2016', Ship Mode='Second Class', Customer ID='DW-13585', Customer Name='Dorothy Wardle', Segment='Corporate', City='Saint-Ouen', State='Ile-de-France', Country='France', Region='Central', Product ID='OFF-AR-10000066', Category='Office Supplies', Sub-Category='Art', Product Name='Sanford Pens, Blue', Sales='66.6', Quantity='6', Discount='0', Profit='15.84'),\n",
       " Row(Row ID='687', Order ID='IT-2014-1327965', Order Date='16/09/2014', Ship Date='23/09/2014', Ship Mode='Standard Class', Customer ID='DB-13660', Customer Name='Duane Benoit', Segment='Consumer', City='Loughborough', State='England', Country='United Kingdom', Region='North', Product ID='OFF-ST-10004597', Category='Office Supplies', Sub-Category='Storage', Product Name='Rogers File Cart, Blue', Sales='281.34', Quantity='2', Discount='0', Profit='2.76'),\n",
       " Row(Row ID='688', Order ID='ES-2015-2376426', Order Date='15/11/2015', Ship Date='20/11/2015', Ship Mode='Second Class', Customer ID='PS-18970', Customer Name='Paul Stevenson', Segment='Home Office', City='Turku', State='Finland Proper', Country='Finland', Region='North', Product ID='OFF-LA-10001184', Category='Office Supplies', Sub-Category='Labels', Product Name='Novimex Legal Exhibit Labels, 5000 Label Set', Sales='21.72', Quantity='2', Discount='0', Profit='2.82'),\n",
       " Row(Row ID='689', Order ID='ES-2016-4398455', Order Date='09/09/2016', Ship Date='14/09/2016', Ship Mode='Standard Class', Customer ID='PO-18865', Customer Name=\"Patrick O'Donnell\", Segment='Consumer', City='Catania', State='Sicily', Country='Italy', Region='South', Product ID='OFF-AR-10004825', Category='Office Supplies', Sub-Category='Art', Product Name='BIC Canvas, Fluorescent', Sales='109.92', Quantity='2', Discount='0', Profit='38.46'),\n",
       " Row(Row ID='690', Order ID='ES-2016-4398455', Order Date='09/09/2016', Ship Date='14/09/2016', Ship Mode='Standard Class', Customer ID='PO-18865', Customer Name=\"Patrick O'Donnell\", Segment='Consumer', City='Catania', State='Sicily', Country='Italy', Region='South', Product ID='OFF-AP-10000864', Category='Office Supplies', Sub-Category='Appliances', Product Name='Hamilton Beach Refrigerator, Black', Sales='1998.24', Quantity='4', Discount='0', Profit='359.64'),\n",
       " Row(Row ID='691', Order ID='ES-2016-3724793', Order Date='13/08/2016', Ship Date='18/08/2016', Ship Mode='Standard Class', Customer ID='NR-18550', Customer Name='Nick Radford', Segment='Consumer', City='Monza', State='Lombardy', Country='Italy', Region='South', Product ID='TEC-CO-10000011', Category='Technology', Sub-Category='Copiers', Product Name='HP Personal Copier, High-Speed', Sales='244.98', Quantity='2', Discount='0', Profit='63.66'),\n",
       " Row(Row ID='692', Order ID='ES-2016-3724793', Order Date='13/08/2016', Ship Date='18/08/2016', Ship Mode='Standard Class', Customer ID='NR-18550', Customer Name='Nick Radford', Segment='Consumer', City='Monza', State='Lombardy', Country='Italy', Region='South', Product ID='FUR-BO-10002936', Category='Furniture', Sub-Category='Bookcases', Product Name='Ikea Stackable Bookrack, Pine', Sales='123.93', Quantity='1', Discount='0', Profit='61.95'),\n",
       " Row(Row ID='693', Order ID='ES-2015-3433124', Order Date='16/11/2015', Ship Date='20/11/2015', Ship Mode='Standard Class', Customer ID='KN-16390', Customer Name='Katherine Nockton', Segment='Corporate', City='Valencia', State='Valenciana', Country='Spain', Region='South', Product ID='FUR-FU-10002937', Category='Furniture', Sub-Category='Furnishings', Product Name='Rubbermaid Light Bulb, Durable', Sales='63.48', Quantity='4', Discount='0', Profit='25.32'),\n",
       " Row(Row ID='694', Order ID='ES-2015-3433124', Order Date='16/11/2015', Ship Date='20/11/2015', Ship Mode='Standard Class', Customer ID='KN-16390', Customer Name='Katherine Nockton', Segment='Corporate', City='Valencia', State='Valenciana', Country='Spain', Region='South', Product ID='OFF-AR-10000727', Category='Office Supplies', Sub-Category='Art', Product Name='Stanley Canvas, Easy-Erase', Sales='149.22', Quantity='3', Discount='0', Profit='35.73'),\n",
       " Row(Row ID='695', Order ID='ES-2017-1637041', Order Date='20/10/2017', Ship Date='22/10/2017', Ship Mode='First Class', Customer ID='DB-13555', Customer Name='Dorothy Badders', Segment='Corporate', City='Hamburg', State='Hamburg', Country='Germany', Region='Central', Product ID='OFF-SU-10000105', Category='Office Supplies', Sub-Category='Supplies', Product Name='Fiskars Shears, Easy Grip', Sales='246.3', Quantity='5', Discount='0', Profit='24.6'),\n",
       " Row(Row ID='696', Order ID='ES-2017-1637041', Order Date='20/10/2017', Ship Date='22/10/2017', Ship Mode='First Class', Customer ID='DB-13555', Customer Name='Dorothy Badders', Segment='Corporate', City='Hamburg', State='Hamburg', Country='Germany', Region='Central', Product ID='OFF-ST-10000710', Category='Office Supplies', Sub-Category='Storage', Product Name='Smead Shelving, Blue', Sales='396.333', Quantity='9', Discount='0.1', Profit='87.993'),\n",
       " Row(Row ID='697', Order ID='ES-2014-4372047', Order Date='24/08/2014', Ship Date='29/08/2014', Ship Mode='Second Class', Customer ID='KN-16705', Customer Name='Kristina Nunn', Segment='Home Office', City='Saint-Avold', State='Alsace-Champagne-Ardenne-Lorraine', Country='France', Region='Central', Product ID='OFF-LA-10002733', Category='Office Supplies', Sub-Category='Labels', Product Name='Novimex File Folder Labels, Alphabetical', Sales='16.14', Quantity='2', Discount='0', Profit='2.22'),\n",
       " Row(Row ID='698', Order ID='ES-2017-4794612', Order Date='03/12/2017', Ship Date='08/12/2017', Ship Mode='Second Class', Customer ID='JC-15775', Customer Name='John Castell', Segment='Consumer', City='Pau', State='Aquitaine-Limousin-Poitou-Charentes', Country='France', Region='Central', Product ID='OFF-SU-10000906', Category='Office Supplies', Sub-Category='Supplies', Product Name='Fiskars Shears, High Speed', Sales='238.2', Quantity='5', Discount='0', Profit='116.7'),\n",
       " Row(Row ID='699', Order ID='ES-2017-5651770', Order Date='24/04/2017', Ship Date='29/04/2017', Ship Mode='Standard Class', Customer ID='TB-21520', Customer Name='Tracy Blumstein', Segment='Consumer', City='Rome', State='Lazio', Country='Italy', Region='South', Product ID='OFF-AR-10001418', Category='Office Supplies', Sub-Category='Art', Product Name='BIC Markers, Easy-Erase', Sales='53.4', Quantity='2', Discount='0', Profit='14.94'),\n",
       " Row(Row ID='700', Order ID='ES-2015-2359818', Order Date='22/05/2015', Ship Date='26/05/2015', Ship Mode='Standard Class', Customer ID='KC-16675', Customer Name='Kimberly Carter', Segment='Corporate', City='Espoo', State='Uusimaa', Country='Finland', Region='North', Product ID='OFF-BI-10004644', Category='Office Supplies', Sub-Category='Binders', Product Name='Cardinal Index Tab, Durable', Sales='15.24', Quantity='2', Discount='0', Profit='6.84'),\n",
       " Row(Row ID='701', Order ID='ES-2015-5365524', Order Date='23/02/2015', Ship Date='28/02/2015', Ship Mode='Standard Class', Customer ID='BT-11305', Customer Name='Beth Thompson', Segment='Home Office', City='Carlisle', State='England', Country='United Kingdom', Region='North', Product ID='OFF-FA-10004257', Category='Office Supplies', Sub-Category='Fasteners', Product Name='Accos Clamps, Metal', Sales='97.5', Quantity='5', Discount='0', Profit='39'),\n",
       " Row(Row ID='702', Order ID='ES-2015-5365524', Order Date='23/02/2015', Ship Date='28/02/2015', Ship Mode='Standard Class', Customer ID='BT-11305', Customer Name='Beth Thompson', Segment='Home Office', City='Carlisle', State='England', Country='United Kingdom', Region='North', Product ID='OFF-ST-10001195', Category='Office Supplies', Sub-Category='Storage', Product Name='Smead Box, Wire Frame', Sales='29.52', Quantity='3', Discount='0', Profit='4.95'),\n",
       " Row(Row ID='703', Order ID='ES-2014-5335590', Order Date='18/08/2014', Ship Date='24/08/2014', Ship Mode='Standard Class', Customer ID='TG-21310', Customer Name='Toby Gnade', Segment='Consumer', City='Saint-Quentin', State='Hauts-de-France', Country='France', Region='Central', Product ID='FUR-FU-10002655', Category='Furniture', Sub-Category='Furnishings', Product Name='Deflect-O Door Stop, Black', Sales='219.75', Quantity='5', Discount='0', Profit='8.7'),\n",
       " Row(Row ID='704', Order ID='ES-2014-5335590', Order Date='18/08/2014', Ship Date='24/08/2014', Ship Mode='Standard Class', Customer ID='TG-21310', Customer Name='Toby Gnade', Segment='Consumer', City='Saint-Quentin', State='Hauts-de-France', Country='France', Region='Central', Product ID='OFF-ST-10001025', Category='Office Supplies', Sub-Category='Storage', Product Name='Tenex Trays, Single Width', Sales='195.264', Quantity='4', Discount='0.1', Profit='60.744'),\n",
       " Row(Row ID='705', Order ID='ES-2015-1176887', Order Date='11/08/2015', Ship Date='15/08/2015', Ship Mode='Standard Class', Customer ID='MD-17860', Customer Name='Michael Dominguez', Segment='Corporate', City='Mâcon', State='Bourgogne-Franche-Comté', Country='France', Region='Central', Product ID='OFF-PA-10004450', Category='Office Supplies', Sub-Category='Paper', Product Name='Xerox Cards & Envelopes, Recycled', Sales='224.4', Quantity='5', Discount='0', Profit='71.7'),\n",
       " Row(Row ID='706', Order ID='ES-2015-2309141', Order Date='03/03/2015', Ship Date='05/03/2015', Ship Mode='First Class', Customer ID='RA-19285', Customer Name='Ralph Arnett', Segment='Consumer', City='Puertollano', State='Castile-La Mancha', Country='Spain', Region='South', Product ID='TEC-CO-10001008', Category='Technology', Sub-Category='Copiers', Product Name='Canon Fax and Copier, Laser', Sales='2104.74', Quantity='11', Discount='0', Profit='989.01'),\n",
       " Row(Row ID='707', Order ID='ES-2015-2309141', Order Date='03/03/2015', Ship Date='05/03/2015', Ship Mode='First Class', Customer ID='RA-19285', Customer Name='Ralph Arnett', Segment='Consumer', City='Puertollano', State='Castile-La Mancha', Country='Spain', Region='South', Product ID='TEC-MA-10004224', Category='Technology', Sub-Category='Machines', Product Name='StarTech Inkjet, Wireless', Sales='815.103', Quantity='3', Discount='0.1', Profit='-90.567'),\n",
       " Row(Row ID='708', Order ID='ES-2017-3984539', Order Date='08/08/2017', Ship Date='13/08/2017', Ship Mode='Standard Class', Customer ID='SC-20725', Customer Name='Steven Cartwright', Segment='Consumer', City='Heilbronn', State='Baden-Württemberg', Country='Germany', Region='Central', Product ID='OFF-AR-10000316', Category='Office Supplies', Sub-Category='Art', Product Name='Stanley Pens, Blue', Sales='50.25', Quantity='5', Discount='0', Profit='24.6'),\n",
       " Row(Row ID='709', Order ID='ES-2017-3977309', Order Date='12/11/2017', Ship Date='16/11/2017', Ship Mode='Standard Class', Customer ID='DL-13315', Customer Name='Delfina Latchford', Segment='Consumer', City='Villach', State='Carinthia', Country='Austria', Region='Central', Product ID='OFF-ST-10001758', Category='Office Supplies', Sub-Category='Storage', Product Name='Rogers Lockers, Blue', Sales='1269.72', Quantity='6', Discount='0', Profit='88.74'),\n",
       " Row(Row ID='710', Order ID='ES-2017-3977309', Order Date='12/11/2017', Ship Date='16/11/2017', Ship Mode='Standard Class', Customer ID='DL-13315', Customer Name='Delfina Latchford', Segment='Consumer', City='Villach', State='Carinthia', Country='Austria', Region='Central', Product ID='FUR-CH-10004774', Category='Furniture', Sub-Category='Chairs', Product Name='Novimex Executive Leather Armchair, Red', Sales='3221.4', Quantity='7', Discount='0', Profit='1127.49'),\n",
       " Row(Row ID='711', Order ID='ES-2017-3977309', Order Date='12/11/2017', Ship Date='16/11/2017', Ship Mode='Standard Class', Customer ID='DL-13315', Customer Name='Delfina Latchford', Segment='Consumer', City='Villach', State='Carinthia', Country='Austria', Region='Central', Product ID='OFF-SU-10002131', Category='Office Supplies', Sub-Category='Supplies', Product Name='Elite Scissors, Serrated', Sales='19.23', Quantity='1', Discount='0', Profit='1.14'),\n",
       " Row(Row ID='712', Order ID='ES-2017-3977309', Order Date='12/11/2017', Ship Date='16/11/2017', Ship Mode='Standard Class', Customer ID='DL-13315', Customer Name='Delfina Latchford', Segment='Consumer', City='Villach', State='Carinthia', Country='Austria', Region='Central', Product ID='OFF-FA-10002066', Category='Office Supplies', Sub-Category='Fasteners', Product Name='OIC Clamps, Bulk Pack', Sales='79.08', Quantity='4', Discount='0', Profit='39.48'),\n",
       " Row(Row ID='713', Order ID='ES-2017-3977309', Order Date='12/11/2017', Ship Date='16/11/2017', Ship Mode='Standard Class', Customer ID='DL-13315', Customer Name='Delfina Latchford', Segment='Consumer', City='Villach', State='Carinthia', Country='Austria', Region='Central', Product ID='TEC-CO-10001375', Category='Technology', Sub-Category='Copiers', Product Name='Brother Copy Machine, Color', Sales='1846.11', Quantity='7', Discount='0', Profit='793.8'),\n",
       " Row(Row ID='714', Order ID='ES-2017-3977309', Order Date='12/11/2017', Ship Date='16/11/2017', Ship Mode='Standard Class', Customer ID='DL-13315', Customer Name='Delfina Latchford', Segment='Consumer', City='Villach', State='Carinthia', Country='Austria', Region='Central', Product ID='OFF-PA-10000850', Category='Office Supplies', Sub-Category='Paper', Product Name='SanDisk Parchment Paper, Multicolor', Sales='36.24', Quantity='2', Discount='0', Profit='7.2'),\n",
       " Row(Row ID='715', Order ID='ES-2017-3977309', Order Date='12/11/2017', Ship Date='16/11/2017', Ship Mode='Standard Class', Customer ID='DL-13315', Customer Name='Delfina Latchford', Segment='Consumer', City='Villach', State='Carinthia', Country='Austria', Region='Central', Product ID='OFF-ST-10003018', Category='Office Supplies', Sub-Category='Storage', Product Name='Smead File Cart, Industrial', Sales='385.2', Quantity='3', Discount='0', Profit='107.82'),\n",
       " Row(Row ID='716', Order ID='ES-2017-3977309', Order Date='12/11/2017', Ship Date='16/11/2017', Ship Mode='Standard Class', Customer ID='DL-13315', Customer Name='Delfina Latchford', Segment='Consumer', City='Villach', State='Carinthia', Country='Austria', Region='Central', Product ID='OFF-AR-10002037', Category='Office Supplies', Sub-Category='Art', Product Name='Stanley Sketch Pad, Fluorescent', Sales='228.45', Quantity='5', Discount='0', Profit='36.45'),\n",
       " Row(Row ID='717', Order ID='ES-2017-3977309', Order Date='12/11/2017', Ship Date='16/11/2017', Ship Mode='Standard Class', Customer ID='DL-13315', Customer Name='Delfina Latchford', Segment='Consumer', City='Villach', State='Carinthia', Country='Austria', Region='Central', Product ID='OFF-EN-10000271', Category='Office Supplies', Sub-Category='Envelopes', Product Name='Kraft Peel and Seal, with clear poly window', Sales='144.18', Quantity='6', Discount='0', Profit='38.88'),\n",
       " Row(Row ID='718', Order ID='ES-2017-3977309', Order Date='12/11/2017', Ship Date='16/11/2017', Ship Mode='Standard Class', Customer ID='DL-13315', Customer Name='Delfina Latchford', Segment='Consumer', City='Villach', State='Carinthia', Country='Austria', Region='Central', Product ID='OFF-EN-10003785', Category='Office Supplies', Sub-Category='Envelopes', Product Name='GlobeWeis Mailers, Set of 50', Sales='154.2', Quantity='4', Discount='0', Profit='1.44'),\n",
       " Row(Row ID='719', Order ID='ES-2015-5125870', Order Date='22/05/2015', Ship Date='29/05/2015', Ship Mode='Standard Class', Customer ID='LC-17050', Customer Name='Liz Carlisle', Segment='Consumer', City='Harlow', State='England', Country='United Kingdom', Region='North', Product ID='OFF-EN-10003962', Category='Office Supplies', Sub-Category='Envelopes', Product Name='GlobeWeis Clasp Envelope, Set of 50', Sales='79.2', Quantity='8', Discount='0', Profit='31.68'),\n",
       " Row(Row ID='720', Order ID='ES-2014-2720307', Order Date='19/08/2014', Ship Date='24/08/2014', Ship Mode='Standard Class', Customer ID='SC-20800', Customer Name='Stuart Calhoun', Segment='Consumer', City='Cergy', State='Ile-de-France', Country='France', Region='Central', Product ID='TEC-CO-10000070', Category='Technology', Sub-Category='Copiers', Product Name='Hewlett Copy Machine, High-Speed', Sales='1568.8365', Quantity='7', Discount='0.15', Profit='184.5165'),\n",
       " Row(Row ID='721', Order ID='ES-2015-2102738', Order Date='01/06/2015', Ship Date='07/06/2015', Ship Mode='Standard Class', Customer ID='AS-10225', Customer Name='Alan Schoenberger', Segment='Corporate', City='Rotherham', State='England', Country='United Kingdom', Region='North', Product ID='TEC-PH-10002935', Category='Technology', Sub-Category='Phones', Product Name='Samsung Smart Phone, VoIP', Sales='1908.72', Quantity='3', Discount='0', Profit='57.24'),\n",
       " Row(Row ID='722', Order ID='ES-2015-2102738', Order Date='01/06/2015', Ship Date='07/06/2015', Ship Mode='Standard Class', Customer ID='AS-10225', Customer Name='Alan Schoenberger', Segment='Corporate', City='Rotherham', State='England', Country='United Kingdom', Region='North', Product ID='TEC-AC-10001564', Category='Technology', Sub-Category='Accessories', Product Name='Logitech Numeric Keypad, Erganomic', Sales='44.13', Quantity='1', Discount='0', Profit='18.09'),\n",
       " Row(Row ID='723', Order ID='IT-2015-5446380', Order Date='23/08/2015', Ship Date='29/08/2015', Ship Mode='Standard Class', Customer ID='DB-13120', Customer Name='David Bremer', Segment='Corporate', City='Berlin', State='Berlin', Country='Germany', Region='Central', Product ID='FUR-TA-10001228', Category='Furniture', Sub-Category='Tables', Product Name='Bevis Training Table, Rectangular', Sales='914.5125', Quantity='5', Discount='0.45', Profit='-598.6875'),\n",
       " Row(Row ID='724', Order ID='IT-2015-5446380', Order Date='23/08/2015', Ship Date='29/08/2015', Ship Mode='Standard Class', Customer ID='DB-13120', Customer Name='David Bremer', Segment='Corporate', City='Berlin', State='Berlin', Country='Germany', Region='Central', Product ID='FUR-FU-10004608', Category='Furniture', Sub-Category='Furnishings', Product Name='Advantus Door Stop, Erganomic', Sales='117.855', Quantity='3', Discount='0.1', Profit='27.495'),\n",
       " Row(Row ID='725', Order ID='IT-2015-5446380', Order Date='23/08/2015', Ship Date='29/08/2015', Ship Mode='Standard Class', Customer ID='DB-13120', Customer Name='David Bremer', Segment='Corporate', City='Berlin', State='Berlin', Country='Germany', Region='Central', Product ID='TEC-MA-10003743', Category='Technology', Sub-Category='Machines', Product Name='StarTech Printer, Durable', Sales='691.983', Quantity='3', Discount='0.1', Profit='-15.417'),\n",
       " Row(Row ID='726', Order ID='ES-2014-5177366', Order Date='15/09/2014', Ship Date='22/09/2014', Ship Mode='Standard Class', Customer ID='KH-16690', Customer Name='Kristen Hastings', Segment='Corporate', City='Zwickau', State='Saxony', Country='Germany', Region='Central', Product ID='OFF-LA-10000508', Category='Office Supplies', Sub-Category='Labels', Product Name='Harbour Creations Round Labels, 5000 Label Set', Sales='21.42', Quantity='3', Discount='0', Profit='8.28'),\n",
       " Row(Row ID='727', Order ID='ES-2016-4933394', Order Date='28/11/2016', Ship Date='03/12/2016', Ship Mode='Standard Class', Customer ID='PO-18865', Customer Name=\"Patrick O'Donnell\", Segment='Consumer', City='Osny', State='Ile-de-France', Country='France', Region='Central', Product ID='OFF-LA-10003290', Category='Office Supplies', Sub-Category='Labels', Product Name='Hon Round Labels, Adjustable', Sales='4.56', Quantity='1', Discount='0', Profit='1.62'),\n",
       " Row(Row ID='728', Order ID='ES-2016-2219250', Order Date='24/09/2016', Ship Date='29/09/2016', Ship Mode='Standard Class', Customer ID='AR-10405', Customer Name='Allen Rosenblatt', Segment='Corporate', City='Odense', State='South Denmark', Country='Denmark', Region='North', Product ID='TEC-PH-10004825', Category='Technology', Sub-Category='Phones', Product Name='Cisco Headset, VoIP', Sales='88.53', Quantity='2', Discount='0.5', Profit='-81.45'),\n",
       " Row(Row ID='729', Order ID='ES-2016-2219250', Order Date='24/09/2016', Ship Date='29/09/2016', Ship Mode='Standard Class', Customer ID='AR-10405', Customer Name='Allen Rosenblatt', Segment='Corporate', City='Odense', State='South Denmark', Country='Denmark', Region='North', Product ID='OFF-EN-10003748', Category='Office Supplies', Sub-Category='Envelopes', Product Name='Ames Mailers, with clear poly window', Sales='59.085', Quantity='3', Discount='0.5', Profit='-1.215'),\n",
       " Row(Row ID='730', Order ID='ES-2016-2219250', Order Date='24/09/2016', Ship Date='29/09/2016', Ship Mode='Standard Class', Customer ID='AR-10405', Customer Name='Allen Rosenblatt', Segment='Corporate', City='Odense', State='South Denmark', Country='Denmark', Region='North', Product ID='TEC-CO-10000070', Category='Technology', Sub-Category='Copiers', Product Name='Hewlett Copy Machine, High-Speed', Sales='263.67', Quantity='2', Discount='0.5', Profit='-131.85'),\n",
       " Row(Row ID='731', Order ID='ES-2016-2219250', Order Date='24/09/2016', Ship Date='29/09/2016', Ship Mode='Standard Class', Customer ID='AR-10405', Customer Name='Allen Rosenblatt', Segment='Corporate', City='Odense', State='South Denmark', Country='Denmark', Region='North', Product ID='TEC-PH-10004635', Category='Technology', Sub-Category='Phones', Product Name='Samsung Office Telephone, with Caller ID', Sales='195.66', Quantity='6', Discount='0.5', Profit='-105.66'),\n",
       " Row(Row ID='732', Order ID='ES-2016-2219250', Order Date='24/09/2016', Ship Date='29/09/2016', Ship Mode='Standard Class', Customer ID='AR-10405', Customer Name='Allen Rosenblatt', Segment='Corporate', City='Odense', State='South Denmark', Country='Denmark', Region='North', Product ID='TEC-PH-10003963', Category='Technology', Sub-Category='Phones', Product Name='Apple Signal Booster, Full Size', Sales='68.97', Quantity='1', Discount='0.5', Profit='-62.1'),\n",
       " Row(Row ID='733', Order ID='ES-2016-2219250', Order Date='24/09/2016', Ship Date='29/09/2016', Ship Mode='Standard Class', Customer ID='AR-10405', Customer Name='Allen Rosenblatt', Segment='Corporate', City='Odense', State='South Denmark', Country='Denmark', Region='North', Product ID='OFF-EN-10002240', Category='Office Supplies', Sub-Category='Envelopes', Product Name='GlobeWeis Clasp Envelope, with clear poly window', Sales='20.16', Quantity='3', Discount='0.5', Profit='-5.31'),\n",
       " Row(Row ID='734', Order ID='ES-2017-4859001', Order Date='17/06/2017', Ship Date='22/06/2017', Ship Mode='Standard Class', Customer ID='JW-15220', Customer Name='Jane Waco', Segment='Corporate', City='Lens', State='Hauts-de-France', Country='France', Region='Central', Product ID='FUR-CH-10002782', Category='Furniture', Sub-Category='Chairs', Product Name='Office Star Executive Leather Armchair, Adjustable', Sales='2114.64', Quantity='5', Discount='0.1', Profit='23.49'),\n",
       " Row(Row ID='735', Order ID='ES-2017-4859001', Order Date='17/06/2017', Ship Date='22/06/2017', Ship Mode='Standard Class', Customer ID='JW-15220', Customer Name='Jane Waco', Segment='Corporate', City='Lens', State='Hauts-de-France', Country='France', Region='Central', Product ID='OFF-BI-10004220', Category='Office Supplies', Sub-Category='Binders', Product Name='Cardinal 3-Hole Punch, Recycled', Sales='145.8', Quantity='5', Discount='0', Profit='42.15'),\n",
       " Row(Row ID='736', Order ID='ES-2017-4859001', Order Date='17/06/2017', Ship Date='22/06/2017', Ship Mode='Standard Class', Customer ID='JW-15220', Customer Name='Jane Waco', Segment='Corporate', City='Lens', State='Hauts-de-France', Country='France', Region='Central', Product ID='OFF-AR-10003377', Category='Office Supplies', Sub-Category='Art', Product Name='Boston Pencil Sharpener, Easy-Erase', Sales='120.84', Quantity='4', Discount='0', Profit='19.32'),\n",
       " Row(Row ID='737', Order ID='ES-2017-5297510', Order Date='29/12/2017', Ship Date='05/01/2018', Ship Mode='Standard Class', Customer ID='BM-11785', Customer Name='Bryan Mills', Segment='Consumer', City='Gosport', State='England', Country='United Kingdom', Region='North', Product ID='OFF-ST-10000300', Category='Office Supplies', Sub-Category='Storage', Product Name='Eldon Folders, Wire Frame', Sales='64.2', Quantity='4', Discount='0', Profit='6.36'),\n",
       " Row(Row ID='738', Order ID='ES-2016-3767529', Order Date='26/12/2016', Ship Date='30/12/2016', Ship Mode='Standard Class', Customer ID='BT-11485', Customer Name='Brad Thomas', Segment='Home Office', City='Munster', State='Lower Saxony', Country='Germany', Region='Central', Product ID='OFF-AR-10000184', Category='Office Supplies', Sub-Category='Art', Product Name='Boston Pencil Sharpener, Water Color', Sales='64.26', Quantity='2', Discount='0', Profit='32.1'),\n",
       " Row(Row ID='739', Order ID='ES-2016-5791015', Order Date='17/05/2016', Ship Date='22/05/2016', Ship Mode='Standard Class', Customer ID='MO-17950', Customer Name='Michael Oakman', Segment='Consumer', City='Lund', State='Skåne', Country='Sweden', Region='North', Product ID='TEC-AC-10004753', Category='Technology', Sub-Category='Accessories', Product Name='Logitech Memory Card, Erganomic', Sales='303.57', Quantity='6', Discount='0.5', Profit='-291.51'),\n",
       " Row(Row ID='740', Order ID='ES-2017-2731678', Order Date='11/06/2017', Ship Date='15/06/2017', Ship Mode='Second Class', Customer ID='MF-17665', Customer Name='Maureen Fritzler', Segment='Corporate', City='Caen', State='Normandy', Country='France', Region='Central', Product ID='OFF-AR-10001462', Category='Office Supplies', Sub-Category='Art', Product Name='Stanley Highlighters, Fluorescent', Sales='31.92', Quantity='2', Discount='0', Profit='11.76'),\n",
       " Row(Row ID='741', Order ID='ES-2015-3492146', Order Date='18/07/2015', Ship Date='22/07/2015', Ship Mode='Standard Class', Customer ID='RK-19300', Customer Name='Ralph Kennedy', Segment='Consumer', City='Rome', State='Lazio', Country='Italy', Region='South', Product ID='OFF-PA-10004923', Category='Office Supplies', Sub-Category='Paper', Product Name='Xerox Memo Slips, Multicolor', Sales='59.76', Quantity='4', Discount='0', Profit='1.68'),\n",
       " Row(Row ID='742', Order ID='ES-2015-3492146', Order Date='18/07/2015', Ship Date='22/07/2015', Ship Mode='Standard Class', Customer ID='RK-19300', Customer Name='Ralph Kennedy', Segment='Consumer', City='Rome', State='Lazio', Country='Italy', Region='South', Product ID='OFF-BI-10002894', Category='Office Supplies', Sub-Category='Binders', Product Name='Avery Binding Machine, Durable', Sales='50.34', Quantity='1', Discount='0', Profit='3'),\n",
       " Row(Row ID='743', Order ID='ES-2015-3492146', Order Date='18/07/2015', Ship Date='22/07/2015', Ship Mode='Standard Class', Customer ID='RK-19300', Customer Name='Ralph Kennedy', Segment='Consumer', City='Rome', State='Lazio', Country='Italy', Region='South', Product ID='FUR-BO-10003333', Category='Furniture', Sub-Category='Bookcases', Product Name='Sauder Stackable Bookrack, Traditional', Sales='292.56', Quantity='2', Discount='0', Profit='43.86'),\n",
       " Row(Row ID='744', Order ID='ES-2017-1158805', Order Date='10/12/2017', Ship Date='12/12/2017', Ship Mode='Second Class', Customer ID='SC-20680', Customer Name='Steve Carroll', Segment='Home Office', City='Marignane', State=\"Provence-Alpes-Côte d'Azur\", Country='France', Region='Central', Product ID='OFF-LA-10003295', Category='Office Supplies', Sub-Category='Labels', Product Name='Harbour Creations Color Coded Labels, Alphabetical', Sales='89.04', Quantity='7', Discount='0', Profit='44.52'),\n",
       " Row(Row ID='745', Order ID='ES-2017-1158805', Order Date='10/12/2017', Ship Date='12/12/2017', Ship Mode='Second Class', Customer ID='SC-20680', Customer Name='Steve Carroll', Segment='Home Office', City='Marignane', State=\"Provence-Alpes-Côte d'Azur\", Country='France', Region='Central', Product ID='OFF-FA-10002619', Category='Office Supplies', Sub-Category='Fasteners', Product Name='Stockwell Rubber Bands, Metal', Sales='32.52', Quantity='2', Discount='0', Profit='16.26'),\n",
       " Row(Row ID='746', Order ID='ES-2017-1158805', Order Date='10/12/2017', Ship Date='12/12/2017', Ship Mode='Second Class', Customer ID='SC-20680', Customer Name='Steve Carroll', Segment='Home Office', City='Marignane', State=\"Provence-Alpes-Côte d'Azur\", Country='France', Region='Central', Product ID='OFF-BI-10003708', Category='Office Supplies', Sub-Category='Binders', Product Name='Cardinal Binder, Recycled', Sales='28.38', Quantity='2', Discount='0', Profit='5.94'),\n",
       " Row(Row ID='747', Order ID='ES-2017-1158805', Order Date='10/12/2017', Ship Date='12/12/2017', Ship Mode='Second Class', Customer ID='SC-20680', Customer Name='Steve Carroll', Segment='Home Office', City='Marignane', State=\"Provence-Alpes-Côte d'Azur\", Country='France', Region='Central', Product ID='TEC-PH-10000026', Category='Technology', Sub-Category='Phones', Product Name='Nokia Office Telephone, Cordless', Sales='231.132', Quantity='4', Discount='0.15', Profit='-16.428'),\n",
       " Row(Row ID='748', Order ID='ES-2017-1158805', Order Date='10/12/2017', Ship Date='12/12/2017', Ship Mode='Second Class', Customer ID='SC-20680', Customer Name='Steve Carroll', Segment='Home Office', City='Marignane', State=\"Provence-Alpes-Côte d'Azur\", Country='France', Region='Central', Product ID='OFF-SU-10001791', Category='Office Supplies', Sub-Category='Supplies', Product Name='Elite Box Cutter, Serrated', Sales='252.72', Quantity='8', Discount='0', Profit='50.4'),\n",
       " Row(Row ID='749', Order ID='ES-2016-3508441', Order Date='06/08/2016', Ship Date='11/08/2016', Ship Mode='Second Class', Customer ID='RB-19465', Customer Name='Rick Bensley', Segment='Home Office', City='Marseille', State=\"Provence-Alpes-Côte d'Azur\", Country='France', Region='Central', Product ID='OFF-FA-10004344', Category='Office Supplies', Sub-Category='Fasteners', Product Name='Advantus Thumb Tacks, Assorted Sizes', Sales='44.16', Quantity='4', Discount='0', Profit='6.6'),\n",
       " Row(Row ID='750', Order ID='ES-2016-1243709', Order Date='24/12/2016', Ship Date='26/12/2016', Ship Mode='Second Class', Customer ID='AG-10900', Customer Name='Arthur Gainer', Segment='Consumer', City='Iserlohn', State='North Rhine-Westphalia', Country='Germany', Region='Central', Product ID='OFF-BI-10001754', Category='Office Supplies', Sub-Category='Binders', Product Name='Ibico Binder Covers, Recycled', Sales='14.01', Quantity='1', Discount='0', Profit='5.16'),\n",
       " Row(Row ID='751', Order ID='ES-2017-1113356', Order Date='26/08/2017', Ship Date='29/08/2017', Ship Mode='First Class', Customer ID='RS-19420', Customer Name='Ricardo Sperren', Segment='Corporate', City='Neuilly-sur-Seine', State='Ile-de-France', Country='France', Region='Central', Product ID='OFF-BI-10002459', Category='Office Supplies', Sub-Category='Binders', Product Name='Cardinal Binding Machine, Recycled', Sales='150.39', Quantity='3', Discount='0', Profit='31.5'),\n",
       " Row(Row ID='752', Order ID='ES-2017-1113356', Order Date='26/08/2017', Ship Date='29/08/2017', Ship Mode='First Class', Customer ID='RS-19420', Customer Name='Ricardo Sperren', Segment='Corporate', City='Neuilly-sur-Seine', State='Ile-de-France', Country='France', Region='Central', Product ID='FUR-CH-10002819', Category='Furniture', Sub-Category='Chairs', Product Name='SAFCO Chairmat, Red', Sales='161.514', Quantity='3', Discount='0.1', Profit='19.674'),\n",
       " Row(Row ID='753', Order ID='ES-2015-5515506', Order Date='17/08/2015', Ship Date='22/08/2015', Ship Mode='Standard Class', Customer ID='JD-16150', Customer Name='Justin Deggeller', Segment='Corporate', City='Leicester', State='England', Country='United Kingdom', Region='North', Product ID='OFF-BI-10002570', Category='Office Supplies', Sub-Category='Binders', Product Name='Acco Binder Covers, Clear', Sales='63.9', Quantity='5', Discount='0', Profit='27.45'),\n",
       " Row(Row ID='754', Order ID='ES-2015-5515506', Order Date='17/08/2015', Ship Date='22/08/2015', Ship Mode='Standard Class', Customer ID='JD-16150', Customer Name='Justin Deggeller', Segment='Corporate', City='Leicester', State='England', Country='United Kingdom', Region='North', Product ID='OFF-AR-10001714', Category='Office Supplies', Sub-Category='Art', Product Name='Binney & Smith Markers, Fluorescent', Sales='76.05', Quantity='3', Discount='0', Profit='20.52'),\n",
       " Row(Row ID='755', Order ID='ES-2015-5515506', Order Date='17/08/2015', Ship Date='22/08/2015', Ship Mode='Standard Class', Customer ID='JD-16150', Customer Name='Justin Deggeller', Segment='Corporate', City='Leicester', State='England', Country='United Kingdom', Region='North', Product ID='OFF-BI-10000542', Category='Office Supplies', Sub-Category='Binders', Product Name='Wilson Jones 3-Hole Punch, Durable', Sales='88.47', Quantity='3', Discount='0', Profit='18.54'),\n",
       " Row(Row ID='756', Order ID='ES-2017-5749799', Order Date='24/02/2017', Ship Date='26/02/2017', Ship Mode='Second Class', Customer ID='KW-16570', Customer Name='Kelly Williams', Segment='Consumer', City='Wigan', State='England', Country='United Kingdom', Region='North', Product ID='OFF-BI-10001717', Category='Office Supplies', Sub-Category='Binders', Product Name='Avery Hole Reinforcements, Durable', Sales='17.73', Quantity='3', Discount='0', Profit='6.3'),\n",
       " Row(Row ID='757', Order ID='ES-2017-5749799', Order Date='24/02/2017', Ship Date='26/02/2017', Ship Mode='Second Class', Customer ID='KW-16570', Customer Name='Kelly Williams', Segment='Consumer', City='Wigan', State='England', Country='United Kingdom', Region='North', Product ID='OFF-FA-10000834', Category='Office Supplies', Sub-Category='Fasteners', Product Name='Advantus Staples, Assorted Sizes', Sales='16.62', Quantity='2', Discount='0', Profit='6.96'),\n",
       " Row(Row ID='758', Order ID='ES-2017-5749799', Order Date='24/02/2017', Ship Date='26/02/2017', Ship Mode='Second Class', Customer ID='KW-16570', Customer Name='Kelly Williams', Segment='Consumer', City='Wigan', State='England', Country='United Kingdom', Region='North', Product ID='FUR-CH-10001726', Category='Furniture', Sub-Category='Chairs', Product Name='Office Star Steel Folding Chair, Adjustable', Sales='471', Quantity='5', Discount='0', Profit='226.05'),\n",
       " Row(Row ID='759', Order ID='ES-2017-5749799', Order Date='24/02/2017', Ship Date='26/02/2017', Ship Mode='Second Class', Customer ID='KW-16570', Customer Name='Kelly Williams', Segment='Consumer', City='Wigan', State='England', Country='United Kingdom', Region='North', Product ID='TEC-AC-10001660', Category='Technology', Sub-Category='Accessories', Product Name='Enermax Flash Drive, USB', Sales='83.46', Quantity='2', Discount='0', Profit='32.52'),\n",
       " Row(Row ID='760', Order ID='ES-2014-4156324', Order Date='27/08/2014', Ship Date='31/08/2014', Ship Mode='Second Class', Customer ID='SC-20380', Customer Name='Shahid Collister', Segment='Consumer', City='Rochdale', State='England', Country='United Kingdom', Region='North', Product ID='OFF-FA-10004474', Category='Office Supplies', Sub-Category='Fasteners', Product Name='Advantus Rubber Bands, Metal', Sales='16.71', Quantity='1', Discount='0', Profit='4.17'),\n",
       " Row(Row ID='761', Order ID='IT-2015-5228062', Order Date='11/12/2015', Ship Date='15/12/2015', Ship Mode='Standard Class', Customer ID='DK-12985', Customer Name='Darren Koutras', Segment='Consumer', City='Fiumicino', State='Lazio', Country='Italy', Region='South', Product ID='OFF-ST-10003322', Category='Office Supplies', Sub-Category='Storage', Product Name='Eldon Shelving, Wire Frame', Sales='56.988', Quantity='2', Discount='0.4', Profit='-30.432'),\n",
       " Row(Row ID='762', Order ID='IT-2015-5228062', Order Date='11/12/2015', Ship Date='15/12/2015', Ship Mode='Standard Class', Customer ID='DK-12985', Customer Name='Darren Koutras', Segment='Consumer', City='Fiumicino', State='Lazio', Country='Italy', Region='South', Product ID='OFF-AR-10004884', Category='Office Supplies', Sub-Category='Art', Product Name='Sanford Pens, Fluorescent', Sales='12.36', Quantity='1', Discount='0', Profit='3.45'),\n",
       " Row(Row ID='763', Order ID='IT-2015-5228062', Order Date='11/12/2015', Ship Date='15/12/2015', Ship Mode='Standard Class', Customer ID='DK-12985', Customer Name='Darren Koutras', Segment='Consumer', City='Fiumicino', State='Lazio', Country='Italy', Region='South', Product ID='OFF-BI-10003917', Category='Office Supplies', Sub-Category='Binders', Product Name='Wilson Jones 3-Hole Punch, Recycled', Sales='28.35', Quantity='1', Discount='0', Profit='8.49'),\n",
       " Row(Row ID='764', Order ID='IT-2015-5228062', Order Date='11/12/2015', Ship Date='15/12/2015', Ship Mode='Standard Class', Customer ID='DK-12985', Customer Name='Darren Koutras', Segment='Consumer', City='Fiumicino', State='Lazio', Country='Italy', Region='South', Product ID='OFF-PA-10000393', Category='Office Supplies', Sub-Category='Paper', Product Name='Xerox Memo Slips, 8.5 x 11', Sales='35.34', Quantity='2', Discount='0', Profit='3.48'),\n",
       " Row(Row ID='765', Order ID='IT-2015-5228062', Order Date='11/12/2015', Ship Date='15/12/2015', Ship Mode='Standard Class', Customer ID='DK-12985', Customer Name='Darren Koutras', Segment='Consumer', City='Fiumicino', State='Lazio', Country='Italy', Region='South', Product ID='OFF-AR-10002783', Category='Office Supplies', Sub-Category='Art', Product Name='Stanley Pencil Sharpener, Water Color', Sales='125.25', Quantity='5', Discount='0', Profit='7.5'),\n",
       " Row(Row ID='766', Order ID='ES-2015-1944737', Order Date='20/04/2015', Ship Date='25/04/2015', Ship Mode='Second Class', Customer ID='RO-19780', Customer Name=\"Rose O'Brian\", Segment='Consumer', City='Foggia', State='Apulia', Country='Italy', Region='South', Product ID='OFF-AR-10000079', Category='Office Supplies', Sub-Category='Art', Product Name='Stanley Pencil Sharpener, Fluorescent', Sales='123.9', Quantity='5', Discount='0', Profit='39.6'),\n",
       " Row(Row ID='767', Order ID='IT-2016-1537853', Order Date='25/07/2016', Ship Date='29/07/2016', Ship Mode='Second Class', Customer ID='MM-17920', Customer Name='Michael Moore', Segment='Consumer', City='Muret', State='Languedoc-Roussillon-Midi-Pyrénées', Country='France', Region='Central', Product ID='OFF-AR-10003012', Category='Office Supplies', Sub-Category='Art', Product Name='Sanford Markers, Easy-Erase', Sales='94.08', Quantity='4', Discount='0', Profit='1.8'),\n",
       " Row(Row ID='768', Order ID='IT-2016-1537853', Order Date='25/07/2016', Ship Date='29/07/2016', Ship Mode='Second Class', Customer ID='MM-17920', Customer Name='Michael Moore', Segment='Consumer', City='Muret', State='Languedoc-Roussillon-Midi-Pyrénées', Country='France', Region='Central', Product ID='FUR-BO-10002812', Category='Furniture', Sub-Category='Bookcases', Product Name='Sauder 3-Shelf Cabinet, Pine', Sales='453.681', Quantity='3', Discount='0.1', Profit='65.511'),\n",
       " Row(Row ID='769', Order ID='IT-2016-1537853', Order Date='25/07/2016', Ship Date='29/07/2016', Ship Mode='Second Class', Customer ID='MM-17920', Customer Name='Michael Moore', Segment='Consumer', City='Muret', State='Languedoc-Roussillon-Midi-Pyrénées', Country='France', Region='Central', Product ID='TEC-PH-10002076', Category='Technology', Sub-Category='Phones', Product Name='Samsung Audio Dock, Full Size', Sales='285.804', Quantity='2', Discount='0.15', Profit='-6.756'),\n",
       " Row(Row ID='770', Order ID='IT-2016-1537853', Order Date='25/07/2016', Ship Date='29/07/2016', Ship Mode='Second Class', Customer ID='MM-17920', Customer Name='Michael Moore', Segment='Consumer', City='Muret', State='Languedoc-Roussillon-Midi-Pyrénées', Country='France', Region='Central', Product ID='FUR-BO-10004824', Category='Furniture', Sub-Category='Bookcases', Product Name='Safco Stackable Bookrack, Traditional', Sales='267.192', Quantity='2', Discount='0.1', Profit='17.772'),\n",
       " Row(Row ID='771', Order ID='ES-2017-1581942', Order Date='25/12/2017', Ship Date='31/12/2017', Ship Mode='Standard Class', Customer ID='ST-20530', Customer Name='Shui Tom', Segment='Consumer', City='Palma de Mallorca', State='Balearic Islands', Country='Spain', Region='South', Product ID='OFF-AP-10002413', Category='Office Supplies', Sub-Category='Appliances', Product Name='Breville Coffee Grinder, Black', Sales='183.87', Quantity='3', Discount='0', Profit='64.35'),\n",
       " Row(Row ID='772', Order ID='ES-2017-1486384', Order Date='08/08/2017', Ship Date='11/08/2017', Ship Mode='First Class', Customer ID='JW-16075', Customer Name='Julia West', Segment='Consumer', City='Paris', State='Ile-de-France', Country='France', Region='Central', Product ID='OFF-FA-10001051', Category='Office Supplies', Sub-Category='Fasteners', Product Name='OIC Rubber Bands, Metal', Sales='103.14', Quantity='6', Discount='0', Profit='39.06'),\n",
       " Row(Row ID='773', Order ID='ES-2017-1486384', Order Date='08/08/2017', Ship Date='11/08/2017', Ship Mode='First Class', Customer ID='JW-16075', Customer Name='Julia West', Segment='Consumer', City='Paris', State='Ile-de-France', Country='France', Region='Central', Product ID='TEC-AC-10001187', Category='Technology', Sub-Category='Accessories', Product Name='Memorex Keyboard, USB', Sales='143.1', Quantity='2', Discount='0', Profit='5.7'),\n",
       " Row(Row ID='774', Order ID='ES-2017-1486384', Order Date='08/08/2017', Ship Date='11/08/2017', Ship Mode='First Class', Customer ID='JW-16075', Customer Name='Julia West', Segment='Consumer', City='Paris', State='Ile-de-France', Country='France', Region='Central', Product ID='TEC-AC-10003403', Category='Technology', Sub-Category='Accessories', Product Name='Enermax Router, USB', Sales='1809.78', Quantity='7', Discount='0', Profit='325.71'),\n",
       " Row(Row ID='775', Order ID='ES-2014-1494790', Order Date='26/08/2014', Ship Date='26/08/2014', Ship Mode='Same Day', Customer ID='LD-16855', Customer Name='Lela Donovan', Segment='Corporate', City='Baden-Baden', State='Baden-Württemberg', Country='Germany', Region='Central', Product ID='OFF-SU-10001813', Category='Office Supplies', Sub-Category='Supplies', Product Name='Kleencut Ruler, Easy Grip', Sales='75.9', Quantity='5', Discount='0', Profit='1.5'),\n",
       " Row(Row ID='776', Order ID='ES-2016-4632541', Order Date='27/09/2016', Ship Date='27/09/2016', Ship Mode='Same Day', Customer ID='SC-20305', Customer Name='Sean Christensen', Segment='Consumer', City='Benidorm', State='Valenciana', Country='Spain', Region='South', Product ID='FUR-FU-10002937', Category='Furniture', Sub-Category='Furnishings', Product Name='Rubbermaid Light Bulb, Durable', Sales='47.61', Quantity='3', Discount='0', Profit='18.99'),\n",
       " Row(Row ID='777', Order ID='ES-2016-4632541', Order Date='27/09/2016', Ship Date='27/09/2016', Ship Mode='Same Day', Customer ID='SC-20305', Customer Name='Sean Christensen', Segment='Consumer', City='Benidorm', State='Valenciana', Country='Spain', Region='South', Product ID='OFF-AR-10000399', Category='Office Supplies', Sub-Category='Art', Product Name='Stanley Canvas, Water Color', Sales='157.95', Quantity='3', Discount='0', Profit='69.48'),\n",
       " Row(Row ID='778', Order ID='ES-2016-4632541', Order Date='27/09/2016', Ship Date='27/09/2016', Ship Mode='Same Day', Customer ID='SC-20305', Customer Name='Sean Christensen', Segment='Consumer', City='Benidorm', State='Valenciana', Country='Spain', Region='South', Product ID='OFF-BI-10000179', Category='Office Supplies', Sub-Category='Binders', Product Name='Wilson Jones 3-Hole Punch, Economy', Sales='139.95', Quantity='5', Discount='0', Profit='46.05'),\n",
       " Row(Row ID='779', Order ID='ES-2016-4632541', Order Date='27/09/2016', Ship Date='27/09/2016', Ship Mode='Same Day', Customer ID='SC-20305', Customer Name='Sean Christensen', Segment='Consumer', City='Benidorm', State='Valenciana', Country='Spain', Region='South', Product ID='FUR-BO-10002708', Category='Furniture', Sub-Category='Bookcases', Product Name='Dania Library with Doors, Pine', Sales='1091.25', Quantity='3', Discount='0', Profit='119.97'),\n",
       " Row(Row ID='780', Order ID='ES-2016-2027910', Order Date='22/07/2016', Ship Date='26/07/2016', Ship Mode='Standard Class', Customer ID='JH-16180', Customer Name='Justin Hirsh', Segment='Consumer', City='Munster', State='Lower Saxony', Country='Germany', Region='Central', Product ID='OFF-AR-10003466', Category='Office Supplies', Sub-Category='Art', Product Name='Binney & Smith Highlighters, Easy-Erase', Sales='84.3', Quantity='5', Discount='0', Profit='30.3'),\n",
       " Row(Row ID='781', Order ID='ES-2015-5064111', Order Date='18/12/2015', Ship Date='23/12/2015', Ship Mode='Standard Class', Customer ID='CA-12265', Customer Name='Christina Anderson', Segment='Consumer', City='Cormeilles-en-Parisis', State='Ile-de-France', Country='France', Region='Central', Product ID='OFF-BI-10003917', Category='Office Supplies', Sub-Category='Binders', Product Name='Wilson Jones 3-Hole Punch, Recycled', Sales='28.35', Quantity='1', Discount='0', Profit='8.49'),\n",
       " Row(Row ID='782', Order ID='ES-2015-1724662', Order Date='02/12/2015', Ship Date='08/12/2015', Ship Mode='Standard Class', Customer ID='CD-11920', Customer Name='Carlos Daly', Segment='Consumer', City='Saint-Malo', State='Brittany', Country='France', Region='Central', Product ID='OFF-BI-10002570', Category='Office Supplies', Sub-Category='Binders', Product Name='Acco Binder Covers, Clear', Sales='12.78', Quantity='1', Discount='0', Profit='5.49'),\n",
       " Row(Row ID='783', Order ID='ES-2015-1724662', Order Date='02/12/2015', Ship Date='08/12/2015', Ship Mode='Standard Class', Customer ID='CD-11920', Customer Name='Carlos Daly', Segment='Consumer', City='Saint-Malo', State='Brittany', Country='France', Region='Central', Product ID='OFF-ST-10000624', Category='Office Supplies', Sub-Category='Storage', Product Name='Eldon File Cart, Single Width', Sales='693.198', Quantity='6', Discount='0.1', Profit='253.998'),\n",
       " Row(Row ID='784', Order ID='ES-2015-1724662', Order Date='02/12/2015', Ship Date='08/12/2015', Ship Mode='Standard Class', Customer ID='CD-11920', Customer Name='Carlos Daly', Segment='Consumer', City='Saint-Malo', State='Brittany', Country='France', Region='Central', Product ID='OFF-AR-10000502', Category='Office Supplies', Sub-Category='Art', Product Name='BIC Highlighters, Easy-Erase', Sales='38.4', Quantity='2', Discount='0', Profit='8.82'),\n",
       " Row(Row ID='785', Order ID='ES-2015-1724662', Order Date='02/12/2015', Ship Date='08/12/2015', Ship Mode='Standard Class', Customer ID='CD-11920', Customer Name='Carlos Daly', Segment='Consumer', City='Saint-Malo', State='Brittany', Country='France', Region='Central', Product ID='OFF-BI-10003708', Category='Office Supplies', Sub-Category='Binders', Product Name='Cardinal Binder, Recycled', Sales='42.57', Quantity='3', Discount='0', Profit='8.91'),\n",
       " Row(Row ID='786', Order ID='ES-2015-1724662', Order Date='02/12/2015', Ship Date='08/12/2015', Ship Mode='Standard Class', Customer ID='CD-11920', Customer Name='Carlos Daly', Segment='Consumer', City='Saint-Malo', State='Brittany', Country='France', Region='Central', Product ID='FUR-CH-10000857', Category='Furniture', Sub-Category='Chairs', Product Name='Harbour Creations Rocking Chair, Black', Sales='650.97', Quantity='5', Discount='0.1', Profit='144.57'),\n",
       " Row(Row ID='787', Order ID='IT-2017-4774804', Order Date='17/02/2017', Ship Date='22/02/2017', Ship Mode='Standard Class', Customer ID='RP-19855', Customer Name='Roy Phan', Segment='Corporate', City='Oss', State='North Brabant', Country='Netherlands', Region='Central', Product ID='OFF-SU-10004244', Category='Office Supplies', Sub-Category='Supplies', Product Name='Elite Letter Opener, Easy Grip', Sales='27.3', Quantity='2', Discount='0.5', Profit='-25.14'),\n",
       " Row(Row ID='788', Order ID='ES-2015-4681472', Order Date='12/06/2015', Ship Date='17/06/2015', Ship Mode='Second Class', Customer ID='JS-15880', Customer Name='John Stevenson', Segment='Consumer', City='Nanterre', State='Ile-de-France', Country='France', Region='Central', Product ID='OFF-BI-10002738', Category='Office Supplies', Sub-Category='Binders', Product Name='Acco Index Tab, Clear', Sales='24.12', Quantity='3', Discount='0', Profit='10.08'),\n",
       " Row(Row ID='789', Order ID='ES-2016-5623189', Order Date='04/09/2016', Ship Date='06/09/2016', Ship Mode='Second Class', Customer ID='BE-11335', Customer Name='Bill Eplett', Segment='Home Office', City='Antwerp', State='Antwerp', Country='Belgium', Region='Central', Product ID='OFF-SU-10000429', Category='Office Supplies', Sub-Category='Supplies', Product Name='Elite Ruler, Easy Grip', Sales='30.84', Quantity='2', Discount='0', Profit='2.1'),\n",
       " Row(Row ID='790', Order ID='ES-2016-5623189', Order Date='04/09/2016', Ship Date='06/09/2016', Ship Mode='Second Class', Customer ID='BE-11335', Customer Name='Bill Eplett', Segment='Home Office', City='Antwerp', State='Antwerp', Country='Belgium', Region='Central', Product ID='OFF-BI-10000308', Category='Office Supplies', Sub-Category='Binders', Product Name='Cardinal Binder Covers, Durable', Sales='27', Quantity='2', Discount='0', Profit='8.64'),\n",
       " Row(Row ID='791', Order ID='ES-2015-5128771', Order Date='28/12/2015', Ship Date='04/01/2016', Ship Mode='Standard Class', Customer ID='GZ-14470', Customer Name='Gary Zandusky', Segment='Consumer', City='Domont', State='Ile-de-France', Country='France', Region='Central', Product ID='TEC-CO-10003523', Category='Technology', Sub-Category='Copiers', Product Name='Brother Wireless Fax, High-Speed', Sales='320.4585', Quantity='1', Discount='0.15', Profit='26.3685'),\n",
       " Row(Row ID='792', Order ID='ES-2015-2280466', Order Date='20/03/2015', Ship Date='25/03/2015', Ship Mode='Standard Class', Customer ID='RB-19360', Customer Name='Raymond Buch', Segment='Consumer', City='Conflans-Sainte-Honorine', State='Ile-de-France', Country='France', Region='Central', Product ID='OFF-AR-10000799', Category='Office Supplies', Sub-Category='Art', Product Name='Sanford Highlighters, Easy-Erase', Sales='32.04', Quantity='2', Discount='0', Profit='1.26'),\n",
       " Row(Row ID='793', Order ID='ES-2017-3331248', Order Date='25/09/2017', Ship Date='30/09/2017', Ship Mode='Second Class', Customer ID='AH-10690', Customer Name='Anna Häberlin', Segment='Corporate', City='Elda', State='Valenciana', Country='Spain', Region='South', Product ID='OFF-BI-10002047', Category='Office Supplies', Sub-Category='Binders', Product Name='Acco Index Tab, Durable', Sales='62.58', Quantity='7', Discount='0', Profit='13.65'),\n",
       " Row(Row ID='794', Order ID='ES-2017-5710826', Order Date='30/12/2017', Ship Date='02/01/2018', Ship Mode='Second Class', Customer ID='MB-17305', Customer Name='Maria Bertelson', Segment='Consumer', City='Bourges', State='Centre-Val de Loire', Country='France', Region='Central', Product ID='FUR-BO-10003541', Category='Furniture', Sub-Category='Bookcases', Product Name='Bush Classic Bookcase, Metal', Sales='370.926', Quantity='1', Discount='0.1', Profit='98.886'),\n",
       " Row(Row ID='795', Order ID='ES-2017-5990473', Order Date='14/07/2017', Ship Date='20/07/2017', Ship Mode='Standard Class', Customer ID='SG-20605', Customer Name='Speros Goranitis', Segment='Consumer', City='Vitry-sur-Seine', State='Ile-de-France', Country='France', Region='Central', Product ID='OFF-AR-10000823', Category='Office Supplies', Sub-Category='Art', Product Name='Stanley Pens, Water Color', Sales='66.15', Quantity='5', Discount='0', Profit='21.15'),\n",
       " Row(Row ID='796', Order ID='ES-2017-5990473', Order Date='14/07/2017', Ship Date='20/07/2017', Ship Mode='Standard Class', Customer ID='SG-20605', Customer Name='Speros Goranitis', Segment='Consumer', City='Vitry-sur-Seine', State='Ile-de-France', Country='France', Region='Central', Product ID='OFF-AR-10001777', Category='Office Supplies', Sub-Category='Art', Product Name='Binney & Smith Sketch Pad, Water Color', Sales='346.5', Quantity='7', Discount='0', Profit='114.24'),\n",
       " Row(Row ID='797', Order ID='ES-2017-5693188', Order Date='08/05/2017', Ship Date='15/05/2017', Ship Mode='Standard Class', Customer ID='BW-11110', Customer Name='Bart Watters', Segment='Corporate', City='Meyzieu', State='Auvergne-Rhône-Alpes', Country='France', Region='Central', Product ID='TEC-CO-10001425', Category='Technology', Sub-Category='Copiers', Product Name='HP Personal Copier, Color', Sales='320.6115', Quantity='3', Discount='0.15', Profit='26.4015'),\n",
       " Row(Row ID='798', Order ID='ES-2015-1473317', Order Date='16/06/2015', Ship Date='22/06/2015', Ship Mode='Standard Class', Customer ID='KB-16240', Customer Name='Karen Bern', Segment='Corporate', City='Aprilia', State='Lazio', Country='Italy', Region='South', Product ID='OFF-PA-10004450', Category='Office Supplies', Sub-Category='Paper', Product Name='Xerox Cards & Envelopes, Recycled', Sales='134.64', Quantity='3', Discount='0', Profit='43.02'),\n",
       " Row(Row ID='799', Order ID='ES-2015-1473317', Order Date='16/06/2015', Ship Date='22/06/2015', Ship Mode='Standard Class', Customer ID='KB-16240', Customer Name='Karen Bern', Segment='Corporate', City='Aprilia', State='Lazio', Country='Italy', Region='South', Product ID='OFF-ST-10001646', Category='Office Supplies', Sub-Category='Storage', Product Name='Fellowes Box, Wire Frame', Sales='56.25', Quantity='5', Discount='0.4', Profit='5.55'),\n",
       " Row(Row ID='800', Order ID='ES-2016-2402314', Order Date='25/09/2016', Ship Date='30/09/2016', Ship Mode='Standard Class', Customer ID='AC-10420', Customer Name='Alyssa Crouse', Segment='Corporate', City='Widnes', State='England', Country='United Kingdom', Region='North', Product ID='TEC-PH-10002597', Category='Technology', Sub-Category='Phones', Product Name='Apple Signal Booster, with Caller ID', Sales='409.95', Quantity='3', Discount='0', Profit='36.81'),\n",
       " Row(Row ID='801', Order ID='ES-2015-1382586', Order Date='25/08/2015', Ship Date='29/08/2015', Ship Mode='Standard Class', Customer ID='MH-17440', Customer Name='Mark Haberlin', Segment='Corporate', City='Molina de Segura', State='Murcia', Country='Spain', Region='South', Product ID='OFF-BI-10001833', Category='Office Supplies', Sub-Category='Binders', Product Name='Ibico Hole Reinforcements, Recycled', Sales='36.75', Quantity='5', Discount='0', Profit='11.25'),\n",
       " Row(Row ID='802', Order ID='ES-2015-1382586', Order Date='25/08/2015', Ship Date='29/08/2015', Ship Mode='Standard Class', Customer ID='MH-17440', Customer Name='Mark Haberlin', Segment='Corporate', City='Molina de Segura', State='Murcia', Country='Spain', Region='South', Product ID='OFF-BI-10003124', Category='Office Supplies', Sub-Category='Binders', Product Name='Cardinal Hole Reinforcements, Durable', Sales='27.36', Quantity='4', Discount='0', Profit='5.64'),\n",
       " Row(Row ID='803', Order ID='ES-2015-1382586', Order Date='25/08/2015', Ship Date='29/08/2015', Ship Mode='Standard Class', Customer ID='MH-17440', Customer Name='Mark Haberlin', Segment='Corporate', City='Molina de Segura', State='Murcia', Country='Spain', Region='South', Product ID='FUR-BO-10002926', Category='Furniture', Sub-Category='Bookcases', Product Name='Bush Stackable Bookrack, Mobile', Sales='370.53', Quantity='3', Discount='0', Profit='40.68'),\n",
       " Row(Row ID='804', Order ID='IT-2014-4626649', Order Date='02/09/2014', Ship Date='06/09/2014', Ship Mode='Standard Class', Customer ID='PN-18775', Customer Name='Parhena Norris', Segment='Home Office', City='Jena', State='Thuringia', Country='Germany', Region='Central', Product ID='OFF-BI-10002894', Category='Office Supplies', Sub-Category='Binders', Product Name='Avery Binding Machine, Durable', Sales='100.68', Quantity='2', Discount='0', Profit='6'),\n",
       " Row(Row ID='805', Order ID='IT-2014-4626649', Order Date='02/09/2014', Ship Date='06/09/2014', Ship Mode='Standard Class', Customer ID='PN-18775', Customer Name='Parhena Norris', Segment='Home Office', City='Jena', State='Thuringia', Country='Germany', Region='Central', Product ID='OFF-BI-10004028', Category='Office Supplies', Sub-Category='Binders', Product Name='Ibico Index Tab, Durable', Sales='37.08', Quantity='4', Discount='0', Profit='16.2'),\n",
       " Row(Row ID='806', Order ID='IT-2017-3322102', Order Date='18/06/2017', Ship Date='24/06/2017', Ship Mode='Standard Class', Customer ID='CR-12625', Customer Name='Corey Roper', Segment='Home Office', City='Cagliari', State='Sardinia', Country='Italy', Region='South', Product ID='OFF-ST-10001576', Category='Office Supplies', Sub-Category='Storage', Product Name='Tenex Folders, Blue', Sales='27.864', Quantity='2', Discount='0.4', Profit='-3.276'),\n",
       " Row(Row ID='807', Order ID='ES-2016-1777286', Order Date='30/08/2016', Ship Date='02/09/2016', Ship Mode='First Class', Customer ID='MS-17365', Customer Name='Maribeth Schnelling', Segment='Consumer', City='Stuttgart', State='Baden-Württemberg', Country='Germany', Region='Central', Product ID='OFF-PA-10004034', Category='Office Supplies', Sub-Category='Paper', Product Name='Green Bar Parchment Paper, 8.5 x 11', Sales='41.64', Quantity='2', Discount='0', Profit='17.04'),\n",
       " Row(Row ID='808', Order ID='ES-2016-1777286', Order Date='30/08/2016', Ship Date='02/09/2016', Ship Mode='First Class', Customer ID='MS-17365', Customer Name='Maribeth Schnelling', Segment='Consumer', City='Stuttgart', State='Baden-Württemberg', Country='Germany', Region='Central', Product ID='OFF-BI-10001544', Category='Office Supplies', Sub-Category='Binders', Product Name='Wilson Jones Hole Reinforcements, Clear', Sales='7.98', Quantity='2', Discount='0', Profit='0.84'),\n",
       " Row(Row ID='809', Order ID='ES-2016-1777286', Order Date='30/08/2016', Ship Date='02/09/2016', Ship Mode='First Class', Customer ID='MS-17365', Customer Name='Maribeth Schnelling', Segment='Consumer', City='Stuttgart', State='Baden-Württemberg', Country='Germany', Region='Central', Product ID='FUR-CH-10004676', Category='Furniture', Sub-Category='Chairs', Product Name='Office Star Rocking Chair, Black', Sales='373.896', Quantity='3', Discount='0.1', Profit='41.526'),\n",
       " Row(Row ID='810', Order ID='ES-2015-3804736', Order Date='30/11/2015', Ship Date='05/12/2015', Ship Mode='Standard Class', Customer ID='SH-19975', Customer Name='Sally Hughsby', Segment='Corporate', City='Espoo', State='Uusimaa', Country='Finland', Region='North', Product ID='TEC-AC-10003172', Category='Technology', Sub-Category='Accessories', Product Name='Memorex Numeric Keypad, Bluetooth', Sales='316.47', Quantity='7', Discount='0', Profit='94.92'),\n",
       " Row(Row ID='811', Order ID='ES-2017-5225520', Order Date='25/08/2017', Ship Date='28/08/2017', Ship Mode='Second Class', Customer ID='TT-21460', Customer Name='Tonja Turnell', Segment='Home Office', City='Valencia', State='Valenciana', Country='Spain', Region='South', Product ID='OFF-AR-10000316', Category='Office Supplies', Sub-Category='Art', Product Name='Stanley Pens, Blue', Sales='10.05', Quantity='1', Discount='0', Profit='4.92'),\n",
       " Row(Row ID='812', Order ID='ES-2014-2010166', Order Date='02/03/2014', Ship Date='06/03/2014', Ship Mode='Standard Class', Customer ID='LO-17170', Customer Name='Lori Olson', Segment='Corporate', City='Berlin', State='Berlin', Country='Germany', Region='Central', Product ID='TEC-AC-10004791', Category='Technology', Sub-Category='Accessories', Product Name='Belkin Keyboard, USB', Sales='151.362', Quantity='2', Discount='0.1', Profit='-5.058'),\n",
       " Row(Row ID='813', Order ID='IT-2015-2539640', Order Date='28/04/2015', Ship Date='03/05/2015', Ship Mode='Standard Class', Customer ID='JK-16090', Customer Name='Juliana Krohn', Segment='Consumer', City='Chemnitz', State='Saxony', Country='Germany', Region='Central', Product ID='OFF-SU-10003509', Category='Office Supplies', Sub-Category='Supplies', Product Name='Stiletto Ruler, Easy Grip', Sales='82.5', Quantity='5', Discount='0', Profit='33.75'),\n",
       " Row(Row ID='814', Order ID='IT-2015-2539640', Order Date='28/04/2015', Ship Date='03/05/2015', Ship Mode='Standard Class', Customer ID='JK-16090', Customer Name='Juliana Krohn', Segment='Consumer', City='Chemnitz', State='Saxony', Country='Germany', Region='Central', Product ID='OFF-BI-10000620', Category='Office Supplies', Sub-Category='Binders', Product Name='Wilson Jones Index Tab, Economy', Sales='12.9', Quantity='2', Discount='0', Profit='3.3'),\n",
       " Row(Row ID='815', Order ID='ES-2014-2755002', Order Date='30/04/2014', Ship Date='04/05/2014', Ship Mode='Standard Class', Customer ID='SG-20605', Customer Name='Speros Goranitis', Segment='Consumer', City='Cholet', State='Pays de la Loire', Country='France', Region='Central', Product ID='OFF-ST-10004702', Category='Office Supplies', Sub-Category='Storage', Product Name='Eldon Box, Single Width', Sales='37.044', Quantity='4', Discount='0.1', Profit='7.764'),\n",
       " Row(Row ID='816', Order ID='ES-2014-5754966', Order Date='07/06/2014', Ship Date='14/06/2014', Ship Mode='Standard Class', Customer ID='DB-13210', Customer Name='Dean Braden', Segment='Consumer', City='Colchester', State='England', Country='United Kingdom', Region='North', Product ID='OFF-PA-10001661', Category='Office Supplies', Sub-Category='Paper', Product Name='SanDisk Computer Printout Paper, 8.5 x 11', Sales='237.51', Quantity='7', Discount='0', Profit='26.04'),\n",
       " Row(Row ID='817', Order ID='ES-2017-5566428', Order Date='22/12/2017', Ship Date='26/12/2017', Ship Mode='Standard Class', Customer ID='DB-13270', Customer Name='Deborah Brumfield', Segment='Home Office', City='Aschaffenburg', State='Bavaria', Country='Germany', Region='Central', Product ID='TEC-PH-10004810', Category='Technology', Sub-Category='Phones', Product Name='Samsung Speaker Phone, Full Size', Sales='1120.77', Quantity='9', Discount='0', Profit='268.92'),\n",
       " Row(Row ID='818', Order ID='ES-2017-5566428', Order Date='22/12/2017', Ship Date='26/12/2017', Ship Mode='Standard Class', Customer ID='DB-13270', Customer Name='Deborah Brumfield', Segment='Home Office', City='Aschaffenburg', State='Bavaria', Country='Germany', Region='Central', Product ID='FUR-CH-10003248', Category='Furniture', Sub-Category='Chairs', Product Name='SAFCO Bag Chairs, Black', Sales='126.927', Quantity='3', Discount='0.1', Profit='9.837'),\n",
       " Row(Row ID='819', Order ID='ES-2017-5566428', Order Date='22/12/2017', Ship Date='26/12/2017', Ship Mode='Standard Class', Customer ID='DB-13270', Customer Name='Deborah Brumfield', Segment='Home Office', City='Aschaffenburg', State='Bavaria', Country='Germany', Region='Central', Product ID='TEC-AC-10003335', Category='Technology', Sub-Category='Accessories', Product Name='SanDisk Memory Card, Erganomic', Sales='661.32', Quantity='6', Discount='0', Profit='118.98'),\n",
       " Row(Row ID='820', Order ID='ES-2017-5566428', Order Date='22/12/2017', Ship Date='26/12/2017', Ship Mode='Standard Class', Customer ID='DB-13270', Customer Name='Deborah Brumfield', Segment='Home Office', City='Aschaffenburg', State='Bavaria', Country='Germany', Region='Central', Product ID='TEC-PH-10003137', Category='Technology', Sub-Category='Phones', Product Name='Nokia Signal Booster, Cordless', Sales='278.7', Quantity='2', Discount='0', Profit='83.58'),\n",
       " Row(Row ID='821', Order ID='ES-2014-1589842', Order Date='14/05/2014', Ship Date='16/05/2014', Ship Mode='Second Class', Customer ID='AR-10825', Customer Name='Anthony Rawles', Segment='Corporate', City='Messina', State='Sicily', Country='Italy', Region='South', Product ID='OFF-AR-10002454', Category='Office Supplies', Sub-Category='Art', Product Name='Binney & Smith Canvas, Water Color', Sales='109.08', Quantity='2', Discount='0', Profit='52.32'),\n",
       " Row(Row ID='822', Order ID='ES-2014-1589842', Order Date='14/05/2014', Ship Date='16/05/2014', Ship Mode='Second Class', Customer ID='AR-10825', Customer Name='Anthony Rawles', Segment='Corporate', City='Messina', State='Sicily', Country='Italy', Region='South', Product ID='TEC-AC-10000089', Category='Technology', Sub-Category='Accessories', Product Name='SanDisk Router, Bluetooth', Sales='1025.4', Quantity='4', Discount='0', Profit='399.84'),\n",
       " Row(Row ID='823', Order ID='ES-2014-1351543', Order Date='13/05/2014', Ship Date='18/05/2014', Ship Mode='Standard Class', Customer ID='DP-13165', Customer Name='David Philippe', Segment='Consumer', City='Berlin', State='Berlin', Country='Germany', Region='Central', Product ID='OFF-BI-10001384', Category='Office Supplies', Sub-Category='Binders', Product Name='Cardinal Binder, Economy', Sales='24.894', Quantity='2', Discount='0.1', Profit='7.434'),\n",
       " Row(Row ID='824', Order ID='ES-2014-2933675', Order Date='13/03/2014', Ship Date='20/03/2014', Ship Mode='Standard Class', Customer ID='SG-20470', Customer Name='Sheri Gordon', Segment='Consumer', City='Helsinki', State='Uusimaa', Country='Finland', Region='North', Product ID='OFF-AR-10003457', Category='Office Supplies', Sub-Category='Art', Product Name='Sanford Sketch Pad, Water Color', Sales='194.64', Quantity='4', Discount='0', Profit='91.44'),\n",
       " Row(Row ID='825', Order ID='ES-2014-5239101', Order Date='27/07/2014', Ship Date='31/07/2014', Ship Mode='Standard Class', Customer ID='MG-17695', Customer Name='Maureen Gnade', Segment='Consumer', City='Stuttgart', State='Baden-Württemberg', Country='Germany', Region='Central', Product ID='OFF-ST-10002151', Category='Office Supplies', Sub-Category='Storage', Product Name='Eldon Box, Blue', Sales='27.702', Quantity='3', Discount='0.1', Profit='4.842'),\n",
       " Row(Row ID='826', Order ID='ES-2014-5239101', Order Date='27/07/2014', Ship Date='31/07/2014', Ship Mode='Standard Class', Customer ID='MG-17695', Customer Name='Maureen Gnade', Segment='Consumer', City='Stuttgart', State='Baden-Württemberg', Country='Germany', Region='Central', Product ID='OFF-AR-10000703', Category='Office Supplies', Sub-Category='Art', Product Name='BIC Pens, Water Color', Sales='17.46', Quantity='1', Discount='0', Profit='7.14'),\n",
       " Row(Row ID='827', Order ID='ES-2014-5239101', Order Date='27/07/2014', Ship Date='31/07/2014', Ship Mode='Standard Class', Customer ID='MG-17695', Customer Name='Maureen Gnade', Segment='Consumer', City='Stuttgart', State='Baden-Württemberg', Country='Germany', Region='Central', Product ID='OFF-PA-10001971', Category='Office Supplies', Sub-Category='Paper', Product Name='Eaton Cards & Envelopes, Premium', Sales='135.54', Quantity='3', Discount='0', Profit='40.59'),\n",
       " Row(Row ID='828', Order ID='ES-2017-5928432', Order Date='07/04/2017', Ship Date='14/04/2017', Ship Mode='Standard Class', Customer ID='CD-12790', Customer Name='Cynthia Delaney', Segment='Home Office', City='Berlin', State='Berlin', Country='Germany', Region='Central', Product ID='OFF-PA-10001223', Category='Office Supplies', Sub-Category='Paper', Product Name='SanDisk Cards & Envelopes, Premium', Sales='348.624', Quantity='8', Discount='0.1', Profit='108.384'),\n",
       " Row(Row ID='829', Order ID='ES-2016-1413393', Order Date='13/08/2016', Ship Date='13/08/2016', Ship Mode='Same Day', Customer ID='AB-10015', Customer Name='Aaron Bergman', Segment='Consumer', City='Lille', State='Hauts-de-France', Country='France', Region='Central', Product ID='TEC-AC-10002122', Category='Technology', Sub-Category='Accessories', Product Name='Belkin Keyboard, Erganomic', Sales='245.07', Quantity='3', Discount='0', Profit='14.67'),\n",
       " Row(Row ID='830', Order ID='ES-2016-4732219', Order Date='06/08/2016', Ship Date='08/08/2016', Ship Mode='Second Class', Customer ID='MC-18100', Customer Name='Mick Crebagga', Segment='Consumer', City='Sevran', State='Ile-de-France', Country='France', Region='Central', Product ID='OFF-AP-10002904', Category='Office Supplies', Sub-Category='Appliances', Product Name='Hamilton Beach Refrigerator, Silver', Sales='1352.376', Quantity='3', Discount='0.1', Profit='14.976'),\n",
       " Row(Row ID='831', Order ID='ES-2017-1976630', Order Date='21/11/2017', Ship Date='26/11/2017', Ship Mode='Standard Class', Customer ID='HM-14980', Customer Name='Henry MacAllister', Segment='Consumer', City='Maidenhead', State='England', Country='United Kingdom', Region='North', Product ID='OFF-AP-10003577', Category='Office Supplies', Sub-Category='Appliances', Product Name='Cuisinart Blender, Black', Sales='132.84', Quantity='2', Discount='0', Profit='1.32'),\n",
       " Row(Row ID='832', Order ID='ES-2017-1976630', Order Date='21/11/2017', Ship Date='26/11/2017', Ship Mode='Standard Class', Customer ID='HM-14980', Customer Name='Henry MacAllister', Segment='Consumer', City='Maidenhead', State='England', Country='United Kingdom', Region='North', Product ID='OFF-AR-10001482', Category='Office Supplies', Sub-Category='Art', Product Name='Stanley Markers, Easy-Erase', Sales='112.35', Quantity='5', Discount='0', Profit='0'),\n",
       " Row(Row ID='833', Order ID='ES-2017-1976630', Order Date='21/11/2017', Ship Date='26/11/2017', Ship Mode='Standard Class', Customer ID='HM-14980', Customer Name='Henry MacAllister', Segment='Consumer', City='Maidenhead', State='England', Country='United Kingdom', Region='North', Product ID='TEC-PH-10003683', Category='Technology', Sub-Category='Phones', Product Name='Motorola Audio Dock, VoIP', Sales='520.38', Quantity='3', Discount='0', Profit='150.84'),\n",
       " Row(Row ID='834', Order ID='ES-2017-1976630', Order Date='21/11/2017', Ship Date='26/11/2017', Ship Mode='Standard Class', Customer ID='HM-14980', Customer Name='Henry MacAllister', Segment='Consumer', City='Maidenhead', State='England', Country='United Kingdom', Region='North', Product ID='OFF-ST-10003305', Category='Office Supplies', Sub-Category='Storage', Product Name='Rogers Box, Blue', Sales='47.94', Quantity='2', Discount='0', Profit='0.9'),\n",
       " Row(Row ID='835', Order ID='ES-2017-1679056', Order Date='25/09/2017', Ship Date='01/10/2017', Ship Mode='Standard Class', Customer ID='KA-16525', Customer Name='Kelly Andreada', Segment='Consumer', City='Hamburg', State='Hamburg', Country='Germany', Region='Central', Product ID='TEC-AC-10003463', Category='Technology', Sub-Category='Accessories', Product Name='Enermax Numeric Keypad, USB', Sales='55.14', Quantity='1', Discount='0', Profit='15.99'),\n",
       " Row(Row ID='836', Order ID='ES-2017-1679056', Order Date='25/09/2017', Ship Date='01/10/2017', Ship Mode='Standard Class', Customer ID='KA-16525', Customer Name='Kelly Andreada', Segment='Consumer', City='Hamburg', State='Hamburg', Country='Germany', Region='Central', Product ID='OFF-BI-10002799', Category='Office Supplies', Sub-Category='Binders', Product Name='Cardinal Binder Covers, Clear', Sales='57.3', Quantity='5', Discount='0', Profit='14.85'),\n",
       " Row(Row ID='837', Order ID='ES-2017-1679056', Order Date='25/09/2017', Ship Date='01/10/2017', Ship Mode='Standard Class', Customer ID='KA-16525', Customer Name='Kelly Andreada', Segment='Consumer', City='Hamburg', State='Hamburg', Country='Germany', Region='Central', Product ID='OFF-BI-10002799', Category='Office Supplies', Sub-Category='Binders', Product Name='Cardinal Binder Covers, Clear', Sales='22.92', Quantity='2', Discount='0', Profit='5.94'),\n",
       " Row(Row ID='838', Order ID='ES-2017-1678899', Order Date='04/08/2017', Ship Date='08/08/2017', Ship Mode='Standard Class', Customer ID='TM-21010', Customer Name='Tamara Manning', Segment='Consumer', City='Berlin', State='Berlin', Country='Germany', Region='Central', Product ID='OFF-SU-10002611', Category='Office Supplies', Sub-Category='Supplies', Product Name='Fiskars Ruler, Serrated', Sales='30.051', Quantity='3', Discount='0.1', Profit='8.991'),\n",
       " Row(Row ID='839', Order ID='IT-2017-3296819', Order Date='18/11/2017', Ship Date='22/11/2017', Ship Mode='Standard Class', Customer ID='JB-15400', Customer Name='Jennifer Braxton', Segment='Corporate', City='Las Rozas de Madrid', State='Madrid', Country='Spain', Region='South', Product ID='OFF-ST-10002759', Category='Office Supplies', Sub-Category='Storage', Product Name='Eldon Shelving, Industrial', Sales='396.09', Quantity='9', Discount='0.1', Profit='-31.05'),\n",
       " Row(Row ID='840', Order ID='IT-2014-4317663', Order Date='29/11/2014', Ship Date='05/12/2014', Ship Mode='Standard Class', Customer ID='KM-16720', Customer Name='Kunst Miller', Segment='Consumer', City='London', State='England', Country='United Kingdom', Region='North', Product ID='OFF-AR-10004303', Category='Office Supplies', Sub-Category='Art', Product Name='Stanley Markers, Blue', Sales='79.92', Quantity='4', Discount='0.1', Profit='-0.96'),\n",
       " Row(Row ID='841', Order ID='IT-2014-4317663', Order Date='29/11/2014', Ship Date='05/12/2014', Ship Mode='Standard Class', Customer ID='KM-16720', Customer Name='Kunst Miller', Segment='Consumer', City='London', State='England', Country='United Kingdom', Region='North', Product ID='OFF-AR-10002094', Category='Office Supplies', Sub-Category='Art', Product Name='Boston Pencil Sharpener, Water Color', Sales='52.596', Quantity='2', Discount='0.1', Profit='1.716'),\n",
       " Row(Row ID='842', Order ID='ES-2015-3246286', Order Date='07/08/2015', Ship Date='12/08/2015', Ship Mode='Standard Class', Customer ID='JH-15430', Customer Name='Jennifer Halladay', Segment='Consumer', City='Montesson', State='Ile-de-France', Country='France', Region='Central', Product ID='OFF-LA-10003295', Category='Office Supplies', Sub-Category='Labels', Product Name='Harbour Creations Color Coded Labels, Alphabetical', Sales='38.16', Quantity='3', Discount='0', Profit='19.08'),\n",
       " Row(Row ID='843', Order ID='ES-2015-3246286', Order Date='07/08/2015', Ship Date='12/08/2015', Ship Mode='Standard Class', Customer ID='JH-15430', Customer Name='Jennifer Halladay', Segment='Consumer', City='Montesson', State='Ile-de-France', Country='France', Region='Central', Product ID='TEC-AC-10003334', Category='Technology', Sub-Category='Accessories', Product Name='Logitech Numeric Keypad, Programmable', Sales='95.64', Quantity='2', Discount='0', Profit='12.42'),\n",
       " Row(Row ID='844', Order ID='ES-2015-3246286', Order Date='07/08/2015', Ship Date='12/08/2015', Ship Mode='Standard Class', Customer ID='JH-15430', Customer Name='Jennifer Halladay', Segment='Consumer', City='Montesson', State='Ile-de-France', Country='France', Region='Central', Product ID='OFF-AR-10001216', Category='Office Supplies', Sub-Category='Art', Product Name='BIC Pencil Sharpener, Easy-Erase', Sales='29.28', Quantity='1', Discount='0', Profit='1.44'),\n",
       " Row(Row ID='845', Order ID='ES-2015-3246286', Order Date='07/08/2015', Ship Date='12/08/2015', Ship Mode='Standard Class', Customer ID='JH-15430', Customer Name='Jennifer Halladay', Segment='Consumer', City='Montesson', State='Ile-de-France', Country='France', Region='Central', Product ID='FUR-FU-10004604', Category='Furniture', Sub-Category='Furnishings', Product Name='Deflect-O Clock, Erganomic', Sales='48.93', Quantity='1', Discount='0', Profit='4.38'),\n",
       " Row(Row ID='846', Order ID='ES-2015-3246286', Order Date='07/08/2015', Ship Date='12/08/2015', Ship Mode='Standard Class', Customer ID='JH-15430', Customer Name='Jennifer Halladay', Segment='Consumer', City='Montesson', State='Ile-de-France', Country='France', Region='Central', Product ID='TEC-MA-10000753', Category='Technology', Sub-Category='Machines', Product Name='Epson Printer, Red', Sales='220.8045', Quantity='1', Discount='0.15', Profit='15.5745'),\n",
       " Row(Row ID='847', Order ID='ES-2015-3246286', Order Date='07/08/2015', Ship Date='12/08/2015', Ship Mode='Standard Class', Customer ID='JH-15430', Customer Name='Jennifer Halladay', Segment='Consumer', City='Montesson', State='Ile-de-France', Country='France', Region='Central', Product ID='OFF-FA-10004709', Category='Office Supplies', Sub-Category='Fasteners', Product Name='Stockwell Clamps, Assorted Sizes', Sales='65.16', Quantity='4', Discount='0', Profit='22.8'),\n",
       " Row(Row ID='848', Order ID='IT-2017-4194003', Order Date='15/03/2017', Ship Date='19/03/2017', Ship Mode='Second Class', Customer ID='LC-16960', Customer Name='Lindsay Castell', Segment='Home Office', City='Bari', State='Apulia', Country='Italy', Region='South', Product ID='OFF-ST-10003446', Category='Office Supplies', Sub-Category='Storage', Product Name='Smead Trays, Single Width', Sales='58.212', Quantity='2', Discount='0.4', Profit='-7.788'),\n",
       " Row(Row ID='849', Order ID='ES-2015-2201593', Order Date='26/10/2015', Ship Date='26/10/2015', Ship Mode='Same Day', Customer ID='PH-18790', Customer Name='Patricia Hirasaki', Segment='Home Office', City='Amiens', State='Hauts-de-France', Country='France', Region='Central', Product ID='OFF-AP-10001266', Category='Office Supplies', Sub-Category='Appliances', Product Name='Hoover Toaster, Black', Sales='224.289', Quantity='3', Discount='0.1', Profit='87.219'),\n",
       " Row(Row ID='850', Order ID='ES-2015-2201593', Order Date='26/10/2015', Ship Date='26/10/2015', Ship Mode='Same Day', Customer ID='PH-18790', Customer Name='Patricia Hirasaki', Segment='Home Office', City='Amiens', State='Hauts-de-France', Country='France', Region='Central', Product ID='OFF-AP-10000226', Category='Office Supplies', Sub-Category='Appliances', Product Name='Hoover Coffee Grinder, Black', Sales='184.194', Quantity='3', Discount='0.1', Profit='81.864'),\n",
       " Row(Row ID='851', Order ID='ES-2017-2548169', Order Date='13/09/2017', Ship Date='14/09/2017', Ship Mode='First Class', Customer ID='NK-18490', Customer Name='Neil Knudson', Segment='Home Office', City='Madrid', State='Madrid', Country='Spain', Region='South', Product ID='OFF-SU-10002346', Category='Office Supplies', Sub-Category='Supplies', Product Name='Elite Ruler, High Speed', Sales='82.8', Quantity='6', Discount='0', Profit='6.48'),\n",
       " Row(Row ID='852', Order ID='ES-2016-4866061', Order Date='28/05/2016', Ship Date='31/05/2016', Ship Mode='Second Class', Customer ID='CB-12025', Customer Name='Cassandra Brandow', Segment='Consumer', City='Milan', State='Lombardy', Country='Italy', Region='South', Product ID='OFF-EN-10003177', Category='Office Supplies', Sub-Category='Envelopes', Product Name='Kraft Interoffice Envelope, Recycled', Sales='228.6', Quantity='5', Discount='0', Profit='75.3'),\n",
       " Row(Row ID='853', Order ID='ES-2017-4357014', Order Date='06/03/2017', Ship Date='11/03/2017', Ship Mode='Standard Class', Customer ID='NF-18385', Customer Name='Natalie Fritzler', Segment='Consumer', City='Chapel Allerton', State='England', Country='United Kingdom', Region='North', Product ID='TEC-AC-10003343', Category='Technology', Sub-Category='Accessories', Product Name='Logitech Flash Drive, Erganomic', Sales='84.96', Quantity='3', Discount='0', Profit='38.16'),\n",
       " Row(Row ID='854', Order ID='ES-2016-3764055', Order Date='18/12/2016', Ship Date='24/12/2016', Ship Mode='Standard Class', Customer ID='CC-12475', Customer Name='Cindy Chapman', Segment='Consumer', City='Edinburgh', State='Scotland', Country='United Kingdom', Region='North', Product ID='OFF-AR-10004825', Category='Office Supplies', Sub-Category='Art', Product Name='BIC Canvas, Fluorescent', Sales='109.92', Quantity='2', Discount='0', Profit='38.46'),\n",
       " Row(Row ID='855', Order ID='ES-2016-3764055', Order Date='18/12/2016', Ship Date='24/12/2016', Ship Mode='Standard Class', Customer ID='CC-12475', Customer Name='Cindy Chapman', Segment='Consumer', City='Edinburgh', State='Scotland', Country='United Kingdom', Region='North', Product ID='OFF-FA-10004257', Category='Office Supplies', Sub-Category='Fasteners', Product Name='Accos Clamps, Metal', Sales='78', Quantity='4', Discount='0', Profit='31.2'),\n",
       " Row(Row ID='856', Order ID='ES-2016-3764055', Order Date='18/12/2016', Ship Date='24/12/2016', Ship Mode='Standard Class', Customer ID='CC-12475', Customer Name='Cindy Chapman', Segment='Consumer', City='Edinburgh', State='Scotland', Country='United Kingdom', Region='North', Product ID='OFF-AR-10001482', Category='Office Supplies', Sub-Category='Art', Product Name='Stanley Markers, Easy-Erase', Sales='112.35', Quantity='5', Discount='0', Profit='0'),\n",
       " Row(Row ID='857', Order ID='ES-2016-3764055', Order Date='18/12/2016', Ship Date='24/12/2016', Ship Mode='Standard Class', Customer ID='CC-12475', Customer Name='Cindy Chapman', Segment='Consumer', City='Edinburgh', State='Scotland', Country='United Kingdom', Region='North', Product ID='OFF-ST-10000020', Category='Office Supplies', Sub-Category='Storage', Product Name='Fellowes Folders, Single Width', Sales='132.15', Quantity='5', Discount='0', Profit='54.15'),\n",
       " Row(Row ID='858', Order ID='ES-2016-3764055', Order Date='18/12/2016', Ship Date='24/12/2016', Ship Mode='Standard Class', Customer ID='CC-12475', Customer Name='Cindy Chapman', Segment='Consumer', City='Edinburgh', State='Scotland', Country='United Kingdom', Region='North', Product ID='FUR-BO-10001834', Category='Furniture', Sub-Category='Bookcases', Product Name='Ikea 3-Shelf Cabinet, Mobile', Sales='434.88', Quantity='3', Discount='0', Profit='104.31'),\n",
       " Row(Row ID='859', Order ID='ES-2017-2522974', Order Date='29/08/2017', Ship Date='30/08/2017', Ship Mode='First Class', Customer ID='KW-16570', Customer Name='Kelly Williams', Segment='Consumer', City='Kiel', State='Schleswig-Holstein', Country='Germany', Region='Central', Product ID='OFF-BI-10000282', Category='Office Supplies', Sub-Category='Binders', Product Name='Ibico Binder, Durable', Sales='33.96', Quantity='2', Discount='0', Profit='0.96'),\n",
       " Row(Row ID='860', Order ID='ES-2017-2522974', Order Date='29/08/2017', Ship Date='30/08/2017', Ship Mode='First Class', Customer ID='KW-16570', Customer Name='Kelly Williams', Segment='Consumer', City='Kiel', State='Schleswig-Holstein', Country='Germany', Region='Central', Product ID='OFF-SU-10002357', Category='Office Supplies', Sub-Category='Supplies', Product Name='Kleencut Trimmer, High Speed', Sales='207.15', Quantity='5', Discount='0', Profit='55.8'),\n",
       " Row(Row ID='861', Order ID='ES-2015-3533091', Order Date='01/09/2015', Ship Date='03/09/2015', Ship Mode='Second Class', Customer ID='BF-10975', Customer Name='Barbara Fisher', Segment='Corporate', City='Saint-Priest', State='Auvergne-Rhône-Alpes', Country='France', Region='Central', Product ID='OFF-PA-10002396', Category='Office Supplies', Sub-Category='Paper', Product Name='Eaton Memo Slips, 8.5 x 11', Sales='53.64', Quantity='3', Discount='0', Profit='14.4'),\n",
       " Row(Row ID='862', Order ID='ES-2015-3533091', Order Date='01/09/2015', Ship Date='03/09/2015', Ship Mode='Second Class', Customer ID='BF-10975', Customer Name='Barbara Fisher', Segment='Corporate', City='Saint-Priest', State='Auvergne-Rhône-Alpes', Country='France', Region='Central', Product ID='TEC-PH-10001396', Category='Technology', Sub-Category='Phones', Product Name='Nokia Smart Phone, Cordless', Sales='1622.1825', Quantity='3', Discount='0.15', Profit='324.3825'),\n",
       " Row(Row ID='863', Order ID='IT-2015-2582915', Order Date='11/10/2015', Ship Date='16/10/2015', Ship Mode='Standard Class', Customer ID='GH-14425', Customer Name='Gary Hwang', Segment='Consumer', City='Saint-Cloud', State='Ile-de-France', Country='France', Region='Central', Product ID='TEC-CO-10001567', Category='Technology', Sub-Category='Copiers', Product Name='Brother Copy Machine, Laser', Sales='667.9215', Quantity='3', Discount='0.15', Profit='-110.0385'),\n",
       " Row(Row ID='864', Order ID='ES-2014-4805316', Order Date='01/08/2014', Ship Date='04/08/2014', Ship Mode='Second Class', Customer ID='EP-13915', Customer Name='Emily Phan', Segment='Consumer', City='Leipzig', State='Saxony', Country='Germany', Region='Central', Product ID='OFF-LA-10003210', Category='Office Supplies', Sub-Category='Labels', Product Name='Novimex Color Coded Labels, 5000 Label Set', Sales='25.62', Quantity='2', Discount='0', Profit='7.14'),\n",
       " Row(Row ID='865', Order ID='ES-2014-4805316', Order Date='01/08/2014', Ship Date='04/08/2014', Ship Mode='Second Class', Customer ID='EP-13915', Customer Name='Emily Phan', Segment='Consumer', City='Leipzig', State='Saxony', Country='Germany', Region='Central', Product ID='FUR-FU-10004459', Category='Furniture', Sub-Category='Furnishings', Product Name='Deflect-O Door Stop, Erganomic', Sales='85.14', Quantity='2', Discount='0', Profit='15.3'),\n",
       " Row(Row ID='866', Order ID='ES-2016-4276357', Order Date='27/11/2016', Ship Date='29/11/2016', Ship Mode='First Class', Customer ID='AA-10315', Customer Name='Alex Avila', Segment='Consumer', City='Manchester', State='England', Country='United Kingdom', Region='North', Product ID='OFF-AR-10004519', Category='Office Supplies', Sub-Category='Art', Product Name='Boston Canvas, Fluorescent', Sales='164.7', Quantity='3', Discount='0', Profit='29.61'),\n",
       " Row(Row ID='867', Order ID='IT-2016-5753206', Order Date='07/11/2016', Ship Date='11/11/2016', Ship Mode='Standard Class', Customer ID='MY-17380', Customer Name='Maribeth Yedwab', Segment='Corporate', City='Saint-Nazaire', State='Pays de la Loire', Country='France', Region='Central', Product ID='OFF-ST-10000872', Category='Office Supplies', Sub-Category='Storage', Product Name='Fellowes File Cart, Single Width', Sales='247.212', Quantity='2', Discount='0.1', Profit='-27.468'),\n",
       " Row(Row ID='868', Order ID='ES-2015-1462152', Order Date='19/06/2015', Ship Date='22/06/2015', Ship Mode='Second Class', Customer ID='DB-12910', Customer Name='Daniel Byrd', Segment='Home Office', City='Bradford', State='England', Country='United Kingdom', Region='North', Product ID='TEC-CO-10000967', Category='Technology', Sub-Category='Copiers', Product Name='HP Fax Machine, Laser', Sales='899.82', Quantity='3', Discount='0', Profit='359.91'),\n",
       " Row(Row ID='869', Order ID='ES-2015-1462152', Order Date='19/06/2015', Ship Date='22/06/2015', Ship Mode='Second Class', Customer ID='DB-12910', Customer Name='Daniel Byrd', Segment='Home Office', City='Bradford', State='England', Country='United Kingdom', Region='North', Product ID='TEC-PH-10004772', Category='Technology', Sub-Category='Phones', Product Name='Motorola Signal Booster, VoIP', Sales='716.1', Quantity='5', Discount='0', Profit='35.7'),\n",
       " Row(Row ID='870', Order ID='ES-2015-1462152', Order Date='19/06/2015', Ship Date='22/06/2015', Ship Mode='Second Class', Customer ID='DB-12910', Customer Name='Daniel Byrd', Segment='Home Office', City='Bradford', State='England', Country='United Kingdom', Region='North', Product ID='FUR-FU-10001775', Category='Furniture', Sub-Category='Furnishings', Product Name='Deflect-O Stacking Tray, Durable', Sales='53.109', Quantity='3', Discount='0.3', Profit='-18.981'),\n",
       " Row(Row ID='871', Order ID='ES-2015-1462152', Order Date='19/06/2015', Ship Date='22/06/2015', Ship Mode='Second Class', Customer ID='DB-12910', Customer Name='Daniel Byrd', Segment='Home Office', City='Bradford', State='England', Country='United Kingdom', Region='North', Product ID='OFF-EN-10002449', Category='Office Supplies', Sub-Category='Envelopes', Product Name='Ames Interoffice Envelope, Security-Tint', Sales='95.04', Quantity='2', Discount='0', Profit='46.56'),\n",
       " Row(Row ID='872', Order ID='ES-2017-4238956', Order Date='11/09/2017', Ship Date='16/09/2017', Ship Mode='Standard Class', Customer ID='RP-19390', Customer Name='Resi Pölking', Segment='Consumer', City='Hastings', State='England', Country='United Kingdom', Region='North', Product ID='OFF-ST-10004597', Category='Office Supplies', Sub-Category='Storage', Product Name='Rogers File Cart, Blue', Sales='844.02', Quantity='6', Discount='0', Profit='8.28'),\n",
       " Row(Row ID='873', Order ID='IT-2017-2208571', Order Date='26/12/2017', Ship Date='28/12/2017', Ship Mode='First Class', Customer ID='MS-17365', Customer Name='Maribeth Schnelling', Segment='Consumer', City='Lisbon', State='Lisboa', Country='Portugal', Region='South', Product ID='OFF-BI-10000171', Category='Office Supplies', Sub-Category='Binders', Product Name='Wilson Jones Index Tab, Recycled', Sales='20.43', Quantity='6', Discount='0.5', Profit='-9.09'),\n",
       " Row(Row ID='874', Order ID='IT-2017-2208571', Order Date='26/12/2017', Ship Date='28/12/2017', Ship Mode='First Class', Customer ID='MS-17365', Customer Name='Maribeth Schnelling', Segment='Consumer', City='Lisbon', State='Lisboa', Country='Portugal', Region='South', Product ID='TEC-CO-10002232', Category='Technology', Sub-Category='Copiers', Product Name='HP Ink, Laser', Sales='321.75', Quantity='5', Discount='0.5', Profit='-193.05'),\n",
       " Row(Row ID='875', Order ID='IT-2015-5602177', Order Date='31/08/2015', Ship Date='03/09/2015', Ship Mode='Second Class', Customer ID='AA-10480', Customer Name='Andrew Allen', Segment='Consumer', City='Le Plessis-Robinson', State='Ile-de-France', Country='France', Region='Central', Product ID='TEC-CO-10002157', Category='Technology', Sub-Category='Copiers', Product Name='Canon Fax Machine, Laser', Sales='1894.4205', Quantity='7', Discount='0.15', Profit='-111.4995'),\n",
       " Row(Row ID='876', Order ID='IT-2017-3101005', Order Date='27/06/2017', Ship Date='02/07/2017', Ship Mode='Standard Class', Customer ID='NF-18475', Customer Name='Neil Französisch', Segment='Home Office', City='Sheffield', State='England', Country='United Kingdom', Region='North', Product ID='TEC-MA-10004584', Category='Technology', Sub-Category='Machines', Product Name='Epson Calculator, Wireless', Sales='92.82', Quantity='4', Discount='0.5', Profit='-0.06'),\n",
       " Row(Row ID='877', Order ID='IT-2017-3101005', Order Date='27/06/2017', Ship Date='02/07/2017', Ship Mode='Standard Class', Customer ID='NF-18475', Customer Name='Neil Französisch', Segment='Home Office', City='Sheffield', State='England', Country='United Kingdom', Region='North', Product ID='OFF-PA-10003937', Category='Office Supplies', Sub-Category='Paper', Product Name='Green Bar Memo Slips, Recycled', Sales='16.86', Quantity='2', Discount='0.5', Profit='-10.8'),\n",
       " Row(Row ID='878', Order ID='ES-2014-4926746', Order Date='04/03/2014', Ship Date='07/03/2014', Ship Mode='Second Class', Customer ID='RB-19705', Customer Name='Roger Barcio', Segment='Home Office', City='Nantes', State='Pays de la Loire', Country='France', Region='Central', Product ID='OFF-BI-10000542', Category='Office Supplies', Sub-Category='Binders', Product Name='Wilson Jones 3-Hole Punch, Durable', Sales='58.98', Quantity='2', Discount='0', Profit='12.36'),\n",
       " Row(Row ID='879', Order ID='ES-2014-4926746', Order Date='04/03/2014', Ship Date='07/03/2014', Ship Mode='Second Class', Customer ID='RB-19705', Customer Name='Roger Barcio', Segment='Home Office', City='Nantes', State='Pays de la Loire', Country='France', Region='Central', Product ID='OFF-ST-10001576', Category='Office Supplies', Sub-Category='Storage', Product Name='Tenex Folders, Blue', Sales='41.796', Quantity='2', Discount='0.1', Profit='10.656'),\n",
       " Row(Row ID='880', Order ID='ES-2015-5770374', Order Date='22/05/2015', Ship Date='22/05/2015', Ship Mode='Same Day', Customer ID='JM-15580', Customer Name='Jill Matthias', Segment='Consumer', City='Fareham', State='England', Country='United Kingdom', Region='North', Product ID='OFF-ST-10000355', Category='Office Supplies', Sub-Category='Storage', Product Name='Eldon Box, Wire Frame', Sales='46.65', Quantity='5', Discount='0', Profit='14.85'),\n",
       " Row(Row ID='881', Order ID='ES-2016-5901531', Order Date='02/09/2016', Ship Date='09/09/2016', Ship Mode='Standard Class', Customer ID='SC-20230', Customer Name='Scot Coram', Segment='Corporate', City='Burnley', State='England', Country='United Kingdom', Region='North', Product ID='TEC-CO-10002872', Category='Technology', Sub-Category='Copiers', Product Name='Canon Ink, Color', Sales='594.36', Quantity='4', Discount='0', Profit='112.92'),\n",
       " Row(Row ID='882', Order ID='ES-2017-4865613', Order Date='13/12/2017', Ship Date='20/12/2017', Ship Mode='Standard Class', Customer ID='DL-13315', Customer Name='Delfina Latchford', Segment='Consumer', City='Wuppertal', State='North Rhine-Westphalia', Country='Germany', Region='Central', Product ID='OFF-AR-10002433', Category='Office Supplies', Sub-Category='Art', Product Name='Stanley Pens, Easy-Erase', Sales='20.64', Quantity='2', Discount='0', Profit='9.06'),\n",
       " Row(Row ID='883', Order ID='ES-2017-4865613', Order Date='13/12/2017', Ship Date='20/12/2017', Ship Mode='Standard Class', Customer ID='DL-13315', Customer Name='Delfina Latchford', Segment='Consumer', City='Wuppertal', State='North Rhine-Westphalia', Country='Germany', Region='Central', Product ID='OFF-LA-10001169', Category='Office Supplies', Sub-Category='Labels', Product Name='Harbour Creations Round Labels, Laser Printer Compatible', Sales='94.5', Quantity='14', Discount='0', Profit='13.86'),\n",
       " Row(Row ID='884', Order ID='ES-2017-4865613', Order Date='13/12/2017', Ship Date='20/12/2017', Ship Mode='Standard Class', Customer ID='DL-13315', Customer Name='Delfina Latchford', Segment='Consumer', City='Wuppertal', State='North Rhine-Westphalia', Country='Germany', Region='Central', Product ID='OFF-AR-10004881', Category='Office Supplies', Sub-Category='Art', Product Name='Stanley Sketch Pad, Blue', Sales='311.01', Quantity='7', Discount='0', Profit='102.48'),\n",
       " Row(Row ID='885', Order ID='IT-2014-3461936', Order Date='04/10/2014', Ship Date='10/10/2014', Ship Mode='Standard Class', Customer ID='AG-10900', Customer Name='Arthur Gainer', Segment='Consumer', City='Novara', State='Piedmont', Country='Italy', Region='South', Product ID='OFF-ST-10004577', Category='Office Supplies', Sub-Category='Storage', Product Name='Tenex Shelving, Wire Frame', Sales='290.142', Quantity='9', Discount='0.4', Profit='-135.648'),\n",
       " Row(Row ID='886', Order ID='IT-2014-3461936', Order Date='04/10/2014', Ship Date='10/10/2014', Ship Mode='Standard Class', Customer ID='AG-10900', Customer Name='Arthur Gainer', Segment='Consumer', City='Novara', State='Piedmont', Country='Italy', Region='South', Product ID='OFF-LA-10002490', Category='Office Supplies', Sub-Category='Labels', Product Name='Hon Round Labels, Alphabetical', Sales='38.88', Quantity='6', Discount='0', Profit='0.36'),\n",
       " Row(Row ID='887', Order ID='IT-2014-3461936', Order Date='04/10/2014', Ship Date='10/10/2014', Ship Mode='Standard Class', Customer ID='AG-10900', Customer Name='Arthur Gainer', Segment='Consumer', City='Novara', State='Piedmont', Country='Italy', Region='South', Product ID='FUR-BO-10001621', Category='Furniture', Sub-Category='Bookcases', Product Name='Dania Stackable Bookrack, Traditional', Sales='242.1', Quantity='2', Discount='0', Profit='101.64'),\n",
       " Row(Row ID='888', Order ID='IT-2014-3461936', Order Date='04/10/2014', Ship Date='10/10/2014', Ship Mode='Standard Class', Customer ID='AG-10900', Customer Name='Arthur Gainer', Segment='Consumer', City='Novara', State='Piedmont', Country='Italy', Region='South', Product ID='OFF-BI-10001249', Category='Office Supplies', Sub-Category='Binders', Product Name='Acco Hole Reinforcements, Recycled', Sales='21.06', Quantity='3', Discount='0', Profit='10.53'),\n",
       " Row(Row ID='889', Order ID='ES-2015-4959766', Order Date='25/08/2015', Ship Date='27/08/2015', Ship Mode='Second Class', Customer ID='MH-17290', Customer Name='Marc Harrigan', Segment='Home Office', City='Montargis', State='Centre-Val de Loire', Country='France', Region='Central', Product ID='OFF-BI-10000308', Category='Office Supplies', Sub-Category='Binders', Product Name='Cardinal Binder Covers, Durable', Sales='94.5', Quantity='7', Discount='0', Profit='30.24'),\n",
       " Row(Row ID='890', Order ID='IT-2016-2626751', Order Date='30/10/2016', Ship Date='06/11/2016', Ship Mode='Standard Class', Customer ID='DG-13300', Customer Name='Deirdre Greer', Segment='Corporate', City='The Hague', State='South Holland', Country='Netherlands', Region='Central', Product ID='OFF-BI-10001384', Category='Office Supplies', Sub-Category='Binders', Product Name='Cardinal Binder, Economy', Sales='41.49', Quantity='6', Discount='0.5', Profit='-10.89'),\n",
       " Row(Row ID='891', Order ID='ES-2016-1347677', Order Date='14/11/2016', Ship Date='19/11/2016', Ship Mode='Standard Class', Customer ID='JK-15370', Customer Name='Jay Kimmel', Segment='Consumer', City='Hamburg', State='Hamburg', Country='Germany', Region='Central', Product ID='OFF-AR-10001606', Category='Office Supplies', Sub-Category='Art', Product Name='BIC Highlighters, Fluorescent', Sales='282.66', Quantity='14', Discount='0', Profit='93.24'),\n",
       " Row(Row ID='892', Order ID='ES-2016-1347677', Order Date='14/11/2016', Ship Date='19/11/2016', Ship Mode='Standard Class', Customer ID='JK-15370', Customer Name='Jay Kimmel', Segment='Consumer', City='Hamburg', State='Hamburg', Country='Germany', Region='Central', Product ID='OFF-FA-10002350', Category='Office Supplies', Sub-Category='Fasteners', Product Name='OIC Staples, Assorted Sizes', Sales='17.58', Quantity='2', Discount='0', Profit='6.66'),\n",
       " Row(Row ID='893', Order ID='ES-2015-4907139', Order Date='14/06/2015', Ship Date='18/06/2015', Ship Mode='Standard Class', Customer ID='MC-17635', Customer Name='Matthew Clasen', Segment='Corporate', City='Montpellier', State='Languedoc-Roussillon-Midi-Pyrénées', Country='France', Region='Central', Product ID='TEC-PH-10004552', Category='Technology', Sub-Category='Phones', Product Name='Motorola Office Telephone, Full Size', Sales='372.555', Quantity='6', Discount='0.15', Profit='74.475'),\n",
       " Row(Row ID='894', Order ID='ES-2015-4907139', Order Date='14/06/2015', Ship Date='18/06/2015', Ship Mode='Standard Class', Customer ID='MC-17635', Customer Name='Matthew Clasen', Segment='Corporate', City='Montpellier', State='Languedoc-Roussillon-Midi-Pyrénées', Country='France', Region='Central', Product ID='TEC-AC-10003327', Category='Technology', Sub-Category='Accessories', Product Name='Logitech Keyboard, Erganomic', Sales='491.82', Quantity='7', Discount='0', Profit='44.1'),\n",
       " Row(Row ID='895', Order ID='IT-2015-1694853', Order Date='24/08/2015', Ship Date='26/08/2015', Ship Mode='Second Class', Customer ID='NS-18640', Customer Name='Noel Staavos', Segment='Corporate', City='Toulouse', State='Languedoc-Roussillon-Midi-Pyrénées', Country='France', Region='Central', Product ID='OFF-BI-10000844', Category='Office Supplies', Sub-Category='Binders', Product Name='Wilson Jones Hole Reinforcements, Economy', Sales='9.06', Quantity='4', Discount='0.5', Profit='-0.06'),\n",
       " Row(Row ID='896', Order ID='IT-2015-1694853', Order Date='24/08/2015', Ship Date='26/08/2015', Ship Mode='Second Class', Customer ID='NS-18640', Customer Name='Noel Staavos', Segment='Corporate', City='Toulouse', State='Languedoc-Roussillon-Midi-Pyrénées', Country='France', Region='Central', Product ID='OFF-SU-10003924', Category='Office Supplies', Sub-Category='Supplies', Product Name='Elite Trimmer, Steel', Sales='82.14', Quantity='4', Discount='0.5', Profit='-1.74'),\n",
       " Row(Row ID='897', Order ID='IT-2015-1694853', Order Date='24/08/2015', Ship Date='26/08/2015', Ship Mode='Second Class', Customer ID='NS-18640', Customer Name='Noel Staavos', Segment='Corporate', City='Toulouse', State='Languedoc-Roussillon-Midi-Pyrénées', Country='France', Region='Central', Product ID='FUR-CH-10000105', Category='Furniture', Sub-Category='Chairs', Product Name='Hon Steel Folding Chair, Set of Two', Sales='234.276', Quantity='7', Discount='0.6', Profit='-228.564'),\n",
       " Row(Row ID='898', Order ID='ES-2016-5584061', Order Date='23/08/2016', Ship Date='28/08/2016', Ship Mode='Standard Class', Customer ID='TH-21100', Customer Name='Thea Hendricks', Segment='Consumer', City='Saint-Denis', State='Ile-de-France', Country='France', Region='Central', Product ID='OFF-PA-10002043', Category='Office Supplies', Sub-Category='Paper', Product Name='SanDisk Cards & Envelopes, 8.5 x 11', Sales='105.12', Quantity='2', Discount='0', Profit='28.38'),\n",
       " Row(Row ID='899', Order ID='ES-2016-1121754', Order Date='21/05/2016', Ship Date='25/05/2016', Ship Mode='Second Class', Customer ID='EB-14110', Customer Name='Eugene Barchas', Segment='Consumer', City='Hamburg', State='Hamburg', Country='Germany', Region='Central', Product ID='OFF-BI-10001804', Category='Office Supplies', Sub-Category='Binders', Product Name='Avery Binder, Recycled', Sales='39.78', Quantity='3', Discount='0', Profit='18.27'),\n",
       " Row(Row ID='900', Order ID='ES-2016-1121754', Order Date='21/05/2016', Ship Date='25/05/2016', Ship Mode='Second Class', Customer ID='EB-14110', Customer Name='Eugene Barchas', Segment='Consumer', City='Hamburg', State='Hamburg', Country='Germany', Region='Central', Product ID='FUR-CH-10004536', Category='Furniture', Sub-Category='Chairs', Product Name='Novimex Bag Chairs, Set of Two', Sales='216.945', Quantity='5', Discount='0.1', Profit='33.645'),\n",
       " Row(Row ID='901', Order ID='ES-2015-5188979', Order Date='26/01/2015', Ship Date='27/01/2015', Ship Mode='First Class', Customer ID='KH-16330', Customer Name='Katharine Harms', Segment='Corporate', City='Rome', State='Lazio', Country='Italy', Region='South', Product ID='OFF-EN-10000274', Category='Office Supplies', Sub-Category='Envelopes', Product Name='Kraft Business Envelopes, Recycled', Sales='91.44', Quantity='6', Discount='0', Profit='27.36'),\n",
       " Row(Row ID='902', Order ID='ES-2015-5188979', Order Date='26/01/2015', Ship Date='27/01/2015', Ship Mode='First Class', Customer ID='KH-16330', Customer Name='Katharine Harms', Segment='Corporate', City='Rome', State='Lazio', Country='Italy', Region='South', Product ID='OFF-AR-10003066', Category='Office Supplies', Sub-Category='Art', Product Name='Sanford Markers, Water Color', Sales='132.15', Quantity='5', Discount='0', Profit='11.85'),\n",
       " Row(Row ID='903', Order ID='IT-2017-2984755', Order Date='11/09/2017', Ship Date='15/09/2017', Ship Mode='Standard Class', Customer ID='SC-20050', Customer Name='Sample Company A', Segment='Home Office', City='Helmond', State='North Brabant', Country='Netherlands', Region='Central', Product ID='OFF-AP-10000818', Category='Office Supplies', Sub-Category='Appliances', Product Name='Hoover Blender, Black', Sales='96.6', Quantity='2', Discount='0.5', Profit='-61.86'),\n",
       " Row(Row ID='904', Order ID='ES-2017-1475385', Order Date='12/12/2017', Ship Date='16/12/2017', Ship Mode='Standard Class', Customer ID='NM-18520', Customer Name='Neoma Murray', Segment='Consumer', City='Ercolano', State='Campania', Country='Italy', Region='South', Product ID='TEC-AC-10004317', Category='Technology', Sub-Category='Accessories', Product Name='SanDisk Numeric Keypad, USB', Sales='106.32', Quantity='2', Discount='0', Profit='34.02'),\n",
       " Row(Row ID='905', Order ID='IT-2017-1725451', Order Date='25/01/2017', Ship Date='30/01/2017', Ship Mode='Standard Class', Customer ID='JD-16060', Customer Name='Julia Dunbar', Segment='Consumer', City='Magdeburg', State='Saxony-Anhalt', Country='Germany', Region='Central', Product ID='OFF-ST-10003785', Category='Office Supplies', Sub-Category='Storage', Product Name='Eldon Lockers, Blue', Sales='534.357', Quantity='3', Discount='0.1', Profit='-0.063'),\n",
       " Row(Row ID='906', Order ID='ES-2017-5848816', Order Date='30/06/2017', Ship Date='04/07/2017', Ship Mode='Standard Class', Customer ID='BC-11125', Customer Name='Becky Castell', Segment='Home Office', City='Ceuta', State='Ceuta', Country='Spain', Region='South', Product ID='OFF-BI-10002935', Category='Office Supplies', Sub-Category='Binders', Product Name='Wilson Jones Binder, Clear', Sales='37.44', Quantity='3', Discount='0', Profit='2.97'),\n",
       " Row(Row ID='907', Order ID='ES-2017-5848816', Order Date='30/06/2017', Ship Date='04/07/2017', Ship Mode='Standard Class', Customer ID='BC-11125', Customer Name='Becky Castell', Segment='Home Office', City='Ceuta', State='Ceuta', Country='Spain', Region='South', Product ID='TEC-PH-10003683', Category='Technology', Sub-Category='Phones', Product Name='Motorola Audio Dock, VoIP', Sales='780.57', Quantity='5', Discount='0.1', Profit='164.67'),\n",
       " Row(Row ID='908', Order ID='ES-2017-5848816', Order Date='30/06/2017', Ship Date='04/07/2017', Ship Mode='Standard Class', Customer ID='BC-11125', Customer Name='Becky Castell', Segment='Home Office', City='Ceuta', State='Ceuta', Country='Spain', Region='South', Product ID='OFF-LA-10002651', Category='Office Supplies', Sub-Category='Labels', Product Name='Novimex Round Labels, Adjustable', Sales='12.51', Quantity='3', Discount='0', Profit='3.42'),\n",
       " Row(Row ID='909', Order ID='ES-2017-5848816', Order Date='30/06/2017', Ship Date='04/07/2017', Ship Mode='Standard Class', Customer ID='BC-11125', Customer Name='Becky Castell', Segment='Home Office', City='Ceuta', State='Ceuta', Country='Spain', Region='South', Product ID='OFF-FA-10002895', Category='Office Supplies', Sub-Category='Fasteners', Product Name='Accos Staples, 12 Pack', Sales='41.52', Quantity='4', Discount='0', Profit='8.64'),\n",
       " Row(Row ID='910', Order ID='ES-2017-5848816', Order Date='30/06/2017', Ship Date='04/07/2017', Ship Mode='Standard Class', Customer ID='BC-11125', Customer Name='Becky Castell', Segment='Home Office', City='Ceuta', State='Ceuta', Country='Spain', Region='South', Product ID='TEC-MA-10003261', Category='Technology', Sub-Category='Machines', Product Name='Panasonic Phone, Durable', Sales='76.464', Quantity='1', Discount='0.1', Profit='30.564'),\n",
       " Row(Row ID='911', Order ID='ES-2017-5848816', Order Date='30/06/2017', Ship Date='04/07/2017', Ship Mode='Standard Class', Customer ID='BC-11125', Customer Name='Becky Castell', Segment='Home Office', City='Ceuta', State='Ceuta', Country='Spain', Region='South', Product ID='OFF-AR-10003633', Category='Office Supplies', Sub-Category='Art', Product Name='Binney & Smith Canvas, Easy-Erase', Sales='464.67', Quantity='9', Discount='0', Profit='78.84'),\n",
       " Row(Row ID='912', Order ID='ES-2017-5848816', Order Date='30/06/2017', Ship Date='04/07/2017', Ship Mode='Standard Class', Customer ID='BC-11125', Customer Name='Becky Castell', Segment='Home Office', City='Ceuta', State='Ceuta', Country='Spain', Region='South', Product ID='OFF-BI-10002083', Category='Office Supplies', Sub-Category='Binders', Product Name='Acco Hole Reinforcements, Economy', Sales='33.3', Quantity='5', Discount='0', Profit='2.85'),\n",
       " Row(Row ID='913', Order ID='IT-2015-2848370', Order Date='14/04/2015', Ship Date='16/04/2015', Ship Mode='Second Class', Customer ID='PP-18955', Customer Name='Paul Prost', Segment='Home Office', City='Angers', State='Pays de la Loire', Country='France', Region='Central', Product ID='TEC-CO-10002769', Category='Technology', Sub-Category='Copiers', Product Name='HP Fax Machine, Digital', Sales='763.929', Quantity='3', Discount='0.15', Profit='-134.811'),\n",
       " Row(Row ID='914', Order ID='IT-2015-2848370', Order Date='14/04/2015', Ship Date='16/04/2015', Ship Mode='Second Class', Customer ID='PP-18955', Customer Name='Paul Prost', Segment='Home Office', City='Angers', State='Pays de la Loire', Country='France', Region='Central', Product ID='OFF-AR-10003651', Category='Office Supplies', Sub-Category='Art', Product Name='Sanford Pencil Sharpener, Easy-Erase', Sales='243.81', Quantity='9', Discount='0', Profit='121.77'),\n",
       " Row(Row ID='915', Order ID='ES-2016-5687296', Order Date='18/10/2016', Ship Date='22/10/2016', Ship Mode='Standard Class', Customer ID='LR-16915', Customer Name='Lena Radford', Segment='Consumer', City='Seraing', State='Liège', Country='Belgium', Region='Central', Product ID='OFF-PA-10001758', Category='Office Supplies', Sub-Category='Paper', Product Name='Enermax Note Cards, Premium', Sales='85.5', Quantity='3', Discount='0', Profit='8.55'),\n",
       " Row(Row ID='916', Order ID='ES-2017-4785777', Order Date='31/12/2017', Ship Date='04/01/2018', Ship Mode='Standard Class', Customer ID='DP-13390', Customer Name='Dennis Pardue', Segment='Home Office', City='Hamburg', State='Hamburg', Country='Germany', Region='Central', Product ID='OFF-BI-10000620', Category='Office Supplies', Sub-Category='Binders', Product Name='Wilson Jones Index Tab, Economy', Sales='32.25', Quantity='5', Discount='0', Profit='8.25'),\n",
       " Row(Row ID='917', Order ID='ES-2016-3293691', Order Date='13/03/2016', Ship Date='17/03/2016', Ship Mode='Standard Class', Customer ID='RB-19795', Customer Name='Ross Baird', Segment='Home Office', City='Vienna', State='Vienna', Country='Austria', Region='Central', Product ID='OFF-AP-10002577', Category='Office Supplies', Sub-Category='Appliances', Product Name='Hamilton Beach Coffee Grinder, Black', Sales='126.27', Quantity='3', Discount='0', Profit='2.52'),\n",
       " Row(Row ID='918', Order ID='ES-2016-3293691', Order Date='13/03/2016', Ship Date='17/03/2016', Ship Mode='Standard Class', Customer ID='RB-19795', Customer Name='Ross Baird', Segment='Home Office', City='Vienna', State='Vienna', Country='Austria', Region='Central', Product ID='OFF-ST-10004702', Category='Office Supplies', Sub-Category='Storage', Product Name='Eldon Box, Single Width', Sales='72.03', Quantity='7', Discount='0', Profit='20.79'),\n",
       " Row(Row ID='919', Order ID='ES-2017-1048212', Order Date='03/10/2017', Ship Date='05/10/2017', Ship Mode='First Class', Customer ID='VP-21760', Customer Name='Victoria Pisteka', Segment='Corporate', City='South Shields', State='England', Country='United Kingdom', Region='North', Product ID='OFF-AP-10000672', Category='Office Supplies', Sub-Category='Appliances', Product Name='KitchenAid Stove, White', Sales='1704.87', Quantity='3', Discount='0', Profit='409.14'),\n",
       " Row(Row ID='920', Order ID='ES-2017-1710298', Order Date='30/10/2017', Ship Date='05/11/2017', Ship Mode='Standard Class', Customer ID='RD-19720', Customer Name='Roger Demir', Segment='Consumer', City='Epinal', State='Alsace-Champagne-Ardenne-Lorraine', Country='France', Region='Central', Product ID='OFF-EN-10003080', Category='Office Supplies', Sub-Category='Envelopes', Product Name='Kraft Peel and Seal, Security-Tint', Sales='45.78', Quantity='2', Discount='0', Profit='7.32'),\n",
       " Row(Row ID='921', Order ID='ES-2017-4438910', Order Date='25/09/2017', Ship Date='01/10/2017', Ship Mode='Standard Class', Customer ID='SC-20095', Customer Name='Sanjit Chand', Segment='Consumer', City='Oberhausen', State='North Rhine-Westphalia', Country='Germany', Region='Central', Product ID='OFF-BI-10004903', Category='Office Supplies', Sub-Category='Binders', Product Name='Ibico Hole Reinforcements, Durable', Sales='42.45', Quantity='5', Discount='0', Profit='11.85'),\n",
       " Row(Row ID='922', Order ID='ES-2017-4438910', Order Date='25/09/2017', Ship Date='01/10/2017', Ship Mode='Standard Class', Customer ID='SC-20095', Customer Name='Sanjit Chand', Segment='Consumer', City='Oberhausen', State='North Rhine-Westphalia', Country='Germany', Region='Central', Product ID='OFF-ST-10002555', Category='Office Supplies', Sub-Category='Storage', Product Name='Eldon Lockers, Industrial', Sales='892.755', Quantity='5', Discount='0.1', Profit='386.805'),\n",
       " Row(Row ID='923', Order ID='ES-2017-4438910', Order Date='25/09/2017', Ship Date='01/10/2017', Ship Mode='Standard Class', Customer ID='SC-20095', Customer Name='Sanjit Chand', Segment='Consumer', City='Oberhausen', State='North Rhine-Westphalia', Country='Germany', Region='Central', Product ID='OFF-AR-10004825', Category='Office Supplies', Sub-Category='Art', Product Name='BIC Canvas, Fluorescent', Sales='274.8', Quantity='5', Discount='0', Profit='96.15'),\n",
       " Row(Row ID='924', Order ID='ES-2017-4438910', Order Date='25/09/2017', Ship Date='01/10/2017', Ship Mode='Standard Class', Customer ID='SC-20095', Customer Name='Sanjit Chand', Segment='Consumer', City='Oberhausen', State='North Rhine-Westphalia', Country='Germany', Region='Central', Product ID='TEC-CO-10000013', Category='Technology', Sub-Category='Copiers', Product Name='Brother Fax Machine, Laser', Sales='955.62', Quantity='3', Discount='0', Profit='391.77'),\n",
       " Row(Row ID='925', Order ID='ES-2014-1657853', Order Date='28/05/2014', Ship Date='31/05/2014', Ship Mode='First Class', Customer ID='DP-13165', Customer Name='David Philippe', Segment='Consumer', City='Pulheim', State='North Rhine-Westphalia', Country='Germany', Region='Central', Product ID='OFF-BI-10002570', Category='Office Supplies', Sub-Category='Binders', Product Name='Cardinal 3-Hole Punch, Clear', Sales='141.3', Quantity='5', Discount='0', Profit='29.55'),\n",
       " Row(Row ID='926', Order ID='ES-2014-1657853', Order Date='28/05/2014', Ship Date='31/05/2014', Ship Mode='First Class', Customer ID='DP-13165', Customer Name='David Philippe', Segment='Consumer', City='Pulheim', State='North Rhine-Westphalia', Country='Germany', Region='Central', Product ID='FUR-TA-10004132', Category='Furniture', Sub-Category='Tables', Product Name='Bevis Coffee Table, with Bottom Storage', Sales='827.268', Quantity='4', Discount='0.35', Profit='-394.572'),\n",
       " Row(Row ID='927', Order ID='ES-2014-1657853', Order Date='28/05/2014', Ship Date='31/05/2014', Ship Mode='First Class', Customer ID='DP-13165', Customer Name='David Philippe', Segment='Consumer', City='Pulheim', State='North Rhine-Westphalia', Country='Germany', Region='Central', Product ID='FUR-BO-10002182', Category='Furniture', Sub-Category='Bookcases', Product Name='Safco Floating Shelf Set, Pine', Sales='713.124', Quantity='4', Discount='0.1', Profit='39.564'),\n",
       " Row(Row ID='928', Order ID='ES-2014-1657853', Order Date='28/05/2014', Ship Date='31/05/2014', Ship Mode='First Class', Customer ID='DP-13165', Customer Name='David Philippe', Segment='Consumer', City='Pulheim', State='North Rhine-Westphalia', Country='Germany', Region='Central', Product ID='OFF-BI-10001833', Category='Office Supplies', Sub-Category='Binders', Product Name='Ibico Hole Reinforcements, Recycled', Sales='44.1', Quantity='6', Discount='0', Profit='13.5'),\n",
       " Row(Row ID='929', Order ID='ES-2014-1657853', Order Date='28/05/2014', Ship Date='31/05/2014', Ship Mode='First Class', Customer ID='DP-13165', Customer Name='David Philippe', Segment='Consumer', City='Pulheim', State='North Rhine-Westphalia', Country='Germany', Region='Central', Product ID='OFF-AP-10003717', Category='Office Supplies', Sub-Category='Appliances', Product Name='Breville Coffee Grinder, White', Sales='324', Quantity='6', Discount='0.1', Profit='-25.2'),\n",
       " Row(Row ID='930', Order ID='IT-2016-1372622', Order Date='04/06/2016', Ship Date='08/06/2016', Ship Mode='Standard Class', Customer ID='CS-12490', Customer Name='Cindy Schnelling', Segment='Corporate', City='Gothenburg', State='Västra Götaland', Country='Sweden', Region='North', Product ID='OFF-EN-10003533', Category='Office Supplies', Sub-Category='Envelopes', Product Name='Cameo Peel and Seal, Recycled', Sales='29.7', Quantity='3', Discount='0.5', Profit='-16.11'),\n",
       " Row(Row ID='931', Order ID='IT-2016-1372622', Order Date='04/06/2016', Ship Date='08/06/2016', Ship Mode='Standard Class', Customer ID='CS-12490', Customer Name='Cindy Schnelling', Segment='Corporate', City='Gothenburg', State='Västra Götaland', Country='Sweden', Region='North', Product ID='FUR-FU-10000295', Category='Furniture', Sub-Category='Furnishings', Product Name='Advantus Light Bulb, Black', Sales='24.084', Quantity='3', Discount='0.6', Profit='-7.866'),\n",
       " Row(Row ID='932', Order ID='IT-2016-1372622', Order Date='04/06/2016', Ship Date='08/06/2016', Ship Mode='Standard Class', Customer ID='CS-12490', Customer Name='Cindy Schnelling', Segment='Corporate', City='Gothenburg', State='Västra Götaland', Country='Sweden', Region='North', Product ID='TEC-PH-10001664', Category='Technology', Sub-Category='Phones', Product Name='Motorola Office Telephone, VoIP', Sales='107.775', Quantity='3', Discount='0.5', Profit='-13.005'),\n",
       " Row(Row ID='933', Order ID='IT-2016-1372622', Order Date='04/06/2016', Ship Date='08/06/2016', Ship Mode='Standard Class', Customer ID='CS-12490', Customer Name='Cindy Schnelling', Segment='Corporate', City='Gothenburg', State='Västra Götaland', Country='Sweden', Region='North', Product ID='TEC-AC-10002158', Category='Technology', Sub-Category='Accessories', Product Name='Enermax Memory Card, Erganomic', Sales='224.4', Quantity='4', Discount='0.5', Profit='-13.56'),\n",
       " Row(Row ID='934', Order ID='IT-2016-1372622', Order Date='04/06/2016', Ship Date='08/06/2016', Ship Mode='Standard Class', Customer ID='CS-12490', Customer Name='Cindy Schnelling', Segment='Corporate', City='Gothenburg', State='Västra Götaland', Country='Sweden', Region='North', Product ID='FUR-CH-10001153', Category='Furniture', Sub-Category='Chairs', Product Name='Harbour Creations Bag Chairs, Adjustable', Sales='96.165', Quantity='3', Discount='0.5', Profit='-7.695'),\n",
       " Row(Row ID='935', Order ID='IT-2016-1372622', Order Date='04/06/2016', Ship Date='08/06/2016', Ship Mode='Standard Class', Customer ID='CS-12490', Customer Name='Cindy Schnelling', Segment='Corporate', City='Gothenburg', State='Västra Götaland', Country='Sweden', Region='North', Product ID='OFF-BI-10002894', Category='Office Supplies', Sub-Category='Binders', Product Name='Avery Binding Machine, Durable', Sales='100.68', Quantity='4', Discount='0.5', Profit='-88.68'),\n",
       " Row(Row ID='936', Order ID='ES-2017-2598901', Order Date='29/05/2017', Ship Date='31/05/2017', Ship Mode='Second Class', Customer ID='FG-14260', Customer Name='Frank Gastineau', Segment='Home Office', City='Bordeaux', State='Aquitaine-Limousin-Poitou-Charentes', Country='France', Region='Central', Product ID='TEC-AC-10003343', Category='Technology', Sub-Category='Accessories', Product Name='Logitech Flash Drive, Erganomic', Sales='84.96', Quantity='3', Discount='0', Profit='38.16'),\n",
       " Row(Row ID='937', Order ID='ES-2017-2598901', Order Date='29/05/2017', Ship Date='31/05/2017', Ship Mode='Second Class', Customer ID='FG-14260', Customer Name='Frank Gastineau', Segment='Home Office', City='Bordeaux', State='Aquitaine-Limousin-Poitou-Charentes', Country='France', Region='Central', Product ID='OFF-AR-10000176', Category='Office Supplies', Sub-Category='Art', Product Name='Sanford Highlighters, Water Color', Sales='113.58', Quantity='6', Discount='0', Profit='40.86'),\n",
       " Row(Row ID='938', Order ID='ES-2017-2598901', Order Date='29/05/2017', Ship Date='31/05/2017', Ship Mode='Second Class', Customer ID='FG-14260', Customer Name='Frank Gastineau', Segment='Home Office', City='Bordeaux', State='Aquitaine-Limousin-Poitou-Charentes', Country='France', Region='Central', Product ID='OFF-AP-10001593', Category='Office Supplies', Sub-Category='Appliances', Product Name='Cuisinart Microwave, Red', Sales='1253.07', Quantity='5', Discount='0.1', Profit='236.67'),\n",
       " Row(Row ID='939', Order ID='ES-2017-2598901', Order Date='29/05/2017', Ship Date='31/05/2017', Ship Mode='Second Class', Customer ID='FG-14260', Customer Name='Frank Gastineau', Segment='Home Office', City='Bordeaux', State='Aquitaine-Limousin-Poitou-Charentes', Country='France', Region='Central', Product ID='TEC-AC-10003463', Category='Technology', Sub-Category='Accessories', Product Name='Enermax Numeric Keypad, USB', Sales='165.42', Quantity='3', Discount='0', Profit='47.97'),\n",
       " Row(Row ID='940', Order ID='IT-2017-5062587', Order Date='20/11/2017', Ship Date='27/11/2017', Ship Mode='Standard Class', Customer ID='DN-13690', Customer Name='Duane Noonan', Segment='Consumer', City='Molfetta', State='Apulia', Country='Italy', Region='South', Product ID='TEC-PH-10003513', Category='Technology', Sub-Category='Phones', Product Name='Nokia Speaker Phone, VoIP', Sales='147.888', Quantity='2', Discount='0.4', Profit='-91.212'),\n",
       " Row(Row ID='941', Order ID='ES-2015-5338551', Order Date='30/11/2015', Ship Date='04/12/2015', Ship Mode='Standard Class', Customer ID='EH-14185', Customer Name='Evan Henry', Segment='Consumer', City='Luton', State='England', Country='United Kingdom', Region='North', Product ID='OFF-BI-10001808', Category='Office Supplies', Sub-Category='Binders', Product Name='Cardinal Binding Machine, Clear', Sales='196.92', Quantity='4', Discount='0', Profit='78.72'),\n",
       " Row(Row ID='942', Order ID='ES-2014-2045003', Order Date='12/10/2014', Ship Date='15/10/2014', Ship Mode='First Class', Customer ID='JH-15910', Customer Name='Jonathan Howell', Segment='Consumer', City='Hanover', State='Lower Saxony', Country='Germany', Region='Central', Product ID='OFF-AR-10001607', Category='Office Supplies', Sub-Category='Art', Product Name='Stanley Pencil Sharpener, Water Color', Sales='125.82', Quantity='9', Discount='0.5', Profit='-115.83'),\n",
       " Row(Row ID='943', Order ID='ES-2017-3625378', Order Date='29/12/2017', Ship Date='03/01/2018', Ship Mode='Standard Class', Customer ID='CS-12490', Customer Name='Cindy Schnelling', Segment='Corporate', City='Sarcelles', State='Ile-de-France', Country='France', Region='Central', Product ID='OFF-AR-10002433', Category='Office Supplies', Sub-Category='Art', Product Name='Stanley Pens, Easy-Erase', Sales='30.96', Quantity='3', Discount='0', Profit='13.59'),\n",
       " Row(Row ID='944', Order ID='ES-2015-2332844', Order Date='03/03/2015', Ship Date='08/03/2015', Ship Mode='Standard Class', Customer ID='BT-11680', Customer Name='Brian Thompson', Segment='Consumer', City='Birmingham', State='England', Country='United Kingdom', Region='North', Product ID='OFF-ST-10003995', Category='Office Supplies', Sub-Category='Storage', Product Name='Eldon File Cart, Single Width', Sales='447.72', Quantity='7', Discount='0.5', Profit='-286.65'),\n",
       " Row(Row ID='945', Order ID='ES-2015-2332844', Order Date='03/03/2015', Ship Date='08/03/2015', Ship Mode='Standard Class', Customer ID='BT-11680', Customer Name='Brian Thompson', Segment='Consumer', City='Birmingham', State='England', Country='United Kingdom', Region='North', Product ID='OFF-ST-10002608', Category='Office Supplies', Sub-Category='Storage', Product Name='Eldon Box, Industrial', Sales='10.74', Quantity='2', Discount='0.5', Profit='-2.82'),\n",
       " Row(Row ID='946', Order ID='ES-2015-2332844', Order Date='03/03/2015', Ship Date='08/03/2015', Ship Mode='Standard Class', Customer ID='BT-11680', Customer Name='Brian Thompson', Segment='Consumer', City='Birmingham', State='England', Country='United Kingdom', Region='North', Product ID='OFF-SU-10004818', Category='Office Supplies', Sub-Category='Supplies', Product Name='Stiletto Trimmer, Steel', Sales='126.45', Quantity='6', Discount='0.5', Profit='-40.59'),\n",
       " Row(Row ID='947', Order ID='ES-2015-2332844', Order Date='03/03/2015', Ship Date='08/03/2015', Ship Mode='Standard Class', Customer ID='BT-11680', Customer Name='Brian Thompson', Segment='Consumer', City='Birmingham', State='England', Country='United Kingdom', Region='North', Product ID='OFF-BI-10004328', Category='Office Supplies', Sub-Category='Binders', Product Name='Wilson Jones Binding Machine, Economy', Sales='97.92', Quantity='4', Discount='0.5', Profit='-27.48'),\n",
       " Row(Row ID='948', Order ID='ES-2015-2332844', Order Date='03/03/2015', Ship Date='08/03/2015', Ship Mode='Standard Class', Customer ID='BT-11680', Customer Name='Brian Thompson', Segment='Consumer', City='Birmingham', State='England', Country='United Kingdom', Region='North', Product ID='FUR-BO-10001892', Category='Furniture', Sub-Category='Bookcases', Product Name='Sauder Library with Doors, Pine', Sales='583.47', Quantity='3', Discount='0.5', Profit='-490.14'),\n",
       " Row(Row ID='949', Order ID='ES-2014-1591803', Order Date='09/08/2014', Ship Date='13/08/2014', Ship Mode='Second Class', Customer ID='JF-15295', Customer Name='Jason Fortune-', Segment='Consumer', City='Fontenay-aux-Roses', State='Ile-de-France', Country='France', Region='Central', Product ID='TEC-MA-10000687', Category='Technology', Sub-Category='Machines', Product Name='Konica Calculator, Red', Sales='248.778', Quantity='6', Discount='0.15', Profit='70.218'),\n",
       " Row(Row ID='950', Order ID='IT-2014-5515844', Order Date='02/12/2014', Ship Date='04/12/2014', Ship Mode='First Class', Customer ID='LO-17170', Customer Name='Lori Olson', Segment='Corporate', City='Stockholm', State='Stockholm', Country='Sweden', Region='North', Product ID='OFF-BI-10002172', Category='Office Supplies', Sub-Category='Binders', Product Name='Acco Binding Machine, Recycled', Sales='180.075', Quantity='7', Discount='0.5', Profit='-90.195'),\n",
       " Row(Row ID='951', Order ID='IT-2015-3079936', Order Date='18/09/2015', Ship Date='23/09/2015', Ship Mode='Second Class', Customer ID='LH-17020', Customer Name='Lisa Hazard', Segment='Consumer', City='Evry', State='Ile-de-France', Country='France', Region='Central', Product ID='OFF-AP-10000540', Category='Office Supplies', Sub-Category='Appliances', Product Name='Hamilton Beach Refrigerator, Red', Sales='900.234', Quantity='2', Discount='0.1', Profit='-10.026'),\n",
       " Row(Row ID='952', Order ID='ES-2016-4541341', Order Date='20/11/2016', Ship Date='22/11/2016', Ship Mode='Second Class', Customer ID='KS-16300', Customer Name='Karen Seio', Segment='Corporate', City='Bielefeld', State='North Rhine-Westphalia', Country='Germany', Region='Central', Product ID='OFF-EN-10004677', Category='Office Supplies', Sub-Category='Envelopes', Product Name='Jiffy Manila Envelope, Set of 50', Sales='52.02', Quantity='2', Discount='0', Profit='20.76'),\n",
       " Row(Row ID='953', Order ID='ES-2016-4541341', Order Date='20/11/2016', Ship Date='22/11/2016', Ship Mode='Second Class', Customer ID='KS-16300', Customer Name='Karen Seio', Segment='Corporate', City='Bielefeld', State='North Rhine-Westphalia', Country='Germany', Region='Central', Product ID='FUR-BO-10004408', Category='Furniture', Sub-Category='Bookcases', Product Name='Dania Stackable Bookrack, Pine', Sales='221.292', Quantity='2', Discount='0.1', Profit='-22.188'),\n",
       " Row(Row ID='954', Order ID='ES-2014-3188488', Order Date='02/02/2014', Ship Date='07/02/2014', Ship Mode='Second Class', Customer ID='KL-16645', Customer Name='Ken Lonsdale', Segment='Consumer', City='Barcelona', State='Catalonia', Country='Spain', Region='South', Product ID='FUR-CH-10000488', Category='Furniture', Sub-Category='Chairs', Product Name='SAFCO Steel Folding Chair, Black', Sales='266.496', Quantity='4', Discount='0.2', Profit='23.256'),\n",
       " Row(Row ID='955', Order ID='ES-2014-3188488', Order Date='02/02/2014', Ship Date='07/02/2014', Ship Mode='Second Class', Customer ID='KL-16645', Customer Name='Ken Lonsdale', Segment='Consumer', City='Barcelona', State='Catalonia', Country='Spain', Region='South', Product ID='FUR-BO-10000967', Category='Furniture', Sub-Category='Bookcases', Product Name='Ikea Library with Doors, Pine', Sales='729.48', Quantity='2', Discount='0', Profit='240.72'),\n",
       " Row(Row ID='956', Order ID='ES-2014-3188488', Order Date='02/02/2014', Ship Date='07/02/2014', Ship Mode='Second Class', Customer ID='KL-16645', Customer Name='Ken Lonsdale', Segment='Consumer', City='Barcelona', State='Catalonia', Country='Spain', Region='South', Product ID='OFF-AR-10001461', Category='Office Supplies', Sub-Category='Art', Product Name='BIC Canvas, Water Color', Sales='56.88', Quantity='1', Discount='0', Profit='0.54'),\n",
       " Row(Row ID='957', Order ID='ES-2014-3188488', Order Date='02/02/2014', Ship Date='07/02/2014', Ship Mode='Second Class', Customer ID='KL-16645', Customer Name='Ken Lonsdale', Segment='Consumer', City='Barcelona', State='Catalonia', Country='Spain', Region='South', Product ID='OFF-AR-10000584', Category='Office Supplies', Sub-Category='Art', Product Name='Sanford Pencil Sharpener, Water Color', Sales='116.04', Quantity='4', Discount='0', Profit='12.72'),\n",
       " Row(Row ID='958', Order ID='ES-2015-3876991', Order Date='21/11/2015', Ship Date='26/11/2015', Ship Mode='Standard Class', Customer ID='MO-17950', Customer Name='Michael Oakman', Segment='Consumer', City='Salamanca', State='Castile and León', Country='Spain', Region='South', Product ID='OFF-SU-10002451', Category='Office Supplies', Sub-Category='Supplies', Product Name='Elite Letter Opener, High Speed', Sales='80.1', Quantity='3', Discount='0', Profit='33.57'),\n",
       " Row(Row ID='959', Order ID='ES-2015-3876991', Order Date='21/11/2015', Ship Date='26/11/2015', Ship Mode='Standard Class', Customer ID='MO-17950', Customer Name='Michael Oakman', Segment='Consumer', City='Salamanca', State='Castile and León', Country='Spain', Region='South', Product ID='TEC-CO-10003807', Category='Technology', Sub-Category='Copiers', Product Name='HP Personal Copier, Laser', Sales='248.58', Quantity='2', Discount='0', Profit='84.48'),\n",
       " Row(Row ID='960', Order ID='ES-2015-3569748', Order Date='22/06/2015', Ship Date='26/06/2015', Ship Mode='Standard Class', Customer ID='PB-18805', Customer Name='Patrick Bzostek', Segment='Home Office', City='Torrevieja', State='Valenciana', Country='Spain', Region='South', Product ID='OFF-SU-10001983', Category='Office Supplies', Sub-Category='Supplies', Product Name='Stiletto Box Cutter, Steel', Sales='212.22', Quantity='6', Discount='0', Profit='14.76'),\n",
       " Row(Row ID='961', Order ID='ES-2015-3519634', Order Date='23/10/2015', Ship Date='27/10/2015', Ship Mode='Second Class', Customer ID='CH-12070', Customer Name='Cathy Hwang', Segment='Home Office', City='Northampton', State='England', Country='United Kingdom', Region='North', Product ID='FUR-BO-10003554', Category='Furniture', Sub-Category='Bookcases', Product Name='Dania 3-Shelf Cabinet, Mobile', Sales='719.85', Quantity='5', Discount='0', Profit='50.25'),\n",
       " Row(Row ID='962', Order ID='IT-2017-1555885', Order Date='14/07/2017', Ship Date='21/07/2017', Ship Mode='Standard Class', Customer ID='SM-20320', Customer Name='Sean Miller', Segment='Home Office', City='Stockholm', State='Stockholm', Country='Sweden', Region='North', Product ID='OFF-ST-10000355', Category='Office Supplies', Sub-Category='Storage', Product Name='Eldon Box, Wire Frame', Sales='32.655', Quantity='7', Discount='0.5', Profit='-11.865'),\n",
       " Row(Row ID='963', Order ID='IT-2017-1555885', Order Date='14/07/2017', Ship Date='21/07/2017', Ship Mode='Standard Class', Customer ID='SM-20320', Customer Name='Sean Miller', Segment='Home Office', City='Stockholm', State='Stockholm', Country='Sweden', Region='North', Product ID='OFF-AR-10001110', Category='Office Supplies', Sub-Category='Art', Product Name='BIC Pencil Sharpener, Water Color', Sales='32.19', Quantity='2', Discount='0.5', Profit='-7.77'),\n",
       " Row(Row ID='964', Order ID='ES-2017-4613373', Order Date='21/03/2017', Ship Date='24/03/2017', Ship Mode='Second Class', Customer ID='ME-17320', Customer Name='Maria Etezadi', Segment='Home Office', City='Antony', State='Ile-de-France', Country='France', Region='Central', Product ID='OFF-ST-10003132', Category='Office Supplies', Sub-Category='Storage', Product Name='Fellowes Box, Blue', Sales='88.56', Quantity='5', Discount='0.1', Profit='5.76'),\n",
       " Row(Row ID='965', Order ID='ES-2017-4613373', Order Date='21/03/2017', Ship Date='24/03/2017', Ship Mode='Second Class', Customer ID='ME-17320', Customer Name='Maria Etezadi', Segment='Home Office', City='Antony', State='Ile-de-France', Country='France', Region='Central', Product ID='OFF-AR-10002165', Category='Office Supplies', Sub-Category='Art', Product Name='Boston Sketch Pad, Fluorescent', Sales='199.44', Quantity='4', Discount='0', Profit='0'),\n",
       " Row(Row ID='966', Order ID='ES-2017-3404737', Order Date='17/02/2017', Ship Date='21/02/2017', Ship Mode='Standard Class', Customer ID='EH-13945', Customer Name='Eric Hoffmann', Segment='Consumer', City='Genoa', State='Liguria', Country='Italy', Region='South', Product ID='OFF-BI-10000368', Category='Office Supplies', Sub-Category='Binders', Product Name='Avery Binder Covers, Durable', Sales='37.71', Quantity='3', Discount='0', Profit='4.86'),\n",
       " Row(Row ID='967', Order ID='ES-2017-3404737', Order Date='17/02/2017', Ship Date='21/02/2017', Ship Mode='Standard Class', Customer ID='EH-13945', Customer Name='Eric Hoffmann', Segment='Consumer', City='Genoa', State='Liguria', Country='Italy', Region='South', Product ID='OFF-SU-10001125', Category='Office Supplies', Sub-Category='Supplies', Product Name='Stiletto Letter Opener, High Speed', Sales='111.12', Quantity='4', Discount='0', Profit='18.84'),\n",
       " Row(Row ID='968', Order ID='ES-2017-3250343', Order Date='22/05/2017', Ship Date='23/05/2017', Ship Mode='First Class', Customer ID='EH-14185', Customer Name='Evan Henry', Segment='Consumer', City='Hildesheim', State='Lower Saxony', Country='Germany', Region='Central', Product ID='OFF-ST-10004377', Category='Office Supplies', Sub-Category='Storage', Product Name='Rogers File Cart, Single Width', Sales='892.269', Quantity='7', Discount='0.1', Profit='158.529'),\n",
       " Row(Row ID='969', Order ID='ES-2017-1343492', Order Date='13/10/2017', Ship Date='18/10/2017', Ship Mode='Standard Class', Customer ID='NF-18385', Customer Name='Natalie Fritzler', Segment='Consumer', City='Yerres', State='Ile-de-France', Country='France', Region='Central', Product ID='OFF-AR-10004492', Category='Office Supplies', Sub-Category='Art', Product Name='BIC Canvas, Blue', Sales='107.4', Quantity='2', Discount='0', Profit='8.58'),\n",
       " Row(Row ID='970', Order ID='ES-2017-1343492', Order Date='13/10/2017', Ship Date='18/10/2017', Ship Mode='Standard Class', Customer ID='NF-18385', Customer Name='Natalie Fritzler', Segment='Consumer', City='Yerres', State='Ile-de-France', Country='France', Region='Central', Product ID='TEC-CO-10001596', Category='Technology', Sub-Category='Copiers', Product Name='Brother Wireless Fax, Color', Sales='1616.0625', Quantity='5', Discount='0.15', Profit='113.9625'),\n",
       " Row(Row ID='971', Order ID='IT-2016-5719417', Order Date='22/05/2016', Ship Date='26/05/2016', Ship Mode='Standard Class', Customer ID='MZ-17515', Customer Name='Mary Zewe', Segment='Corporate', City='Bordeaux', State='Aquitaine-Limousin-Poitou-Charentes', Country='France', Region='Central', Product ID='FUR-BO-10000002', Category='Furniture', Sub-Category='Bookcases', Product Name='Bush Classic Bookcase, Mobile', Sales='373.68', Quantity='1', Discount='0.1', Profit='-20.76'),\n",
       " Row(Row ID='972', Order ID='IT-2016-5719417', Order Date='22/05/2016', Ship Date='26/05/2016', Ship Mode='Standard Class', Customer ID='MZ-17515', Customer Name='Mary Zewe', Segment='Corporate', City='Bordeaux', State='Aquitaine-Limousin-Poitou-Charentes', Country='France', Region='Central', Product ID='OFF-BI-10001820', Category='Office Supplies', Sub-Category='Binders', Product Name='Wilson Jones Binding Machine, Durable', Sales='100.92', Quantity='2', Discount='0', Profit='1.98'),\n",
       " Row(Row ID='973', Order ID='IT-2016-5719417', Order Date='22/05/2016', Ship Date='26/05/2016', Ship Mode='Standard Class', Customer ID='MZ-17515', Customer Name='Mary Zewe', Segment='Corporate', City='Bordeaux', State='Aquitaine-Limousin-Poitou-Charentes', Country='France', Region='Central', Product ID='FUR-CH-10003249', Category='Furniture', Sub-Category='Chairs', Product Name='Novimex Chairmat, Adjustable', Sales='105.894', Quantity='2', Discount='0.1', Profit='32.934'),\n",
       " Row(Row ID='974', Order ID='IT-2016-5719417', Order Date='22/05/2016', Ship Date='26/05/2016', Ship Mode='Standard Class', Customer ID='MZ-17515', Customer Name='Mary Zewe', Segment='Corporate', City='Bordeaux', State='Aquitaine-Limousin-Poitou-Charentes', Country='France', Region='Central', Product ID='TEC-MA-10004323', Category='Technology', Sub-Category='Machines', Product Name='Panasonic Phone, White', Sales='212.2875', Quantity='3', Discount='0.15', Profit='-15.0525'),\n",
       " Row(Row ID='975', Order ID='IT-2016-5719417', Order Date='22/05/2016', Ship Date='26/05/2016', Ship Mode='Standard Class', Customer ID='MZ-17515', Customer Name='Mary Zewe', Segment='Corporate', City='Bordeaux', State='Aquitaine-Limousin-Poitou-Charentes', Country='France', Region='Central', Product ID='OFF-BI-10002047', Category='Office Supplies', Sub-Category='Binders', Product Name='Acco Index Tab, Durable', Sales='26.82', Quantity='3', Discount='0', Profit='5.85'),\n",
       " Row(Row ID='976', Order ID='IT-2016-5719417', Order Date='22/05/2016', Ship Date='26/05/2016', Ship Mode='Standard Class', Customer ID='MZ-17515', Customer Name='Mary Zewe', Segment='Corporate', City='Bordeaux', State='Aquitaine-Limousin-Poitou-Charentes', Country='France', Region='Central', Product ID='OFF-AR-10000219', Category='Office Supplies', Sub-Category='Art', Product Name='Sanford Highlighters, Blue', Sales='63', Quantity='4', Discount='0', Profit='6.84'),\n",
       " Row(Row ID='977', Order ID='IT-2016-5719417', Order Date='22/05/2016', Ship Date='26/05/2016', Ship Mode='Standard Class', Customer ID='MZ-17515', Customer Name='Mary Zewe', Segment='Corporate', City='Bordeaux', State='Aquitaine-Limousin-Poitou-Charentes', Country='France', Region='Central', Product ID='TEC-CO-10000228', Category='Technology', Sub-Category='Copiers', Product Name='Hewlett Personal Copier, Laser', Sales='735.777', Quantity='6', Discount='0.15', Profit='-78.003'),\n",
       " Row(Row ID='978', Order ID='IT-2016-5719417', Order Date='22/05/2016', Ship Date='26/05/2016', Ship Mode='Standard Class', Customer ID='MZ-17515', Customer Name='Mary Zewe', Segment='Corporate', City='Bordeaux', State='Aquitaine-Limousin-Poitou-Charentes', Country='France', Region='Central', Product ID='OFF-BI-10000121', Category='Office Supplies', Sub-Category='Binders', Product Name='Cardinal Index Tab, Clear', Sales='26.88', Quantity='4', Discount='0', Profit='11.28'),\n",
       " Row(Row ID='979', Order ID='ES-2017-5625908', Order Date='12/09/2017', Ship Date='12/09/2017', Ship Mode='Same Day', Customer ID='KM-16375', Customer Name='Katherine Murray', Segment='Home Office', City='Mainz', State='Rhineland-Palatinate', Country='Germany', Region='Central', Product ID='OFF-AR-10000751', Category='Office Supplies', Sub-Category='Art', Product Name='Boston Highlighters, Fluorescent', Sales='60.39', Quantity='3', Discount='0', Profit='15.66'),\n",
       " Row(Row ID='980', Order ID='ES-2017-5625908', Order Date='12/09/2017', Ship Date='12/09/2017', Ship Mode='Same Day', Customer ID='KM-16375', Customer Name='Katherine Murray', Segment='Home Office', City='Mainz', State='Rhineland-Palatinate', Country='Germany', Region='Central', Product ID='TEC-MA-10001009', Category='Technology', Sub-Category='Machines', Product Name='Panasonic Inkjet, Red', Sales='927.72', Quantity='3', Discount='0', Profit='259.74'),\n",
       " Row(Row ID='981', Order ID='ES-2017-5625908', Order Date='12/09/2017', Ship Date='12/09/2017', Ship Mode='Same Day', Customer ID='KM-16375', Customer Name='Katherine Murray', Segment='Home Office', City='Mainz', State='Rhineland-Palatinate', Country='Germany', Region='Central', Product ID='OFF-AR-10000409', Category='Office Supplies', Sub-Category='Art', Product Name='Sanford Canvas, Easy-Erase', Sales='152.37', Quantity='3', Discount='0', Profit='19.8'),\n",
       " Row(Row ID='982', Order ID='ES-2017-5625908', Order Date='12/09/2017', Ship Date='12/09/2017', Ship Mode='Same Day', Customer ID='KM-16375', Customer Name='Katherine Murray', Segment='Home Office', City='Mainz', State='Rhineland-Palatinate', Country='Germany', Region='Central', Product ID='OFF-BI-10003058', Category='Office Supplies', Sub-Category='Binders', Product Name='Acco Binder Covers, Economy', Sales='39.96', Quantity='3', Discount='0', Profit='16.38'),\n",
       " Row(Row ID='983', Order ID='ES-2017-5625908', Order Date='12/09/2017', Ship Date='12/09/2017', Ship Mode='Same Day', Customer ID='KM-16375', Customer Name='Katherine Murray', Segment='Home Office', City='Mainz', State='Rhineland-Palatinate', Country='Germany', Region='Central', Product ID='FUR-CH-10003772', Category='Furniture', Sub-Category='Chairs', Product Name='Office Star Chairmat, Red', Sales='236.952', Quantity='4', Discount='0.1', Profit='78.912'),\n",
       " Row(Row ID='984', Order ID='ES-2017-3898009', Order Date='24/01/2017', Ship Date='27/01/2017', Ship Mode='First Class', Customer ID='MA-17560', Customer Name='Matt Abelman', Segment='Home Office', City='Dortmund', State='North Rhine-Westphalia', Country='Germany', Region='Central', Product ID='OFF-AR-10001720', Category='Office Supplies', Sub-Category='Art', Product Name='Stanley Canvas, Blue', Sales='346.29', Quantity='7', Discount='0', Profit='55.23'),\n",
       " Row(Row ID='985', Order ID='ES-2015-4844965', Order Date='16/11/2015', Ship Date='18/11/2015', Ship Mode='First Class', Customer ID='AR-10345', Customer Name='Alex Russell', Segment='Corporate', City='Albacete', State='Castile-La Mancha', Country='Spain', Region='South', Product ID='TEC-CO-10000011', Category='Technology', Sub-Category='Copiers', Product Name='HP Personal Copier, High-Speed', Sales='734.94', Quantity='6', Discount='0', Profit='190.98'),\n",
       " Row(Row ID='986', Order ID='ES-2015-4844965', Order Date='16/11/2015', Ship Date='18/11/2015', Ship Mode='First Class', Customer ID='AR-10345', Customer Name='Alex Russell', Segment='Corporate', City='Albacete', State='Castile-La Mancha', Country='Spain', Region='South', Product ID='OFF-AP-10000005', Category='Office Supplies', Sub-Category='Appliances', Product Name='KitchenAid Microwave, Red', Sales='1551.6', Quantity='5', Discount='0', Profit='108.6'),\n",
       " Row(Row ID='987', Order ID='ES-2017-5791774', Order Date='13/01/2017', Ship Date='13/01/2017', Ship Mode='Same Day', Customer ID='AG-10270', Customer Name='Alejandro Grove', Segment='Consumer', City='Gateshead', State='England', Country='United Kingdom', Region='North', Product ID='OFF-AR-10004739', Category='Office Supplies', Sub-Category='Art', Product Name='BIC Canvas, Easy-Erase', Sales='323.82', Quantity='6', Discount='0', Profit='109.98'),\n",
       " Row(Row ID='988', Order ID='IT-2017-5669188', Order Date='17/11/2017', Ship Date='22/11/2017', Ship Mode='Second Class', Customer ID='PV-18985', Customer Name='Paul Van Hugh', Segment='Home Office', City='Nijmegen', State='Gelderland', Country='Netherlands', Region='Central', Product ID='OFF-EN-10003392', Category='Office Supplies', Sub-Category='Envelopes', Product Name='Kraft Peel and Seal, Set of 50', Sales='71.715', Quantity='7', Discount='0.5', Profit='-46.095'),\n",
       " Row(Row ID='989', Order ID='IT-2017-5669188', Order Date='17/11/2017', Ship Date='22/11/2017', Ship Mode='Second Class', Customer ID='PV-18985', Customer Name='Paul Van Hugh', Segment='Home Office', City='Nijmegen', State='Gelderland', Country='Netherlands', Region='Central', Product ID='OFF-FA-10004734', Category='Office Supplies', Sub-Category='Fasteners', Product Name='Advantus Rubber Bands, Bulk Pack', Sales='41.475', Quantity='5', Discount='0.5', Profit='-14.175'),\n",
       " Row(Row ID='990', Order ID='IT-2017-5669188', Order Date='17/11/2017', Ship Date='22/11/2017', Ship Mode='Second Class', Customer ID='PV-18985', Customer Name='Paul Van Hugh', Segment='Home Office', City='Nijmegen', State='Gelderland', Country='Netherlands', Region='Central', Product ID='OFF-AR-10002113', Category='Office Supplies', Sub-Category='Art', Product Name='Boston Highlighters, Easy-Erase', Sales='76.56', Quantity='8', Discount='0.5', Profit='-42.96'),\n",
       " Row(Row ID='991', Order ID='ES-2017-3079041', Order Date='19/09/2017', Ship Date='25/09/2017', Ship Mode='Standard Class', Customer ID='SC-20770', Customer Name='Stewart Carmichael', Segment='Corporate', City='Vicenza', State='Veneto', Country='Italy', Region='South', Product ID='TEC-CO-10001192', Category='Technology', Sub-Category='Copiers', Product Name='HP Personal Copier, Digital', Sales='371.79', Quantity='3', Discount='0', Profit='59.4'),\n",
       " Row(Row ID='992', Order ID='ES-2014-3080574', Order Date='30/06/2014', Ship Date='04/07/2014', Ship Mode='Standard Class', Customer ID='MS-17830', Customer Name='Melanie Seite', Segment='Consumer', City='Paris', State='Ile-de-France', Country='France', Region='Central', Product ID='OFF-SU-10003343', Category='Office Supplies', Sub-Category='Supplies', Product Name='Kleencut Shears, Steel', Sales='554.04', Quantity='12', Discount='0', Profit='144'),\n",
       " Row(Row ID='993', Order ID='ES-2017-1566594', Order Date='10/05/2017', Ship Date='15/05/2017', Ship Mode='Standard Class', Customer ID='VS-21820', Customer Name='Vivek Sundaresam', Segment='Consumer', City='Boulogne-Billancourt', State='Ile-de-France', Country='France', Region='Central', Product ID='OFF-SU-10001021', Category='Office Supplies', Sub-Category='Supplies', Product Name='Fiskars Box Cutter, Serrated', Sales='96.66', Quantity='3', Discount='0', Profit='30.87'),\n",
       " Row(Row ID='994', Order ID='ES-2017-3730302', Order Date='10/11/2017', Ship Date='15/11/2017', Ship Mode='Second Class', Customer ID='CP-12340', Customer Name='Christine Phan', Segment='Corporate', City='Lyon', State='Auvergne-Rhône-Alpes', Country='France', Region='Central', Product ID='TEC-AC-10001636', Category='Technology', Sub-Category='Accessories', Product Name='Belkin Mouse, Erganomic', Sales='192.6', Quantity='5', Discount='0', Profit='32.7'),\n",
       " Row(Row ID='995', Order ID='ES-2017-3730302', Order Date='10/11/2017', Ship Date='15/11/2017', Ship Mode='Second Class', Customer ID='CP-12340', Customer Name='Christine Phan', Segment='Corporate', City='Lyon', State='Auvergne-Rhône-Alpes', Country='France', Region='Central', Product ID='OFF-PA-10000961', Category='Office Supplies', Sub-Category='Paper', Product Name='Green Bar Parchment Paper, Premium', Sales='66.72', Quantity='4', Discount='0', Profit='1.92'),\n",
       " Row(Row ID='996', Order ID='ES-2015-4070290', Order Date='28/12/2015', Ship Date='30/12/2015', Ship Mode='First Class', Customer ID='FM-14380', Customer Name='Fred McMath', Segment='Consumer', City='Stoke-on-Trent', State='England', Country='United Kingdom', Region='North', Product ID='TEC-AC-10002204', Category='Technology', Sub-Category='Accessories', Product Name='Belkin Flash Drive, Erganomic', Sales='119.25', Quantity='3', Discount='0', Profit='3.51'),\n",
       " Row(Row ID='997', Order ID='ES-2017-4329629', Order Date='17/02/2017', Ship Date='21/02/2017', Ship Mode='Second Class', Customer ID='MV-17485', Customer Name='Mark Van Huff', Segment='Consumer', City='Tourcoing', State='Hauts-de-France', Country='France', Region='Central', Product ID='OFF-ST-10002437', Category='Office Supplies', Sub-Category='Storage', Product Name='Eldon Trays, Blue', Sales='86.346', Quantity='2', Discount='0.1', Profit='7.626'),\n",
       " Row(Row ID='998', Order ID='ES-2017-4329629', Order Date='17/02/2017', Ship Date='21/02/2017', Ship Mode='Second Class', Customer ID='MV-17485', Customer Name='Mark Van Huff', Segment='Consumer', City='Tourcoing', State='Hauts-de-France', Country='France', Region='Central', Product ID='OFF-AR-10001482', Category='Office Supplies', Sub-Category='Art', Product Name='Stanley Markers, Easy-Erase', Sales='44.94', Quantity='2', Discount='0', Profit='0'),\n",
       " Row(Row ID='999', Order ID='ES-2017-4329629', Order Date='17/02/2017', Ship Date='21/02/2017', Ship Mode='Second Class', Customer ID='MV-17485', Customer Name='Mark Van Huff', Segment='Consumer', City='Tourcoing', State='Hauts-de-France', Country='France', Region='Central', Product ID='TEC-PH-10001470', Category='Technology', Sub-Category='Phones', Product Name='Cisco Office Telephone, with Caller ID', Sales='273.564', Quantity='4', Discount='0.15', Profit='-6.516'),\n",
       " Row(Row ID='1000', Order ID='ES-2016-2161351', Order Date='16/04/2016', Ship Date='23/04/2016', Ship Mode='Standard Class', Customer ID='GP-14740', Customer Name='Guy Phonely', Segment='Corporate', City='Lille', State='Hauts-de-France', Country='France', Region='Central', Product ID='OFF-LA-10004148', Category='Office Supplies', Sub-Category='Labels', Product Name='Smead File Folder Labels, 5000 Label Set', Sales='27.81', Quantity='3', Discount='0', Profit='12.78'),\n",
       " ...]"
      ]
     },
     "execution_count": 106,
     "metadata": {},
     "output_type": "execute_result"
    }
   ],
   "source": [
    "df.collect()"
   ]
  },
  {
   "cell_type": "code",
   "execution_count": 107,
   "id": "87295e05",
   "metadata": {},
   "outputs": [
    {
     "name": "stdout",
     "output_type": "stream",
     "text": [
      "+------+---------------+----------+----------+--------------+-----------+----------------+-----------+-------------+--------------------+--------------+-------+---------------+---------------+------------+--------------------+--------+--------+--------+-------+\n",
      "|Row ID|       Order ID|Order Date| Ship Date|     Ship Mode|Customer ID|   Customer Name|    Segment|         City|               State|       Country| Region|     Product ID|       Category|Sub-Category|        Product Name|   Sales|Quantity|Discount| Profit|\n",
      "+------+---------------+----------+----------+--------------+-----------+----------------+-----------+-------------+--------------------+--------------+-------+---------------+---------------+------------+--------------------+--------+--------+--------+-------+\n",
      "|     1|ES-2017-1311038|07/02/2017|11/02/2017|Standard Class|   AS-10045|  Aaron Smayling|  Corporate|        Leeds|             England|United Kingdom|  North|OFF-ST-10000988|Office Supplies|     Storage|Fellowes Folders,...|    79.2|       3|       0|   39.6|\n",
      "|     2|ES-2017-1311038|07/02/2017|11/02/2017|Standard Class|   AS-10045|  Aaron Smayling|  Corporate|        Leeds|             England|United Kingdom|  North|TEC-AC-10004144|     Technology| Accessories|SanDisk Numeric K...|  388.92|       7|       0|      0|\n",
      "|     3|ES-2017-1311038|07/02/2017|11/02/2017|Standard Class|   AS-10045|  Aaron Smayling|  Corporate|        Leeds|             England|United Kingdom|  North|OFF-LA-10001915|Office Supplies|      Labels|Avery Legal Exhib...|   35.19|       3|       0|  16.11|\n",
      "|     4|ES-2017-1311038|07/02/2017|11/02/2017|Standard Class|   AS-10045|  Aaron Smayling|  Corporate|        Leeds|             England|United Kingdom|  North|OFF-ST-10004550|Office Supplies|     Storage|Fellowes Folders,...|   50.94|       2|       0|   13.2|\n",
      "|     5|ES-2017-1311038|07/02/2017|11/02/2017|Standard Class|   AS-10045|  Aaron Smayling|  Corporate|        Leeds|             England|United Kingdom|  North|TEC-AC-10004068|     Technology| Accessories|Memorex Memory Ca...|  307.44|       3|       0|  73.71|\n",
      "|     6|ES-2017-1311038|07/02/2017|11/02/2017|Standard Class|   AS-10045|  Aaron Smayling|  Corporate|        Leeds|             England|United Kingdom|  North|OFF-ST-10002271|Office Supplies|     Storage|Rogers Shelving, ...|   122.4|       2|       0|  37.92|\n",
      "|     7|ES-2017-1311038|07/02/2017|11/02/2017|Standard Class|   AS-10045|  Aaron Smayling|  Corporate|        Leeds|             England|United Kingdom|  North|TEC-PH-10003963|     Technology|      Phones|Apple Signal Boos...|  413.82|       3|       0|  20.61|\n",
      "|     8|ES-2015-5113958|02/08/2015|07/08/2015|  Second Class|   EB-13840|   Ellis Ballard|  Corporate|West Bromwich|             England|United Kingdom|  North|TEC-CO-10004325|     Technology|     Copiers|Canon Personal Co...|  428.22|       3|       0| 192.69|\n",
      "|     9|ES-2015-5113958|02/08/2015|07/08/2015|  Second Class|   EB-13840|   Ellis Ballard|  Corporate|West Bromwich|             England|United Kingdom|  North|OFF-AP-10004512|Office Supplies|  Appliances|   Hoover Stove, Red| 3979.29|       7|       0|1989.54|\n",
      "|    10|ES-2015-5113958|02/08/2015|07/08/2015|  Second Class|   EB-13840|   Ellis Ballard|  Corporate|West Bromwich|             England|United Kingdom|  North|OFF-FA-10002393|Office Supplies|   Fasteners|Accos Push Pins, ...|   43.56|       3|       0|   12.6|\n",
      "|    11|ES-2015-2510515|20/06/2015|20/06/2015|      Same Day|   LH-17155|Logan Haushalter|   Consumer|   Le Bouscat|Aquitaine-Limousi...|        France|Central|OFF-LA-10002805|Office Supplies|      Labels|Hon Color Coded L...|   25.26|       2|       0|   0.48|\n",
      "|    12|ES-2015-2510515|20/06/2015|20/06/2015|      Same Day|   LH-17155|Logan Haushalter|   Consumer|   Le Bouscat|Aquitaine-Limousi...|        France|Central|OFF-AP-10002330|Office Supplies|  Appliances|Hamilton Beach St...|2443.905|       5|     0.1|760.305|\n",
      "|    13|ES-2015-2510515|20/06/2015|20/06/2015|      Same Day|   LH-17155|Logan Haushalter|   Consumer|   Le Bouscat|Aquitaine-Limousi...|        France|Central|OFF-AR-10000505|Office Supplies|         Art|Binney & Smith Pe...|   12.21|       1|       0|      0|\n",
      "|    14|ES-2015-2510515|20/06/2015|20/06/2015|      Same Day|   LH-17155|Logan Haushalter|   Consumer|   Le Bouscat|Aquitaine-Limousi...|        France|Central|TEC-PH-10002898|     Technology|      Phones|Samsung Smart Pho...|2167.296|       4|    0.15|790.416|\n",
      "|    15|ES-2015-2510515|20/06/2015|20/06/2015|      Same Day|   LH-17155|Logan Haushalter|   Consumer|   Le Bouscat|Aquitaine-Limousi...|        France|Central|OFF-ST-10001413|Office Supplies|     Storage|Rogers Folders, Blue| 138.105|       5|     0.1|-12.345|\n",
      "|    16|ES-2016-4380115|16/02/2016|20/02/2016|Standard Class|   KC-16540| Kelly Collister|   Consumer|   Strasbourg|Alsace-Champagne-...|        France|Central|OFF-ST-10003931|Office Supplies|     Storage|Smead Trays, Wire...| 128.385|       3|     0.1|  4.275|\n",
      "|    17|ES-2016-4380115|16/02/2016|20/02/2016|Standard Class|   KC-16540| Kelly Collister|   Consumer|   Strasbourg|Alsace-Champagne-...|        France|Central|TEC-AC-10004269|     Technology| Accessories|Belkin Memory Car...|  690.12|       6|       0|      0|\n",
      "|    18|ES-2016-4380115|16/02/2016|20/02/2016|Standard Class|   KC-16540| Kelly Collister|   Consumer|   Strasbourg|Alsace-Champagne-...|        France|Central|OFF-LA-10001676|Office Supplies|      Labels|Hon Removable Lab...|    8.16|       1|       0|   1.14|\n",
      "|    19|ES-2017-2573330|03/11/2017|08/11/2017|Standard Class|   BF-11170|      Ben Ferrer|Home Office|         Unna|North Rhine-Westp...|       Germany|Central|TEC-MA-10000811|     Technology|    Machines|Okidata Phone, Du...|  347.88|       4|       0|  76.44|\n",
      "|    20|ES-2017-2573330|03/11/2017|08/11/2017|Standard Class|   BF-11170|      Ben Ferrer|Home Office|         Unna|North Rhine-Westp...|       Germany|Central|OFF-ST-10000648|Office Supplies|     Storage|Eldon File Cart, ...| 575.505|       5|     0.1| 12.705|\n",
      "+------+---------------+----------+----------+--------------+-----------+----------------+-----------+-------------+--------------------+--------------+-------+---------------+---------------+------------+--------------------+--------+--------+--------+-------+\n",
      "only showing top 20 rows\n",
      "\n"
     ]
    }
   ],
   "source": [
    "df.show()\n",
    "# same with the dataframe head() method, but this shows only 20 rows"
   ]
  },
  {
   "cell_type": "code",
   "execution_count": 108,
   "id": "dcaefd17",
   "metadata": {},
   "outputs": [
    {
     "data": {
      "text/plain": [
       "<bound method DataFrame.printSchema of DataFrame[Row ID: string, Order ID: string, Order Date: string, Ship Date: string, Ship Mode: string, Customer ID: string, Customer Name: string, Segment: string, City: string, State: string, Country: string, Region: string, Product ID: string, Category: string, Sub-Category: string, Product Name: string, Sales: string, Quantity: string, Discount: string, Profit: string]>"
      ]
     },
     "execution_count": 108,
     "metadata": {},
     "output_type": "execute_result"
    }
   ],
   "source": [
    "df.printSchema"
   ]
  },
  {
   "cell_type": "code",
   "execution_count": 109,
   "id": "f62ff2bf",
   "metadata": {},
   "outputs": [
    {
     "name": "stdout",
     "output_type": "stream",
     "text": [
      "root\n",
      " |-- Row ID: string (nullable = true)\n",
      " |-- Order ID: string (nullable = true)\n",
      " |-- Order Date: string (nullable = true)\n",
      " |-- Ship Date: string (nullable = true)\n",
      " |-- Ship Mode: string (nullable = true)\n",
      " |-- Customer ID: string (nullable = true)\n",
      " |-- Customer Name: string (nullable = true)\n",
      " |-- Segment: string (nullable = true)\n",
      " |-- City: string (nullable = true)\n",
      " |-- State: string (nullable = true)\n",
      " |-- Country: string (nullable = true)\n",
      " |-- Region: string (nullable = true)\n",
      " |-- Product ID: string (nullable = true)\n",
      " |-- Category: string (nullable = true)\n",
      " |-- Sub-Category: string (nullable = true)\n",
      " |-- Product Name: string (nullable = true)\n",
      " |-- Sales: string (nullable = true)\n",
      " |-- Quantity: string (nullable = true)\n",
      " |-- Discount: string (nullable = true)\n",
      " |-- Profit: string (nullable = true)\n",
      "\n"
     ]
    }
   ],
   "source": [
    "df.printSchema()\n",
    "#dates and measures are interpreted as a string"
   ]
  },
  {
   "cell_type": "code",
   "execution_count": 110,
   "id": "dc4f04c8",
   "metadata": {},
   "outputs": [
    {
     "data": {
      "text/plain": [
       "pyspark.sql.dataframe.DataFrame"
      ]
     },
     "execution_count": 110,
     "metadata": {},
     "output_type": "execute_result"
    }
   ],
   "source": [
    "type(df)\n"
   ]
  },
  {
   "cell_type": "code",
   "execution_count": 111,
   "id": "2fecb5cc",
   "metadata": {},
   "outputs": [
    {
     "data": {
      "text/plain": [
       "['Row ID',\n",
       " 'Order ID',\n",
       " 'Order Date',\n",
       " 'Ship Date',\n",
       " 'Ship Mode',\n",
       " 'Customer ID',\n",
       " 'Customer Name',\n",
       " 'Segment',\n",
       " 'City',\n",
       " 'State',\n",
       " 'Country',\n",
       " 'Region',\n",
       " 'Product ID',\n",
       " 'Category',\n",
       " 'Sub-Category',\n",
       " 'Product Name',\n",
       " 'Sales',\n",
       " 'Quantity',\n",
       " 'Discount',\n",
       " 'Profit']"
      ]
     },
     "execution_count": 111,
     "metadata": {},
     "output_type": "execute_result"
    }
   ],
   "source": [
    "df.columns"
   ]
  },
  {
   "cell_type": "code",
   "execution_count": 112,
   "id": "c81a9890",
   "metadata": {},
   "outputs": [
    {
     "data": {
      "text/plain": [
       "10000"
      ]
     },
     "execution_count": 112,
     "metadata": {},
     "output_type": "execute_result"
    }
   ],
   "source": [
    "df.count()"
   ]
  },
  {
   "cell_type": "code",
   "execution_count": 113,
   "id": "8f0127bc",
   "metadata": {},
   "outputs": [
    {
     "name": "stdout",
     "output_type": "stream",
     "text": [
      "+------+---------------+----------+----------+--------------+-----------+--------------+---------+-----+-------+--------------+------+---------------+---------------+------------+--------------------+------+--------+--------+------+\n",
      "|Row ID|       Order ID|Order Date| Ship Date|     Ship Mode|Customer ID| Customer Name|  Segment| City|  State|       Country|Region|     Product ID|       Category|Sub-Category|        Product Name| Sales|Quantity|Discount|Profit|\n",
      "+------+---------------+----------+----------+--------------+-----------+--------------+---------+-----+-------+--------------+------+---------------+---------------+------------+--------------------+------+--------+--------+------+\n",
      "|     1|ES-2017-1311038|07/02/2017|11/02/2017|Standard Class|   AS-10045|Aaron Smayling|Corporate|Leeds|England|United Kingdom| North|OFF-ST-10000988|Office Supplies|     Storage|Fellowes Folders,...|  79.2|       3|       0|  39.6|\n",
      "|     2|ES-2017-1311038|07/02/2017|11/02/2017|Standard Class|   AS-10045|Aaron Smayling|Corporate|Leeds|England|United Kingdom| North|TEC-AC-10004144|     Technology| Accessories|SanDisk Numeric K...|388.92|       7|       0|     0|\n",
      "+------+---------------+----------+----------+--------------+-----------+--------------+---------+-----+-------+--------------+------+---------------+---------------+------------+--------------------+------+--------+--------+------+\n",
      "\n"
     ]
    }
   ],
   "source": [
    "df.limit(2).show()"
   ]
  },
  {
   "cell_type": "code",
   "execution_count": 114,
   "id": "66f399d2",
   "metadata": {},
   "outputs": [
    {
     "data": {
      "text/plain": [
       "DataFrame[Row ID: string, Order ID: string, Order Date: string, Ship Date: string, Ship Mode: string, Customer ID: string, Customer Name: string, Segment: string, City: string, State: string, Country: string, Region: string, Product ID: string, Category: string, Sub-Category: string, Product Name: string, Sales: string, Quantity: string, Discount: string, Profit: string]"
      ]
     },
     "execution_count": 114,
     "metadata": {},
     "output_type": "execute_result"
    }
   ],
   "source": [
    "#lazy operations\n",
    "df.limit(2)\n"
   ]
  },
  {
   "cell_type": "code",
   "execution_count": 115,
   "id": "76e3e34a",
   "metadata": {},
   "outputs": [
    {
     "data": {
      "text/plain": [
       "pyspark.sql.types.StructType"
      ]
     },
     "execution_count": 115,
     "metadata": {},
     "output_type": "execute_result"
    }
   ],
   "source": [
    "type(df.schema)"
   ]
  },
  {
   "cell_type": "code",
   "execution_count": 116,
   "id": "a9e70d87",
   "metadata": {},
   "outputs": [
    {
     "name": "stdout",
     "output_type": "stream",
     "text": [
      "+------+---------------+----------+----------+--------------+-----------+----------------+-----------+-------------+--------------------+--------------+-------+---------------+---------------+------------+--------------------+--------+--------+--------+-------+\n",
      "|Row ID|       Order ID|Order Date| Ship Date|     Ship Mode|Customer ID|   Customer Name|    Segment|         City|               State|       Country| Region|     Product ID|       Category|Sub-Category|        Product Name|   Sales|Quantity|Discount| Profit|\n",
      "+------+---------------+----------+----------+--------------+-----------+----------------+-----------+-------------+--------------------+--------------+-------+---------------+---------------+------------+--------------------+--------+--------+--------+-------+\n",
      "|     1|ES-2017-1311038|07/02/2017|11/02/2017|Standard Class|   AS-10045|  Aaron Smayling|  Corporate|        Leeds|             England|United Kingdom|  North|OFF-ST-10000988|Office Supplies|     Storage|Fellowes Folders,...|    79.2|       3|       0|   39.6|\n",
      "|     2|ES-2017-1311038|07/02/2017|11/02/2017|Standard Class|   AS-10045|  Aaron Smayling|  Corporate|        Leeds|             England|United Kingdom|  North|TEC-AC-10004144|     Technology| Accessories|SanDisk Numeric K...|  388.92|       7|       0|      0|\n",
      "|     3|ES-2017-1311038|07/02/2017|11/02/2017|Standard Class|   AS-10045|  Aaron Smayling|  Corporate|        Leeds|             England|United Kingdom|  North|OFF-LA-10001915|Office Supplies|      Labels|Avery Legal Exhib...|   35.19|       3|       0|  16.11|\n",
      "|     4|ES-2017-1311038|07/02/2017|11/02/2017|Standard Class|   AS-10045|  Aaron Smayling|  Corporate|        Leeds|             England|United Kingdom|  North|OFF-ST-10004550|Office Supplies|     Storage|Fellowes Folders,...|   50.94|       2|       0|   13.2|\n",
      "|     5|ES-2017-1311038|07/02/2017|11/02/2017|Standard Class|   AS-10045|  Aaron Smayling|  Corporate|        Leeds|             England|United Kingdom|  North|TEC-AC-10004068|     Technology| Accessories|Memorex Memory Ca...|  307.44|       3|       0|  73.71|\n",
      "|     6|ES-2017-1311038|07/02/2017|11/02/2017|Standard Class|   AS-10045|  Aaron Smayling|  Corporate|        Leeds|             England|United Kingdom|  North|OFF-ST-10002271|Office Supplies|     Storage|Rogers Shelving, ...|   122.4|       2|       0|  37.92|\n",
      "|     7|ES-2017-1311038|07/02/2017|11/02/2017|Standard Class|   AS-10045|  Aaron Smayling|  Corporate|        Leeds|             England|United Kingdom|  North|TEC-PH-10003963|     Technology|      Phones|Apple Signal Boos...|  413.82|       3|       0|  20.61|\n",
      "|     8|ES-2015-5113958|02/08/2015|07/08/2015|  Second Class|   EB-13840|   Ellis Ballard|  Corporate|West Bromwich|             England|United Kingdom|  North|TEC-CO-10004325|     Technology|     Copiers|Canon Personal Co...|  428.22|       3|       0| 192.69|\n",
      "|     9|ES-2015-5113958|02/08/2015|07/08/2015|  Second Class|   EB-13840|   Ellis Ballard|  Corporate|West Bromwich|             England|United Kingdom|  North|OFF-AP-10004512|Office Supplies|  Appliances|   Hoover Stove, Red| 3979.29|       7|       0|1989.54|\n",
      "|    10|ES-2015-5113958|02/08/2015|07/08/2015|  Second Class|   EB-13840|   Ellis Ballard|  Corporate|West Bromwich|             England|United Kingdom|  North|OFF-FA-10002393|Office Supplies|   Fasteners|Accos Push Pins, ...|   43.56|       3|       0|   12.6|\n",
      "|    11|ES-2015-2510515|20/06/2015|20/06/2015|      Same Day|   LH-17155|Logan Haushalter|   Consumer|   Le Bouscat|Aquitaine-Limousi...|        France|Central|OFF-LA-10002805|Office Supplies|      Labels|Hon Color Coded L...|   25.26|       2|       0|   0.48|\n",
      "|    12|ES-2015-2510515|20/06/2015|20/06/2015|      Same Day|   LH-17155|Logan Haushalter|   Consumer|   Le Bouscat|Aquitaine-Limousi...|        France|Central|OFF-AP-10002330|Office Supplies|  Appliances|Hamilton Beach St...|2443.905|       5|     0.1|760.305|\n",
      "|    13|ES-2015-2510515|20/06/2015|20/06/2015|      Same Day|   LH-17155|Logan Haushalter|   Consumer|   Le Bouscat|Aquitaine-Limousi...|        France|Central|OFF-AR-10000505|Office Supplies|         Art|Binney & Smith Pe...|   12.21|       1|       0|      0|\n",
      "|    14|ES-2015-2510515|20/06/2015|20/06/2015|      Same Day|   LH-17155|Logan Haushalter|   Consumer|   Le Bouscat|Aquitaine-Limousi...|        France|Central|TEC-PH-10002898|     Technology|      Phones|Samsung Smart Pho...|2167.296|       4|    0.15|790.416|\n",
      "|    15|ES-2015-2510515|20/06/2015|20/06/2015|      Same Day|   LH-17155|Logan Haushalter|   Consumer|   Le Bouscat|Aquitaine-Limousi...|        France|Central|OFF-ST-10001413|Office Supplies|     Storage|Rogers Folders, Blue| 138.105|       5|     0.1|-12.345|\n",
      "|    16|ES-2016-4380115|16/02/2016|20/02/2016|Standard Class|   KC-16540| Kelly Collister|   Consumer|   Strasbourg|Alsace-Champagne-...|        France|Central|OFF-ST-10003931|Office Supplies|     Storage|Smead Trays, Wire...| 128.385|       3|     0.1|  4.275|\n",
      "|    17|ES-2016-4380115|16/02/2016|20/02/2016|Standard Class|   KC-16540| Kelly Collister|   Consumer|   Strasbourg|Alsace-Champagne-...|        France|Central|TEC-AC-10004269|     Technology| Accessories|Belkin Memory Car...|  690.12|       6|       0|      0|\n",
      "|    18|ES-2016-4380115|16/02/2016|20/02/2016|Standard Class|   KC-16540| Kelly Collister|   Consumer|   Strasbourg|Alsace-Champagne-...|        France|Central|OFF-LA-10001676|Office Supplies|      Labels|Hon Removable Lab...|    8.16|       1|       0|   1.14|\n",
      "|    19|ES-2017-2573330|03/11/2017|08/11/2017|Standard Class|   BF-11170|      Ben Ferrer|Home Office|         Unna|North Rhine-Westp...|       Germany|Central|TEC-MA-10000811|     Technology|    Machines|Okidata Phone, Du...|  347.88|       4|       0|  76.44|\n",
      "|    20|ES-2017-2573330|03/11/2017|08/11/2017|Standard Class|   BF-11170|      Ben Ferrer|Home Office|         Unna|North Rhine-Westp...|       Germany|Central|OFF-ST-10000648|Office Supplies|     Storage|Eldon File Cart, ...| 575.505|       5|     0.1| 12.705|\n",
      "+------+---------------+----------+----------+--------------+-----------+----------------+-----------+-------------+--------------------+--------------+-------+---------------+---------------+------------+--------------------+--------+--------+--------+-------+\n",
      "only showing top 20 rows\n",
      "\n"
     ]
    }
   ],
   "source": [
    "#generic pyspark cleaning operations\n",
    "#we want to drop all rows which have a null value in any of the column \n",
    "df=df.dropna()\n",
    "df.show()"
   ]
  },
  {
   "cell_type": "code",
   "execution_count": 117,
   "id": "306f9552",
   "metadata": {},
   "outputs": [
    {
     "data": {
      "text/plain": [
       "10000"
      ]
     },
     "execution_count": 117,
     "metadata": {},
     "output_type": "execute_result"
    }
   ],
   "source": [
    "df.count()"
   ]
  },
  {
   "cell_type": "code",
   "execution_count": 118,
   "id": "87d4595c",
   "metadata": {},
   "outputs": [
    {
     "name": "stdout",
     "output_type": "stream",
     "text": [
      "+------+---------------+----------+----------+--------------+-----------+----------------+-------------+--------------------+--------------+-------+---------------+---------------+------------+--------------------+--------+--------+--------+-------+\n",
      "|Row ID|       Order ID|Order Date| Ship Date|     Ship Mode|Customer ID|   Customer Name|         City|               State|       Country| Region|     Product ID|       Category|Sub-Category|        Product Name|   Sales|Quantity|Discount| Profit|\n",
      "+------+---------------+----------+----------+--------------+-----------+----------------+-------------+--------------------+--------------+-------+---------------+---------------+------------+--------------------+--------+--------+--------+-------+\n",
      "|     1|ES-2017-1311038|07/02/2017|11/02/2017|Standard Class|   AS-10045|  Aaron Smayling|        Leeds|             England|United Kingdom|  North|OFF-ST-10000988|Office Supplies|     Storage|Fellowes Folders,...|    79.2|       3|       0|   39.6|\n",
      "|     2|ES-2017-1311038|07/02/2017|11/02/2017|Standard Class|   AS-10045|  Aaron Smayling|        Leeds|             England|United Kingdom|  North|TEC-AC-10004144|     Technology| Accessories|SanDisk Numeric K...|  388.92|       7|       0|      0|\n",
      "|     3|ES-2017-1311038|07/02/2017|11/02/2017|Standard Class|   AS-10045|  Aaron Smayling|        Leeds|             England|United Kingdom|  North|OFF-LA-10001915|Office Supplies|      Labels|Avery Legal Exhib...|   35.19|       3|       0|  16.11|\n",
      "|     4|ES-2017-1311038|07/02/2017|11/02/2017|Standard Class|   AS-10045|  Aaron Smayling|        Leeds|             England|United Kingdom|  North|OFF-ST-10004550|Office Supplies|     Storage|Fellowes Folders,...|   50.94|       2|       0|   13.2|\n",
      "|     5|ES-2017-1311038|07/02/2017|11/02/2017|Standard Class|   AS-10045|  Aaron Smayling|        Leeds|             England|United Kingdom|  North|TEC-AC-10004068|     Technology| Accessories|Memorex Memory Ca...|  307.44|       3|       0|  73.71|\n",
      "|     6|ES-2017-1311038|07/02/2017|11/02/2017|Standard Class|   AS-10045|  Aaron Smayling|        Leeds|             England|United Kingdom|  North|OFF-ST-10002271|Office Supplies|     Storage|Rogers Shelving, ...|   122.4|       2|       0|  37.92|\n",
      "|     7|ES-2017-1311038|07/02/2017|11/02/2017|Standard Class|   AS-10045|  Aaron Smayling|        Leeds|             England|United Kingdom|  North|TEC-PH-10003963|     Technology|      Phones|Apple Signal Boos...|  413.82|       3|       0|  20.61|\n",
      "|     8|ES-2015-5113958|02/08/2015|07/08/2015|  Second Class|   EB-13840|   Ellis Ballard|West Bromwich|             England|United Kingdom|  North|TEC-CO-10004325|     Technology|     Copiers|Canon Personal Co...|  428.22|       3|       0| 192.69|\n",
      "|     9|ES-2015-5113958|02/08/2015|07/08/2015|  Second Class|   EB-13840|   Ellis Ballard|West Bromwich|             England|United Kingdom|  North|OFF-AP-10004512|Office Supplies|  Appliances|   Hoover Stove, Red| 3979.29|       7|       0|1989.54|\n",
      "|    10|ES-2015-5113958|02/08/2015|07/08/2015|  Second Class|   EB-13840|   Ellis Ballard|West Bromwich|             England|United Kingdom|  North|OFF-FA-10002393|Office Supplies|   Fasteners|Accos Push Pins, ...|   43.56|       3|       0|   12.6|\n",
      "|    11|ES-2015-2510515|20/06/2015|20/06/2015|      Same Day|   LH-17155|Logan Haushalter|   Le Bouscat|Aquitaine-Limousi...|        France|Central|OFF-LA-10002805|Office Supplies|      Labels|Hon Color Coded L...|   25.26|       2|       0|   0.48|\n",
      "|    12|ES-2015-2510515|20/06/2015|20/06/2015|      Same Day|   LH-17155|Logan Haushalter|   Le Bouscat|Aquitaine-Limousi...|        France|Central|OFF-AP-10002330|Office Supplies|  Appliances|Hamilton Beach St...|2443.905|       5|     0.1|760.305|\n",
      "|    13|ES-2015-2510515|20/06/2015|20/06/2015|      Same Day|   LH-17155|Logan Haushalter|   Le Bouscat|Aquitaine-Limousi...|        France|Central|OFF-AR-10000505|Office Supplies|         Art|Binney & Smith Pe...|   12.21|       1|       0|      0|\n",
      "|    14|ES-2015-2510515|20/06/2015|20/06/2015|      Same Day|   LH-17155|Logan Haushalter|   Le Bouscat|Aquitaine-Limousi...|        France|Central|TEC-PH-10002898|     Technology|      Phones|Samsung Smart Pho...|2167.296|       4|    0.15|790.416|\n",
      "|    15|ES-2015-2510515|20/06/2015|20/06/2015|      Same Day|   LH-17155|Logan Haushalter|   Le Bouscat|Aquitaine-Limousi...|        France|Central|OFF-ST-10001413|Office Supplies|     Storage|Rogers Folders, Blue| 138.105|       5|     0.1|-12.345|\n",
      "|    16|ES-2016-4380115|16/02/2016|20/02/2016|Standard Class|   KC-16540| Kelly Collister|   Strasbourg|Alsace-Champagne-...|        France|Central|OFF-ST-10003931|Office Supplies|     Storage|Smead Trays, Wire...| 128.385|       3|     0.1|  4.275|\n",
      "|    17|ES-2016-4380115|16/02/2016|20/02/2016|Standard Class|   KC-16540| Kelly Collister|   Strasbourg|Alsace-Champagne-...|        France|Central|TEC-AC-10004269|     Technology| Accessories|Belkin Memory Car...|  690.12|       6|       0|      0|\n",
      "|    18|ES-2016-4380115|16/02/2016|20/02/2016|Standard Class|   KC-16540| Kelly Collister|   Strasbourg|Alsace-Champagne-...|        France|Central|OFF-LA-10001676|Office Supplies|      Labels|Hon Removable Lab...|    8.16|       1|       0|   1.14|\n",
      "|    19|ES-2017-2573330|03/11/2017|08/11/2017|Standard Class|   BF-11170|      Ben Ferrer|         Unna|North Rhine-Westp...|       Germany|Central|TEC-MA-10000811|     Technology|    Machines|Okidata Phone, Du...|  347.88|       4|       0|  76.44|\n",
      "|    20|ES-2017-2573330|03/11/2017|08/11/2017|Standard Class|   BF-11170|      Ben Ferrer|         Unna|North Rhine-Westp...|       Germany|Central|OFF-ST-10000648|Office Supplies|     Storage|Eldon File Cart, ...| 575.505|       5|     0.1| 12.705|\n",
      "+------+---------------+----------+----------+--------------+-----------+----------------+-------------+--------------------+--------------+-------+---------------+---------------+------------+--------------------+--------+--------+--------+-------+\n",
      "only showing top 20 rows\n",
      "\n",
      "root\n",
      " |-- Row ID: string (nullable = true)\n",
      " |-- Order ID: string (nullable = true)\n",
      " |-- Order Date: string (nullable = true)\n",
      " |-- Ship Date: string (nullable = true)\n",
      " |-- Ship Mode: string (nullable = true)\n",
      " |-- Customer ID: string (nullable = true)\n",
      " |-- Customer Name: string (nullable = true)\n",
      " |-- City: string (nullable = true)\n",
      " |-- State: string (nullable = true)\n",
      " |-- Country: string (nullable = true)\n",
      " |-- Region: string (nullable = true)\n",
      " |-- Product ID: string (nullable = true)\n",
      " |-- Category: string (nullable = true)\n",
      " |-- Sub-Category: string (nullable = true)\n",
      " |-- Product Name: string (nullable = true)\n",
      " |-- Sales: string (nullable = true)\n",
      " |-- Quantity: string (nullable = true)\n",
      " |-- Discount: string (nullable = true)\n",
      " |-- Profit: string (nullable = true)\n",
      "\n"
     ]
    }
   ],
   "source": [
    "df.drop(\"Segment\").show()\n",
    "df.drop(\"Segment\").printSchema()"
   ]
  },
  {
   "cell_type": "code",
   "execution_count": 119,
   "id": "ef1552d6",
   "metadata": {},
   "outputs": [
    {
     "name": "stdout",
     "output_type": "stream",
     "text": [
      "+------+---------------+----------+----------+--------------+-----------+----------------+-----------+-------------+--------------------+--------------+-------+---------------+---------------+------------+--------------------+--------+--------+--------+-------+\n",
      "|Row ID|       Order ID|Order Date| Ship Date|     Ship Mode|Customer ID|   Customer Name|    Segment|         City|               State|       Country| Region|     Product ID|       Category|Sub-Category|        Product Name|   Sales|Quantity|Discount| Profit|\n",
      "+------+---------------+----------+----------+--------------+-----------+----------------+-----------+-------------+--------------------+--------------+-------+---------------+---------------+------------+--------------------+--------+--------+--------+-------+\n",
      "|     1|ES-2017-1311038|07/02/2017|11/02/2017|Standard Class|   AS-10045|  Aaron Smayling|  Corporate|        Leeds|             England|United Kingdom|  North|OFF-ST-10000988|Office Supplies|     Storage|Fellowes Folders,...|    79.2|       3|       0|   39.6|\n",
      "|     2|ES-2017-1311038|07/02/2017|11/02/2017|Standard Class|   AS-10045|  Aaron Smayling|  Corporate|        Leeds|             England|United Kingdom|  North|TEC-AC-10004144|     Technology| Accessories|SanDisk Numeric K...|  388.92|       7|       0|      0|\n",
      "|     3|ES-2017-1311038|07/02/2017|11/02/2017|Standard Class|   AS-10045|  Aaron Smayling|  Corporate|        Leeds|             England|United Kingdom|  North|OFF-LA-10001915|Office Supplies|      Labels|Avery Legal Exhib...|   35.19|       3|       0|  16.11|\n",
      "|     4|ES-2017-1311038|07/02/2017|11/02/2017|Standard Class|   AS-10045|  Aaron Smayling|  Corporate|        Leeds|             England|United Kingdom|  North|OFF-ST-10004550|Office Supplies|     Storage|Fellowes Folders,...|   50.94|       2|       0|   13.2|\n",
      "|     5|ES-2017-1311038|07/02/2017|11/02/2017|Standard Class|   AS-10045|  Aaron Smayling|  Corporate|        Leeds|             England|United Kingdom|  North|TEC-AC-10004068|     Technology| Accessories|Memorex Memory Ca...|  307.44|       3|       0|  73.71|\n",
      "|     6|ES-2017-1311038|07/02/2017|11/02/2017|Standard Class|   AS-10045|  Aaron Smayling|  Corporate|        Leeds|             England|United Kingdom|  North|OFF-ST-10002271|Office Supplies|     Storage|Rogers Shelving, ...|   122.4|       2|       0|  37.92|\n",
      "|     7|ES-2017-1311038|07/02/2017|11/02/2017|Standard Class|   AS-10045|  Aaron Smayling|  Corporate|        Leeds|             England|United Kingdom|  North|TEC-PH-10003963|     Technology|      Phones|Apple Signal Boos...|  413.82|       3|       0|  20.61|\n",
      "|     8|ES-2015-5113958|02/08/2015|07/08/2015|  Second Class|   EB-13840|   Ellis Ballard|  Corporate|West Bromwich|             England|United Kingdom|  North|TEC-CO-10004325|     Technology|     Copiers|Canon Personal Co...|  428.22|       3|       0| 192.69|\n",
      "|     9|ES-2015-5113958|02/08/2015|07/08/2015|  Second Class|   EB-13840|   Ellis Ballard|  Corporate|West Bromwich|             England|United Kingdom|  North|OFF-AP-10004512|Office Supplies|  Appliances|   Hoover Stove, Red| 3979.29|       7|       0|1989.54|\n",
      "|    10|ES-2015-5113958|02/08/2015|07/08/2015|  Second Class|   EB-13840|   Ellis Ballard|  Corporate|West Bromwich|             England|United Kingdom|  North|OFF-FA-10002393|Office Supplies|   Fasteners|Accos Push Pins, ...|   43.56|       3|       0|   12.6|\n",
      "|    11|ES-2015-2510515|20/06/2015|20/06/2015|      Same Day|   LH-17155|Logan Haushalter|   Consumer|   Le Bouscat|Aquitaine-Limousi...|        France|Central|OFF-LA-10002805|Office Supplies|      Labels|Hon Color Coded L...|   25.26|       2|       0|   0.48|\n",
      "|    12|ES-2015-2510515|20/06/2015|20/06/2015|      Same Day|   LH-17155|Logan Haushalter|   Consumer|   Le Bouscat|Aquitaine-Limousi...|        France|Central|OFF-AP-10002330|Office Supplies|  Appliances|Hamilton Beach St...|2443.905|       5|     0.1|760.305|\n",
      "|    13|ES-2015-2510515|20/06/2015|20/06/2015|      Same Day|   LH-17155|Logan Haushalter|   Consumer|   Le Bouscat|Aquitaine-Limousi...|        France|Central|OFF-AR-10000505|Office Supplies|         Art|Binney & Smith Pe...|   12.21|       1|       0|      0|\n",
      "|    14|ES-2015-2510515|20/06/2015|20/06/2015|      Same Day|   LH-17155|Logan Haushalter|   Consumer|   Le Bouscat|Aquitaine-Limousi...|        France|Central|TEC-PH-10002898|     Technology|      Phones|Samsung Smart Pho...|2167.296|       4|    0.15|790.416|\n",
      "|    15|ES-2015-2510515|20/06/2015|20/06/2015|      Same Day|   LH-17155|Logan Haushalter|   Consumer|   Le Bouscat|Aquitaine-Limousi...|        France|Central|OFF-ST-10001413|Office Supplies|     Storage|Rogers Folders, Blue| 138.105|       5|     0.1|-12.345|\n",
      "|    16|ES-2016-4380115|16/02/2016|20/02/2016|Standard Class|   KC-16540| Kelly Collister|   Consumer|   Strasbourg|Alsace-Champagne-...|        France|Central|OFF-ST-10003931|Office Supplies|     Storage|Smead Trays, Wire...| 128.385|       3|     0.1|  4.275|\n",
      "|    17|ES-2016-4380115|16/02/2016|20/02/2016|Standard Class|   KC-16540| Kelly Collister|   Consumer|   Strasbourg|Alsace-Champagne-...|        France|Central|TEC-AC-10004269|     Technology| Accessories|Belkin Memory Car...|  690.12|       6|       0|      0|\n",
      "|    18|ES-2016-4380115|16/02/2016|20/02/2016|Standard Class|   KC-16540| Kelly Collister|   Consumer|   Strasbourg|Alsace-Champagne-...|        France|Central|OFF-LA-10001676|Office Supplies|      Labels|Hon Removable Lab...|    8.16|       1|       0|   1.14|\n",
      "|    19|ES-2017-2573330|03/11/2017|08/11/2017|Standard Class|   BF-11170|      Ben Ferrer|Home Office|         Unna|North Rhine-Westp...|       Germany|Central|TEC-MA-10000811|     Technology|    Machines|Okidata Phone, Du...|  347.88|       4|       0|  76.44|\n",
      "|    20|ES-2017-2573330|03/11/2017|08/11/2017|Standard Class|   BF-11170|      Ben Ferrer|Home Office|         Unna|North Rhine-Westp...|       Germany|Central|OFF-ST-10000648|Office Supplies|     Storage|Eldon File Cart, ...| 575.505|       5|     0.1| 12.705|\n",
      "+------+---------------+----------+----------+--------------+-----------+----------------+-----------+-------------+--------------------+--------------+-------+---------------+---------------+------------+--------------------+--------+--------+--------+-------+\n",
      "only showing top 20 rows\n",
      "\n"
     ]
    }
   ],
   "source": [
    "df.show()"
   ]
  },
  {
   "cell_type": "code",
   "execution_count": 120,
   "id": "3497d8d0",
   "metadata": {},
   "outputs": [
    {
     "name": "stdout",
     "output_type": "stream",
     "text": [
      "root\n",
      " |-- Row ID: string (nullable = true)\n",
      " |-- Order ID: string (nullable = true)\n",
      " |-- Order Date: string (nullable = true)\n",
      " |-- Ship Date: string (nullable = true)\n",
      " |-- Ship Mode: string (nullable = true)\n",
      " |-- Customer ID: string (nullable = true)\n",
      " |-- Customer Name: string (nullable = true)\n",
      " |-- State: string (nullable = true)\n",
      " |-- Country: string (nullable = true)\n",
      " |-- Region: string (nullable = true)\n",
      " |-- Product ID: string (nullable = true)\n",
      " |-- Category: string (nullable = true)\n",
      " |-- Sub-Category: string (nullable = true)\n",
      " |-- Product Name: string (nullable = true)\n",
      " |-- Sales: string (nullable = true)\n",
      " |-- Quantity: string (nullable = true)\n",
      " |-- Discount: string (nullable = true)\n",
      " |-- Profit: string (nullable = true)\n",
      "\n"
     ]
    }
   ],
   "source": [
    "#drop multiple columns\n",
    "columns_drop = [\"Segment\",\"City\"]\n",
    "df.drop(*columns_drop).printSchema()\n"
   ]
  },
  {
   "cell_type": "code",
   "execution_count": 121,
   "id": "16cda5b5",
   "metadata": {},
   "outputs": [
    {
     "data": {
      "text/plain": [
       "DataFrame[Segment: string]"
      ]
     },
     "execution_count": 121,
     "metadata": {},
     "output_type": "execute_result"
    }
   ],
   "source": [
    "#in order to get only column, we use the select method\n",
    "#that is a lazy operation\n",
    "\n",
    "df.select('Segment')"
   ]
  },
  {
   "cell_type": "code",
   "execution_count": 122,
   "id": "d5403bc6",
   "metadata": {},
   "outputs": [
    {
     "name": "stdout",
     "output_type": "stream",
     "text": [
      "+-----------+-------------+--------------------+\n",
      "|    Segment|         City|               State|\n",
      "+-----------+-------------+--------------------+\n",
      "|  Corporate|        Leeds|             England|\n",
      "|  Corporate|        Leeds|             England|\n",
      "|  Corporate|        Leeds|             England|\n",
      "|  Corporate|        Leeds|             England|\n",
      "|  Corporate|        Leeds|             England|\n",
      "|  Corporate|        Leeds|             England|\n",
      "|  Corporate|        Leeds|             England|\n",
      "|  Corporate|West Bromwich|             England|\n",
      "|  Corporate|West Bromwich|             England|\n",
      "|  Corporate|West Bromwich|             England|\n",
      "|   Consumer|   Le Bouscat|Aquitaine-Limousi...|\n",
      "|   Consumer|   Le Bouscat|Aquitaine-Limousi...|\n",
      "|   Consumer|   Le Bouscat|Aquitaine-Limousi...|\n",
      "|   Consumer|   Le Bouscat|Aquitaine-Limousi...|\n",
      "|   Consumer|   Le Bouscat|Aquitaine-Limousi...|\n",
      "|   Consumer|   Strasbourg|Alsace-Champagne-...|\n",
      "|   Consumer|   Strasbourg|Alsace-Champagne-...|\n",
      "|   Consumer|   Strasbourg|Alsace-Champagne-...|\n",
      "|Home Office|         Unna|North Rhine-Westp...|\n",
      "|Home Office|         Unna|North Rhine-Westp...|\n",
      "+-----------+-------------+--------------------+\n",
      "only showing top 20 rows\n",
      "\n"
     ]
    }
   ],
   "source": [
    "# non-lazy operation\n",
    "df.select('Segment','City','State').show()\n"
   ]
  },
  {
   "cell_type": "code",
   "execution_count": 123,
   "id": "2aec14a4",
   "metadata": {},
   "outputs": [],
   "source": [
    "column=df.columns"
   ]
  },
  {
   "cell_type": "code",
   "execution_count": 124,
   "id": "77dc40c8",
   "metadata": {},
   "outputs": [
    {
     "name": "stdout",
     "output_type": "stream",
     "text": [
      "+------+---------------+----------+----------+--------------+-----------+\n",
      "|Row ID|       Order ID|Order Date| Ship Date|     Ship Mode|Customer ID|\n",
      "+------+---------------+----------+----------+--------------+-----------+\n",
      "|     1|ES-2017-1311038|07/02/2017|11/02/2017|Standard Class|   AS-10045|\n",
      "|     2|ES-2017-1311038|07/02/2017|11/02/2017|Standard Class|   AS-10045|\n",
      "|     3|ES-2017-1311038|07/02/2017|11/02/2017|Standard Class|   AS-10045|\n",
      "|     4|ES-2017-1311038|07/02/2017|11/02/2017|Standard Class|   AS-10045|\n",
      "|     5|ES-2017-1311038|07/02/2017|11/02/2017|Standard Class|   AS-10045|\n",
      "|     6|ES-2017-1311038|07/02/2017|11/02/2017|Standard Class|   AS-10045|\n",
      "|     7|ES-2017-1311038|07/02/2017|11/02/2017|Standard Class|   AS-10045|\n",
      "|     8|ES-2015-5113958|02/08/2015|07/08/2015|  Second Class|   EB-13840|\n",
      "|     9|ES-2015-5113958|02/08/2015|07/08/2015|  Second Class|   EB-13840|\n",
      "|    10|ES-2015-5113958|02/08/2015|07/08/2015|  Second Class|   EB-13840|\n",
      "|    11|ES-2015-2510515|20/06/2015|20/06/2015|      Same Day|   LH-17155|\n",
      "|    12|ES-2015-2510515|20/06/2015|20/06/2015|      Same Day|   LH-17155|\n",
      "|    13|ES-2015-2510515|20/06/2015|20/06/2015|      Same Day|   LH-17155|\n",
      "|    14|ES-2015-2510515|20/06/2015|20/06/2015|      Same Day|   LH-17155|\n",
      "|    15|ES-2015-2510515|20/06/2015|20/06/2015|      Same Day|   LH-17155|\n",
      "|    16|ES-2016-4380115|16/02/2016|20/02/2016|Standard Class|   KC-16540|\n",
      "|    17|ES-2016-4380115|16/02/2016|20/02/2016|Standard Class|   KC-16540|\n",
      "|    18|ES-2016-4380115|16/02/2016|20/02/2016|Standard Class|   KC-16540|\n",
      "|    19|ES-2017-2573330|03/11/2017|08/11/2017|Standard Class|   BF-11170|\n",
      "|    20|ES-2017-2573330|03/11/2017|08/11/2017|Standard Class|   BF-11170|\n",
      "+------+---------------+----------+----------+--------------+-----------+\n",
      "only showing top 20 rows\n",
      "\n"
     ]
    }
   ],
   "source": [
    "#you can combine the dynamic structure of getting the columns of a dataframe with then indexing the list\n",
    "\n",
    "df.select(column[:6]).show()"
   ]
  },
  {
   "cell_type": "code",
   "execution_count": 125,
   "id": "8b5f7d3d",
   "metadata": {},
   "outputs": [
    {
     "data": {
      "text/plain": [
       "['Order Date', 'Ship Date']"
      ]
     },
     "execution_count": 125,
     "metadata": {},
     "output_type": "execute_result"
    }
   ],
   "source": [
    "#list comprehension - generating a list on the fly within a loop\n",
    "[col for col in column if \"Date\" in col]"
   ]
  },
  {
   "cell_type": "code",
   "execution_count": 126,
   "id": "28f087f1",
   "metadata": {},
   "outputs": [
    {
     "name": "stdout",
     "output_type": "stream",
     "text": [
      "+----------+----------+\n",
      "|Order Date| Ship Date|\n",
      "+----------+----------+\n",
      "|07/02/2017|11/02/2017|\n",
      "|07/02/2017|11/02/2017|\n",
      "|07/02/2017|11/02/2017|\n",
      "|07/02/2017|11/02/2017|\n",
      "|07/02/2017|11/02/2017|\n",
      "|07/02/2017|11/02/2017|\n",
      "|07/02/2017|11/02/2017|\n",
      "|02/08/2015|07/08/2015|\n",
      "|02/08/2015|07/08/2015|\n",
      "|02/08/2015|07/08/2015|\n",
      "|20/06/2015|20/06/2015|\n",
      "|20/06/2015|20/06/2015|\n",
      "|20/06/2015|20/06/2015|\n",
      "|20/06/2015|20/06/2015|\n",
      "|20/06/2015|20/06/2015|\n",
      "|16/02/2016|20/02/2016|\n",
      "|16/02/2016|20/02/2016|\n",
      "|16/02/2016|20/02/2016|\n",
      "|03/11/2017|08/11/2017|\n",
      "|03/11/2017|08/11/2017|\n",
      "+----------+----------+\n",
      "only showing top 20 rows\n",
      "\n"
     ]
    }
   ],
   "source": [
    "df.select([col for col in column if \"Date\" in col]).show()"
   ]
  },
  {
   "cell_type": "code",
   "execution_count": 127,
   "id": "0f7555d1",
   "metadata": {},
   "outputs": [
    {
     "name": "stdout",
     "output_type": "stream",
     "text": [
      "+------+---------------+----------+----------+--------------+-----------+----------------+-----------+-------------+--------------------+--------------+-------+---------------+---------------+------------+--------------------+--------+--------+--------+-------+\n",
      "|Row ID|       Order ID|Order Date| Ship Date|     Ship Mode|Customer ID|   Customer Name|    Segment|         City|               State|       Country| Region|     Product ID|       Category|Sub-Category|        Product Name|   Sales|Quantity|Discount| Profit|\n",
      "+------+---------------+----------+----------+--------------+-----------+----------------+-----------+-------------+--------------------+--------------+-------+---------------+---------------+------------+--------------------+--------+--------+--------+-------+\n",
      "|     1|ES-2017-1311038|07/02/2017|11/02/2017|Standard Class|   AS-10045|  Aaron Smayling|  Corporate|        Leeds|             England|United Kingdom|  North|OFF-ST-10000988|Office Supplies|     Storage|Fellowes Folders,...|    79.2|       3|       0|   39.6|\n",
      "|     2|ES-2017-1311038|07/02/2017|11/02/2017|Standard Class|   AS-10045|  Aaron Smayling|  Corporate|        Leeds|             England|United Kingdom|  North|TEC-AC-10004144|     Technology| Accessories|SanDisk Numeric K...|  388.92|       7|       0|      0|\n",
      "|     3|ES-2017-1311038|07/02/2017|11/02/2017|Standard Class|   AS-10045|  Aaron Smayling|  Corporate|        Leeds|             England|United Kingdom|  North|OFF-LA-10001915|Office Supplies|      Labels|Avery Legal Exhib...|   35.19|       3|       0|  16.11|\n",
      "|     4|ES-2017-1311038|07/02/2017|11/02/2017|Standard Class|   AS-10045|  Aaron Smayling|  Corporate|        Leeds|             England|United Kingdom|  North|OFF-ST-10004550|Office Supplies|     Storage|Fellowes Folders,...|   50.94|       2|       0|   13.2|\n",
      "|     5|ES-2017-1311038|07/02/2017|11/02/2017|Standard Class|   AS-10045|  Aaron Smayling|  Corporate|        Leeds|             England|United Kingdom|  North|TEC-AC-10004068|     Technology| Accessories|Memorex Memory Ca...|  307.44|       3|       0|  73.71|\n",
      "|     6|ES-2017-1311038|07/02/2017|11/02/2017|Standard Class|   AS-10045|  Aaron Smayling|  Corporate|        Leeds|             England|United Kingdom|  North|OFF-ST-10002271|Office Supplies|     Storage|Rogers Shelving, ...|   122.4|       2|       0|  37.92|\n",
      "|     7|ES-2017-1311038|07/02/2017|11/02/2017|Standard Class|   AS-10045|  Aaron Smayling|  Corporate|        Leeds|             England|United Kingdom|  North|TEC-PH-10003963|     Technology|      Phones|Apple Signal Boos...|  413.82|       3|       0|  20.61|\n",
      "|     8|ES-2015-5113958|02/08/2015|07/08/2015|  Second Class|   EB-13840|   Ellis Ballard|  Corporate|West Bromwich|             England|United Kingdom|  North|TEC-CO-10004325|     Technology|     Copiers|Canon Personal Co...|  428.22|       3|       0| 192.69|\n",
      "|     9|ES-2015-5113958|02/08/2015|07/08/2015|  Second Class|   EB-13840|   Ellis Ballard|  Corporate|West Bromwich|             England|United Kingdom|  North|OFF-AP-10004512|Office Supplies|  Appliances|   Hoover Stove, Red| 3979.29|       7|       0|1989.54|\n",
      "|    10|ES-2015-5113958|02/08/2015|07/08/2015|  Second Class|   EB-13840|   Ellis Ballard|  Corporate|West Bromwich|             England|United Kingdom|  North|OFF-FA-10002393|Office Supplies|   Fasteners|Accos Push Pins, ...|   43.56|       3|       0|   12.6|\n",
      "|    11|ES-2015-2510515|20/06/2015|20/06/2015|      Same Day|   LH-17155|Logan Haushalter|   Consumer|   Le Bouscat|Aquitaine-Limousi...|        France|Central|OFF-LA-10002805|Office Supplies|      Labels|Hon Color Coded L...|   25.26|       2|       0|   0.48|\n",
      "|    12|ES-2015-2510515|20/06/2015|20/06/2015|      Same Day|   LH-17155|Logan Haushalter|   Consumer|   Le Bouscat|Aquitaine-Limousi...|        France|Central|OFF-AP-10002330|Office Supplies|  Appliances|Hamilton Beach St...|2443.905|       5|     0.1|760.305|\n",
      "|    13|ES-2015-2510515|20/06/2015|20/06/2015|      Same Day|   LH-17155|Logan Haushalter|   Consumer|   Le Bouscat|Aquitaine-Limousi...|        France|Central|OFF-AR-10000505|Office Supplies|         Art|Binney & Smith Pe...|   12.21|       1|       0|      0|\n",
      "|    14|ES-2015-2510515|20/06/2015|20/06/2015|      Same Day|   LH-17155|Logan Haushalter|   Consumer|   Le Bouscat|Aquitaine-Limousi...|        France|Central|TEC-PH-10002898|     Technology|      Phones|Samsung Smart Pho...|2167.296|       4|    0.15|790.416|\n",
      "|    15|ES-2015-2510515|20/06/2015|20/06/2015|      Same Day|   LH-17155|Logan Haushalter|   Consumer|   Le Bouscat|Aquitaine-Limousi...|        France|Central|OFF-ST-10001413|Office Supplies|     Storage|Rogers Folders, Blue| 138.105|       5|     0.1|-12.345|\n",
      "|    16|ES-2016-4380115|16/02/2016|20/02/2016|Standard Class|   KC-16540| Kelly Collister|   Consumer|   Strasbourg|Alsace-Champagne-...|        France|Central|OFF-ST-10003931|Office Supplies|     Storage|Smead Trays, Wire...| 128.385|       3|     0.1|  4.275|\n",
      "|    17|ES-2016-4380115|16/02/2016|20/02/2016|Standard Class|   KC-16540| Kelly Collister|   Consumer|   Strasbourg|Alsace-Champagne-...|        France|Central|TEC-AC-10004269|     Technology| Accessories|Belkin Memory Car...|  690.12|       6|       0|      0|\n",
      "|    18|ES-2016-4380115|16/02/2016|20/02/2016|Standard Class|   KC-16540| Kelly Collister|   Consumer|   Strasbourg|Alsace-Champagne-...|        France|Central|OFF-LA-10001676|Office Supplies|      Labels|Hon Removable Lab...|    8.16|       1|       0|   1.14|\n",
      "|    19|ES-2017-2573330|03/11/2017|08/11/2017|Standard Class|   BF-11170|      Ben Ferrer|Home Office|         Unna|North Rhine-Westp...|       Germany|Central|TEC-MA-10000811|     Technology|    Machines|Okidata Phone, Du...|  347.88|       4|       0|  76.44|\n",
      "|    20|ES-2017-2573330|03/11/2017|08/11/2017|Standard Class|   BF-11170|      Ben Ferrer|Home Office|         Unna|North Rhine-Westp...|       Germany|Central|OFF-ST-10000648|Office Supplies|     Storage|Eldon File Cart, ...| 575.505|       5|     0.1| 12.705|\n",
      "+------+---------------+----------+----------+--------------+-----------+----------------+-----------+-------------+--------------------+--------------+-------+---------------+---------------+------------+--------------------+--------+--------+--------+-------+\n",
      "only showing top 20 rows\n",
      "\n"
     ]
    }
   ],
   "source": [
    "#we can also use REGEX\n",
    "df.select('*').show()"
   ]
  },
  {
   "cell_type": "code",
   "execution_count": 128,
   "id": "dab9c9d4",
   "metadata": {},
   "outputs": [
    {
     "name": "stdout",
     "output_type": "stream",
     "text": [
      "+--------------+\n",
      "|       Country|\n",
      "+--------------+\n",
      "|        Sweden|\n",
      "|       Germany|\n",
      "|        France|\n",
      "|       Belgium|\n",
      "|       Finland|\n",
      "|         Italy|\n",
      "|        Norway|\n",
      "|         Spain|\n",
      "|       Denmark|\n",
      "|       Ireland|\n",
      "|   Switzerland|\n",
      "|      Portugal|\n",
      "|       Austria|\n",
      "|United Kingdom|\n",
      "|   Netherlands|\n",
      "+--------------+\n",
      "\n"
     ]
    }
   ],
   "source": [
    "# get unique data from column\n",
    "df.select(\"Country\").distinct().show()"
   ]
  },
  {
   "cell_type": "code",
   "execution_count": 129,
   "id": "65b7e07d",
   "metadata": {},
   "outputs": [
    {
     "data": {
      "text/plain": [
       "Column<'(Country = France)'>"
      ]
     },
     "execution_count": 129,
     "metadata": {},
     "output_type": "execute_result"
    }
   ],
   "source": [
    "# how can we apply a filter with a condition in PySpark\n",
    "df['Country'] == 'France'"
   ]
  },
  {
   "cell_type": "code",
   "execution_count": 130,
   "id": "1d24da96",
   "metadata": {},
   "outputs": [
    {
     "name": "stdout",
     "output_type": "stream",
     "text": [
      "+------+---------------+----------+----------+--------------+-----------+----------------+-----------+----------+--------------------+-------+-------+---------------+---------------+------------+--------------------+--------+--------+--------+-------+\n",
      "|Row ID|       Order ID|Order Date| Ship Date|     Ship Mode|Customer ID|   Customer Name|    Segment|      City|               State|Country| Region|     Product ID|       Category|Sub-Category|        Product Name|   Sales|Quantity|Discount| Profit|\n",
      "+------+---------------+----------+----------+--------------+-----------+----------------+-----------+----------+--------------------+-------+-------+---------------+---------------+------------+--------------------+--------+--------+--------+-------+\n",
      "|    11|ES-2015-2510515|20/06/2015|20/06/2015|      Same Day|   LH-17155|Logan Haushalter|   Consumer|Le Bouscat|Aquitaine-Limousi...| France|Central|OFF-LA-10002805|Office Supplies|      Labels|Hon Color Coded L...|   25.26|       2|       0|   0.48|\n",
      "|    12|ES-2015-2510515|20/06/2015|20/06/2015|      Same Day|   LH-17155|Logan Haushalter|   Consumer|Le Bouscat|Aquitaine-Limousi...| France|Central|OFF-AP-10002330|Office Supplies|  Appliances|Hamilton Beach St...|2443.905|       5|     0.1|760.305|\n",
      "|    13|ES-2015-2510515|20/06/2015|20/06/2015|      Same Day|   LH-17155|Logan Haushalter|   Consumer|Le Bouscat|Aquitaine-Limousi...| France|Central|OFF-AR-10000505|Office Supplies|         Art|Binney & Smith Pe...|   12.21|       1|       0|      0|\n",
      "|    14|ES-2015-2510515|20/06/2015|20/06/2015|      Same Day|   LH-17155|Logan Haushalter|   Consumer|Le Bouscat|Aquitaine-Limousi...| France|Central|TEC-PH-10002898|     Technology|      Phones|Samsung Smart Pho...|2167.296|       4|    0.15|790.416|\n",
      "|    15|ES-2015-2510515|20/06/2015|20/06/2015|      Same Day|   LH-17155|Logan Haushalter|   Consumer|Le Bouscat|Aquitaine-Limousi...| France|Central|OFF-ST-10001413|Office Supplies|     Storage|Rogers Folders, Blue| 138.105|       5|     0.1|-12.345|\n",
      "|    16|ES-2016-4380115|16/02/2016|20/02/2016|Standard Class|   KC-16540| Kelly Collister|   Consumer|Strasbourg|Alsace-Champagne-...| France|Central|OFF-ST-10003931|Office Supplies|     Storage|Smead Trays, Wire...| 128.385|       3|     0.1|  4.275|\n",
      "|    17|ES-2016-4380115|16/02/2016|20/02/2016|Standard Class|   KC-16540| Kelly Collister|   Consumer|Strasbourg|Alsace-Champagne-...| France|Central|TEC-AC-10004269|     Technology| Accessories|Belkin Memory Car...|  690.12|       6|       0|      0|\n",
      "|    18|ES-2016-4380115|16/02/2016|20/02/2016|Standard Class|   KC-16540| Kelly Collister|   Consumer|Strasbourg|Alsace-Champagne-...| France|Central|OFF-LA-10001676|Office Supplies|      Labels|Hon Removable Lab...|    8.16|       1|       0|   1.14|\n",
      "|    21|ES-2017-1872792|14/08/2017|16/08/2017|   First Class|   BF-11275|   Beth Fritzler|  Corporate|    Thiais|       Ile-de-France| France|Central|OFF-BI-10001249|Office Supplies|     Binders|Acco Hole Reinfor...|   14.04|       2|       0|   7.02|\n",
      "|    36|ES-2016-3284813|31/05/2016|05/06/2016|Standard Class|   SC-20020|      Sam Craven|   Consumer|  Chaville|       Ile-de-France| France|Central|OFF-AR-10000785|Office Supplies|         Art|BIC Sketch Pad, W...|  155.52|       3|       0|  23.31|\n",
      "|    37|ES-2016-3284813|31/05/2016|05/06/2016|Standard Class|   SC-20020|      Sam Craven|   Consumer|  Chaville|       Ile-de-France| France|Central|OFF-ST-10002151|Office Supplies|     Storage|     Eldon Box, Blue|   46.17|       5|     0.1|   8.07|\n",
      "|    38|ES-2016-3284813|31/05/2016|05/06/2016|Standard Class|   SC-20020|      Sam Craven|   Consumer|  Chaville|       Ile-de-France| France|Central|OFF-LA-10004929|Office Supplies|      Labels|Novimex Color Cod...|   37.26|       3|       0|   8.91|\n",
      "|    47|ES-2014-5235241|27/08/2014|28/08/2014|      Same Day|   TB-21175|   Thomas Boland|  Corporate|   Taverny|       Ile-de-France| France|Central|OFF-SU-10004818|Office Supplies|    Supplies|Stiletto Trimmer,...|    84.3|       2|       0|  28.62|\n",
      "|    48|ES-2014-5235241|27/08/2014|28/08/2014|      Same Day|   TB-21175|   Thomas Boland|  Corporate|   Taverny|       Ile-de-France| France|Central|TEC-CO-10004034|     Technology|     Copiers|Canon Fax Machine...| 538.203|       2|    0.15|-19.017|\n",
      "|    49|ES-2014-5235241|27/08/2014|28/08/2014|      Same Day|   TB-21175|   Thomas Boland|  Corporate|   Taverny|       Ile-de-France| France|Central|OFF-AR-10000319|Office Supplies|         Art|Binney & Smith Ca...|  157.86|       3|       0|  29.97|\n",
      "|    53|ES-2017-3937023|07/11/2017|11/11/2017|Standard Class|   JE-15715|      Joe Elijah|   Consumer|  Viroflay|       Ile-de-France| France|Central|OFF-AR-10003829|Office Supplies|         Art|Stanley Markers, ...|   46.92|       2|       0|   15.9|\n",
      "|    54|ES-2017-3937023|07/11/2017|11/11/2017|Standard Class|   JE-15715|      Joe Elijah|   Consumer|  Viroflay|       Ile-de-France| France|Central|OFF-AR-10003217|Office Supplies|         Art|Sanford Highlight...|   34.02|       2|       0|  14.28|\n",
      "|    73|ES-2017-4856325|25/04/2017|26/04/2017|   First Class|   GH-14410|     Gary Hansen|Home Office|     Paris|       Ile-de-France| France|Central|TEC-AC-10000140|     Technology| Accessories|Enermax Numeric K...|  402.78|       7|       0|  92.61|\n",
      "|    74|ES-2017-1193193|21/05/2017|23/05/2017|   First Class|   EN-13780|   Edward Nazzal|   Consumer|     Dijon|Bourgogne-Franche...| France|Central|FUR-CH-10001153|      Furniture|      Chairs|Harbour Creations...| 173.097|       3|     0.1| 69.237|\n",
      "|    80|ES-2017-1016124|08/02/2017|13/02/2017|Standard Class|   MC-18100|   Mick Crebagga|   Consumer|     Rouen|            Normandy| France|Central|OFF-BI-10004628|Office Supplies|     Binders|Cardinal Binder, ...|   30.66|       2|       0|    1.5|\n",
      "+------+---------------+----------+----------+--------------+-----------+----------------+-----------+----------+--------------------+-------+-------+---------------+---------------+------------+--------------------+--------+--------+--------+-------+\n",
      "only showing top 20 rows\n",
      "\n"
     ]
    }
   ],
   "source": [
    "df.filter(df['Country'] == 'France').show()"
   ]
  },
  {
   "cell_type": "code",
   "execution_count": 131,
   "id": "37d82aa5",
   "metadata": {},
   "outputs": [
    {
     "data": {
      "text/plain": [
       "Column<'(Country IN (France))'>"
      ]
     },
     "execution_count": 131,
     "metadata": {},
     "output_type": "execute_result"
    }
   ],
   "source": [
    "# simple filtering in Pyspark\n",
    "df['Country'].isin('France')"
   ]
  },
  {
   "cell_type": "code",
   "execution_count": 132,
   "id": "127ce061",
   "metadata": {},
   "outputs": [
    {
     "name": "stdout",
     "output_type": "stream",
     "text": [
      "+------+---------------+----------+----------+--------------+-----------+----------------+-----------+----------+--------------------+-------+-------+---------------+---------------+------------+--------------------+--------+--------+--------+-------+\n",
      "|Row ID|       Order ID|Order Date| Ship Date|     Ship Mode|Customer ID|   Customer Name|    Segment|      City|               State|Country| Region|     Product ID|       Category|Sub-Category|        Product Name|   Sales|Quantity|Discount| Profit|\n",
      "+------+---------------+----------+----------+--------------+-----------+----------------+-----------+----------+--------------------+-------+-------+---------------+---------------+------------+--------------------+--------+--------+--------+-------+\n",
      "|    11|ES-2015-2510515|20/06/2015|20/06/2015|      Same Day|   LH-17155|Logan Haushalter|   Consumer|Le Bouscat|Aquitaine-Limousi...| France|Central|OFF-LA-10002805|Office Supplies|      Labels|Hon Color Coded L...|   25.26|       2|       0|   0.48|\n",
      "|    12|ES-2015-2510515|20/06/2015|20/06/2015|      Same Day|   LH-17155|Logan Haushalter|   Consumer|Le Bouscat|Aquitaine-Limousi...| France|Central|OFF-AP-10002330|Office Supplies|  Appliances|Hamilton Beach St...|2443.905|       5|     0.1|760.305|\n",
      "|    13|ES-2015-2510515|20/06/2015|20/06/2015|      Same Day|   LH-17155|Logan Haushalter|   Consumer|Le Bouscat|Aquitaine-Limousi...| France|Central|OFF-AR-10000505|Office Supplies|         Art|Binney & Smith Pe...|   12.21|       1|       0|      0|\n",
      "|    14|ES-2015-2510515|20/06/2015|20/06/2015|      Same Day|   LH-17155|Logan Haushalter|   Consumer|Le Bouscat|Aquitaine-Limousi...| France|Central|TEC-PH-10002898|     Technology|      Phones|Samsung Smart Pho...|2167.296|       4|    0.15|790.416|\n",
      "|    15|ES-2015-2510515|20/06/2015|20/06/2015|      Same Day|   LH-17155|Logan Haushalter|   Consumer|Le Bouscat|Aquitaine-Limousi...| France|Central|OFF-ST-10001413|Office Supplies|     Storage|Rogers Folders, Blue| 138.105|       5|     0.1|-12.345|\n",
      "|    16|ES-2016-4380115|16/02/2016|20/02/2016|Standard Class|   KC-16540| Kelly Collister|   Consumer|Strasbourg|Alsace-Champagne-...| France|Central|OFF-ST-10003931|Office Supplies|     Storage|Smead Trays, Wire...| 128.385|       3|     0.1|  4.275|\n",
      "|    17|ES-2016-4380115|16/02/2016|20/02/2016|Standard Class|   KC-16540| Kelly Collister|   Consumer|Strasbourg|Alsace-Champagne-...| France|Central|TEC-AC-10004269|     Technology| Accessories|Belkin Memory Car...|  690.12|       6|       0|      0|\n",
      "|    18|ES-2016-4380115|16/02/2016|20/02/2016|Standard Class|   KC-16540| Kelly Collister|   Consumer|Strasbourg|Alsace-Champagne-...| France|Central|OFF-LA-10001676|Office Supplies|      Labels|Hon Removable Lab...|    8.16|       1|       0|   1.14|\n",
      "|    21|ES-2017-1872792|14/08/2017|16/08/2017|   First Class|   BF-11275|   Beth Fritzler|  Corporate|    Thiais|       Ile-de-France| France|Central|OFF-BI-10001249|Office Supplies|     Binders|Acco Hole Reinfor...|   14.04|       2|       0|   7.02|\n",
      "|    23|IT-2017-3245851|02/05/2017|05/05/2017|  Second Class|   LB-16795|  Laurel Beltran|Home Office|     Milan|            Lombardy|  Italy|  South|OFF-ST-10002271|Office Supplies|     Storage|Rogers Shelving, ...|   36.72|       1|     0.4|  -5.52|\n",
      "|    24|IT-2017-3245851|02/05/2017|05/05/2017|  Second Class|   LB-16795|  Laurel Beltran|Home Office|     Milan|            Lombardy|  Italy|  South|TEC-AC-10002901|     Technology| Accessories|Memorex Mouse, Bl...|   28.17|       1|       0|   1.11|\n",
      "|    36|ES-2016-3284813|31/05/2016|05/06/2016|Standard Class|   SC-20020|      Sam Craven|   Consumer|  Chaville|       Ile-de-France| France|Central|OFF-AR-10000785|Office Supplies|         Art|BIC Sketch Pad, W...|  155.52|       3|       0|  23.31|\n",
      "|    37|ES-2016-3284813|31/05/2016|05/06/2016|Standard Class|   SC-20020|      Sam Craven|   Consumer|  Chaville|       Ile-de-France| France|Central|OFF-ST-10002151|Office Supplies|     Storage|     Eldon Box, Blue|   46.17|       5|     0.1|   8.07|\n",
      "|    38|ES-2016-3284813|31/05/2016|05/06/2016|Standard Class|   SC-20020|      Sam Craven|   Consumer|  Chaville|       Ile-de-France| France|Central|OFF-LA-10004929|Office Supplies|      Labels|Novimex Color Cod...|   37.26|       3|       0|   8.91|\n",
      "|    47|ES-2014-5235241|27/08/2014|28/08/2014|      Same Day|   TB-21175|   Thomas Boland|  Corporate|   Taverny|       Ile-de-France| France|Central|OFF-SU-10004818|Office Supplies|    Supplies|Stiletto Trimmer,...|    84.3|       2|       0|  28.62|\n",
      "|    48|ES-2014-5235241|27/08/2014|28/08/2014|      Same Day|   TB-21175|   Thomas Boland|  Corporate|   Taverny|       Ile-de-France| France|Central|TEC-CO-10004034|     Technology|     Copiers|Canon Fax Machine...| 538.203|       2|    0.15|-19.017|\n",
      "|    49|ES-2014-5235241|27/08/2014|28/08/2014|      Same Day|   TB-21175|   Thomas Boland|  Corporate|   Taverny|       Ile-de-France| France|Central|OFF-AR-10000319|Office Supplies|         Art|Binney & Smith Ca...|  157.86|       3|       0|  29.97|\n",
      "|    53|ES-2017-3937023|07/11/2017|11/11/2017|Standard Class|   JE-15715|      Joe Elijah|   Consumer|  Viroflay|       Ile-de-France| France|Central|OFF-AR-10003829|Office Supplies|         Art|Stanley Markers, ...|   46.92|       2|       0|   15.9|\n",
      "|    54|ES-2017-3937023|07/11/2017|11/11/2017|Standard Class|   JE-15715|      Joe Elijah|   Consumer|  Viroflay|       Ile-de-France| France|Central|OFF-AR-10003217|Office Supplies|         Art|Sanford Highlight...|   34.02|       2|       0|  14.28|\n",
      "|    60|ES-2016-4569090|29/08/2016|03/09/2016|Standard Class|   GA-14725|   Guy Armstrong|   Consumer|      Rome|               Lazio|  Italy|  South|OFF-AR-10000316|Office Supplies|         Art|  Stanley Pens, Blue|   30.15|       3|       0|  14.76|\n",
      "+------+---------------+----------+----------+--------------+-----------+----------------+-----------+----------+--------------------+-------+-------+---------------+---------------+------------+--------------------+--------+--------+--------+-------+\n",
      "only showing top 20 rows\n",
      "\n"
     ]
    }
   ],
   "source": [
    "df.filter(df['Country'].isin(['France','Italy'])).show()"
   ]
  },
  {
   "cell_type": "code",
   "execution_count": 133,
   "id": "b95f5623",
   "metadata": {},
   "outputs": [
    {
     "data": {
      "text/plain": [
       "Column<'((Country = France) AND (Country = France))'>"
      ]
     },
     "execution_count": 133,
     "metadata": {},
     "output_type": "execute_result"
    }
   ],
   "source": [
    "# and condition --> &, or condition --> |\n",
    "(df['Country'] == 'France') & (df['Country'] == 'France')"
   ]
  },
  {
   "cell_type": "code",
   "execution_count": 134,
   "id": "c6827c71",
   "metadata": {},
   "outputs": [],
   "source": [
    "filtered_data= df.filter((df['Country'] == 'France') & (df['Country'] == 'France'))"
   ]
  },
  {
   "cell_type": "code",
   "execution_count": 135,
   "id": "93ef6c1f",
   "metadata": {},
   "outputs": [
    {
     "data": {
      "text/plain": [
       "2827"
      ]
     },
     "execution_count": 135,
     "metadata": {},
     "output_type": "execute_result"
    }
   ],
   "source": [
    "filtered_data.count()"
   ]
  },
  {
   "cell_type": "code",
   "execution_count": 136,
   "id": "01bbeb12",
   "metadata": {},
   "outputs": [
    {
     "name": "stdout",
     "output_type": "stream",
     "text": [
      "root\n",
      " |-- Row ID: string (nullable = true)\n",
      " |-- Order ID: string (nullable = true)\n",
      " |-- Order Date: string (nullable = true)\n",
      " |-- Ship Date: string (nullable = true)\n",
      " |-- Ship Mode: string (nullable = true)\n",
      " |-- Customer ID: string (nullable = true)\n",
      " |-- Customer Name: string (nullable = true)\n",
      " |-- Segment: string (nullable = true)\n",
      " |-- City: string (nullable = true)\n",
      " |-- State: string (nullable = true)\n",
      " |-- Country: string (nullable = true)\n",
      " |-- Region: string (nullable = true)\n",
      " |-- Product ID: string (nullable = true)\n",
      " |-- Category: string (nullable = true)\n",
      " |-- Sub-Category: string (nullable = true)\n",
      " |-- Product Name: string (nullable = true)\n",
      " |-- Sales: string (nullable = true)\n",
      " |-- Quantity: string (nullable = true)\n",
      " |-- Discount: string (nullable = true)\n",
      " |-- Profit: string (nullable = true)\n",
      " |-- Test_Column: double (nullable = true)\n",
      "\n"
     ]
    }
   ],
   "source": [
    "# create a new column in PySpark\n",
    "# withColumn method declare a new column in PySpark\n",
    "df = df.withColumn('Test_Column', df['Sales']-df['Profit'])\n",
    "df.printSchema()"
   ]
  },
  {
   "cell_type": "code",
   "execution_count": 137,
   "id": "958170e1",
   "metadata": {},
   "outputs": [
    {
     "name": "stdout",
     "output_type": "stream",
     "text": [
      "+------------------+-------+--------+\n",
      "|       Test_column| Profit|   Sales|\n",
      "+------------------+-------+--------+\n",
      "|              39.6|   39.6|    79.2|\n",
      "|            388.92|      0|  388.92|\n",
      "|             19.08|  16.11|   35.19|\n",
      "|37.739999999999995|   13.2|   50.94|\n",
      "|233.73000000000002|  73.71|  307.44|\n",
      "|             84.48|  37.92|   122.4|\n",
      "|            393.21|  20.61|  413.82|\n",
      "|235.53000000000003| 192.69|  428.22|\n",
      "|           1989.75|1989.54| 3979.29|\n",
      "|             30.96|   12.6|   43.56|\n",
      "|             24.78|   0.48|   25.26|\n",
      "|1683.6000000000004|760.305|2443.905|\n",
      "|             12.21|      0|   12.21|\n",
      "|1376.8799999999997|790.416|2167.296|\n",
      "|            150.45|-12.345| 138.105|\n",
      "|124.10999999999999|  4.275| 128.385|\n",
      "|            690.12|      0|  690.12|\n",
      "|7.0200000000000005|   1.14|    8.16|\n",
      "|            271.44|  76.44|  347.88|\n",
      "|             562.8| 12.705| 575.505|\n",
      "+------------------+-------+--------+\n",
      "only showing top 20 rows\n",
      "\n"
     ]
    }
   ],
   "source": [
    "df.select('Test_column','Profit','Sales').show()"
   ]
  },
  {
   "cell_type": "code",
   "execution_count": 138,
   "id": "aa81bea1",
   "metadata": {},
   "outputs": [],
   "source": [
    "# bring everything together --> create a new column with conditional statements\n",
    "from pyspark.sql.functions import when "
   ]
  },
  {
   "cell_type": "code",
   "execution_count": 139,
   "id": "86665704",
   "metadata": {},
   "outputs": [],
   "source": [
    "df = df.withColumn('when_column',when(df.Profit > 0,'Profitable').when(df.Profit < 0, 'Not profitable ').otherwise('ERROR'))"
   ]
  },
  {
   "cell_type": "code",
   "execution_count": 140,
   "id": "f50c305d",
   "metadata": {},
   "outputs": [
    {
     "name": "stdout",
     "output_type": "stream",
     "text": [
      "+------+---------------+----------+----------+--------------+-----------+----------------+-----------+-------------+--------------------+--------------+-------+---------------+---------------+------------+--------------------+--------+--------+--------+-------+------------------+---------------+\n",
      "|Row ID|       Order ID|Order Date| Ship Date|     Ship Mode|Customer ID|   Customer Name|    Segment|         City|               State|       Country| Region|     Product ID|       Category|Sub-Category|        Product Name|   Sales|Quantity|Discount| Profit|       Test_Column|    when_column|\n",
      "+------+---------------+----------+----------+--------------+-----------+----------------+-----------+-------------+--------------------+--------------+-------+---------------+---------------+------------+--------------------+--------+--------+--------+-------+------------------+---------------+\n",
      "|     1|ES-2017-1311038|07/02/2017|11/02/2017|Standard Class|   AS-10045|  Aaron Smayling|  Corporate|        Leeds|             England|United Kingdom|  North|OFF-ST-10000988|Office Supplies|     Storage|Fellowes Folders,...|    79.2|       3|       0|   39.6|              39.6|     Profitable|\n",
      "|     2|ES-2017-1311038|07/02/2017|11/02/2017|Standard Class|   AS-10045|  Aaron Smayling|  Corporate|        Leeds|             England|United Kingdom|  North|TEC-AC-10004144|     Technology| Accessories|SanDisk Numeric K...|  388.92|       7|       0|      0|            388.92|          ERROR|\n",
      "|     3|ES-2017-1311038|07/02/2017|11/02/2017|Standard Class|   AS-10045|  Aaron Smayling|  Corporate|        Leeds|             England|United Kingdom|  North|OFF-LA-10001915|Office Supplies|      Labels|Avery Legal Exhib...|   35.19|       3|       0|  16.11|             19.08|     Profitable|\n",
      "|     4|ES-2017-1311038|07/02/2017|11/02/2017|Standard Class|   AS-10045|  Aaron Smayling|  Corporate|        Leeds|             England|United Kingdom|  North|OFF-ST-10004550|Office Supplies|     Storage|Fellowes Folders,...|   50.94|       2|       0|   13.2|37.739999999999995|     Profitable|\n",
      "|     5|ES-2017-1311038|07/02/2017|11/02/2017|Standard Class|   AS-10045|  Aaron Smayling|  Corporate|        Leeds|             England|United Kingdom|  North|TEC-AC-10004068|     Technology| Accessories|Memorex Memory Ca...|  307.44|       3|       0|  73.71|233.73000000000002|     Profitable|\n",
      "|     6|ES-2017-1311038|07/02/2017|11/02/2017|Standard Class|   AS-10045|  Aaron Smayling|  Corporate|        Leeds|             England|United Kingdom|  North|OFF-ST-10002271|Office Supplies|     Storage|Rogers Shelving, ...|   122.4|       2|       0|  37.92|             84.48|     Profitable|\n",
      "|     7|ES-2017-1311038|07/02/2017|11/02/2017|Standard Class|   AS-10045|  Aaron Smayling|  Corporate|        Leeds|             England|United Kingdom|  North|TEC-PH-10003963|     Technology|      Phones|Apple Signal Boos...|  413.82|       3|       0|  20.61|            393.21|     Profitable|\n",
      "|     8|ES-2015-5113958|02/08/2015|07/08/2015|  Second Class|   EB-13840|   Ellis Ballard|  Corporate|West Bromwich|             England|United Kingdom|  North|TEC-CO-10004325|     Technology|     Copiers|Canon Personal Co...|  428.22|       3|       0| 192.69|235.53000000000003|     Profitable|\n",
      "|     9|ES-2015-5113958|02/08/2015|07/08/2015|  Second Class|   EB-13840|   Ellis Ballard|  Corporate|West Bromwich|             England|United Kingdom|  North|OFF-AP-10004512|Office Supplies|  Appliances|   Hoover Stove, Red| 3979.29|       7|       0|1989.54|           1989.75|     Profitable|\n",
      "|    10|ES-2015-5113958|02/08/2015|07/08/2015|  Second Class|   EB-13840|   Ellis Ballard|  Corporate|West Bromwich|             England|United Kingdom|  North|OFF-FA-10002393|Office Supplies|   Fasteners|Accos Push Pins, ...|   43.56|       3|       0|   12.6|             30.96|     Profitable|\n",
      "|    11|ES-2015-2510515|20/06/2015|20/06/2015|      Same Day|   LH-17155|Logan Haushalter|   Consumer|   Le Bouscat|Aquitaine-Limousi...|        France|Central|OFF-LA-10002805|Office Supplies|      Labels|Hon Color Coded L...|   25.26|       2|       0|   0.48|             24.78|          ERROR|\n",
      "|    12|ES-2015-2510515|20/06/2015|20/06/2015|      Same Day|   LH-17155|Logan Haushalter|   Consumer|   Le Bouscat|Aquitaine-Limousi...|        France|Central|OFF-AP-10002330|Office Supplies|  Appliances|Hamilton Beach St...|2443.905|       5|     0.1|760.305|1683.6000000000004|     Profitable|\n",
      "|    13|ES-2015-2510515|20/06/2015|20/06/2015|      Same Day|   LH-17155|Logan Haushalter|   Consumer|   Le Bouscat|Aquitaine-Limousi...|        France|Central|OFF-AR-10000505|Office Supplies|         Art|Binney & Smith Pe...|   12.21|       1|       0|      0|             12.21|          ERROR|\n",
      "|    14|ES-2015-2510515|20/06/2015|20/06/2015|      Same Day|   LH-17155|Logan Haushalter|   Consumer|   Le Bouscat|Aquitaine-Limousi...|        France|Central|TEC-PH-10002898|     Technology|      Phones|Samsung Smart Pho...|2167.296|       4|    0.15|790.416|1376.8799999999997|     Profitable|\n",
      "|    15|ES-2015-2510515|20/06/2015|20/06/2015|      Same Day|   LH-17155|Logan Haushalter|   Consumer|   Le Bouscat|Aquitaine-Limousi...|        France|Central|OFF-ST-10001413|Office Supplies|     Storage|Rogers Folders, Blue| 138.105|       5|     0.1|-12.345|            150.45|Not profitable |\n",
      "|    16|ES-2016-4380115|16/02/2016|20/02/2016|Standard Class|   KC-16540| Kelly Collister|   Consumer|   Strasbourg|Alsace-Champagne-...|        France|Central|OFF-ST-10003931|Office Supplies|     Storage|Smead Trays, Wire...| 128.385|       3|     0.1|  4.275|124.10999999999999|     Profitable|\n",
      "|    17|ES-2016-4380115|16/02/2016|20/02/2016|Standard Class|   KC-16540| Kelly Collister|   Consumer|   Strasbourg|Alsace-Champagne-...|        France|Central|TEC-AC-10004269|     Technology| Accessories|Belkin Memory Car...|  690.12|       6|       0|      0|            690.12|          ERROR|\n",
      "|    18|ES-2016-4380115|16/02/2016|20/02/2016|Standard Class|   KC-16540| Kelly Collister|   Consumer|   Strasbourg|Alsace-Champagne-...|        France|Central|OFF-LA-10001676|Office Supplies|      Labels|Hon Removable Lab...|    8.16|       1|       0|   1.14|7.0200000000000005|     Profitable|\n",
      "|    19|ES-2017-2573330|03/11/2017|08/11/2017|Standard Class|   BF-11170|      Ben Ferrer|Home Office|         Unna|North Rhine-Westp...|       Germany|Central|TEC-MA-10000811|     Technology|    Machines|Okidata Phone, Du...|  347.88|       4|       0|  76.44|            271.44|     Profitable|\n",
      "|    20|ES-2017-2573330|03/11/2017|08/11/2017|Standard Class|   BF-11170|      Ben Ferrer|Home Office|         Unna|North Rhine-Westp...|       Germany|Central|OFF-ST-10000648|Office Supplies|     Storage|Eldon File Cart, ...| 575.505|       5|     0.1| 12.705|             562.8|     Profitable|\n",
      "+------+---------------+----------+----------+--------------+-----------+----------------+-----------+-------------+--------------------+--------------+-------+---------------+---------------+------------+--------------------+--------+--------+--------+-------+------------------+---------------+\n",
      "only showing top 20 rows\n",
      "\n"
     ]
    }
   ],
   "source": [
    "df.show()"
   ]
  },
  {
   "cell_type": "code",
   "execution_count": 141,
   "id": "c7712083",
   "metadata": {},
   "outputs": [
    {
     "name": "stdout",
     "output_type": "stream",
     "text": [
      "root\n",
      " |-- Row ID: string (nullable = true)\n",
      " |-- Order ID: string (nullable = true)\n",
      " |-- Order Date: string (nullable = true)\n",
      " |-- Ship Date: string (nullable = true)\n",
      " |-- Ship Mode: string (nullable = true)\n",
      " |-- Customer ID: string (nullable = true)\n",
      " |-- Customer Name: string (nullable = true)\n",
      " |-- Segment: string (nullable = true)\n",
      " |-- City: string (nullable = true)\n",
      " |-- State: string (nullable = true)\n",
      " |-- Country: string (nullable = true)\n",
      " |-- Region: string (nullable = true)\n",
      " |-- Product ID: string (nullable = true)\n",
      " |-- Category: string (nullable = true)\n",
      " |-- Sub-Category: string (nullable = true)\n",
      " |-- Product Name: string (nullable = true)\n",
      " |-- Sales: string (nullable = true)\n",
      " |-- Quantity: string (nullable = true)\n",
      " |-- Discount: string (nullable = true)\n",
      " |-- Profit: string (nullable = true)\n",
      " |-- Test_Column: double (nullable = true)\n",
      " |-- when_column: string (nullable = false)\n",
      "\n"
     ]
    }
   ],
   "source": [
    "df.printSchema()"
   ]
  },
  {
   "cell_type": "code",
   "execution_count": 142,
   "id": "c4de0bdd",
   "metadata": {},
   "outputs": [
    {
     "name": "stdout",
     "output_type": "stream",
     "text": [
      "+---------------+\n",
      "|    when_column|\n",
      "+---------------+\n",
      "|     Profitable|\n",
      "|          ERROR|\n",
      "|     Profitable|\n",
      "|     Profitable|\n",
      "|     Profitable|\n",
      "|     Profitable|\n",
      "|     Profitable|\n",
      "|     Profitable|\n",
      "|     Profitable|\n",
      "|     Profitable|\n",
      "|          ERROR|\n",
      "|     Profitable|\n",
      "|          ERROR|\n",
      "|     Profitable|\n",
      "|Not profitable |\n",
      "|     Profitable|\n",
      "|          ERROR|\n",
      "|     Profitable|\n",
      "|     Profitable|\n",
      "|     Profitable|\n",
      "+---------------+\n",
      "only showing top 20 rows\n",
      "\n"
     ]
    }
   ],
   "source": [
    "df.select('when_column').show()"
   ]
  },
  {
   "cell_type": "code",
   "execution_count": 143,
   "id": "20b918dc",
   "metadata": {},
   "outputs": [],
   "source": [
    "# more pratical example to Analyze DATA"
   ]
  },
  {
   "cell_type": "code",
   "execution_count": 144,
   "id": "c0508c83",
   "metadata": {},
   "outputs": [
    {
     "name": "stdout",
     "output_type": "stream",
     "text": [
      "+--------+\n",
      "|Discount|\n",
      "+--------+\n",
      "|       0|\n",
      "|       0|\n",
      "|       0|\n",
      "|       0|\n",
      "|       0|\n",
      "|       0|\n",
      "|       0|\n",
      "|       0|\n",
      "|       0|\n",
      "|       0|\n",
      "|       0|\n",
      "|     0.1|\n",
      "|       0|\n",
      "|    0.15|\n",
      "|     0.1|\n",
      "|     0.1|\n",
      "|       0|\n",
      "|       0|\n",
      "|       0|\n",
      "|     0.1|\n",
      "+--------+\n",
      "only showing top 20 rows\n",
      "\n"
     ]
    }
   ],
   "source": [
    "df.select('Discount').show()"
   ]
  },
  {
   "cell_type": "code",
   "execution_count": 145,
   "id": "ebfd57e9",
   "metadata": {},
   "outputs": [],
   "source": [
    "# in how many rows were the discount zero ?\n",
    "zero_discount = df.filter(df['Discount'] == 0.0)"
   ]
  },
  {
   "cell_type": "code",
   "execution_count": 146,
   "id": "f966ab78",
   "metadata": {},
   "outputs": [
    {
     "data": {
      "text/plain": [
       "6134"
      ]
     },
     "execution_count": 146,
     "metadata": {},
     "output_type": "execute_result"
    }
   ],
   "source": [
    "zero_discount.count()"
   ]
  },
  {
   "cell_type": "code",
   "execution_count": 147,
   "id": "b581430b",
   "metadata": {},
   "outputs": [
    {
     "data": {
      "text/plain": [
       "6134"
      ]
     },
     "execution_count": 147,
     "metadata": {},
     "output_type": "execute_result"
    }
   ],
   "source": [
    "#does discount impact profits?\n",
    "df.filter((df['Discount'] == 0.0) & (df['Profit'] >= 0)).count()"
   ]
  },
  {
   "cell_type": "code",
   "execution_count": 148,
   "id": "497a2408",
   "metadata": {},
   "outputs": [
    {
     "name": "stdout",
     "output_type": "stream",
     "text": [
      "+--------------+-----+\n",
      "|       Country|count|\n",
      "+--------------+-----+\n",
      "|        Sweden|  203|\n",
      "|       Germany| 2065|\n",
      "|        France| 2827|\n",
      "|       Belgium|  147|\n",
      "|       Finland|   64|\n",
      "|         Italy| 1108|\n",
      "|        Norway|   70|\n",
      "|         Spain|  859|\n",
      "|       Denmark|   65|\n",
      "|       Ireland|  106|\n",
      "|   Switzerland|   78|\n",
      "|      Portugal|   70|\n",
      "|       Austria|  270|\n",
      "|United Kingdom| 1633|\n",
      "|   Netherlands|  435|\n",
      "+--------------+-----+\n",
      "\n"
     ]
    }
   ],
   "source": [
    "#groupby and aggregation functions\n",
    "#we need to state the column and aggregation function\n",
    "df.groupBy('Country').count().show()\n"
   ]
  },
  {
   "cell_type": "code",
   "execution_count": 149,
   "id": "665d93b6",
   "metadata": {},
   "outputs": [
    {
     "name": "stdout",
     "output_type": "stream",
     "text": [
      "+--------------+-----+\n",
      "|       Country|count|\n",
      "+--------------+-----+\n",
      "|        France| 2827|\n",
      "|       Germany| 2065|\n",
      "|United Kingdom| 1633|\n",
      "|         Italy| 1108|\n",
      "|         Spain|  859|\n",
      "|   Netherlands|  435|\n",
      "|       Austria|  270|\n",
      "|        Sweden|  203|\n",
      "|       Belgium|  147|\n",
      "|       Ireland|  106|\n",
      "|   Switzerland|   78|\n",
      "|        Norway|   70|\n",
      "|      Portugal|   70|\n",
      "|       Denmark|   65|\n",
      "|       Finland|   64|\n",
      "+--------------+-----+\n",
      "\n"
     ]
    }
   ],
   "source": [
    "df.groupBy('Country').count().orderBy('count',ascending = False).show()"
   ]
  },
  {
   "cell_type": "code",
   "execution_count": 150,
   "id": "3ae7d723",
   "metadata": {},
   "outputs": [
    {
     "name": "stdout",
     "output_type": "stream",
     "text": [
      "+--------------+-----------+--------+-----+\n",
      "|       Country|    Segment|Discount|count|\n",
      "+--------------+-----------+--------+-----+\n",
      "|         Spain|Home Office|       0|  106|\n",
      "|         Spain|Home Office|     0.1|   40|\n",
      "|        France|Home Office|    0.65|    5|\n",
      "|        France|   Consumer|    0.15|  206|\n",
      "|       Denmark|   Consumer|     0.5|   43|\n",
      "|United Kingdom|  Corporate|     0.8|    1|\n",
      "|       Germany|  Corporate|     0.6|    2|\n",
      "|       Finland|Home Office|       0|    9|\n",
      "|        France|Home Office|     0.1|  101|\n",
      "|       Germany|   Consumer|     0.2|   39|\n",
      "|       Germany|   Consumer|     0.5|   32|\n",
      "|       Denmark|  Corporate|     0.5|   14|\n",
      "|United Kingdom|  Corporate|       0|  380|\n",
      "|   Netherlands|  Corporate|     0.5|   96|\n",
      "|         Spain|Home Office|     0.6|    2|\n",
      "|         Italy|   Consumer|     0.4|  129|\n",
      "|       Denmark|   Consumer|     0.6|    4|\n",
      "|       Germany|  Corporate|     0.1|  176|\n",
      "|       Germany|   Consumer|    0.35|   11|\n",
      "|        France|  Corporate|    0.35|   10|\n",
      "+--------------+-----------+--------+-----+\n",
      "only showing top 20 rows\n",
      "\n"
     ]
    }
   ],
   "source": [
    "df.groupBy('Country','Segment', 'Discount').count().show()\n"
   ]
  },
  {
   "cell_type": "code",
   "execution_count": 151,
   "id": "3fc8c349",
   "metadata": {},
   "outputs": [
    {
     "name": "stdout",
     "output_type": "stream",
     "text": [
      "+--------------+-------------------+\n",
      "|       Country|        sum(Profit)|\n",
      "+--------------+-------------------+\n",
      "|        Sweden|-17519.366999999987|\n",
      "|       Germany| 107322.82049999991|\n",
      "|        France| 109029.00299999975|\n",
      "|       Belgium|           11572.59|\n",
      "|       Finland|            3905.73|\n",
      "|         Italy| 19828.757999999965|\n",
      "|        Norway|            5167.77|\n",
      "|         Spain|  54390.11999999999|\n",
      "|       Denmark|-4282.0470000000005|\n",
      "|       Ireland| -7392.381000000003|\n",
      "|   Switzerland|  7237.470000000001|\n",
      "|      Portugal| -8703.059999999998|\n",
      "|       Austria|           21442.26|\n",
      "|United Kingdom| 111900.15000000001|\n",
      "|   Netherlands| -41070.07499999996|\n",
      "+--------------+-------------------+\n",
      "\n"
     ]
    }
   ],
   "source": [
    "# our aggregation metrics so far has only been a count --> we can do better\n",
    "# max, sum, mean, median\n",
    "df.groupBy('Country').agg({'Profit':'sum'}).show()"
   ]
  },
  {
   "cell_type": "code",
   "execution_count": 152,
   "id": "5424f852",
   "metadata": {},
   "outputs": [
    {
     "name": "stdout",
     "output_type": "stream",
     "text": [
      "+--------------+-----------+\n",
      "|       Country|max(Profit)|\n",
      "+--------------+-----------+\n",
      "|       Austria|         99|\n",
      "|       Belgium|      91.68|\n",
      "|       Denmark|          0|\n",
      "|       Finland|      94.92|\n",
      "|        France|     99.672|\n",
      "|       Germany|     99.696|\n",
      "|       Ireland|     -92.52|\n",
      "|         Italy|      99.24|\n",
      "|   Netherlands|      9.048|\n",
      "|        Norway|         90|\n",
      "|      Portugal|          0|\n",
      "|         Spain|     99.441|\n",
      "|        Sweden|          0|\n",
      "|   Switzerland|      952.2|\n",
      "|United Kingdom|      99.24|\n",
      "+--------------+-----------+\n",
      "\n"
     ]
    }
   ],
   "source": [
    "df.groupBy('Country').agg({'Profit':'max'}).show()"
   ]
  },
  {
   "cell_type": "code",
   "execution_count": 153,
   "id": "9e6b5255",
   "metadata": {},
   "outputs": [
    {
     "name": "stdout",
     "output_type": "stream",
     "text": [
      "+--------------+------------------+\n",
      "|       Country|        avg(Sales)|\n",
      "+--------------+------------------+\n",
      "|        Sweden|150.20395566502464|\n",
      "|       Germany| 304.5230171912834|\n",
      "|        France|303.83129925716275|\n",
      "|       Belgium| 334.8755102040819|\n",
      "|       Finland|323.50546875000003|\n",
      "|         Italy| 261.4708104693135|\n",
      "|        Norway|293.21957142857144|\n",
      "|         Spain| 334.2801862630969|\n",
      "|       Denmark| 132.8931230769231|\n",
      "|       Ireland|156.97649999999996|\n",
      "|   Switzerland|318.94692307692316|\n",
      "|      Portugal| 215.7874285714286|\n",
      "|       Austria| 300.6000000000002|\n",
      "|United Kingdom|323.68420085731736|\n",
      "|   Netherlands|178.19527586206914|\n",
      "+--------------+------------------+\n",
      "\n"
     ]
    }
   ],
   "source": [
    "df.groupBy('Country').agg({'Sales':'mean'}).show()"
   ]
  },
  {
   "cell_type": "code",
   "execution_count": 154,
   "id": "f5c89d46",
   "metadata": {},
   "outputs": [],
   "source": [
    "groupped_data = df.groupBy('Country').agg({'Sales':'mean'}).withColumnRenamed('avg(Sales)','Sales')"
   ]
  },
  {
   "cell_type": "code",
   "execution_count": 155,
   "id": "feb3259a",
   "metadata": {},
   "outputs": [
    {
     "name": "stdout",
     "output_type": "stream",
     "text": [
      "+--------------+------------------+-----------+\n",
      "|       Country|             Sales|Sales Clean|\n",
      "+--------------+------------------+-----------+\n",
      "|        Sweden|150.20395566502464|      150.2|\n",
      "|       Germany| 304.5230171912834|     304.52|\n",
      "|        France|303.83129925716275|     303.83|\n",
      "|       Belgium| 334.8755102040819|     334.88|\n",
      "|       Finland|323.50546875000003|     323.51|\n",
      "|         Italy| 261.4708104693135|     261.47|\n",
      "|        Norway|293.21957142857144|     293.22|\n",
      "|         Spain| 334.2801862630969|     334.28|\n",
      "|       Denmark| 132.8931230769231|     132.89|\n",
      "|       Ireland|156.97649999999996|     156.98|\n",
      "|   Switzerland|318.94692307692316|     318.95|\n",
      "|      Portugal| 215.7874285714286|     215.79|\n",
      "|       Austria| 300.6000000000002|      300.6|\n",
      "|United Kingdom|323.68420085731736|     323.68|\n",
      "|   Netherlands|178.19527586206914|      178.2|\n",
      "+--------------+------------------+-----------+\n",
      "\n"
     ]
    }
   ],
   "source": [
    "import pyspark.sql.functions as fc\n",
    "\n",
    "groupped_data.withColumn('Sales Clean', fc.round(groupped_data['Sales'],2)).show()"
   ]
  },
  {
   "cell_type": "code",
   "execution_count": 156,
   "id": "706e7ceb",
   "metadata": {},
   "outputs": [
    {
     "data": {
      "text/plain": [
       "DataFrame[Country: string, Segment: string, Category: string, sum(Sales): double, avg(Discount): double, sum(Profit): double]"
      ]
     },
     "execution_count": 156,
     "metadata": {},
     "output_type": "execute_result"
    }
   ],
   "source": [
    "df.groupBy('Country','Segment','Category').agg({'Sales':'sum','Profit':'sum','Discount':'mean'})"
   ]
  },
  {
   "cell_type": "code",
   "execution_count": 157,
   "id": "713539ad",
   "metadata": {},
   "outputs": [],
   "source": [
    "grouped = df.groupBy('Country','Segment','Category').agg({'Sales':'sum','Profit':'sum','Discount':'mean'})"
   ]
  },
  {
   "cell_type": "code",
   "execution_count": 158,
   "id": "49a18bec",
   "metadata": {},
   "outputs": [
    {
     "name": "stdout",
     "output_type": "stream",
     "text": [
      "+--------------+-----------+---------------+------------------+--------------------+------------------+\n",
      "|       Country|    Segment|       Category|             Sales|       avg(Discount)|       sum(Profit)|\n",
      "+--------------+-----------+---------------+------------------+--------------------+------------------+\n",
      "|      Portugal|   Consumer|      Furniture|          1281.675|                 0.5|-295.4249999999999|\n",
      "|       Belgium|Home Office|     Technology|            2370.3|                 0.0|           1003.02|\n",
      "|       Belgium|Home Office|      Furniture|1000.7400000000001|                 0.0|            327.45|\n",
      "|        France|   Consumer|     Technology|152364.03899999993|  0.1403985507246372|12791.589000000009|\n",
      "|        Norway|   Consumer|     Technology|3180.0899999999997|                 0.0|            432.75|\n",
      "|       Finland|  Corporate|Office Supplies|           1120.35|                 0.0|            278.79|\n",
      "|       Finland|   Consumer|     Technology| 4468.679999999999|                 0.0| 957.5699999999999|\n",
      "|       Germany|   Consumer|Office Supplies|118187.81099999989| 0.05364511691884475|23707.191000000006|\n",
      "|United Kingdom|  Corporate|     Technology|         68470.077|0.017142857142857147|17156.067000000003|\n",
      "|       Ireland|Home Office|     Technology|           1906.53|                 0.5|          -1205.88|\n",
      "|         Spain|   Consumer|     Technology| 52602.33900000002|0.050588235294117656| 9772.598999999995|\n",
      "|       Germany|Home Office|      Furniture| 35528.42100000001| 0.11171874999999996|          2076.381|\n",
      "|       Finland|   Consumer|Office Supplies|           4817.07|                 0.0|            903.12|\n",
      "|         Spain|  Corporate|      Furniture|20741.388000000003|0.048888888888888885| 316.8779999999997|\n",
      "|      Portugal|   Consumer|Office Supplies|          2679.165|                 0.5|         -1345.305|\n",
      "|         Italy|  Corporate|Office Supplies| 42710.18399999997| 0.07773279352226718| 8124.594000000001|\n",
      "|       Finland|   Consumer|      Furniture|5987.7300000000005|                 0.0|            616.02|\n",
      "|United Kingdom|Home Office|Office Supplies|32845.829999999994| 0.05499999999999996|7443.1200000000035|\n",
      "|       Austria|Home Office|Office Supplies| 6751.919999999998|                 0.0|1683.4499999999998|\n",
      "|       Austria|   Consumer|Office Supplies|17451.629999999994|                 0.0| 4173.630000000001|\n",
      "+--------------+-----------+---------------+------------------+--------------------+------------------+\n",
      "only showing top 20 rows\n",
      "\n"
     ]
    }
   ],
   "source": [
    "grouped = grouped.withColumnRenamed('sum(Sales)','Sales').withColumnRenamed('sales(Profit)','Profit').show()"
   ]
  },
  {
   "cell_type": "code",
   "execution_count": 159,
   "id": "3be7d8c4",
   "metadata": {},
   "outputs": [],
   "source": [
    "groupped_country = df.groupBy('Country').agg({'Sales' : 'sum'}).orderBy('sum(Sales)')"
   ]
  },
  {
   "cell_type": "code",
   "execution_count": 160,
   "id": "fe103b00",
   "metadata": {},
   "outputs": [
    {
     "data": {
      "text/plain": [
       "list"
      ]
     },
     "execution_count": 160,
     "metadata": {},
     "output_type": "execute_result"
    }
   ],
   "source": [
    "#collect method --> returns all rows from all different executors into memory at the central level\n",
    "type(groupped_country.collect())"
   ]
  },
  {
   "cell_type": "code",
   "execution_count": 161,
   "id": "17764538",
   "metadata": {},
   "outputs": [],
   "source": [
    "# it is fine and its a good idea to use collect method when the data is already grouped the few rows\n",
    "bottom_country_sales = groupped_country.collect()[0][0]"
   ]
  },
  {
   "cell_type": "code",
   "execution_count": 162,
   "id": "aaddd6f9",
   "metadata": {},
   "outputs": [
    {
     "name": "stdout",
     "output_type": "stream",
     "text": [
      "+------+---------------+----------+----------+--------------+-----------+----------------+---------+-------------+-------------+-------+------+---------------+---------------+------------+--------------------+------+--------+--------+-------+------------------+---------------+\n",
      "|Row ID|       Order ID|Order Date| Ship Date|     Ship Mode|Customer ID|   Customer Name|  Segment|         City|        State|Country|Region|     Product ID|       Category|Sub-Category|        Product Name| Sales|Quantity|Discount| Profit|       Test_Column|    when_column|\n",
      "+------+---------------+----------+----------+--------------+-----------+----------------+---------+-------------+-------------+-------+------+---------------+---------------+------------+--------------------+------+--------+--------+-------+------------------+---------------+\n",
      "|   626|ES-2014-4825230|18/01/2014|23/01/2014|  Second Class|   RB-19435| Richard Bierner| Consumer|      Esbjerg|South Denmark|Denmark| North|OFF-BI-10004446|Office Supplies|     Binders|Acco Binding Mach...|25.545|       1|     0.5|-10.755|36.300000000000004|Not profitable |\n",
      "|   728|ES-2016-2219250|24/09/2016|29/09/2016|Standard Class|   AR-10405|Allen Rosenblatt|Corporate|       Odense|South Denmark|Denmark| North|TEC-PH-10004825|     Technology|      Phones| Cisco Headset, VoIP| 88.53|       2|     0.5| -81.45|169.98000000000002|Not profitable |\n",
      "|   729|ES-2016-2219250|24/09/2016|29/09/2016|Standard Class|   AR-10405|Allen Rosenblatt|Corporate|       Odense|South Denmark|Denmark| North|OFF-EN-10003748|Office Supplies|   Envelopes|Ames Mailers, wit...|59.085|       3|     0.5| -1.215|60.300000000000004|Not profitable |\n",
      "|   730|ES-2016-2219250|24/09/2016|29/09/2016|Standard Class|   AR-10405|Allen Rosenblatt|Corporate|       Odense|South Denmark|Denmark| North|TEC-CO-10000070|     Technology|     Copiers|Hewlett Copy Mach...|263.67|       2|     0.5|-131.85|            395.52|Not profitable |\n",
      "|   731|ES-2016-2219250|24/09/2016|29/09/2016|Standard Class|   AR-10405|Allen Rosenblatt|Corporate|       Odense|South Denmark|Denmark| North|TEC-PH-10004635|     Technology|      Phones|Samsung Office Te...|195.66|       6|     0.5|-105.66|            301.32|Not profitable |\n",
      "|   732|ES-2016-2219250|24/09/2016|29/09/2016|Standard Class|   AR-10405|Allen Rosenblatt|Corporate|       Odense|South Denmark|Denmark| North|TEC-PH-10003963|     Technology|      Phones|Apple Signal Boos...| 68.97|       1|     0.5|  -62.1|            131.07|Not profitable |\n",
      "|   733|ES-2016-2219250|24/09/2016|29/09/2016|Standard Class|   AR-10405|Allen Rosenblatt|Corporate|       Odense|South Denmark|Denmark| North|OFF-EN-10002240|Office Supplies|   Envelopes|GlobeWeis Clasp E...| 20.16|       3|     0.5|  -5.31|             25.47|Not profitable |\n",
      "|  1068|ES-2014-4508489|15/09/2014|20/09/2014|Standard Class|   BP-11155|       Becky Pak| Consumer|      Esbjerg|South Denmark|Denmark| North|OFF-ST-10001648|Office Supplies|     Storage|Tenex Shelving, Blue| 81.99|       3|     0.5|  -73.8|            155.79|Not profitable |\n",
      "|  1069|ES-2014-4508489|15/09/2014|20/09/2014|Standard Class|   BP-11155|       Becky Pak| Consumer|      Esbjerg|South Denmark|Denmark| North|OFF-AR-10004884|Office Supplies|         Art|Sanford Pens, Flu...| 24.72|       4|     0.5| -10.92|             35.64|Not profitable |\n",
      "|  1466|ES-2017-5200052|23/10/2017|28/10/2017|Standard Class|   JD-16060|    Julia Dunbar| Consumer|      Esbjerg|South Denmark|Denmark| North|OFF-SU-10000782|Office Supplies|    Supplies|Fiskars Shears, S...| 88.68|       4|     0.5| -37.32|             126.0|Not profitable |\n",
      "|  1501|IT-2016-4649004|31/05/2016|06/06/2016|Standard Class|   BF-11080|       Bart Folk| Consumer|   Copenhagen|  Hovedstaden|Denmark| North|TEC-AC-10000254|     Technology| Accessories|Belkin Keyboard, ...|298.83|       7|     0.5| -197.4|            496.23|Not profitable |\n",
      "|  1502|IT-2016-4649004|31/05/2016|06/06/2016|Standard Class|   BF-11080|       Bart Folk| Consumer|   Copenhagen|  Hovedstaden|Denmark| North|OFF-ST-10003335|Office Supplies|     Storage|     Smead Box, Blue|16.155|       3|     0.5|-16.155|             32.31|Not profitable |\n",
      "|  1503|IT-2016-4649004|31/05/2016|06/06/2016|Standard Class|   BF-11080|       Bart Folk| Consumer|   Copenhagen|  Hovedstaden|Denmark| North|OFF-EN-10003630|Office Supplies|   Envelopes|GlobeWeis Busines...| 26.01|       3|     0.5| -11.97|37.980000000000004|Not profitable |\n",
      "|  1504|IT-2016-4649004|31/05/2016|06/06/2016|Standard Class|   BF-11080|       Bart Folk| Consumer|   Copenhagen|  Hovedstaden|Denmark| North|FUR-CH-10004774|      Furniture|      Chairs|Novimex Executive...| 920.4|       4|     0.5|-276.12|           1196.52|Not profitable |\n",
      "|  1993|ES-2016-4250046|16/08/2016|20/08/2016|  Second Class|   CS-11950|  Carlos Soltero| Consumer|Frederiksberg|  Hovedstaden|Denmark| North|OFF-BI-10002225|Office Supplies|     Binders|Cardinal Binding ...| 51.27|       2|     0.5| -15.39|             66.66|Not profitable |\n",
      "|  1994|ES-2016-4250046|16/08/2016|20/08/2016|  Second Class|   CS-11950|  Carlos Soltero| Consumer|Frederiksberg|  Hovedstaden|Denmark| North|OFF-AR-10003247|Office Supplies|         Art|Boston Highlighte...|  44.1|       4|     0.5| -28.26|             72.36|Not profitable |\n",
      "|  1995|ES-2016-4250046|16/08/2016|20/08/2016|  Second Class|   CS-11950|  Carlos Soltero| Consumer|Frederiksberg|  Hovedstaden|Denmark| North|OFF-PA-10002040|Office Supplies|       Paper|Green Bar Cards &...|  49.8|       2|     0.5| -37.86|             87.66|Not profitable |\n",
      "|  1996|ES-2016-4250046|16/08/2016|20/08/2016|  Second Class|   CS-11950|  Carlos Soltero| Consumer|Frederiksberg|  Hovedstaden|Denmark| North|OFF-AP-10002413|Office Supplies|  Appliances|Breville Coffee G...|91.935|       3|     0.5|-27.585|119.52000000000001|Not profitable |\n",
      "|  1997|ES-2016-4250046|16/08/2016|20/08/2016|  Second Class|   CS-11950|  Carlos Soltero| Consumer|Frederiksberg|  Hovedstaden|Denmark| North|OFF-AR-10000594|Office Supplies|         Art|Binney & Smith Hi...| 19.77|       2|     0.5|  -3.21|             22.98|Not profitable |\n",
      "|  2583|ES-2017-1415600|07/07/2017|12/07/2017|Standard Class|   DK-12835| Damala Kotsonis|Corporate|   Sonderborg|South Denmark|Denmark| North|OFF-FA-10001330|Office Supplies|   Fasteners|OIC Rubber Bands,...| 17.07|       2|     0.5|  -3.09|             20.16|Not profitable |\n",
      "+------+---------------+----------+----------+--------------+-----------+----------------+---------+-------------+-------------+-------+------+---------------+---------------+------------+--------------------+------+--------+--------+-------+------------------+---------------+\n",
      "only showing top 20 rows\n",
      "\n"
     ]
    }
   ],
   "source": [
    "# show me all the rows of the country which has the lowest sales\n",
    "df.filter(df['Country'] == bottom_country_sales).show()"
   ]
  },
  {
   "cell_type": "code",
   "execution_count": 163,
   "id": "77ad38ae",
   "metadata": {},
   "outputs": [],
   "source": [
    "# get all the rows for the bottom 3 countries by profit \n",
    "grouped_country = df.groupBy('Country').agg({'Profit' : 'sum'}).orderBy('sum(Profit)').collect()[:3]"
   ]
  },
  {
   "cell_type": "code",
   "execution_count": 164,
   "id": "9a9eca82",
   "metadata": {},
   "outputs": [
    {
     "data": {
      "text/plain": [
       "[Row(Country='Netherlands', sum(Profit)=-41070.07499999996),\n",
       " Row(Country='Sweden', sum(Profit)=-17519.366999999987),\n",
       " Row(Country='Portugal', sum(Profit)=-8703.059999999998)]"
      ]
     },
     "execution_count": 164,
     "metadata": {},
     "output_type": "execute_result"
    }
   ],
   "source": [
    "grouped_country"
   ]
  },
  {
   "cell_type": "code",
   "execution_count": 165,
   "id": "63cc2632",
   "metadata": {},
   "outputs": [],
   "source": [
    "# list comprehension to get the name of the bottom 3\n",
    "bottom_countries = [row[0] for row in grouped_country]"
   ]
  },
  {
   "cell_type": "code",
   "execution_count": 166,
   "id": "9c5d62f4",
   "metadata": {},
   "outputs": [
    {
     "data": {
      "text/plain": [
       "[-41070.07499999996, -17519.366999999987, -8703.059999999998]"
      ]
     },
     "execution_count": 166,
     "metadata": {},
     "output_type": "execute_result"
    }
   ],
   "source": [
    "[row[1] for row in grouped_country]"
   ]
  },
  {
   "cell_type": "code",
   "execution_count": 167,
   "id": "5f121bcd",
   "metadata": {},
   "outputs": [
    {
     "name": "stdout",
     "output_type": "stream",
     "text": [
      "+------+---------------+----------+----------+--------------+-----------+----------------+-----------+-----------+-------------+-----------+-------+---------------+---------------+------------+--------------------+-------+--------+--------+--------+------------------+---------------+\n",
      "|Row ID|       Order ID|Order Date| Ship Date|     Ship Mode|Customer ID|   Customer Name|    Segment|       City|        State|    Country| Region|     Product ID|       Category|Sub-Category|        Product Name|  Sales|Quantity|Discount|  Profit|       Test_Column|    when_column|\n",
      "+------+---------------+----------+----------+--------------+-----------+----------------+-----------+-----------+-------------+-----------+-------+---------------+---------------+------------+--------------------+-------+--------+--------+--------+------------------+---------------+\n",
      "|    41|IT-2016-2373016|08/11/2016|11/11/2016|   First Class|   CM-11830|  Cari MacIntyre|  Corporate|  The Hague|South Holland|Netherlands|Central|OFF-SU-10003907|Office Supplies|    Supplies|Stiletto Letter O...|     15|       1|     0.5|    -9.3|              24.3|Not profitable |\n",
      "|    42|IT-2016-2373016|08/11/2016|11/11/2016|   First Class|   CM-11830|  Cari MacIntyre|  Corporate|  The Hague|South Holland|Netherlands|Central|OFF-BI-10001249|Office Supplies|     Binders|Acco Hole Reinfor...|  14.04|       4|     0.5|       0|             14.04|          ERROR|\n",
      "|    43|IT-2016-2373016|08/11/2016|11/11/2016|   First Class|   CM-11830|  Cari MacIntyre|  Corporate|  The Hague|South Holland|Netherlands|Central|OFF-AR-10000823|Office Supplies|         Art|Stanley Pens, Wat...| 33.075|       5|     0.5| -11.925|              45.0|Not profitable |\n",
      "|    51|IT-2017-2321796|02/04/2017|07/04/2017|Standard Class|   IL-15100|     Ivan Liston|   Consumer|      Nacka|    Stockholm|     Sweden|  North|OFF-ST-10002659|Office Supplies|     Storage|Smead Shelving, W...|     72|       3|     0.5|   -5.76|             77.76|Not profitable |\n",
      "|   105|IT-2016-4388990|10/08/2016|13/08/2016|  Second Class|   MM-17260| Magdelene Morse|   Consumer|Vlaardingen|South Holland|Netherlands|Central|FUR-FU-10004137|      Furniture| Furnishings|Tenex Light Bulb,...|  84.24|       6|     0.2|  -15.84|            100.08|Not profitable |\n",
      "|   106|IT-2016-4388990|10/08/2016|13/08/2016|  Second Class|   MM-17260| Magdelene Morse|   Consumer|Vlaardingen|South Holland|Netherlands|Central|OFF-ST-10001413|Office Supplies|     Storage|Rogers Folders, Blue|  30.69|       2|     0.5|  -29.49|             60.18|Not profitable |\n",
      "|   143|IT-2014-5134922|16/10/2014|18/10/2014|  Second Class|   BS-11365|    Bill Shonely|  Corporate|  Rotterdam|South Holland|Netherlands|Central|OFF-PA-10001662|Office Supplies|       Paper|Green Bar Note Ca...| 14.895|       1|     0.5|  -4.185|             19.08|Not profitable |\n",
      "|   144|IT-2014-5134922|16/10/2014|18/10/2014|  Second Class|   BS-11365|    Bill Shonely|  Corporate|  Rotterdam|South Holland|Netherlands|Central|OFF-ST-10002263|Office Supplies|     Storage|Rogers Trays, Wir...|151.875|       5|     0.5|  -3.075|            154.95|Not profitable |\n",
      "|   145|IT-2015-2655811|16/06/2015|22/06/2015|Standard Class|   MT-18070|   Michelle Tran|Home Office|  Rotterdam|South Holland|Netherlands|Central|TEC-AC-10002530|     Technology| Accessories|Memorex Numeric K...|  86.04|       4|     0.5|  -29.28|115.32000000000001|Not profitable |\n",
      "|   146|IT-2015-2655811|16/06/2015|22/06/2015|Standard Class|   MT-18070|   Michelle Tran|Home Office|  Rotterdam|South Holland|Netherlands|Central|OFF-AR-10001672|Office Supplies|         Art|Boston Sketch Pad...|  48.87|       2|     0.5|  -20.55|             69.42|Not profitable |\n",
      "|   164|IT-2016-3695467|10/06/2016|14/06/2016|Standard Class|   SS-20140|Saphhira Shifley|  Corporate|     Lisbon|       Lisboa|   Portugal|  South|OFF-AP-10001623|Office Supplies|  Appliances| Hoover Stove, White|3399.66|      12|     0.5|-3059.82|           6459.48|Not profitable |\n",
      "|   181|IT-2017-5192801|25/12/2017|01/01/2018|Standard Class|   JD-15895|Jonathan Doherty|  Corporate| Oosterhout|North Brabant|Netherlands|Central|OFF-LA-10003699|Office Supplies|      Labels|Smead File Folder...|  23.73|       7|     0.5|     -21|44.730000000000004|Not profitable |\n",
      "|   191|IT-2015-4187289|10/05/2015|12/05/2015|  Second Class|   LC-16960| Lindsay Castell|Home Office|  Amsterdam|North Holland|Netherlands|Central|OFF-FA-10000740|Office Supplies|   Fasteners|Accos Staples, Bu...|  10.95|       2|     0.5|   -6.57|             17.52|Not profitable |\n",
      "|   296|IT-2014-5989878|20/10/2014|24/10/2014|Standard Class|   RS-19870|      Roy Skaria|Home Office|    Helmond|North Brabant|Netherlands|Central|OFF-AR-10003457|Office Supplies|         Art|Sanford Sketch Pa...|  72.99|       3|     0.5|   -4.41| 77.39999999999999|Not profitable |\n",
      "|   340|IT-2015-1188964|10/06/2015|17/06/2015|Standard Class|   JK-16090|   Juliana Krohn|   Consumer|    Uppsala|      Uppsala|     Sweden|  North|FUR-CH-10004790|      Furniture|      Chairs|Office Star Bag C...| 159.03|       6|     0.5|  -28.71|            187.74|Not profitable |\n",
      "|   341|IT-2015-1188964|10/06/2015|17/06/2015|Standard Class|   JK-16090|   Juliana Krohn|   Consumer|    Uppsala|      Uppsala|     Sweden|  North|OFF-PA-10001492|Office Supplies|       Paper|Enermax Note Card...|  59.82|       4|     0.5|  -34.74|             94.56|Not profitable |\n",
      "|   342|IT-2015-1188964|10/06/2015|17/06/2015|Standard Class|   JK-16090|   Juliana Krohn|   Consumer|    Uppsala|      Uppsala|     Sweden|  North|OFF-PA-10000816|Office Supplies|       Paper|Enermax Memo Slip...|  7.785|       1|     0.5|  -4.845|12.629999999999999|Not profitable |\n",
      "|   343|IT-2015-1188964|10/06/2015|17/06/2015|Standard Class|   JK-16090|   Juliana Krohn|   Consumer|    Uppsala|      Uppsala|     Sweden|  North|OFF-FA-10004359|Office Supplies|   Fasteners|OIC Paper Clips, ...|  11.88|       2|     0.5|   -5.94|             17.82|Not profitable |\n",
      "|   344|IT-2015-1188964|10/06/2015|17/06/2015|Standard Class|   JK-16090|   Juliana Krohn|   Consumer|    Uppsala|      Uppsala|     Sweden|  North|TEC-PH-10001963|     Technology|      Phones|Nokia Speaker Pho...| 248.88|       4|     0.5|  -149.4|            398.28|Not profitable |\n",
      "|   346|IT-2017-5630655|27/08/2017|03/09/2017|Standard Class|   ZC-21910|Zuschuss Carroll|   Consumer|     Lisbon|       Lisboa|   Portugal|  South|OFF-PA-10001971|Office Supplies|       Paper|Eaton Memo Slips,...|  34.35|       5|     0.5|   -11.1|             45.45|Not profitable |\n",
      "+------+---------------+----------+----------+--------------+-----------+----------------+-----------+-----------+-------------+-----------+-------+---------------+---------------+------------+--------------------+-------+--------+--------+--------+------------------+---------------+\n",
      "only showing top 20 rows\n",
      "\n"
     ]
    }
   ],
   "source": [
    "df.filter(df.Country.isin(bottom_countries)).show()"
   ]
  },
  {
   "cell_type": "code",
   "execution_count": 168,
   "id": "31716a7a",
   "metadata": {},
   "outputs": [
    {
     "name": "stdout",
     "output_type": "stream",
     "text": [
      "+----------+-------+\n",
      "|Order Date|  Sales|\n",
      "+----------+-------+\n",
      "|01/01/2014| 44.865|\n",
      "|01/01/2015|245.673|\n",
      "|01/01/2015|  26.64|\n",
      "|01/01/2015|674.244|\n",
      "|01/01/2016|  99.48|\n",
      "|01/01/2016|273.564|\n",
      "|01/01/2016|   54.6|\n",
      "|01/01/2016|209.508|\n",
      "|01/01/2016|  14.43|\n",
      "|01/01/2016| 147.96|\n",
      "|01/01/2016| 124.29|\n",
      "|01/01/2016|  31.23|\n",
      "|01/01/2016| 200.34|\n",
      "|01/01/2016|  11.31|\n",
      "|01/01/2016|  52.74|\n",
      "|01/01/2016| 123.24|\n",
      "|01/01/2016|242.046|\n",
      "|01/01/2016| 509.04|\n",
      "|01/01/2016|1583.82|\n",
      "|01/01/2016|  83.28|\n",
      "+----------+-------+\n",
      "only showing top 20 rows\n",
      "\n"
     ]
    }
   ],
   "source": [
    "df.select('Order Date','Sales').orderBy('Order Date').show()"
   ]
  },
  {
   "cell_type": "code",
   "execution_count": 169,
   "id": "cc5993de",
   "metadata": {},
   "outputs": [
    {
     "name": "stdout",
     "output_type": "stream",
     "text": [
      "+----------+----------------+\n",
      "|Order Date|Order Date Clean|\n",
      "+----------+----------------+\n",
      "|07/02/2017|      2017-02-07|\n",
      "|07/02/2017|      2017-02-07|\n",
      "|07/02/2017|      2017-02-07|\n",
      "|07/02/2017|      2017-02-07|\n",
      "|07/02/2017|      2017-02-07|\n",
      "|07/02/2017|      2017-02-07|\n",
      "|07/02/2017|      2017-02-07|\n",
      "|02/08/2015|      2015-08-02|\n",
      "|02/08/2015|      2015-08-02|\n",
      "|02/08/2015|      2015-08-02|\n",
      "|20/06/2015|      2015-06-20|\n",
      "|20/06/2015|      2015-06-20|\n",
      "|20/06/2015|      2015-06-20|\n",
      "|20/06/2015|      2015-06-20|\n",
      "|20/06/2015|      2015-06-20|\n",
      "|16/02/2016|      2016-02-16|\n",
      "|16/02/2016|      2016-02-16|\n",
      "|16/02/2016|      2016-02-16|\n",
      "|03/11/2017|      2017-11-03|\n",
      "|03/11/2017|      2017-11-03|\n",
      "+----------+----------------+\n",
      "only showing top 20 rows\n",
      "\n"
     ]
    }
   ],
   "source": [
    "from pyspark.sql import functions as F\n",
    "df.withColumn('Order Date Clean',F.to_date(df['Order Date'],'dd/MM/yyyy')).select('Order Date','Order Date Clean').show()"
   ]
  },
  {
   "cell_type": "code",
   "execution_count": 170,
   "id": "2ed8c7e3",
   "metadata": {},
   "outputs": [
    {
     "name": "stdout",
     "output_type": "stream",
     "text": [
      "root\n",
      " |-- Order Date: string (nullable = true)\n",
      " |-- Order Date Clean: date (nullable = true)\n",
      "\n"
     ]
    }
   ],
   "source": [
    "df.withColumn('Order Date Clean',F.to_date(df['Order Date'],'dd/MM/yyyy')).select('Order Date','Order Date Clean').printSchema()"
   ]
  },
  {
   "cell_type": "code",
   "execution_count": 171,
   "id": "37f732ae",
   "metadata": {},
   "outputs": [],
   "source": [
    "df = df.withColumn('Order Date Clean',F.to_date(df['Order Date'],'dd/MM/yyyy')).\\\n",
    "withColumn('Ship Date Clean',F.to_date(df['Ship Date'],'dd/MM/yyyy'))"
   ]
  },
  {
   "cell_type": "code",
   "execution_count": 172,
   "id": "e3efadef",
   "metadata": {},
   "outputs": [
    {
     "name": "stdout",
     "output_type": "stream",
     "text": [
      "root\n",
      " |-- Row ID: string (nullable = true)\n",
      " |-- Order ID: string (nullable = true)\n",
      " |-- Order Date: string (nullable = true)\n",
      " |-- Ship Date: string (nullable = true)\n",
      " |-- Ship Mode: string (nullable = true)\n",
      " |-- Customer ID: string (nullable = true)\n",
      " |-- Customer Name: string (nullable = true)\n",
      " |-- Segment: string (nullable = true)\n",
      " |-- City: string (nullable = true)\n",
      " |-- State: string (nullable = true)\n",
      " |-- Country: string (nullable = true)\n",
      " |-- Region: string (nullable = true)\n",
      " |-- Product ID: string (nullable = true)\n",
      " |-- Category: string (nullable = true)\n",
      " |-- Sub-Category: string (nullable = true)\n",
      " |-- Product Name: string (nullable = true)\n",
      " |-- Sales: string (nullable = true)\n",
      " |-- Quantity: string (nullable = true)\n",
      " |-- Discount: string (nullable = true)\n",
      " |-- Profit: string (nullable = true)\n",
      " |-- Test_Column: double (nullable = true)\n",
      " |-- when_column: string (nullable = false)\n",
      " |-- Order Date Clean: date (nullable = true)\n",
      " |-- Ship Date Clean: date (nullable = true)\n",
      "\n"
     ]
    }
   ],
   "source": [
    "df.printSchema()"
   ]
  },
  {
   "cell_type": "code",
   "execution_count": 174,
   "id": "379c06f4",
   "metadata": {},
   "outputs": [],
   "source": [
    "# udf --> user defined function \n",
    "from pyspark.sql.functions import udf\n",
    "# defining to function you want \n",
    "def uppercase(mystring):\n",
    "    return mystring.upper()\n",
    "uppercaseUDF = udf(lambda x : uppercase(x))\n",
    "df = df.withColumn('Upper Cased Name',uppercaseUDF(df['Customer Name']))"
   ]
  },
  {
   "cell_type": "code",
   "execution_count": 175,
   "id": "9b0250b0",
   "metadata": {},
   "outputs": [
    {
     "name": "stdout",
     "output_type": "stream",
     "text": [
      "+----------------+----------------+\n",
      "|   Customer Name|Upper Cased Name|\n",
      "+----------------+----------------+\n",
      "|  Aaron Smayling|  AARON SMAYLING|\n",
      "|  Aaron Smayling|  AARON SMAYLING|\n",
      "|  Aaron Smayling|  AARON SMAYLING|\n",
      "|  Aaron Smayling|  AARON SMAYLING|\n",
      "|  Aaron Smayling|  AARON SMAYLING|\n",
      "|  Aaron Smayling|  AARON SMAYLING|\n",
      "|  Aaron Smayling|  AARON SMAYLING|\n",
      "|   Ellis Ballard|   ELLIS BALLARD|\n",
      "|   Ellis Ballard|   ELLIS BALLARD|\n",
      "|   Ellis Ballard|   ELLIS BALLARD|\n",
      "|Logan Haushalter|LOGAN HAUSHALTER|\n",
      "|Logan Haushalter|LOGAN HAUSHALTER|\n",
      "|Logan Haushalter|LOGAN HAUSHALTER|\n",
      "|Logan Haushalter|LOGAN HAUSHALTER|\n",
      "|Logan Haushalter|LOGAN HAUSHALTER|\n",
      "| Kelly Collister| KELLY COLLISTER|\n",
      "| Kelly Collister| KELLY COLLISTER|\n",
      "| Kelly Collister| KELLY COLLISTER|\n",
      "|      Ben Ferrer|      BEN FERRER|\n",
      "|      Ben Ferrer|      BEN FERRER|\n",
      "+----------------+----------------+\n",
      "only showing top 20 rows\n",
      "\n"
     ]
    }
   ],
   "source": [
    "df.select('Customer Name','Upper Cased Name').show()"
   ]
  },
  {
   "cell_type": "code",
   "execution_count": 178,
   "id": "9cfb27cb",
   "metadata": {},
   "outputs": [],
   "source": [
    "playerAttributes = spark.read.format('csv').option('header','true').csv(r\"C:\\Users\\yucel\\Desktop\\Player_Attributes.csv\")"
   ]
  },
  {
   "cell_type": "code",
   "execution_count": 179,
   "id": "4830a5c0",
   "metadata": {},
   "outputs": [],
   "source": [
    "player = spark.read.format('csv').option('header','true').csv(r\"C:\\Users\\yucel\\Desktop\\players_15.csv\")"
   ]
  },
  {
   "cell_type": "code",
   "execution_count": 180,
   "id": "c120fa11",
   "metadata": {},
   "outputs": [
    {
     "name": "stdout",
     "output_type": "stream",
     "text": [
      "root\n",
      " |-- sofifa_id: string (nullable = true)\n",
      " |-- player_url: string (nullable = true)\n",
      " |-- short_name: string (nullable = true)\n",
      " |-- long_name: string (nullable = true)\n",
      " |-- age: string (nullable = true)\n",
      " |-- dob: string (nullable = true)\n",
      " |-- height_cm: string (nullable = true)\n",
      " |-- weight_kg: string (nullable = true)\n",
      " |-- nationality: string (nullable = true)\n",
      " |-- club: string (nullable = true)\n",
      " |-- overall: string (nullable = true)\n",
      " |-- potential: string (nullable = true)\n",
      " |-- value_eur: string (nullable = true)\n",
      " |-- wage_eur: string (nullable = true)\n",
      " |-- player_positions: string (nullable = true)\n",
      " |-- preferred_foot: string (nullable = true)\n",
      " |-- international_reputation: string (nullable = true)\n",
      " |-- weak_foot: string (nullable = true)\n",
      " |-- skill_moves: string (nullable = true)\n",
      " |-- work_rate: string (nullable = true)\n",
      " |-- body_type: string (nullable = true)\n",
      " |-- real_face: string (nullable = true)\n",
      " |-- release_clause_eur: string (nullable = true)\n",
      " |-- player_tags: string (nullable = true)\n",
      " |-- team_position: string (nullable = true)\n",
      " |-- team_jersey_number: string (nullable = true)\n",
      " |-- loaned_from: string (nullable = true)\n",
      " |-- joined: string (nullable = true)\n",
      " |-- contract_valid_until: string (nullable = true)\n",
      " |-- nation_position: string (nullable = true)\n",
      " |-- nation_jersey_number: string (nullable = true)\n",
      " |-- pace: string (nullable = true)\n",
      " |-- shooting: string (nullable = true)\n",
      " |-- passing: string (nullable = true)\n",
      " |-- dribbling: string (nullable = true)\n",
      " |-- defending: string (nullable = true)\n",
      " |-- physic: string (nullable = true)\n",
      " |-- gk_diving: string (nullable = true)\n",
      " |-- gk_handling: string (nullable = true)\n",
      " |-- gk_kicking: string (nullable = true)\n",
      " |-- gk_reflexes: string (nullable = true)\n",
      " |-- gk_speed: string (nullable = true)\n",
      " |-- gk_positioning: string (nullable = true)\n",
      " |-- player_traits: string (nullable = true)\n",
      " |-- attacking_crossing: string (nullable = true)\n",
      " |-- attacking_finishing: string (nullable = true)\n",
      " |-- attacking_heading_accuracy: string (nullable = true)\n",
      " |-- attacking_short_passing: string (nullable = true)\n",
      " |-- attacking_volleys: string (nullable = true)\n",
      " |-- skill_dribbling: string (nullable = true)\n",
      " |-- skill_curve: string (nullable = true)\n",
      " |-- skill_fk_accuracy: string (nullable = true)\n",
      " |-- skill_long_passing: string (nullable = true)\n",
      " |-- skill_ball_control: string (nullable = true)\n",
      " |-- movement_acceleration: string (nullable = true)\n",
      " |-- movement_sprint_speed: string (nullable = true)\n",
      " |-- movement_agility: string (nullable = true)\n",
      " |-- movement_reactions: string (nullable = true)\n",
      " |-- movement_balance: string (nullable = true)\n",
      " |-- power_shot_power: string (nullable = true)\n",
      " |-- power_jumping: string (nullable = true)\n",
      " |-- power_stamina: string (nullable = true)\n",
      " |-- power_strength: string (nullable = true)\n",
      " |-- power_long_shots: string (nullable = true)\n",
      " |-- mentality_aggression: string (nullable = true)\n",
      " |-- mentality_interceptions: string (nullable = true)\n",
      " |-- mentality_positioning: string (nullable = true)\n",
      " |-- mentality_vision: string (nullable = true)\n",
      " |-- mentality_penalties: string (nullable = true)\n",
      " |-- mentality_composure: string (nullable = true)\n",
      " |-- defending_marking: string (nullable = true)\n",
      " |-- defending_standing_tackle: string (nullable = true)\n",
      " |-- defending_sliding_tackle: string (nullable = true)\n",
      " |-- goalkeeping_diving: string (nullable = true)\n",
      " |-- goalkeeping_handling: string (nullable = true)\n",
      " |-- goalkeeping_kicking: string (nullable = true)\n",
      " |-- goalkeeping_positioning: string (nullable = true)\n",
      " |-- goalkeeping_reflexes: string (nullable = true)\n",
      " |-- ls: string (nullable = true)\n",
      " |-- st: string (nullable = true)\n",
      " |-- rs: string (nullable = true)\n",
      " |-- lw: string (nullable = true)\n",
      " |-- lf: string (nullable = true)\n",
      " |-- cf: string (nullable = true)\n",
      " |-- rf: string (nullable = true)\n",
      " |-- rw: string (nullable = true)\n",
      " |-- lam: string (nullable = true)\n",
      " |-- cam: string (nullable = true)\n",
      " |-- ram: string (nullable = true)\n",
      " |-- lm: string (nullable = true)\n",
      " |-- lcm: string (nullable = true)\n",
      " |-- cm: string (nullable = true)\n",
      " |-- rcm: string (nullable = true)\n",
      " |-- rm: string (nullable = true)\n",
      " |-- lwb: string (nullable = true)\n",
      " |-- ldm: string (nullable = true)\n",
      " |-- cdm: string (nullable = true)\n",
      " |-- rdm: string (nullable = true)\n",
      " |-- rwb: string (nullable = true)\n",
      " |-- lb: string (nullable = true)\n",
      " |-- lcb: string (nullable = true)\n",
      " |-- cb: string (nullable = true)\n",
      " |-- rcb: string (nullable = true)\n",
      " |-- rb: string (nullable = true)\n",
      "\n"
     ]
    }
   ],
   "source": [
    "player.printSchema()"
   ]
  },
  {
   "cell_type": "code",
   "execution_count": 181,
   "id": "33da02f7",
   "metadata": {},
   "outputs": [
    {
     "name": "stdout",
     "output_type": "stream",
     "text": [
      "root\n",
      " |-- id: string (nullable = true)\n",
      " |-- player_fifa_api_id: string (nullable = true)\n",
      " |-- player_api_id: string (nullable = true)\n",
      " |-- date: string (nullable = true)\n",
      " |-- overall_rating: string (nullable = true)\n",
      " |-- potential: string (nullable = true)\n",
      " |-- preferred_foot: string (nullable = true)\n",
      " |-- attacking_work_rate: string (nullable = true)\n",
      " |-- defensive_work_rate: string (nullable = true)\n",
      " |-- crossing: string (nullable = true)\n",
      " |-- finishing: string (nullable = true)\n",
      " |-- heading_accuracy: string (nullable = true)\n",
      " |-- short_passing: string (nullable = true)\n",
      " |-- volleys: string (nullable = true)\n",
      " |-- dribbling: string (nullable = true)\n",
      " |-- curve: string (nullable = true)\n",
      " |-- free_kick_accuracy: string (nullable = true)\n",
      " |-- long_passing: string (nullable = true)\n",
      " |-- ball_control: string (nullable = true)\n",
      " |-- acceleration: string (nullable = true)\n",
      " |-- sprint_speed: string (nullable = true)\n",
      " |-- agility: string (nullable = true)\n",
      " |-- reactions: string (nullable = true)\n",
      " |-- balance: string (nullable = true)\n",
      " |-- shot_power: string (nullable = true)\n",
      " |-- jumping: string (nullable = true)\n",
      " |-- stamina: string (nullable = true)\n",
      " |-- strength: string (nullable = true)\n",
      " |-- long_shots: string (nullable = true)\n",
      " |-- aggression: string (nullable = true)\n",
      " |-- interceptions: string (nullable = true)\n",
      " |-- positioning: string (nullable = true)\n",
      " |-- vision: string (nullable = true)\n",
      " |-- penalties: string (nullable = true)\n",
      " |-- marking: string (nullable = true)\n",
      " |-- standing_tackle: string (nullable = true)\n",
      " |-- sliding_tackle: string (nullable = true)\n",
      " |-- gk_diving: string (nullable = true)\n",
      " |-- gk_handling: string (nullable = true)\n",
      " |-- gk_kicking: string (nullable = true)\n",
      " |-- gk_positioning: string (nullable = true)\n",
      " |-- gk_reflexes: string (nullable = true)\n",
      "\n"
     ]
    }
   ],
   "source": [
    "playerAttributes.printSchema()"
   ]
  },
  {
   "cell_type": "code",
   "execution_count": 182,
   "id": "f0684cfc",
   "metadata": {},
   "outputs": [
    {
     "data": {
      "text/plain": [
       "15465"
      ]
     },
     "execution_count": 182,
     "metadata": {},
     "output_type": "execute_result"
    }
   ],
   "source": [
    "player.count()"
   ]
  },
  {
   "cell_type": "code",
   "execution_count": 183,
   "id": "4f6b43f0",
   "metadata": {},
   "outputs": [
    {
     "name": "stdout",
     "output_type": "stream",
     "text": [
      "+---------+--------------------+-----------------+--------------------+---+----------+---------+---------+-----------+-------------------+-------+---------+---------+--------+----------------+--------------+------------------------+---------+-----------+-------------+---------+---------+------------------+--------------------+-------------+------------------+-----------+----------+--------------------+---------------+--------------------+----+--------+-------+---------+---------+------+---------+-----------+----------+-----------+--------+--------------+--------------------+------------------+-------------------+--------------------------+-----------------------+-----------------+---------------+-----------+-----------------+------------------+------------------+---------------------+---------------------+----------------+------------------+----------------+----------------+-------------+-------------+--------------+----------------+--------------------+-----------------------+---------------------+----------------+-------------------+-------------------+-----------------+-------------------------+------------------------+------------------+--------------------+-------------------+-----------------------+--------------------+----+----+----+----+----+----+----+----+----+----+----+----+----+----+----+----+----+----+----+----+----+----+----+----+----+----+\n",
      "|sofifa_id|          player_url|       short_name|           long_name|age|       dob|height_cm|weight_kg|nationality|               club|overall|potential|value_eur|wage_eur|player_positions|preferred_foot|international_reputation|weak_foot|skill_moves|    work_rate|body_type|real_face|release_clause_eur|         player_tags|team_position|team_jersey_number|loaned_from|    joined|contract_valid_until|nation_position|nation_jersey_number|pace|shooting|passing|dribbling|defending|physic|gk_diving|gk_handling|gk_kicking|gk_reflexes|gk_speed|gk_positioning|       player_traits|attacking_crossing|attacking_finishing|attacking_heading_accuracy|attacking_short_passing|attacking_volleys|skill_dribbling|skill_curve|skill_fk_accuracy|skill_long_passing|skill_ball_control|movement_acceleration|movement_sprint_speed|movement_agility|movement_reactions|movement_balance|power_shot_power|power_jumping|power_stamina|power_strength|power_long_shots|mentality_aggression|mentality_interceptions|mentality_positioning|mentality_vision|mentality_penalties|mentality_composure|defending_marking|defending_standing_tackle|defending_sliding_tackle|goalkeeping_diving|goalkeeping_handling|goalkeeping_kicking|goalkeeping_positioning|goalkeeping_reflexes|  ls|  st|  rs|  lw|  lf|  cf|  rf|  rw| lam| cam| ram|  lm| lcm|  cm| rcm|  rm| lwb| ldm| cdm| rdm| rwb|  lb| lcb|  cb| rcb|  rb|\n",
      "+---------+--------------------+-----------------+--------------------+---+----------+---------+---------+-----------+-------------------+-------+---------+---------+--------+----------------+--------------+------------------------+---------+-----------+-------------+---------+---------+------------------+--------------------+-------------+------------------+-----------+----------+--------------------+---------------+--------------------+----+--------+-------+---------+---------+------+---------+-----------+----------+-----------+--------+--------------+--------------------+------------------+-------------------+--------------------------+-----------------------+-----------------+---------------+-----------+-----------------+------------------+------------------+---------------------+---------------------+----------------+------------------+----------------+----------------+-------------+-------------+--------------+----------------+--------------------+-----------------------+---------------------+----------------+-------------------+-------------------+-----------------+-------------------------+------------------------+------------------+--------------------+-------------------+-----------------------+--------------------+----+----+----+----+----+----+----+----+----+----+----+----+----+----+----+----+----+----+----+----+----+----+----+----+----+----+\n",
      "|   158023|https://sofifa.co...|         L. Messi|Lionel Andrés Mes...| 27|1987-06-24|      169|       67|  Argentina|       FC Barcelona|     93|       95|        0|       0|              CF|          Left|                       5|        3|          4|   Medium/Low|   Normal|      Yes|              null|#Speedster, #Drib...|           CF|                10|       null|2004-07-01|                2018|             CF|                  10|  93|      89|     86|       96|       27|    63|     null|       null|      null|       null|    null|          null|Finesse Shot, Spe...|                84|               94-3|                        71|                     89|             85-5|           96-1|       89+2|             90+4|                76|                96|                   96|                 90+2|              94|              94-2|              95|            80-1|           73|         77-1|            60|              88|                  48|                     22|                 92-1|              90|                 76|               null|               25|                       21|                      20|                 6|                  11|                 15|                     14|                   8|89+3|89+3|89+3|92+3|90+3|90+3|90+3|92+3|92+3|92+3|92+3|90+3|79+3|79+3|79+3|90+3|62+3|62+3|62+3|62+3|62+3|54+3|45+3|45+3|45+3|54+3|\n",
      "|    20801|https://sofifa.co...|Cristiano Ronaldo|Cristiano Ronaldo...| 29|1985-02-05|      185|       80|   Portugal|        Real Madrid|     92|       92|        0|       0|          LW, LM|         Right|                       5|        4|          5|     High/Low|   Normal|      Yes|              null|#Speedster, #Drib...|           LW|                 7|       null|2009-07-01|                2018|             LW|                   7|  93|      93|     81|       91|       32|    79|     null|       null|      null|       null|    null|          null|Power Free-Kick, ...|                83|               95+3|                        86|                     82|             87+2|           93+3|         88|               79|                72|              92-3|                   91|                   94|              93|                90|           63-12|              94|           94|           89|            79|              93|                  63|                     24|                 91+2|              81|                 85|               null|               22|                       31|                      23|                 7|                  11|                 15|                     14|                  11|91+3|91+3|91+3|89+3|91+3|91+3|91+3|89+3|89+3|89+3|89+3|87+3|77+3|77+3|77+3|87+3|63+3|63+3|63+3|63+3|63+3|57+3|52+3|52+3|52+3|57+3|\n",
      "|     9014|https://sofifa.co...|        A. Robben|        Arjen Robben| 30|1984-01-23|      180|       80|Netherlands|  FC Bayern München|     90|       90|        0|       0|      RM, LM, RW|          Left|                       5|        2|          4|     High/Low|   Normal|      Yes|              null|#Speedster, #Drib...|          SUB|                10|       null|2009-08-28|                2017|             RS|                  11|  93|      86|     83|       92|       32|    64|     null|       null|      null|       null|    null|          null|Diver, Injury Pro...|                80|               85+2|                        50|                   86+2|             86+2|             93|         85|             83-1|              76+3|              90+1|                   93|                 93+2|            93+1|              89+2|              91|              86|           61|        78+11|            65|            90+1|                47+9|                   39+1|                 89+2|            84+2|               80+1|               null|               29|                     26+2|                    26+1|                10|                   8|                 11|                      5|                  15|84+3|84+3|84+3|88+3|87+3|87+3|87+3|88+3|88+3|88+3|88+3|87+3|78+3|78+3|78+3|87+3|64+3|64+3|64+3|64+3|64+3|55+3|46+3|46+3|46+3|55+3|\n",
      "|    41236|https://sofifa.co...|   Z. Ibrahimović|  Zlatan Ibrahimović| 32|1981-10-03|      195|       95|     Sweden|Paris Saint-Germain|     90|       90|        0|       0|              ST|         Right|                       5|        4|          4|   Medium/Low|   Normal|      Yes|              null|#Poacher, #Aerial...|           ST|                10|       null|2012-07-01|                2016|             ST|                  10|  76|      91|     81|       86|       34|    86|     null|       null|      null|       null|    null|          null|Power Free-Kick, ...|                76|                 91|                        76|                   84-2|             92+3|             88|         80|               80|              76+4|                90|                 74+2|                 77-1|              86|                85|              41|              93|           72|           78|            93|              88|                  84|                     20|                   86|            83-1|                 91|               null|               25|                     41-8|                      27|                13|                  15|                 10|                      9|                  12|87+3|87+3|87+3|84+3|86+3|86+3|86+3|84+3|86+3|86+3|86+3|83+3|76+3|76+3|76+3|83+3|61+3|65+3|65+3|65+3|61+3|56+3|55+3|55+3|55+3|56+3|\n",
      "|   167495|https://sofifa.co...|         M. Neuer|        Manuel Neuer| 28|1986-03-27|      193|       92|    Germany|  FC Bayern München|     90|       90|        0|       0|              GK|         Right|                       5|        4|          1|Medium/Medium|   Normal|      Yes|              null|                null|           GK|                 1|       null|2011-07-01|                2019|             GK|                   1|null|    null|   null|     null|     null|  null|       87|         85|        92|         86|      60|            90|GK Up for Corners...|                25|                 25|                        25|                     42|               25|             25|         25|               25|                41|                31|                 58+8|                 61+7|            43+4|              89+3|              35|              42|           78|         44+9|          83+5|              25|                29+3|                   30+8|                   25|              20|                 37|               null|               25|                       25|                      25|                87|                85+3|                 92|                   90+6|                  86|null|null|null|null|null|null|null|null|null|null|null|null|null|null|null|null|null|null|null|null|null|null|null|null|null|null|\n",
      "|   176580|https://sofifa.co...|        L. Suárez|Luis Alberto Suár...| 27|1987-01-24|      181|       81|    Uruguay|       FC Barcelona|     89|       91|        0|       0|          ST, CF|         Right|                       5|        4|          4|  High/Medium|   Normal|      Yes|              null|#Acrobat, #Clinic...|          RES|                 9|       null|2014-07-11|                2019|           null|                null|  83|      87|     79|       88|       42|    79|     null|       null|      null|       null|    null|          null|Diver, Beat Offsi...|                77|               91+2|                        75|                     82|               85|           90-2|         86|               84|                64|                89|                   88|                   79|              86|              91+2|           60-25|              84|           69|           86|            76|            82-2|                  78|                     41|                 88+2|              84|                 85|               null|               30|                       45|                      38|                27|                  25|                 31|                     33|                  37|86+3|86+3|86+3|85+3|86+3|86+3|86+3|85+3|87+3|87+3|87+3|84+3|77+3|77+3|77+3|84+3|67+3|67+3|67+3|67+3|67+3|62+3|57+3|57+3|57+3|62+3|\n",
      "|   183277|https://sofifa.co...|        E. Hazard|         Eden Hazard| 23|1991-01-07|      173|       74|    Belgium|            Chelsea|     88|       90|        0|       0|          LM, RM|         Right|                       4|        4|          4|  High/Medium|   Normal|      Yes|              null|#Speedster, #Drib...|           LM|                10|       null|2012-07-01|                2017|             LM|                  10|  90|      82|     84|       91|       32|    64|     null|       null|      null|       null|    null|          null|Injury Free, Self...|              78-4|                 83|                        57|                   87+1|               79|           92+2|         82|               79|                82|                89|                 93+2|                   87|              92|              85+1|              90|              79|           59|         74+1|            63|              82|                  54|                     41|                   84|            86+1|               86+1|               null|               25|                       27|                      22|                11|                  12|                  6|                      8|                   8|81+2|81+2|81+2|86+2|84+2|84+2|84+2|86+2|87+2|87+2|87+2|86+2|78+2|78+2|78+2|86+2|62+2|64+2|64+2|64+2|62+2|54+2|46+2|46+2|46+2|54+2|\n",
      "|     7826|https://sofifa.co...|    R. van Persie|    Robin van Persie| 30|1983-08-06|      187|       71|Netherlands|  Manchester United|     88|       88|        0|       0|              ST|          Left|                       5|        3|          4|   Medium/Low|   Normal|      Yes|              null|#Distance Shooter...|           RS|                20|       null|2012-08-17|                2016|             LS|                   9|  74|      90|     82|       83|       33|    68|     null|       null|      null|       null|    null|          null|Injury Prone, Fla...|                81|                 91|                        73|                     85|               92|             84|         86|               81|                75|              87-1|                 73-1|                 74-1|            80-1|              88+1|              59|              90|           59|           72|            72|            86-1|                  55|                     34|                   90|              82|                 86|               null|               23|                       32|                      21|                 9|                  10|                  5|                      7|                   8|85+3|85+3|85+3|84+3|86+3|86+3|86+3|84+3|85+3|85+3|85+3|82+3|76+3|76+3|76+3|82+3|60+3|63+3|63+3|63+3|60+3|54+3|48+3|48+3|48+3|54+3|\n",
      "|   121944|https://sofifa.co...|B. Schweinsteiger|Bastian Schweinst...| 29|1984-08-01|      183|       79|    Germany|  FC Bayern München|     88|       88|        0|       0|         CM, CDM|         Right|                       4|        3|          3|    High/High|   Normal|      Yes|              null|#Playmaker  , #En...|          SUB|                31|       null|2002-07-01|                2016|            SUB|                   7|  61|      81|     85|       82|       78|    80|     null|       null|      null|       null|    null|          null|Injury Prone, Lea...|                81|               76+2|                      79+1|                   88-1|             83-1|           81-1|       82-1|               78|                87|                86|                 58-1|                   64|            74-1|                90|            75-1|              86|         82+7|           86|          77+1|              86|                80+1|                     86|                   82|              86|                 81|               null|             69+1|                     80+1|                      77|                14|                  14|                 13|                     13|                  11|80+2|80+2|80+2|80+2|82+2|82+2|82+2|80+2|84+2|84+2|84+2|82+2|86+2|86+2|86+2|82+2|81+2|84+2|84+2|84+2|81+2|81+2|79+2|79+2|79+2|81+2|\n",
      "|   156616|https://sofifa.co...|        F. Ribéry| Franck Bilal Ribéry| 31|1983-04-07|      170|       72|     France|  FC Bayern München|     88|       88|        0|       0|              LM|         Right|                       4|        4|          5|  High/Medium|   Normal|      Yes|              null| #Dribbler, #Acrobat|          SUB|                 7|       null|2007-07-01|                2017|           null|                null|  89|      78|     85|       92|       29|    62|     null|       null|      null|       null|    null|          null|Injury Prone, Fla...|                83|                 79|                        41|                     89|               81|             92|       84-2|               81|              74+2|              91-1|                 91-1|                 87-1|              92|              89-1|              92|              76|         51-2|           72|          62-2|            73-1|                  52|                     36|                   83|              88|                 80|               null|               25|                       25|                      26|                15|                   6|                  9|                      7|                  10|79+2|79+2|79+2|87+2|82+2|82+2|82+2|87+2|87+2|87+2|87+2|86+2|77+2|77+2|77+2|86+2|63+2|63+2|63+2|63+2|63+2|53+2|44+2|44+2|44+2|53+2|\n",
      "|   167397|https://sofifa.co...|           Falcao|Radamel Falcao Ga...| 28|1986-02-10|      177|       72|   Colombia|  Manchester United|     88|       88|        0|       0|              ST|         Right|                       4|        4|          4|  High/Medium|   Normal|      Yes|              null|      #Aerial Threat|          SUB|                 9|  AS Monaco|      null|                2015|             ST|                   9|  77|      86|     64|       81|       40|    73|     null|       null|      null|       null|    null|          null|Finesse Shot, Pow...|                55|               91-2|                      94-1|                     69|             90-3|             78|         83|               71|                53|              83-2|                   80|                 75-2|              85|              89-1|              75|            79-1|           93|           71|            74|            77-2|                  70|                     41|                 92-1|              68|                 87|               null|               25|                       42|                      25|                10|                  13|                  6|                      9|                   5|86+2|86+2|86+2|76+2|83+2|83+2|83+2|76+2|79+2|79+2|79+2|73+2|69+2|69+2|69+2|73+2|58+2|60+2|60+2|60+2|58+2|56+2|55+2|55+2|55+2|56+2|\n",
      "|   173731|https://sofifa.co...|          G. Bale|   Gareth Frank Bale| 24|1989-07-16|      183|       74|      Wales|        Real Madrid|     87|       91|        0|       0|          RM, RW|          Left|                       4|        3|          4|  High/Medium|     Lean|      Yes|              null|#Speedster, #Dist...|           RW|                11|       null|2013-09-02|                2019|             RM|                  11|  94|      83|     83|       84|       63|    81|     null|       null|      null|       null|    null|          null|Avoids Using Weak...|                84|               81-3|                        74|                   84+1|               76|           87+1|         87|               85|              80-1|                85|                 93+1|                 95+1|              77|                84|              65|              87|         67-1|           90|            79|              88|                  77|                   59-8|                   83|            79-1|                 76|               null|             60-8|                     65-8|                   62-10|                15|                  15|                 11|                      5|                   6|83+2|83+2|83+2|85+2|85+2|85+2|85+2|85+2|84+2|84+2|84+2|85+2|81+2|81+2|81+2|85+2|76+2|75+2|75+2|75+2|76+2|74+2|70+2|70+2|70+2|74+2|\n",
      "|   188545|https://sofifa.co...|   R. Lewandowski|  Robert Lewandowski| 25|1988-08-21|      184|       78|     Poland|  FC Bayern München|     87|       89|        0|       0|          ST, CF|         Right|                       4|        4|          4|  High/Medium|   Normal|      Yes|              null|  #Clinical Finisher|           LS|                 9|       null|2014-07-01|                2019|             LS|                   9|  80|      84|     74|       85|       39|    78|     null|       null|      null|       null|    null|          null|Injury Free, Chip...|                62|                 87|                        83|                   83+1|               82|             84|       77+2|             68+2|                65|              87+1|                 79-2|                   81|              80|              88+1|            81-1|            84+3|         83-1|         75-1|          79-2|              80|                  80|                     39|                 87+1|              78|               77+3|               null|               25|                       42|                      25|                15|                   6|                 12|                      8|                  10|85+2|85+2|85+2|80+2|84+2|84+2|84+2|80+2|84+2|84+2|84+2|79+2|75+2|75+2|75+2|79+2|61+2|65+2|65+2|65+2|61+2|58+2|56+2|56+2|56+2|58+2|\n",
      "|   121939|https://sofifa.co...|          P. Lahm|        Philipp Lahm| 30|1983-11-11|      170|       66|    Germany|  FC Bayern München|     87|       87|        0|       0|     CDM, RB, CM|         Right|                       4|        3|          3|    High/High|   Normal|      Yes|              null|#Engine, #Tacklin...|          RCM|                21|       null|2002-11-01|                2018|           null|                null|  76|      56|     84|       83|       87|    67|     null|       null|      null|       null|    null|          null|Injury Free, Dive...|              84-4|               47+3|                        64|                     88|               66|             80|         77|               59|                84|              85-1|                 77-5|                 76-1|              83|                92|              92|              57|         72-1|           88|            59|              65|                58+1|                   93+1|                 69+4|            84-1|               72+3|               null|             87+1|                       88|                    95+1|                11|                  12|                  5|                     14|                   5|67+2|67+2|67+2|80+2|72+2|72+2|72+2|80+2|79+2|79+2|79+2|83+2|84+2|84+2|84+2|83+2|88+2|85+2|85+2|85+2|88+2|85+2|81+2|81+2|81+2|85+2|\n",
      "|   155862|https://sofifa.co...|     Sergio Ramos| Sergio Ramos García| 28|1986-03-30|      183|       75|      Spain|        Real Madrid|     87|       87|        0|       0|              CB|         Right|                       4|        3|          3|  High/Medium|   Normal|      Yes|              null|#Tackling , #Tact...|          LCB|                 4|       null|2005-08-01|                2017|            LCB|                  15|  79|      61|     71|       66|       87|    82|     null|       null|      null|       null|    null|          null|Leadership, Power...|                74|                 59|                        86|                     76|               55|          52-14|         73|             64+2|                70|              83+1|                 79-2|                   79|              84|                82|              60|              71|           91|           82|            80|              55|                  83|                     87|                   52|              63|               68+2|               null|             85+2|                     89+3|                    90+2|                11|                   8|                  9|                      7|                  11|68+2|68+2|68+2|70+2|67+2|67+2|67+2|70+2|68+2|68+2|68+2|71+2|72+2|72+2|72+2|71+2|81+2|80+2|80+2|80+2|81+2|84+2|85+2|85+2|85+2|84+2|\n",
      "|   164240|https://sofifa.co...|     Thiago Silva|Thiago Emiliano d...| 29|1984-09-22|      183|       79|     Brazil|Paris Saint-Germain|     87|       87|        0|       0|              CB|         Right|                       4|        3|          3|  Medium/High|   Normal|      Yes|              null|#Tackling , #Tact...|          LCB|                 2|       null|2012-07-01|                2018|            LCB|                   3|  78|      57|     72|       72|       90|    80|     null|       null|      null|       null|    null|          null|Leadership, Long ...|                60|                 38|                        81|                   75-2|               63|             68|         61|               73|                81|              78-3|                 75-4|                 80-1|              75|              83-3|              68|              78|           90|         80+3|          81+1|              71|                76-1|                     91|                   59|              74|                 71|               null|             90-1|                       91|                    89+1|                 9|                  12|                  5|                      9|                  10|67+2|67+2|67+2|70+2|69+2|69+2|69+2|70+2|71+2|71+2|71+2|73+2|77+2|77+2|77+2|73+2|81+2|82+2|82+2|82+2|81+2|83+2|85+2|85+2|85+2|83+2|\n",
      "|   168542|https://sofifa.co...|      David Silva|David Josué Jimén...| 28|1986-01-08|      170|       67|      Spain|    Manchester City|     87|       87|        0|       0|         LM, CAM|          Left|                       4|        2|          4|     High/Low|   Normal|      Yes|              null|#Dribbler, #Playm...|          CAM|                21|       null|2010-07-14|                2019|            CAM|                  21|  76|      77|     86|       89|       33|    57|     null|       null|      null|       null|    null|          null|Avoids Using Weak...|              82+1|                 76|                        58|                     89|               80|             87|         83|               77|                85|                91|                   83|                 71-3|              93|                85|              88|              76|           66|           68|            53|              80|                  51|                     41|                   84|              90|                 77|               null|               23|                       30|                      29|                13|                   9|                 13|                      9|                  13|78+2|78+2|78+2|85+2|82+2|82+2|82+2|85+2|86+2|86+2|86+2|85+2|79+2|79+2|79+2|85+2|63+2|64+2|64+2|64+2|63+2|54+2|47+2|47+2|47+2|54+2|\n",
      "|   177003|https://sofifa.co...|        L. Modrić|         Luka Modrić| 28|1985-09-09|      174|       65|    Croatia|        Real Madrid|     87|       87|        0|       0|         CM, CDM|         Right|                       4|        4|          4|  High/Medium|     Lean|      Yes|              null|#Dribbler, #Playm...|          RCM|                19|       null|2012-08-01|                2018|           null|                null|  76|      74|     85|       89|       71|    70|     null|       null|      null|       null|    null|          null|Long Passer (CPU ...|              78+2|               71+1|                      55-2|                   88-2|             75-1|           86+3|       82-1|               79|              86-2|              92+2|                 78-1|                   74|              93|              88+4|              94|            72-1|           67|           86|          66+4|            82-2|                62-7|                   73+2|                 79-1|            89-2|                 80|               null|            69+11|                     75+7|                   73+14|                13|                   9|                  7|                     14|                   9|76+2|76+2|76+2|84+2|80+2|80+2|80+2|84+2|85+2|85+2|85+2|85+2|85+2|85+2|85+2|85+2|81+2|80+2|80+2|80+2|81+2|76+2|72+2|72+2|72+2|76+2|\n",
      "|   198710|https://sofifa.co...|     J. Rodríguez|James David Rodrí...| 22|1991-07-12|      180|       75|   Colombia|        Real Madrid|     86|       92|        0|       0|         CAM, RW|          Left|                       4|        3|          4|Medium/Medium|   Normal|      Yes|              null|                null|          CAM|                10|       null|2014-07-22|                2020|            CAM|                  10|  79|      80|     84|       85|       40|    72|     null|       null|      null|       null|    null|          null|Diver, Flair, Pla...|                81|               80+2|                        68|                     83|             81+4|             86|         85|               83|              84+2|                85|                 79-2|                 79+1|            84+4|              85+1|           74+11|              79|           55|           73|            73|            82+1|                  74|                     58|                   80|            87+1|                 81|               null|               25|                       36|                      30|                15|                  15|                 15|                      5|                  14|80+2|80+2|80+2|83+2|82+2|82+2|82+2|83+2|84+2|84+2|84+2|83+2|79+2|79+2|79+2|83+2|64+2|68+2|68+2|68+2|64+2|59+2|53+2|53+2|53+2|59+2|\n",
      "|   190871|https://sofifa.co...|           Neymar|Neymar da Silva S...| 22|1992-02-05|      175|       64|     Brazil|       FC Barcelona|     86|       91|        0|       0|              LW|         Right|                       5|        5|          5|  High/Medium|     Lean|      Yes|              null|#Speedster, #Drib...|           LW|                11|       null|2013-07-01|                2018|             CF|                  10|  90|      80|     72|       92|       30|    58|     null|       null|      null|       null|    null|          null|Diver, Flair, Tec...|              71+1|               85+1|                        62|                   72-3|               83|           94+2|         78|               78|              72-1|              90-1|                   91|                   89|              92|                86|              84|              77|           61|           86|            45|            70+1|                  56|                     36|                   87|            72-2|                 81|               null|               21|                       24|                      33|                 9|                   9|                 15|                     15|                  11|82+3|82+3|82+3|83+3|82+3|82+3|82+3|83+3|82+3|82+3|82+3|82+3|73+3|73+3|73+3|82+3|61+3|59+3|59+3|59+3|61+3|55+3|45+3|45+3|45+3|55+3|\n",
      "+---------+--------------------+-----------------+--------------------+---+----------+---------+---------+-----------+-------------------+-------+---------+---------+--------+----------------+--------------+------------------------+---------+-----------+-------------+---------+---------+------------------+--------------------+-------------+------------------+-----------+----------+--------------------+---------------+--------------------+----+--------+-------+---------+---------+------+---------+-----------+----------+-----------+--------+--------------+--------------------+------------------+-------------------+--------------------------+-----------------------+-----------------+---------------+-----------+-----------------+------------------+------------------+---------------------+---------------------+----------------+------------------+----------------+----------------+-------------+-------------+--------------+----------------+--------------------+-----------------------+---------------------+----------------+-------------------+-------------------+-----------------+-------------------------+------------------------+------------------+--------------------+-------------------+-----------------------+--------------------+----+----+----+----+----+----+----+----+----+----+----+----+----+----+----+----+----+----+----+----+----+----+----+----+----+----+\n",
      "only showing top 20 rows\n",
      "\n"
     ]
    }
   ],
   "source": [
    "player.show()"
   ]
  },
  {
   "cell_type": "code",
   "execution_count": 185,
   "id": "522c5aba",
   "metadata": {},
   "outputs": [
    {
     "name": "stdout",
     "output_type": "stream",
     "text": [
      "+--------------------+\n",
      "|           long_name|\n",
      "+--------------------+\n",
      "|Rafael Alcântara ...|\n",
      "|      Ryan Shawcross|\n",
      "| Víctor Machín Pérez|\n",
      "|    Balde Diao Keita|\n",
      "|      Roman Shishkin|\n",
      "|Adriano Correia C...|\n",
      "|Ederson Honorato ...|\n",
      "| John Chukwudi Utaka|\n",
      "|       Marco Storari|\n",
      "|Pablo Estífer Armero|\n",
      "|      Anwar El Ghazi|\n",
      "|Khouma El Hadji B...|\n",
      "|        Lucas Castro|\n",
      "|   Sibusiso Vilakazi|\n",
      "|       Bram Nuytinck|\n",
      "|        Jack Colback|\n",
      "|         Ádám Bogdán|\n",
      "|Javier Magro Matilla|\n",
      "|       György Garics|\n",
      "|Didier Janvier Ov...|\n",
      "+--------------------+\n",
      "only showing top 20 rows\n",
      "\n"
     ]
    }
   ],
   "source": [
    "player.select('long_name').distinct().show()"
   ]
  },
  {
   "cell_type": "code",
   "execution_count": 186,
   "id": "ba2d812a",
   "metadata": {},
   "outputs": [
    {
     "data": {
      "text/plain": [
       "15409"
      ]
     },
     "execution_count": 186,
     "metadata": {},
     "output_type": "execute_result"
    }
   ],
   "source": [
    "player.select('long_name').distinct().count()"
   ]
  },
  {
   "cell_type": "code",
   "execution_count": null,
   "id": "2d8823b3",
   "metadata": {},
   "outputs": [],
   "source": []
  }
 ],
 "metadata": {
  "kernelspec": {
   "display_name": "Python 3 (ipykernel)",
   "language": "python",
   "name": "python3"
  },
  "language_info": {
   "codemirror_mode": {
    "name": "ipython",
    "version": 3
   },
   "file_extension": ".py",
   "mimetype": "text/x-python",
   "name": "python",
   "nbconvert_exporter": "python",
   "pygments_lexer": "ipython3",
   "version": "3.9.12"
  }
 },
 "nbformat": 4,
 "nbformat_minor": 5
}
